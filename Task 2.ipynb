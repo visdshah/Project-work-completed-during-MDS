{
 "cells": [
  {
   "cell_type": "markdown",
   "id": "0ae94517",
   "metadata": {
    "colab_type": "text",
    "id": "_lObjyER4X6p"
   },
   "source": [
    "# Linear Regression on Boston Housing Dataset\n",
    "\n",
    "This data was originally a part of UCI Machine Learning Repository and has been removed now. This data also ships with the scikit-learn library. \n",
    "There are 506 samples and 13 feature variables in this data-set. The objective is to predict the value of prices of the house using the given features.\n",
    "\n",
    "The description of all the features is given below:\n",
    "\n",
    "  **CRIM**: Per capita crime rate by town\n",
    "\n",
    "  **ZN**: Proportion of residential land zoned for lots over 25,000 sq. ft\n",
    "\n",
    "  **INDUS**: Proportion of non-retail business acres per town\n",
    "\n",
    "  **CHAS**: Charles River dummy variable (= 1 if tract bounds river; 0 otherwise)\n",
    "\n",
    "  **NOX**: Nitric oxide concentration (parts per 10 million)\n",
    "\n",
    "  **RM**: Average number of rooms per dwelling\n",
    "\n",
    "  **AGE**: Proportion of owner-occupied units built prior to 1940\n",
    "\n",
    "  **DIS**: Weighted distances to five Boston employment centers\n",
    "\n",
    "  **RAD**: Index of accessibility to radial highways\n",
    "\n",
    "  **TAX**: Full-value property tax rate per $10,000\n",
    "\n",
    "  **B**: 1000(Bk - 0.63)², where Bk is the proportion of [people of African American descent] by town\n",
    "\n",
    "  **LSTAT**: Percentage of lower status of the population\n",
    "\n",
    "  **MEDV**: Median value of owner-occupied homes in $1000s\n",
    "\n",
    "\n"
   ]
  },
  {
   "cell_type": "markdown",
   "id": "ba328442",
   "metadata": {
    "colab_type": "text",
    "id": "gorjhNWk1jYI"
   },
   "source": [
    "I**mport the required Libraries**"
   ]
  },
  {
   "cell_type": "code",
   "execution_count": 1,
   "id": "d1910e69",
   "metadata": {
    "colab": {},
    "colab_type": "code",
    "id": "ICB6ibhd1oo6"
   },
   "outputs": [],
   "source": [
    "import numpy as np\n",
    "import matplotlib.pyplot as plt \n",
    "\n",
    "import pandas as pd  \n",
    "import seaborn as sns \n",
    "\n",
    "%matplotlib inline"
   ]
  },
  {
   "cell_type": "markdown",
   "id": "a235d36b",
   "metadata": {
    "colab_type": "text",
    "id": "OZluhUmFzgwN"
   },
   "source": [
    "**Load the Boston Housing DataSet from scikit-learn**"
   ]
  },
  {
   "cell_type": "code",
   "execution_count": 2,
   "id": "576396df",
   "metadata": {
    "colab": {
     "base_uri": "https://localhost:8080/",
     "height": 34
    },
    "colab_type": "code",
    "id": "GgjfA1CJ19_K",
    "outputId": "ad2cc03f-505f-4db2-8822-26fa2b5ed9b6"
   },
   "outputs": [
    {
     "name": "stderr",
     "output_type": "stream",
     "text": [
      "C:\\Users\\Vishal.Shah\\Anaconda3\\lib\\site-packages\\sklearn\\utils\\deprecation.py:87: FutureWarning: Function load_boston is deprecated; `load_boston` is deprecated in 1.0 and will be removed in 1.2.\n",
      "\n",
      "    The Boston housing prices dataset has an ethical problem. You can refer to\n",
      "    the documentation of this function for further details.\n",
      "\n",
      "    The scikit-learn maintainers therefore strongly discourage the use of this\n",
      "    dataset unless the purpose of the code is to study and educate about\n",
      "    ethical issues in data science and machine learning.\n",
      "\n",
      "    In this special case, you can fetch the dataset from the original\n",
      "    source::\n",
      "\n",
      "        import pandas as pd\n",
      "        import numpy as np\n",
      "\n",
      "        data_url = \"http://lib.stat.cmu.edu/datasets/boston\"\n",
      "        raw_df = pd.read_csv(data_url, sep=\"\\s+\", skiprows=22, header=None)\n",
      "        data = np.hstack([raw_df.values[::2, :], raw_df.values[1::2, :2]])\n",
      "        target = raw_df.values[1::2, 2]\n",
      "\n",
      "    Alternative datasets include the California housing dataset (i.e.\n",
      "    :func:`~sklearn.datasets.fetch_california_housing`) and the Ames housing\n",
      "    dataset. You can load the datasets as follows::\n",
      "\n",
      "        from sklearn.datasets import fetch_california_housing\n",
      "        housing = fetch_california_housing()\n",
      "\n",
      "    for the California housing dataset and::\n",
      "\n",
      "        from sklearn.datasets import fetch_openml\n",
      "        housing = fetch_openml(name=\"house_prices\", as_frame=True)\n",
      "\n",
      "    for the Ames housing dataset.\n",
      "  warnings.warn(msg, category=FutureWarning)\n"
     ]
    },
    {
     "data": {
      "text/plain": [
       "dict_keys(['data', 'target', 'feature_names', 'DESCR', 'filename', 'data_module'])"
      ]
     },
     "execution_count": 2,
     "metadata": {},
     "output_type": "execute_result"
    }
   ],
   "source": [
    "from sklearn.datasets import load_boston\n",
    "\n",
    "boston_dataset = load_boston()\n",
    "\n",
    "boston_dataset.keys()"
   ]
  },
  {
   "cell_type": "markdown",
   "id": "d2118fdc",
   "metadata": {
    "colab_type": "text",
    "id": "I-egcQr3zrr0"
   },
   "source": [
    "**Load the data into pandas dataframe**"
   ]
  },
  {
   "cell_type": "code",
   "execution_count": 3,
   "id": "eed61301",
   "metadata": {
    "colab": {
     "base_uri": "https://localhost:8080/",
     "height": 204
    },
    "colab_type": "code",
    "id": "Ve1ycomY2QDg",
    "outputId": "5e167bee-1757-41ec-ed3e-60b941233e7c"
   },
   "outputs": [
    {
     "data": {
      "text/html": [
       "<div>\n",
       "<style scoped>\n",
       "    .dataframe tbody tr th:only-of-type {\n",
       "        vertical-align: middle;\n",
       "    }\n",
       "\n",
       "    .dataframe tbody tr th {\n",
       "        vertical-align: top;\n",
       "    }\n",
       "\n",
       "    .dataframe thead th {\n",
       "        text-align: right;\n",
       "    }\n",
       "</style>\n",
       "<table border=\"1\" class=\"dataframe\">\n",
       "  <thead>\n",
       "    <tr style=\"text-align: right;\">\n",
       "      <th></th>\n",
       "      <th>CRIM</th>\n",
       "      <th>ZN</th>\n",
       "      <th>INDUS</th>\n",
       "      <th>CHAS</th>\n",
       "      <th>NOX</th>\n",
       "      <th>RM</th>\n",
       "      <th>AGE</th>\n",
       "      <th>DIS</th>\n",
       "      <th>RAD</th>\n",
       "      <th>TAX</th>\n",
       "      <th>PTRATIO</th>\n",
       "      <th>B</th>\n",
       "      <th>LSTAT</th>\n",
       "    </tr>\n",
       "  </thead>\n",
       "  <tbody>\n",
       "    <tr>\n",
       "      <th>0</th>\n",
       "      <td>0.00632</td>\n",
       "      <td>18.0</td>\n",
       "      <td>2.31</td>\n",
       "      <td>0.0</td>\n",
       "      <td>0.538</td>\n",
       "      <td>6.575</td>\n",
       "      <td>65.2</td>\n",
       "      <td>4.0900</td>\n",
       "      <td>1.0</td>\n",
       "      <td>296.0</td>\n",
       "      <td>15.3</td>\n",
       "      <td>396.90</td>\n",
       "      <td>4.98</td>\n",
       "    </tr>\n",
       "    <tr>\n",
       "      <th>1</th>\n",
       "      <td>0.02731</td>\n",
       "      <td>0.0</td>\n",
       "      <td>7.07</td>\n",
       "      <td>0.0</td>\n",
       "      <td>0.469</td>\n",
       "      <td>6.421</td>\n",
       "      <td>78.9</td>\n",
       "      <td>4.9671</td>\n",
       "      <td>2.0</td>\n",
       "      <td>242.0</td>\n",
       "      <td>17.8</td>\n",
       "      <td>396.90</td>\n",
       "      <td>9.14</td>\n",
       "    </tr>\n",
       "    <tr>\n",
       "      <th>2</th>\n",
       "      <td>0.02729</td>\n",
       "      <td>0.0</td>\n",
       "      <td>7.07</td>\n",
       "      <td>0.0</td>\n",
       "      <td>0.469</td>\n",
       "      <td>7.185</td>\n",
       "      <td>61.1</td>\n",
       "      <td>4.9671</td>\n",
       "      <td>2.0</td>\n",
       "      <td>242.0</td>\n",
       "      <td>17.8</td>\n",
       "      <td>392.83</td>\n",
       "      <td>4.03</td>\n",
       "    </tr>\n",
       "    <tr>\n",
       "      <th>3</th>\n",
       "      <td>0.03237</td>\n",
       "      <td>0.0</td>\n",
       "      <td>2.18</td>\n",
       "      <td>0.0</td>\n",
       "      <td>0.458</td>\n",
       "      <td>6.998</td>\n",
       "      <td>45.8</td>\n",
       "      <td>6.0622</td>\n",
       "      <td>3.0</td>\n",
       "      <td>222.0</td>\n",
       "      <td>18.7</td>\n",
       "      <td>394.63</td>\n",
       "      <td>2.94</td>\n",
       "    </tr>\n",
       "    <tr>\n",
       "      <th>4</th>\n",
       "      <td>0.06905</td>\n",
       "      <td>0.0</td>\n",
       "      <td>2.18</td>\n",
       "      <td>0.0</td>\n",
       "      <td>0.458</td>\n",
       "      <td>7.147</td>\n",
       "      <td>54.2</td>\n",
       "      <td>6.0622</td>\n",
       "      <td>3.0</td>\n",
       "      <td>222.0</td>\n",
       "      <td>18.7</td>\n",
       "      <td>396.90</td>\n",
       "      <td>5.33</td>\n",
       "    </tr>\n",
       "  </tbody>\n",
       "</table>\n",
       "</div>"
      ],
      "text/plain": [
       "      CRIM    ZN  INDUS  CHAS    NOX     RM   AGE     DIS  RAD    TAX  \\\n",
       "0  0.00632  18.0   2.31   0.0  0.538  6.575  65.2  4.0900  1.0  296.0   \n",
       "1  0.02731   0.0   7.07   0.0  0.469  6.421  78.9  4.9671  2.0  242.0   \n",
       "2  0.02729   0.0   7.07   0.0  0.469  7.185  61.1  4.9671  2.0  242.0   \n",
       "3  0.03237   0.0   2.18   0.0  0.458  6.998  45.8  6.0622  3.0  222.0   \n",
       "4  0.06905   0.0   2.18   0.0  0.458  7.147  54.2  6.0622  3.0  222.0   \n",
       "\n",
       "   PTRATIO       B  LSTAT  \n",
       "0     15.3  396.90   4.98  \n",
       "1     17.8  396.90   9.14  \n",
       "2     17.8  392.83   4.03  \n",
       "3     18.7  394.63   2.94  \n",
       "4     18.7  396.90   5.33  "
      ]
     },
     "execution_count": 3,
     "metadata": {},
     "output_type": "execute_result"
    }
   ],
   "source": [
    "boston = pd.DataFrame(boston_dataset.data, columns=boston_dataset.feature_names)\n",
    "boston.head()"
   ]
  },
  {
   "cell_type": "markdown",
   "id": "4811c2ca",
   "metadata": {
    "colab_type": "text",
    "id": "LVlhiwrEz0CQ"
   },
   "source": [
    "**The target values is missing from the data. Create a new column of target values and add it to dataframe**"
   ]
  },
  {
   "cell_type": "code",
   "execution_count": 4,
   "id": "a3157c39",
   "metadata": {
    "colab": {},
    "colab_type": "code",
    "id": "95OyiHWb3iXR"
   },
   "outputs": [],
   "source": [
    "boston['MEDV'] = boston_dataset.target"
   ]
  },
  {
   "cell_type": "markdown",
   "id": "2f0f8f81",
   "metadata": {
    "colab_type": "text",
    "id": "G01Hoq3g0BDp"
   },
   "source": [
    "**Data preprocessing**"
   ]
  },
  {
   "cell_type": "code",
   "execution_count": 5,
   "id": "aad4a141",
   "metadata": {
    "colab": {
     "base_uri": "https://localhost:8080/",
     "height": 272
    },
    "colab_type": "code",
    "id": "IbPhXLY54FA_",
    "outputId": "9059315b-29c4-484a-de03-ba2613f63073"
   },
   "outputs": [
    {
     "data": {
      "text/plain": [
       "CRIM       0\n",
       "ZN         0\n",
       "INDUS      0\n",
       "CHAS       0\n",
       "NOX        0\n",
       "RM         0\n",
       "AGE        0\n",
       "DIS        0\n",
       "RAD        0\n",
       "TAX        0\n",
       "PTRATIO    0\n",
       "B          0\n",
       "LSTAT      0\n",
       "MEDV       0\n",
       "dtype: int64"
      ]
     },
     "execution_count": 5,
     "metadata": {},
     "output_type": "execute_result"
    }
   ],
   "source": [
    "# check for missing values in all the columns\n",
    "boston.isnull().sum()"
   ]
  },
  {
   "cell_type": "markdown",
   "id": "bed6b133",
   "metadata": {
    "colab_type": "text",
    "id": "inz3dJr00K6y"
   },
   "source": [
    "**Data Visualization**"
   ]
  },
  {
   "cell_type": "code",
   "execution_count": 6,
   "id": "b8fb4fca",
   "metadata": {
    "colab": {
     "base_uri": "https://localhost:8080/",
     "height": 511
    },
    "colab_type": "code",
    "id": "pQ95WeqQ4rOa",
    "outputId": "0de9773c-37c7-4eef-e279-c5a8c8adaf57"
   },
   "outputs": [
    {
     "name": "stderr",
     "output_type": "stream",
     "text": [
      "C:\\Users\\Vishal.shah.LAMINAAR\\AppData\\Local\\Temp\\ipykernel_20104\\1097596011.py:5: UserWarning: \n",
      "\n",
      "`distplot` is a deprecated function and will be removed in seaborn v0.14.0.\n",
      "\n",
      "Please adapt your code to use either `displot` (a figure-level function with\n",
      "similar flexibility) or `histplot` (an axes-level function for histograms).\n",
      "\n",
      "For a guide to updating your code to use the new functions, please see\n",
      "https://gist.github.com/mwaskom/de44147ed2974457ad6372750bbe5751\n",
      "\n",
      "  sns.distplot(boston['MEDV'])\n"
     ]
    },
    {
     "data": {
      "image/png": "[encoded data removed]",
      "text/plain": [
       "<Figure size 800x400 with 1 Axes>"
      ]
     },
     "metadata": {},
     "output_type": "display_data"
    }
   ],
   "source": [
    "# set the size of the figure\n",
    "\n",
    "plt.figure(figsize= (8,4))\n",
    "# plot a histogram showing the distribution of the target values\n",
    "sns.distplot(boston['MEDV'])\n",
    "plt.show()"
   ]
  },
  {
   "cell_type": "markdown",
   "id": "4703a253",
   "metadata": {
    "colab_type": "text",
    "id": "2IBNTU5N0RQ5"
   },
   "source": [
    "**Correlation matrix**"
   ]
  },
  {
   "cell_type": "code",
   "execution_count": 7,
   "id": "54bd86bd",
   "metadata": {
    "colab": {},
    "colab_type": "code",
    "id": "_aOQvsTM46Bi"
   },
   "outputs": [],
   "source": [
    "# compute the pair wise correlation for all columns  \n",
    "correlation_matrix = boston.corr().round(2)"
   ]
  },
  {
   "cell_type": "code",
   "execution_count": 8,
   "id": "1d16a815",
   "metadata": {
    "colab": {
     "base_uri": "https://localhost:8080/",
     "height": 514
    },
    "colab_type": "code",
    "id": "fw3z6-CV47nV",
    "outputId": "82011299-5e44-4fa1-b7f7-86e458bf9320"
   },
   "outputs": [
    {
     "data": {
      "text/plain": [
       "<AxesSubplot:>"
      ]
     },
     "execution_count": 8,
     "metadata": {},
     "output_type": "execute_result"
    },
    {
     "data": {
      "image/png": "[encoded data removed]",
      "text/plain": [
       "<Figure size 1500x700 with 2 Axes>"
      ]
     },
     "metadata": {},
     "output_type": "display_data"
    }
   ],
   "source": [
    "# use the heatmap function from seaborn to plot the correlation matrix\n",
    "plt.figure(figsize= (15,7))\n",
    "sns.heatmap(data= round(correlation_matrix,1), annot=True)"
   ]
  },
  {
   "cell_type": "markdown",
   "id": "9e947172",
   "metadata": {
    "colab_type": "text",
    "id": "wnnSO2xH6SNj"
   },
   "source": [
    "**Observations**\n",
    "\n",
    "\n",
    "\n",
    "\n",
    "*   We can see that **MEDV** is strongly correlated to **LSTAT**, **RM**\n",
    "\n",
    "*  **RAD** and **TAX** are stronly correlated, so we don't include this in our features together to avoid multi-colinearity\n",
    "\n",
    "\n"
   ]
  },
  {
   "cell_type": "code",
   "execution_count": 9,
   "id": "14541752",
   "metadata": {
    "colab": {
     "base_uri": "https://localhost:8080/",
     "height": 349
    },
    "colab_type": "code",
    "id": "2lFmg_sw6zS7",
    "outputId": "1b0c502e-1fc3-4f3c-ea01-495b72f62401"
   },
   "outputs": [
    {
     "data": {
      "image/png": "[encoded data removed]",
      "text/plain": [
       "<Figure size 2000x500 with 2 Axes>"
      ]
     },
     "metadata": {},
     "output_type": "display_data"
    }
   ],
   "source": [
    "plt.figure(figsize=(20, 5))\n",
    "\n",
    "features = ['LSTAT', 'RM']\n",
    "target = boston['MEDV']\n",
    "\n",
    "for i, col in enumerate(features):\n",
    "    plt.subplot(1, len(features) , i+1)\n",
    "    x = boston[col]\n",
    "    y = target\n",
    "    plt.scatter(x, y, marker='o')\n",
    "#     plt.title(col)\n",
    "    plt.xlabel(col)\n",
    "    plt.ylabel('MEDV')"
   ]
  },
  {
   "cell_type": "markdown",
   "id": "17cdf728",
   "metadata": {
    "colab_type": "text",
    "id": "9Vbf0Z3u-vgb"
   },
   "source": [
    "**Prepare the data for training**"
   ]
  },
  {
   "cell_type": "code",
   "execution_count": 10,
   "id": "aa7e6684",
   "metadata": {
    "colab": {},
    "colab_type": "code",
    "id": "M-xFbFH1Apu8"
   },
   "outputs": [],
   "source": [
    "X = pd.DataFrame(np.c_[boston['LSTAT'], boston['RM']], columns = ['LSTAT','RM']) \n",
    "Y = boston['MEDV']"
   ]
  },
  {
   "cell_type": "code",
   "execution_count": null,
   "id": "48c874c6",
   "metadata": {},
   "outputs": [],
   "source": []
  },
  {
   "cell_type": "markdown",
   "id": "0a8158aa",
   "metadata": {
    "colab_type": "text",
    "id": "qloWQhqb0fud"
   },
   "source": [
    "**Split the data into training and testing sets**"
   ]
  },
  {
   "cell_type": "code",
   "execution_count": 11,
   "id": "23957440",
   "metadata": {
    "colab": {
     "base_uri": "https://localhost:8080/",
     "height": 85
    },
    "colab_type": "code",
    "id": "2AY0v7c3DMoj",
    "outputId": "c4ae2e6f-8054-43ab-f04d-0163dc49cdc2"
   },
   "outputs": [
    {
     "name": "stdout",
     "output_type": "stream",
     "text": [
      "(404, 2)\n",
      "(102, 2)\n",
      "(404,)\n",
      "(102,)\n"
     ]
    }
   ],
   "source": [
    "from sklearn.model_selection import train_test_split\n",
    "\n",
    "# splits the training and test data set in 80% : 20%\n",
    "# assign random_state to any value.This ensures consistency.\n",
    "X_train, X_test, Y_train, Y_test = train_test_split(X, Y, test_size = 0.2, random_state=5)\n",
    "print(X_train.shape)\n",
    "print(X_test.shape)\n",
    "print(Y_train.shape)\n",
    "print(Y_test.shape)"
   ]
  },
  {
   "cell_type": "markdown",
   "id": "796fb5cb",
   "metadata": {
    "colab_type": "text",
    "id": "6JSBuka3Eecm"
   },
   "source": [
    "**Train the model using sklearn LinearRegression**"
   ]
  },
  {
   "cell_type": "code",
   "execution_count": 12,
   "id": "14d49bc3",
   "metadata": {
    "colab": {
     "base_uri": "https://localhost:8080/",
     "height": 34
    },
    "colab_type": "code",
    "id": "DWKLkngeEoAG",
    "outputId": "c31f3256-59c7-4e6d-eff5-56f00891b3dd"
   },
   "outputs": [
    {
     "data": {
      "text/html": [
       "<style>#sk-container-id-1 {color: black;background-color: white;}#sk-container-id-1 pre{padding: 0;}#sk-container-id-1 div.sk-toggleable {background-color: white;}#sk-container-id-1 label.sk-toggleable__label {cursor: pointer;display: block;width: 100%;margin-bottom: 0;padding: 0.3em;box-sizing: border-box;text-align: center;}#sk-container-id-1 label.sk-toggleable__label-arrow:before {content: \"▸\";float: left;margin-right: 0.25em;color: #696969;}#sk-container-id-1 label.sk-toggleable__label-arrow:hover:before {color: black;}#sk-container-id-1 div.sk-estimator:hover label.sk-toggleable__label-arrow:before {color: black;}#sk-container-id-1 div.sk-toggleable__content {max-height: 0;max-width: 0;overflow: hidden;text-align: left;background-color: #f0f8ff;}#sk-container-id-1 div.sk-toggleable__content pre {margin: 0.2em;color: black;border-radius: 0.25em;background-color: #f0f8ff;}#sk-container-id-1 input.sk-toggleable__control:checked~div.sk-toggleable__content {max-height: 200px;max-width: 100%;overflow: auto;}#sk-container-id-1 input.sk-toggleable__control:checked~label.sk-toggleable__label-arrow:before {content: \"▾\";}#sk-container-id-1 div.sk-estimator input.sk-toggleable__control:checked~label.sk-toggleable__label {background-color: #d4ebff;}#sk-container-id-1 div.sk-label input.sk-toggleable__control:checked~label.sk-toggleable__label {background-color: #d4ebff;}#sk-container-id-1 input.sk-hidden--visually {border: 0;clip: rect(1px 1px 1px 1px);clip: rect(1px, 1px, 1px, 1px);height: 1px;margin: -1px;overflow: hidden;padding: 0;position: absolute;width: 1px;}#sk-container-id-1 div.sk-estimator {font-family: monospace;background-color: #f0f8ff;border: 1px dotted black;border-radius: 0.25em;box-sizing: border-box;margin-bottom: 0.5em;}#sk-container-id-1 div.sk-estimator:hover {background-color: #d4ebff;}#sk-container-id-1 div.sk-parallel-item::after {content: \"\";width: 100%;border-bottom: 1px solid gray;flex-grow: 1;}#sk-container-id-1 div.sk-label:hover label.sk-toggleable__label {background-color: #d4ebff;}#sk-container-id-1 div.sk-serial::before {content: \"\";position: absolute;border-left: 1px solid gray;box-sizing: border-box;top: 0;bottom: 0;left: 50%;z-index: 0;}#sk-container-id-1 div.sk-serial {display: flex;flex-direction: column;align-items: center;background-color: white;padding-right: 0.2em;padding-left: 0.2em;position: relative;}#sk-container-id-1 div.sk-item {position: relative;z-index: 1;}#sk-container-id-1 div.sk-parallel {display: flex;align-items: stretch;justify-content: center;background-color: white;position: relative;}#sk-container-id-1 div.sk-item::before, #sk-container-id-1 div.sk-parallel-item::before {content: \"\";position: absolute;border-left: 1px solid gray;box-sizing: border-box;top: 0;bottom: 0;left: 50%;z-index: -1;}#sk-container-id-1 div.sk-parallel-item {display: flex;flex-direction: column;z-index: 1;position: relative;background-color: white;}#sk-container-id-1 div.sk-parallel-item:first-child::after {align-self: flex-end;width: 50%;}#sk-container-id-1 div.sk-parallel-item:last-child::after {align-self: flex-start;width: 50%;}#sk-container-id-1 div.sk-parallel-item:only-child::after {width: 0;}#sk-container-id-1 div.sk-dashed-wrapped {border: 1px dashed gray;margin: 0 0.4em 0.5em 0.4em;box-sizing: border-box;padding-bottom: 0.4em;background-color: white;}#sk-container-id-1 div.sk-label label {font-family: monospace;font-weight: bold;display: inline-block;line-height: 1.2em;}#sk-container-id-1 div.sk-label-container {text-align: center;}#sk-container-id-1 div.sk-container {/* jupyter's `normalize.less` sets `[hidden] { display: none; }` but bootstrap.min.css set `[hidden] { display: none !important; }` so we also need the `!important` here to be able to override the default hidden behavior on the sphinx rendered scikit-learn.org. See: https://github.com/scikit-learn/scikit-learn/issues/21755 */display: inline-block !important;position: relative;}#sk-container-id-1 div.sk-text-repr-fallback {display: none;}</style><div id=\"sk-container-id-1\" class=\"sk-top-container\"><div class=\"sk-text-repr-fallback\"><pre>LinearRegression()</pre><b>In a Jupyter environment, please rerun this cell to show the HTML representation or trust the notebook. <br />On GitHub, the HTML representation is unable to render, please try loading this page with nbviewer.org.</b></div><div class=\"sk-container\" hidden><div class=\"sk-item\"><div class=\"sk-estimator sk-toggleable\"><input class=\"sk-toggleable__control sk-hidden--visually\" id=\"sk-estimator-id-1\" type=\"checkbox\" checked><label for=\"sk-estimator-id-1\" class=\"sk-toggleable__label sk-toggleable__label-arrow\">LinearRegression</label><div class=\"sk-toggleable__content\"><pre>LinearRegression()</pre></div></div></div></div></div>"
      ],
      "text/plain": [
       "LinearRegression()"
      ]
     },
     "execution_count": 12,
     "metadata": {},
     "output_type": "execute_result"
    }
   ],
   "source": [
    "from sklearn.linear_model import LinearRegression\n",
    "from sklearn.metrics import mean_squared_error, r2_score\n",
    "\n",
    "lin_model = LinearRegression()\n",
    "lin_model.fit(X_train, Y_train)"
   ]
  },
  {
   "cell_type": "code",
   "execution_count": 13,
   "id": "eb446e36",
   "metadata": {},
   "outputs": [
    {
     "data": {
      "text/plain": [
       "0.6300745149331701"
      ]
     },
     "execution_count": 13,
     "metadata": {},
     "output_type": "execute_result"
    }
   ],
   "source": [
    "lin_model.score(X_train,Y_train)"
   ]
  },
  {
   "cell_type": "code",
   "execution_count": 14,
   "id": "10f5eb67",
   "metadata": {},
   "outputs": [
    {
     "data": {
      "text/plain": [
       "0.6628996975186953"
      ]
     },
     "execution_count": 14,
     "metadata": {},
     "output_type": "execute_result"
    }
   ],
   "source": [
    "lin_model.score(X_test,Y_test)"
   ]
  },
  {
   "cell_type": "code",
   "execution_count": 15,
   "id": "6580e0e1",
   "metadata": {
    "colab": {
     "base_uri": "https://localhost:8080/",
     "height": 187
    },
    "colab_type": "code",
    "id": "bT52wJAuUqVv",
    "outputId": "86f9f6f8-7ad3-4300-ab4a-591664a59014"
   },
   "outputs": [
    {
     "name": "stdout",
     "output_type": "stream",
     "text": [
      "The model performance for training set\n",
      "--------------------------------------\n",
      "RMSE is 5.6371293350711955\n",
      "R2 score is 0.6300745149331701\n",
      "\n",
      "\n",
      "The model performance for testing set\n",
      "--------------------------------------\n",
      "RMSE is 5.137400784702911\n",
      "R2 score is 0.6628996975186953\n"
     ]
    }
   ],
   "source": [
    "# model evaluation for training set\n",
    "\n",
    "y_train_predict = lin_model.predict(X_train)\n",
    "rmse = (np.sqrt(mean_squared_error(Y_train, y_train_predict)))\n",
    "r2 = r2_score(Y_train, y_train_predict)\n",
    "\n",
    "print(\"The model performance for training set\")\n",
    "print(\"--------------------------------------\")\n",
    "print('RMSE is {}'.format(rmse))\n",
    "print('R2 score is {}'.format(r2))\n",
    "print(\"\\n\")\n",
    "\n",
    "# model evaluation for testing set\n",
    "\n",
    "y_test_predict = lin_model.predict(X_test)\n",
    "# root mean square error of the model\n",
    "rmse = (np.sqrt(mean_squared_error(Y_test, y_test_predict)))\n",
    "\n",
    "# r-squared score of the model\n",
    "r2 = r2_score(Y_test, y_test_predict)\n",
    "\n",
    "print(\"The model performance for testing set\")\n",
    "print(\"--------------------------------------\")\n",
    "print('RMSE is {}'.format(rmse))\n",
    "print('R2 score is {}'.format(r2))"
   ]
  },
  {
   "cell_type": "code",
   "execution_count": 16,
   "id": "869bfb5e",
   "metadata": {},
   "outputs": [],
   "source": [
    "# Rsquare closer to 1 is good model\n",
    "# RMSE lesser the better for model"
   ]
  },
  {
   "cell_type": "code",
   "execution_count": 17,
   "id": "85ef3c57",
   "metadata": {},
   "outputs": [
    {
     "name": "stdout",
     "output_type": "stream",
     "text": [
      "The model performance for training set\n",
      "--------------------------------------\n",
      "MAE 4.031115615178024\n",
      "\n",
      "\n",
      "The model performance for testing set\n",
      "--------------------------------------\n",
      "MAE 3.7913102133431047\n"
     ]
    }
   ],
   "source": [
    "from sklearn.metrics import mean_absolute_error\n",
    "print(\"The model performance for training set\")\n",
    "print(\"--------------------------------------\")\n",
    "print(\"MAE\",mean_absolute_error(Y_train, y_train_predict))\n",
    "print(\"\\n\")\n",
    "print(\"The model performance for testing set\")\n",
    "print(\"--------------------------------------\")\n",
    "print(\"MAE\",mean_absolute_error(Y_test,y_test_predict))\n"
   ]
  },
  {
   "cell_type": "code",
   "execution_count": 18,
   "id": "39453ab2",
   "metadata": {},
   "outputs": [],
   "source": [
    "# Lesser the MAE better for model"
   ]
  },
  {
   "cell_type": "code",
   "execution_count": 19,
   "id": "cc17e0bb",
   "metadata": {},
   "outputs": [
    {
     "name": "stdout",
     "output_type": "stream",
     "text": [
      "The model performance for training set\n",
      "--------------------------------------\n",
      "MSE 31.777227140320214\n",
      "\n",
      "\n",
      "The model performance for testing set\n",
      "--------------------------------------\n",
      "MSE 26.392886822666085\n"
     ]
    }
   ],
   "source": [
    "from sklearn.metrics import mean_squared_error\n",
    "\n",
    "from sklearn.metrics import mean_absolute_error\n",
    "print(\"The model performance for training set\")\n",
    "print(\"--------------------------------------\")\n",
    "print(\"MSE\",mean_squared_error(Y_train, y_train_predict))\n",
    "print(\"\\n\")\n",
    "print(\"The model performance for testing set\")\n",
    "print(\"--------------------------------------\")\n",
    "print(\"MSE\",mean_squared_error(Y_test,y_test_predict))\n"
   ]
  },
  {
   "cell_type": "code",
   "execution_count": 20,
   "id": "36c61d99",
   "metadata": {},
   "outputs": [],
   "source": [
    "# Lower the MSE better the model"
   ]
  },
  {
   "cell_type": "code",
   "execution_count": 21,
   "id": "77b65a46",
   "metadata": {
    "colab": {
     "base_uri": "https://localhost:8080/",
     "height": 497
    },
    "colab_type": "code",
    "id": "GFZQxWLtV2WS",
    "outputId": "f3e9ab16-b037-47a2-8a12-211b63148deb",
    "scrolled": true
   },
   "outputs": [
    {
     "data": {
      "image/png": "[encoded data removed]",
      "text/plain": [
       "<Figure size 640x480 with 1 Axes>"
      ]
     },
     "metadata": {},
     "output_type": "display_data"
    }
   ],
   "source": [
    "# plotting the y_test vs y_pred\n",
    "# ideally should have been a straight line\n",
    "plt.scatter(Y_test, y_test_predict)\n",
    "plt.show()"
   ]
  },
  {
   "cell_type": "code",
   "execution_count": 22,
   "id": "dee1136f",
   "metadata": {},
   "outputs": [],
   "source": [
    "# PCA"
   ]
  },
  {
   "cell_type": "code",
   "execution_count": 23,
   "id": "2fbed58d",
   "metadata": {},
   "outputs": [],
   "source": [
    "a = boston_dataset.feature_names\n",
    "a= np.append(a,'MDEV')"
   ]
  },
  {
   "cell_type": "code",
   "execution_count": 24,
   "id": "1e478580",
   "metadata": {},
   "outputs": [
    {
     "data": {
      "text/html": [
       "<div>\n",
       "<style scoped>\n",
       "    .dataframe tbody tr th:only-of-type {\n",
       "        vertical-align: middle;\n",
       "    }\n",
       "\n",
       "    .dataframe tbody tr th {\n",
       "        vertical-align: top;\n",
       "    }\n",
       "\n",
       "    .dataframe thead th {\n",
       "        text-align: right;\n",
       "    }\n",
       "</style>\n",
       "<table border=\"1\" class=\"dataframe\">\n",
       "  <thead>\n",
       "    <tr style=\"text-align: right;\">\n",
       "      <th></th>\n",
       "      <th>CRIM</th>\n",
       "      <th>ZN</th>\n",
       "      <th>INDUS</th>\n",
       "      <th>CHAS</th>\n",
       "      <th>NOX</th>\n",
       "      <th>RM</th>\n",
       "      <th>AGE</th>\n",
       "      <th>DIS</th>\n",
       "      <th>RAD</th>\n",
       "      <th>TAX</th>\n",
       "      <th>PTRATIO</th>\n",
       "      <th>B</th>\n",
       "      <th>LSTAT</th>\n",
       "      <th>MDEV</th>\n",
       "    </tr>\n",
       "  </thead>\n",
       "  <tbody>\n",
       "    <tr>\n",
       "      <th>0</th>\n",
       "      <td>0.00632</td>\n",
       "      <td>18.0</td>\n",
       "      <td>2.31</td>\n",
       "      <td>0.0</td>\n",
       "      <td>0.538</td>\n",
       "      <td>6.575</td>\n",
       "      <td>65.2</td>\n",
       "      <td>4.0900</td>\n",
       "      <td>1.0</td>\n",
       "      <td>296.0</td>\n",
       "      <td>15.3</td>\n",
       "      <td>396.90</td>\n",
       "      <td>4.98</td>\n",
       "      <td>24.0</td>\n",
       "    </tr>\n",
       "    <tr>\n",
       "      <th>1</th>\n",
       "      <td>0.02731</td>\n",
       "      <td>0.0</td>\n",
       "      <td>7.07</td>\n",
       "      <td>0.0</td>\n",
       "      <td>0.469</td>\n",
       "      <td>6.421</td>\n",
       "      <td>78.9</td>\n",
       "      <td>4.9671</td>\n",
       "      <td>2.0</td>\n",
       "      <td>242.0</td>\n",
       "      <td>17.8</td>\n",
       "      <td>396.90</td>\n",
       "      <td>9.14</td>\n",
       "      <td>21.6</td>\n",
       "    </tr>\n",
       "    <tr>\n",
       "      <th>2</th>\n",
       "      <td>0.02729</td>\n",
       "      <td>0.0</td>\n",
       "      <td>7.07</td>\n",
       "      <td>0.0</td>\n",
       "      <td>0.469</td>\n",
       "      <td>7.185</td>\n",
       "      <td>61.1</td>\n",
       "      <td>4.9671</td>\n",
       "      <td>2.0</td>\n",
       "      <td>242.0</td>\n",
       "      <td>17.8</td>\n",
       "      <td>392.83</td>\n",
       "      <td>4.03</td>\n",
       "      <td>34.7</td>\n",
       "    </tr>\n",
       "    <tr>\n",
       "      <th>3</th>\n",
       "      <td>0.03237</td>\n",
       "      <td>0.0</td>\n",
       "      <td>2.18</td>\n",
       "      <td>0.0</td>\n",
       "      <td>0.458</td>\n",
       "      <td>6.998</td>\n",
       "      <td>45.8</td>\n",
       "      <td>6.0622</td>\n",
       "      <td>3.0</td>\n",
       "      <td>222.0</td>\n",
       "      <td>18.7</td>\n",
       "      <td>394.63</td>\n",
       "      <td>2.94</td>\n",
       "      <td>33.4</td>\n",
       "    </tr>\n",
       "    <tr>\n",
       "      <th>4</th>\n",
       "      <td>0.06905</td>\n",
       "      <td>0.0</td>\n",
       "      <td>2.18</td>\n",
       "      <td>0.0</td>\n",
       "      <td>0.458</td>\n",
       "      <td>7.147</td>\n",
       "      <td>54.2</td>\n",
       "      <td>6.0622</td>\n",
       "      <td>3.0</td>\n",
       "      <td>222.0</td>\n",
       "      <td>18.7</td>\n",
       "      <td>396.90</td>\n",
       "      <td>5.33</td>\n",
       "      <td>36.2</td>\n",
       "    </tr>\n",
       "    <tr>\n",
       "      <th>...</th>\n",
       "      <td>...</td>\n",
       "      <td>...</td>\n",
       "      <td>...</td>\n",
       "      <td>...</td>\n",
       "      <td>...</td>\n",
       "      <td>...</td>\n",
       "      <td>...</td>\n",
       "      <td>...</td>\n",
       "      <td>...</td>\n",
       "      <td>...</td>\n",
       "      <td>...</td>\n",
       "      <td>...</td>\n",
       "      <td>...</td>\n",
       "      <td>...</td>\n",
       "    </tr>\n",
       "    <tr>\n",
       "      <th>501</th>\n",
       "      <td>0.06263</td>\n",
       "      <td>0.0</td>\n",
       "      <td>11.93</td>\n",
       "      <td>0.0</td>\n",
       "      <td>0.573</td>\n",
       "      <td>6.593</td>\n",
       "      <td>69.1</td>\n",
       "      <td>2.4786</td>\n",
       "      <td>1.0</td>\n",
       "      <td>273.0</td>\n",
       "      <td>21.0</td>\n",
       "      <td>391.99</td>\n",
       "      <td>9.67</td>\n",
       "      <td>22.4</td>\n",
       "    </tr>\n",
       "    <tr>\n",
       "      <th>502</th>\n",
       "      <td>0.04527</td>\n",
       "      <td>0.0</td>\n",
       "      <td>11.93</td>\n",
       "      <td>0.0</td>\n",
       "      <td>0.573</td>\n",
       "      <td>6.120</td>\n",
       "      <td>76.7</td>\n",
       "      <td>2.2875</td>\n",
       "      <td>1.0</td>\n",
       "      <td>273.0</td>\n",
       "      <td>21.0</td>\n",
       "      <td>396.90</td>\n",
       "      <td>9.08</td>\n",
       "      <td>20.6</td>\n",
       "    </tr>\n",
       "    <tr>\n",
       "      <th>503</th>\n",
       "      <td>0.06076</td>\n",
       "      <td>0.0</td>\n",
       "      <td>11.93</td>\n",
       "      <td>0.0</td>\n",
       "      <td>0.573</td>\n",
       "      <td>6.976</td>\n",
       "      <td>91.0</td>\n",
       "      <td>2.1675</td>\n",
       "      <td>1.0</td>\n",
       "      <td>273.0</td>\n",
       "      <td>21.0</td>\n",
       "      <td>396.90</td>\n",
       "      <td>5.64</td>\n",
       "      <td>23.9</td>\n",
       "    </tr>\n",
       "    <tr>\n",
       "      <th>504</th>\n",
       "      <td>0.10959</td>\n",
       "      <td>0.0</td>\n",
       "      <td>11.93</td>\n",
       "      <td>0.0</td>\n",
       "      <td>0.573</td>\n",
       "      <td>6.794</td>\n",
       "      <td>89.3</td>\n",
       "      <td>2.3889</td>\n",
       "      <td>1.0</td>\n",
       "      <td>273.0</td>\n",
       "      <td>21.0</td>\n",
       "      <td>393.45</td>\n",
       "      <td>6.48</td>\n",
       "      <td>22.0</td>\n",
       "    </tr>\n",
       "    <tr>\n",
       "      <th>505</th>\n",
       "      <td>0.04741</td>\n",
       "      <td>0.0</td>\n",
       "      <td>11.93</td>\n",
       "      <td>0.0</td>\n",
       "      <td>0.573</td>\n",
       "      <td>6.030</td>\n",
       "      <td>80.8</td>\n",
       "      <td>2.5050</td>\n",
       "      <td>1.0</td>\n",
       "      <td>273.0</td>\n",
       "      <td>21.0</td>\n",
       "      <td>396.90</td>\n",
       "      <td>7.88</td>\n",
       "      <td>11.9</td>\n",
       "    </tr>\n",
       "  </tbody>\n",
       "</table>\n",
       "<p>506 rows × 14 columns</p>\n",
       "</div>"
      ],
      "text/plain": [
       "        CRIM    ZN  INDUS  CHAS    NOX     RM   AGE     DIS  RAD    TAX  \\\n",
       "0    0.00632  18.0   2.31   0.0  0.538  6.575  65.2  4.0900  1.0  296.0   \n",
       "1    0.02731   0.0   7.07   0.0  0.469  6.421  78.9  4.9671  2.0  242.0   \n",
       "2    0.02729   0.0   7.07   0.0  0.469  7.185  61.1  4.9671  2.0  242.0   \n",
       "3    0.03237   0.0   2.18   0.0  0.458  6.998  45.8  6.0622  3.0  222.0   \n",
       "4    0.06905   0.0   2.18   0.0  0.458  7.147  54.2  6.0622  3.0  222.0   \n",
       "..       ...   ...    ...   ...    ...    ...   ...     ...  ...    ...   \n",
       "501  0.06263   0.0  11.93   0.0  0.573  6.593  69.1  2.4786  1.0  273.0   \n",
       "502  0.04527   0.0  11.93   0.0  0.573  6.120  76.7  2.2875  1.0  273.0   \n",
       "503  0.06076   0.0  11.93   0.0  0.573  6.976  91.0  2.1675  1.0  273.0   \n",
       "504  0.10959   0.0  11.93   0.0  0.573  6.794  89.3  2.3889  1.0  273.0   \n",
       "505  0.04741   0.0  11.93   0.0  0.573  6.030  80.8  2.5050  1.0  273.0   \n",
       "\n",
       "     PTRATIO       B  LSTAT  MDEV  \n",
       "0       15.3  396.90   4.98  24.0  \n",
       "1       17.8  396.90   9.14  21.6  \n",
       "2       17.8  392.83   4.03  34.7  \n",
       "3       18.7  394.63   2.94  33.4  \n",
       "4       18.7  396.90   5.33  36.2  \n",
       "..       ...     ...    ...   ...  \n",
       "501     21.0  391.99   9.67  22.4  \n",
       "502     21.0  396.90   9.08  20.6  \n",
       "503     21.0  396.90   5.64  23.9  \n",
       "504     21.0  393.45   6.48  22.0  \n",
       "505     21.0  396.90   7.88  11.9  \n",
       "\n",
       "[506 rows x 14 columns]"
      ]
     },
     "execution_count": 24,
     "metadata": {},
     "output_type": "execute_result"
    }
   ],
   "source": [
    "df= pd.DataFrame(np.c_[boston_dataset.data,boston_dataset.target],columns= a)\n",
    "df"
   ]
  },
  {
   "cell_type": "code",
   "execution_count": 25,
   "id": "06e9cbf8",
   "metadata": {},
   "outputs": [
    {
     "data": {
      "text/plain": [
       "array([[6.3200e-03, 1.8000e+01, 2.3100e+00, ..., 1.5300e+01, 3.9690e+02,\n",
       "        4.9800e+00],\n",
       "       [2.7310e-02, 0.0000e+00, 7.0700e+00, ..., 1.7800e+01, 3.9690e+02,\n",
       "        9.1400e+00],\n",
       "       [2.7290e-02, 0.0000e+00, 7.0700e+00, ..., 1.7800e+01, 3.9283e+02,\n",
       "        4.0300e+00],\n",
       "       ...,\n",
       "       [6.0760e-02, 0.0000e+00, 1.1930e+01, ..., 2.1000e+01, 3.9690e+02,\n",
       "        5.6400e+00],\n",
       "       [1.0959e-01, 0.0000e+00, 1.1930e+01, ..., 2.1000e+01, 3.9345e+02,\n",
       "        6.4800e+00],\n",
       "       [4.7410e-02, 0.0000e+00, 1.1930e+01, ..., 2.1000e+01, 3.9690e+02,\n",
       "        7.8800e+00]])"
      ]
     },
     "execution_count": 25,
     "metadata": {},
     "output_type": "execute_result"
    }
   ],
   "source": [
    "X = boston_dataset.data\n",
    "X"
   ]
  },
  {
   "cell_type": "code",
   "execution_count": 448,
   "id": "c6a6986b",
   "metadata": {},
   "outputs": [],
   "source": [
    "Y = boston_dataset.target"
   ]
  },
  {
   "cell_type": "code",
   "execution_count": 27,
   "id": "26965b8d",
   "metadata": {},
   "outputs": [],
   "source": [
    "from sklearn.preprocessing import StandardScaler# get the features and label from the original dataframe\n",
    "X = df.iloc[:,:-1]\n",
    "y = df.iloc[:,-1]\n",
    "sc = StandardScaler()\n",
    "X_scaled = sc.fit_transform(X)"
   ]
  },
  {
   "cell_type": "code",
   "execution_count": 28,
   "id": "1e4c38dd",
   "metadata": {},
   "outputs": [
    {
     "data": {
      "text/plain": [
       "array([[-2.09829747, -1.45725167, -2.07459756, ..., -0.31236047,\n",
       "        -0.27051907, -0.12580322],\n",
       "       [ 0.77311275,  0.59198521,  0.5996394 , ...,  1.15524644,\n",
       "         1.04136158,  0.76197805],\n",
       "       [ 0.34294273, -0.69519931,  0.1671216 , ..., -0.40859759,\n",
       "        -0.58545406, -1.294882  ],\n",
       "       ...,\n",
       "       [-0.03300036, -0.64080983, -0.48755672, ...,  0.11565634,\n",
       "         0.0870124 ,  0.18432101],\n",
       "       [ 0.01944023, -0.12579741,  0.13332653, ...,  0.28196407,\n",
       "         0.30170082,  0.23273318],\n",
       "       [ 0.36597533, -0.07071949, -0.0140218 , ...,  0.06247358,\n",
       "         0.05436991,  0.01970872]])"
      ]
     },
     "execution_count": 28,
     "metadata": {},
     "output_type": "execute_result"
    }
   ],
   "source": [
    "from sklearn.decomposition import PCA \n",
    "\n",
    "pca = PCA(n_components = 13)# perform PCA on the scaled data\n",
    "df_pca = pca.fit_transform(X_scaled)\n",
    "df_pca.transpose() # Component output\n"
   ]
  },
  {
   "cell_type": "code",
   "execution_count": 29,
   "id": "bc1f67fa",
   "metadata": {},
   "outputs": [
    {
     "data": {
      "text/plain": [
       "array([[ 0.2509514 , -0.25631454,  0.34667207,  0.00504243,  0.34285231,\n",
       "        -0.18924257,  0.3136706 , -0.32154387,  0.31979277,  0.33846915,\n",
       "         0.20494226, -0.20297261,  0.30975984],\n",
       "       [-0.31525237, -0.3233129 ,  0.11249291,  0.45482914,  0.21911553,\n",
       "         0.14933154,  0.31197778, -0.34907   , -0.27152094, -0.23945365,\n",
       "        -0.30589695,  0.23855944, -0.07432203],\n",
       "       [ 0.24656649,  0.29585782, -0.01594592,  0.28978082,  0.12096411,\n",
       "         0.59396117, -0.01767481, -0.04973627,  0.28725483,  0.22074447,\n",
       "        -0.32344627, -0.3001459 , -0.26700025],\n",
       "       [ 0.06177071,  0.12871159,  0.01714571,  0.81594136, -0.12822614,\n",
       "        -0.28059184, -0.17520603,  0.21543585,  0.13234996,  0.10333509,\n",
       "         0.28262198,  0.1684985 ,  0.06941441],\n",
       "       [ 0.08215692,  0.32061699, -0.00781119,  0.08653094,  0.13685356,\n",
       "        -0.4234472 ,  0.01669085,  0.09859225, -0.20413162, -0.13046057,\n",
       "        -0.58400223, -0.34560695,  0.39456113],\n",
       "       [-0.21965961, -0.3233881 , -0.0761379 ,  0.16749014, -0.15298267,\n",
       "         0.05926707, -0.07170914,  0.02343872, -0.14319401, -0.19293428,\n",
       "         0.2731533 , -0.80345454, -0.05321583],\n",
       "       [ 0.77760721, -0.27499628, -0.33957645,  0.07413621, -0.19963484,\n",
       "         0.06393992,  0.11601071, -0.10390044, -0.13794255, -0.31488683,\n",
       "         0.00232387,  0.07029476,  0.08701117],\n",
       "       [ 0.15335048, -0.40268031,  0.17393172, -0.02466215,  0.08012056,\n",
       "        -0.32675226, -0.60082292, -0.12181198,  0.08035831,  0.08277435,\n",
       "        -0.3178842 , -0.00492291, -0.42435293],\n",
       "       [ 0.26039028,  0.35813749,  0.64441615, -0.01372777, -0.01852201,\n",
       "         0.04789804, -0.06756218, -0.15329124, -0.47089067, -0.17656339,\n",
       "         0.25442836, -0.04489802, -0.19522139],\n",
       "       [ 0.01936913,  0.26752723, -0.36353226, -0.00618184,  0.23105645,\n",
       "        -0.43142019,  0.36277896, -0.17121314,  0.02190945, -0.03516835,\n",
       "         0.15343049, -0.09651512, -0.60071141],\n",
       "       [-0.10964435,  0.26275629, -0.30316943,  0.01392667,  0.11131888,\n",
       "         0.05316154, -0.45915939, -0.69569257,  0.03654388, -0.10483575,\n",
       "         0.17450534,  0.0192749 ,  0.27138243],\n",
       "       [ 0.08676107, -0.07142528, -0.11319963, -0.00398268,  0.80432257,\n",
       "         0.15287286, -0.21193607,  0.39094113, -0.10702589, -0.21519113,\n",
       "         0.20959883,  0.04172316,  0.05522596],\n",
       "       [ 0.0459523 , -0.08091897, -0.25107654,  0.03592171,  0.04363045,\n",
       "         0.0455671 , -0.03855068, -0.01829854, -0.63348972,  0.72023345,\n",
       "         0.02339805, -0.00446307,  0.02443168]])"
      ]
     },
     "execution_count": 29,
     "metadata": {},
     "output_type": "execute_result"
    }
   ],
   "source": [
    "# Loading of each feature on the components\n",
    "pca.components_"
   ]
  },
  {
   "cell_type": "code",
   "execution_count": 30,
   "id": "8471d8a3",
   "metadata": {
    "ExecuteTime": {
     "end_time": "2020-04-09T06:29:44.610110Z",
     "start_time": "2020-04-09T06:29:44.525338Z"
    }
   },
   "outputs": [],
   "source": [
    "var_exp = pca.explained_variance_ratio_"
   ]
  },
  {
   "cell_type": "code",
   "execution_count": 31,
   "id": "56b112d6",
   "metadata": {},
   "outputs": [
    {
     "data": {
      "text/plain": [
       "array([0.47129606, 0.11025193, 0.0955859 , 0.06596732, 0.06421661,\n",
       "       0.05056978, 0.04118124, 0.03046902, 0.02130333, 0.01694137,\n",
       "       0.0143088 , 0.01302331, 0.00488533])"
      ]
     },
     "execution_count": 31,
     "metadata": {},
     "output_type": "execute_result"
    }
   ],
   "source": [
    "#Check the explained variance for each PC\n",
    "#Note: Explained variance = (eigen value of each PC)/(sum of eigen values of all PCs)\n",
    "pca.explained_variance_ratio_"
   ]
  },
  {
   "cell_type": "markdown",
   "id": "78922e9b",
   "metadata": {},
   "source": [
    "Let's create a dataframe of component loading against each field and identify the pattern"
   ]
  },
  {
   "cell_type": "code",
   "execution_count": 32,
   "id": "545ff3cf",
   "metadata": {
    "ExecuteTime": {
     "end_time": "2020-04-09T06:29:42.046671Z",
     "start_time": "2020-04-09T06:29:41.780839Z"
    }
   },
   "outputs": [
    {
     "data": {
      "image/png": "[encoded data removed]",
      "text/plain": [
       "<Figure size 1200x700 with 1 Axes>"
      ]
     },
     "metadata": {},
     "output_type": "display_data"
    }
   ],
   "source": [
    "# Step 3 View Scree Plot to identify the number of components to be built\n",
    "plt.figure(figsize=(12,7))\n",
    "sns.lineplot(y=var_exp,x=range(1,len(var_exp)+1),marker='o')\n",
    "plt.xlabel('Number of Components',fontsize=15)\n",
    "plt.ylabel('Variance Explained',fontsize=15)\n",
    "plt.title('Scree Plot',fontsize=15)\n",
    "plt.grid()\n",
    "plt.show()"
   ]
  },
  {
   "cell_type": "code",
   "execution_count": 33,
   "id": "ac067e65",
   "metadata": {
    "ExecuteTime": {
     "end_time": "2020-04-09T07:54:06.847723Z",
     "start_time": "2020-04-09T07:54:06.824755Z"
    }
   },
   "outputs": [
    {
     "data": {
      "text/html": [
       "<div>\n",
       "<style scoped>\n",
       "    .dataframe tbody tr th:only-of-type {\n",
       "        vertical-align: middle;\n",
       "    }\n",
       "\n",
       "    .dataframe tbody tr th {\n",
       "        vertical-align: top;\n",
       "    }\n",
       "\n",
       "    .dataframe thead th {\n",
       "        text-align: right;\n",
       "    }\n",
       "</style>\n",
       "<table border=\"1\" class=\"dataframe\">\n",
       "  <thead>\n",
       "    <tr style=\"text-align: right;\">\n",
       "      <th></th>\n",
       "      <th>CRIM</th>\n",
       "      <th>ZN</th>\n",
       "      <th>INDUS</th>\n",
       "      <th>CHAS</th>\n",
       "      <th>NOX</th>\n",
       "      <th>RM</th>\n",
       "      <th>AGE</th>\n",
       "      <th>DIS</th>\n",
       "      <th>RAD</th>\n",
       "      <th>TAX</th>\n",
       "      <th>PTRATIO</th>\n",
       "      <th>B</th>\n",
       "      <th>LSTAT</th>\n",
       "    </tr>\n",
       "  </thead>\n",
       "  <tbody>\n",
       "    <tr>\n",
       "      <th>0</th>\n",
       "      <td>0.250951</td>\n",
       "      <td>-0.256315</td>\n",
       "      <td>0.346672</td>\n",
       "      <td>0.005042</td>\n",
       "      <td>0.342852</td>\n",
       "      <td>-0.189243</td>\n",
       "      <td>0.313671</td>\n",
       "      <td>-0.321544</td>\n",
       "      <td>0.319793</td>\n",
       "      <td>0.338469</td>\n",
       "      <td>0.204942</td>\n",
       "      <td>-0.202973</td>\n",
       "      <td>0.309760</td>\n",
       "    </tr>\n",
       "    <tr>\n",
       "      <th>1</th>\n",
       "      <td>-0.315252</td>\n",
       "      <td>-0.323313</td>\n",
       "      <td>0.112493</td>\n",
       "      <td>0.454829</td>\n",
       "      <td>0.219116</td>\n",
       "      <td>0.149332</td>\n",
       "      <td>0.311978</td>\n",
       "      <td>-0.349070</td>\n",
       "      <td>-0.271521</td>\n",
       "      <td>-0.239454</td>\n",
       "      <td>-0.305897</td>\n",
       "      <td>0.238559</td>\n",
       "      <td>-0.074322</td>\n",
       "    </tr>\n",
       "    <tr>\n",
       "      <th>2</th>\n",
       "      <td>0.246566</td>\n",
       "      <td>0.295858</td>\n",
       "      <td>-0.015946</td>\n",
       "      <td>0.289781</td>\n",
       "      <td>0.120964</td>\n",
       "      <td>0.593961</td>\n",
       "      <td>-0.017675</td>\n",
       "      <td>-0.049736</td>\n",
       "      <td>0.287255</td>\n",
       "      <td>0.220744</td>\n",
       "      <td>-0.323446</td>\n",
       "      <td>-0.300146</td>\n",
       "      <td>-0.267000</td>\n",
       "    </tr>\n",
       "    <tr>\n",
       "      <th>3</th>\n",
       "      <td>0.061771</td>\n",
       "      <td>0.128712</td>\n",
       "      <td>0.017146</td>\n",
       "      <td>0.815941</td>\n",
       "      <td>-0.128226</td>\n",
       "      <td>-0.280592</td>\n",
       "      <td>-0.175206</td>\n",
       "      <td>0.215436</td>\n",
       "      <td>0.132350</td>\n",
       "      <td>0.103335</td>\n",
       "      <td>0.282622</td>\n",
       "      <td>0.168498</td>\n",
       "      <td>0.069414</td>\n",
       "    </tr>\n",
       "    <tr>\n",
       "      <th>4</th>\n",
       "      <td>0.082157</td>\n",
       "      <td>0.320617</td>\n",
       "      <td>-0.007811</td>\n",
       "      <td>0.086531</td>\n",
       "      <td>0.136854</td>\n",
       "      <td>-0.423447</td>\n",
       "      <td>0.016691</td>\n",
       "      <td>0.098592</td>\n",
       "      <td>-0.204132</td>\n",
       "      <td>-0.130461</td>\n",
       "      <td>-0.584002</td>\n",
       "      <td>-0.345607</td>\n",
       "      <td>0.394561</td>\n",
       "    </tr>\n",
       "    <tr>\n",
       "      <th>5</th>\n",
       "      <td>-0.219660</td>\n",
       "      <td>-0.323388</td>\n",
       "      <td>-0.076138</td>\n",
       "      <td>0.167490</td>\n",
       "      <td>-0.152983</td>\n",
       "      <td>0.059267</td>\n",
       "      <td>-0.071709</td>\n",
       "      <td>0.023439</td>\n",
       "      <td>-0.143194</td>\n",
       "      <td>-0.192934</td>\n",
       "      <td>0.273153</td>\n",
       "      <td>-0.803455</td>\n",
       "      <td>-0.053216</td>\n",
       "    </tr>\n",
       "    <tr>\n",
       "      <th>6</th>\n",
       "      <td>0.777607</td>\n",
       "      <td>-0.274996</td>\n",
       "      <td>-0.339576</td>\n",
       "      <td>0.074136</td>\n",
       "      <td>-0.199635</td>\n",
       "      <td>0.063940</td>\n",
       "      <td>0.116011</td>\n",
       "      <td>-0.103900</td>\n",
       "      <td>-0.137943</td>\n",
       "      <td>-0.314887</td>\n",
       "      <td>0.002324</td>\n",
       "      <td>0.070295</td>\n",
       "      <td>0.087011</td>\n",
       "    </tr>\n",
       "    <tr>\n",
       "      <th>7</th>\n",
       "      <td>0.153350</td>\n",
       "      <td>-0.402680</td>\n",
       "      <td>0.173932</td>\n",
       "      <td>-0.024662</td>\n",
       "      <td>0.080121</td>\n",
       "      <td>-0.326752</td>\n",
       "      <td>-0.600823</td>\n",
       "      <td>-0.121812</td>\n",
       "      <td>0.080358</td>\n",
       "      <td>0.082774</td>\n",
       "      <td>-0.317884</td>\n",
       "      <td>-0.004923</td>\n",
       "      <td>-0.424353</td>\n",
       "    </tr>\n",
       "    <tr>\n",
       "      <th>8</th>\n",
       "      <td>0.260390</td>\n",
       "      <td>0.358137</td>\n",
       "      <td>0.644416</td>\n",
       "      <td>-0.013728</td>\n",
       "      <td>-0.018522</td>\n",
       "      <td>0.047898</td>\n",
       "      <td>-0.067562</td>\n",
       "      <td>-0.153291</td>\n",
       "      <td>-0.470891</td>\n",
       "      <td>-0.176563</td>\n",
       "      <td>0.254428</td>\n",
       "      <td>-0.044898</td>\n",
       "      <td>-0.195221</td>\n",
       "    </tr>\n",
       "    <tr>\n",
       "      <th>9</th>\n",
       "      <td>0.019369</td>\n",
       "      <td>0.267527</td>\n",
       "      <td>-0.363532</td>\n",
       "      <td>-0.006182</td>\n",
       "      <td>0.231056</td>\n",
       "      <td>-0.431420</td>\n",
       "      <td>0.362779</td>\n",
       "      <td>-0.171213</td>\n",
       "      <td>0.021909</td>\n",
       "      <td>-0.035168</td>\n",
       "      <td>0.153430</td>\n",
       "      <td>-0.096515</td>\n",
       "      <td>-0.600711</td>\n",
       "    </tr>\n",
       "    <tr>\n",
       "      <th>10</th>\n",
       "      <td>-0.109644</td>\n",
       "      <td>0.262756</td>\n",
       "      <td>-0.303169</td>\n",
       "      <td>0.013927</td>\n",
       "      <td>0.111319</td>\n",
       "      <td>0.053162</td>\n",
       "      <td>-0.459159</td>\n",
       "      <td>-0.695693</td>\n",
       "      <td>0.036544</td>\n",
       "      <td>-0.104836</td>\n",
       "      <td>0.174505</td>\n",
       "      <td>0.019275</td>\n",
       "      <td>0.271382</td>\n",
       "    </tr>\n",
       "    <tr>\n",
       "      <th>11</th>\n",
       "      <td>0.086761</td>\n",
       "      <td>-0.071425</td>\n",
       "      <td>-0.113200</td>\n",
       "      <td>-0.003983</td>\n",
       "      <td>0.804323</td>\n",
       "      <td>0.152873</td>\n",
       "      <td>-0.211936</td>\n",
       "      <td>0.390941</td>\n",
       "      <td>-0.107026</td>\n",
       "      <td>-0.215191</td>\n",
       "      <td>0.209599</td>\n",
       "      <td>0.041723</td>\n",
       "      <td>0.055226</td>\n",
       "    </tr>\n",
       "    <tr>\n",
       "      <th>12</th>\n",
       "      <td>0.045952</td>\n",
       "      <td>-0.080919</td>\n",
       "      <td>-0.251077</td>\n",
       "      <td>0.035922</td>\n",
       "      <td>0.043630</td>\n",
       "      <td>0.045567</td>\n",
       "      <td>-0.038551</td>\n",
       "      <td>-0.018299</td>\n",
       "      <td>-0.633490</td>\n",
       "      <td>0.720233</td>\n",
       "      <td>0.023398</td>\n",
       "      <td>-0.004463</td>\n",
       "      <td>0.024432</td>\n",
       "    </tr>\n",
       "  </tbody>\n",
       "</table>\n",
       "</div>"
      ],
      "text/plain": [
       "        CRIM        ZN     INDUS      CHAS       NOX        RM       AGE  \\\n",
       "0   0.250951 -0.256315  0.346672  0.005042  0.342852 -0.189243  0.313671   \n",
       "1  -0.315252 -0.323313  0.112493  0.454829  0.219116  0.149332  0.311978   \n",
       "2   0.246566  0.295858 -0.015946  0.289781  0.120964  0.593961 -0.017675   \n",
       "3   0.061771  0.128712  0.017146  0.815941 -0.128226 -0.280592 -0.175206   \n",
       "4   0.082157  0.320617 -0.007811  0.086531  0.136854 -0.423447  0.016691   \n",
       "5  -0.219660 -0.323388 -0.076138  0.167490 -0.152983  0.059267 -0.071709   \n",
       "6   0.777607 -0.274996 -0.339576  0.074136 -0.199635  0.063940  0.116011   \n",
       "7   0.153350 -0.402680  0.173932 -0.024662  0.080121 -0.326752 -0.600823   \n",
       "8   0.260390  0.358137  0.644416 -0.013728 -0.018522  0.047898 -0.067562   \n",
       "9   0.019369  0.267527 -0.363532 -0.006182  0.231056 -0.431420  0.362779   \n",
       "10 -0.109644  0.262756 -0.303169  0.013927  0.111319  0.053162 -0.459159   \n",
       "11  0.086761 -0.071425 -0.113200 -0.003983  0.804323  0.152873 -0.211936   \n",
       "12  0.045952 -0.080919 -0.251077  0.035922  0.043630  0.045567 -0.038551   \n",
       "\n",
       "         DIS       RAD       TAX   PTRATIO         B     LSTAT  \n",
       "0  -0.321544  0.319793  0.338469  0.204942 -0.202973  0.309760  \n",
       "1  -0.349070 -0.271521 -0.239454 -0.305897  0.238559 -0.074322  \n",
       "2  -0.049736  0.287255  0.220744 -0.323446 -0.300146 -0.267000  \n",
       "3   0.215436  0.132350  0.103335  0.282622  0.168498  0.069414  \n",
       "4   0.098592 -0.204132 -0.130461 -0.584002 -0.345607  0.394561  \n",
       "5   0.023439 -0.143194 -0.192934  0.273153 -0.803455 -0.053216  \n",
       "6  -0.103900 -0.137943 -0.314887  0.002324  0.070295  0.087011  \n",
       "7  -0.121812  0.080358  0.082774 -0.317884 -0.004923 -0.424353  \n",
       "8  -0.153291 -0.470891 -0.176563  0.254428 -0.044898 -0.195221  \n",
       "9  -0.171213  0.021909 -0.035168  0.153430 -0.096515 -0.600711  \n",
       "10 -0.695693  0.036544 -0.104836  0.174505  0.019275  0.271382  \n",
       "11  0.390941 -0.107026 -0.215191  0.209599  0.041723  0.055226  \n",
       "12 -0.018299 -0.633490  0.720233  0.023398 -0.004463  0.024432  "
      ]
     },
     "execution_count": 33,
     "metadata": {},
     "output_type": "execute_result"
    }
   ],
   "source": [
    "df_pca_loading = pd.DataFrame(pca.components_,columns= boston_dataset.feature_names)\n",
    "df_pca_loading"
   ]
  },
  {
   "cell_type": "code",
   "execution_count": 34,
   "id": "2bc1b98c",
   "metadata": {},
   "outputs": [
    {
     "name": "stdout",
     "output_type": "stream",
     "text": [
      "Cumulative Variances (Percentage):\n",
      "[ 47.12960636  58.1547996   67.7133894   74.310121    80.73178205\n",
      "  85.78876032  89.90688406  92.95378648  95.08411979  96.7782569\n",
      "  98.20913665  99.51146723 100.        ]\n",
      "\n"
     ]
    }
   ],
   "source": [
    "# print the Cumulative explained variances\n",
    "print(\"Cumulative Variances (Percentage):\")\n",
    "print(pca.explained_variance_ratio_.cumsum() * 100)\n",
    "print()"
   ]
  },
  {
   "cell_type": "code",
   "execution_count": 35,
   "id": "7f67c836",
   "metadata": {},
   "outputs": [
    {
     "data": {
      "text/plain": [
       "array([0.47129606, 0.11025193, 0.0955859 , 0.06596732, 0.06421661,\n",
       "       0.05056978, 0.04118124, 0.03046902, 0.02130333, 0.01694137,\n",
       "       0.0143088 , 0.01302331, 0.00488533])"
      ]
     },
     "execution_count": 35,
     "metadata": {},
     "output_type": "execute_result"
    }
   ],
   "source": [
    "pca.explained_variance_ratio_"
   ]
  },
  {
   "cell_type": "code",
   "execution_count": 36,
   "id": "ab0e0395",
   "metadata": {},
   "outputs": [
    {
     "data": {
      "text/plain": [
       "Text(0, 0.5, 'Explained variance (%)')"
      ]
     },
     "execution_count": 36,
     "metadata": {},
     "output_type": "execute_result"
    },
    {
     "data": {
      "image/png": "[encoded data removed]",
      "text/plain": [
       "<Figure size 640x480 with 1 Axes>"
      ]
     },
     "metadata": {},
     "output_type": "display_data"
    }
   ],
   "source": [
    "# plot a scree plot\n",
    "components = len(pca.explained_variance_ratio_) \n",
    "plt.step(range(1,components+1),np.cumsum(pca.explained_variance_ratio_ * 100),where='mid', label = 'Cumulative explained variance')\n",
    "plt.bar(range(1,components+1), pca.explained_variance_ratio_*100 , alpha = 0.5, align = 'center', label = 'Individual explained variance')\n",
    "# plt.step(range(10), cum_var_exp, )\n",
    "plt.xlabel(\"Number of components\")\n",
    "plt.ylabel(\"Explained variance (%)\")"
   ]
  },
  {
   "cell_type": "code",
   "execution_count": 37,
   "id": "95061145",
   "metadata": {},
   "outputs": [
    {
     "data": {
      "text/plain": [
       "Text(0, 0.5, 'Explained variance (%)')"
      ]
     },
     "execution_count": 37,
     "metadata": {},
     "output_type": "execute_result"
    },
    {
     "data": {
      "image/png": "[encoded data removed]",
      "text/plain": [
       "<Figure size 640x480 with 1 Axes>"
      ]
     },
     "metadata": {},
     "output_type": "display_data"
    }
   ],
   "source": [
    "from sklearn.decomposition import PCA\n",
    "pca = PCA(n_components = 0.85)         # assuming we will consider components that provide 85% of information.\n",
    "\n",
    "pca.fit_transform(X_scaled)\n",
    "components = len(pca.explained_variance_ratio_)\n",
    "\n",
    "plt.step(range(1,components+1),np.cumsum(pca.explained_variance_ratio_ * 100),where='mid', label = 'Cumulative explained variance')\n",
    "plt.bar(range(1,components+1), pca.explained_variance_ratio_*100 , alpha = 0.5, align = 'center', label = 'Individual explained variance')\n",
    "# plt.step(range(10), cum_var_exp, )\n",
    "plt.xlabel(\"Number of components\")\n",
    "plt.ylabel(\"Explained variance (%)\")"
   ]
  },
  {
   "cell_type": "code",
   "execution_count": 38,
   "id": "3c1050b4",
   "metadata": {},
   "outputs": [
    {
     "name": "stdout",
     "output_type": "stream",
     "text": [
      "Top 4 most important features in each component\n",
      "Component 0: ['INDUS', 'NOX', 'TAX', 'RAD']\n",
      "Component 1: ['CHAS', 'AGE', 'B', 'NOX']\n",
      "Component 2: ['RM', 'ZN', 'CHAS', 'RAD']\n",
      "Component 3: ['CHAS', 'PTRATIO', 'DIS', 'B']\n",
      "Component 4: ['LSTAT', 'ZN', 'NOX', 'DIS']\n",
      "Component 5: ['PTRATIO', 'CHAS', 'RM', 'DIS']\n"
     ]
    }
   ],
   "source": [
    "print('Top 4 most important features in each component')\n",
    "for row in range(0,pca.components_.shape[0]):\n",
    "    # get the indices of the top 4 values in each row\n",
    "    temp = np.argpartition(-(pca.components_[row]), 4)\n",
    "    \n",
    "    # sort the indices in descending order\n",
    "    indices = temp[np.argsort((-pca.components_[row])[temp])][:4]\n",
    "    \n",
    "    # print the top 4 feature names\n",
    "    print(f'Component {row}: {df.columns[indices].to_list()}')"
   ]
  },
  {
   "cell_type": "code",
   "execution_count": 39,
   "id": "c1322107",
   "metadata": {},
   "outputs": [
    {
     "name": "stdout",
     "output_type": "stream",
     "text": [
      "(506, 6)\n",
      "[[-2.09829747  0.77311275  0.34294273 -0.89177403  0.42307036 -0.31533814]\n",
      " [-1.45725167  0.59198521 -0.69519931 -0.48745853 -0.19587567  0.26422321]\n",
      " [-2.07459756  0.5996394   0.1671216  -0.73920419 -0.93453406  0.44809462]\n",
      " ...\n",
      " [-0.31236047  1.15524644 -0.40859759 -0.78630409 -1.59518454  0.46794669]\n",
      " [-0.27051907  1.04136158 -0.58545406 -0.67813391 -1.41602419  0.48225947]\n",
      " [-0.12580322  0.76197805 -1.294882   -0.2883292  -0.89096917  0.40147353]]\n"
     ]
    }
   ],
   "source": [
    "# Transforming all columns into 6 PCAs\n",
    "X_pca = pca.transform(X_scaled)\n",
    "print(X_pca.shape)\n",
    "print(X_pca)"
   ]
  },
  {
   "cell_type": "code",
   "execution_count": 40,
   "id": "b1785e17",
   "metadata": {},
   "outputs": [
    {
     "data": {
      "text/html": [
       "<style>#sk-container-id-2 {color: black;background-color: white;}#sk-container-id-2 pre{padding: 0;}#sk-container-id-2 div.sk-toggleable {background-color: white;}#sk-container-id-2 label.sk-toggleable__label {cursor: pointer;display: block;width: 100%;margin-bottom: 0;padding: 0.3em;box-sizing: border-box;text-align: center;}#sk-container-id-2 label.sk-toggleable__label-arrow:before {content: \"▸\";float: left;margin-right: 0.25em;color: #696969;}#sk-container-id-2 label.sk-toggleable__label-arrow:hover:before {color: black;}#sk-container-id-2 div.sk-estimator:hover label.sk-toggleable__label-arrow:before {color: black;}#sk-container-id-2 div.sk-toggleable__content {max-height: 0;max-width: 0;overflow: hidden;text-align: left;background-color: #f0f8ff;}#sk-container-id-2 div.sk-toggleable__content pre {margin: 0.2em;color: black;border-radius: 0.25em;background-color: #f0f8ff;}#sk-container-id-2 input.sk-toggleable__control:checked~div.sk-toggleable__content {max-height: 200px;max-width: 100%;overflow: auto;}#sk-container-id-2 input.sk-toggleable__control:checked~label.sk-toggleable__label-arrow:before {content: \"▾\";}#sk-container-id-2 div.sk-estimator input.sk-toggleable__control:checked~label.sk-toggleable__label {background-color: #d4ebff;}#sk-container-id-2 div.sk-label input.sk-toggleable__control:checked~label.sk-toggleable__label {background-color: #d4ebff;}#sk-container-id-2 input.sk-hidden--visually {border: 0;clip: rect(1px 1px 1px 1px);clip: rect(1px, 1px, 1px, 1px);height: 1px;margin: -1px;overflow: hidden;padding: 0;position: absolute;width: 1px;}#sk-container-id-2 div.sk-estimator {font-family: monospace;background-color: #f0f8ff;border: 1px dotted black;border-radius: 0.25em;box-sizing: border-box;margin-bottom: 0.5em;}#sk-container-id-2 div.sk-estimator:hover {background-color: #d4ebff;}#sk-container-id-2 div.sk-parallel-item::after {content: \"\";width: 100%;border-bottom: 1px solid gray;flex-grow: 1;}#sk-container-id-2 div.sk-label:hover label.sk-toggleable__label {background-color: #d4ebff;}#sk-container-id-2 div.sk-serial::before {content: \"\";position: absolute;border-left: 1px solid gray;box-sizing: border-box;top: 0;bottom: 0;left: 50%;z-index: 0;}#sk-container-id-2 div.sk-serial {display: flex;flex-direction: column;align-items: center;background-color: white;padding-right: 0.2em;padding-left: 0.2em;position: relative;}#sk-container-id-2 div.sk-item {position: relative;z-index: 1;}#sk-container-id-2 div.sk-parallel {display: flex;align-items: stretch;justify-content: center;background-color: white;position: relative;}#sk-container-id-2 div.sk-item::before, #sk-container-id-2 div.sk-parallel-item::before {content: \"\";position: absolute;border-left: 1px solid gray;box-sizing: border-box;top: 0;bottom: 0;left: 50%;z-index: -1;}#sk-container-id-2 div.sk-parallel-item {display: flex;flex-direction: column;z-index: 1;position: relative;background-color: white;}#sk-container-id-2 div.sk-parallel-item:first-child::after {align-self: flex-end;width: 50%;}#sk-container-id-2 div.sk-parallel-item:last-child::after {align-self: flex-start;width: 50%;}#sk-container-id-2 div.sk-parallel-item:only-child::after {width: 0;}#sk-container-id-2 div.sk-dashed-wrapped {border: 1px dashed gray;margin: 0 0.4em 0.5em 0.4em;box-sizing: border-box;padding-bottom: 0.4em;background-color: white;}#sk-container-id-2 div.sk-label label {font-family: monospace;font-weight: bold;display: inline-block;line-height: 1.2em;}#sk-container-id-2 div.sk-label-container {text-align: center;}#sk-container-id-2 div.sk-container {/* jupyter's `normalize.less` sets `[hidden] { display: none; }` but bootstrap.min.css set `[hidden] { display: none !important; }` so we also need the `!important` here to be able to override the default hidden behavior on the sphinx rendered scikit-learn.org. See: https://github.com/scikit-learn/scikit-learn/issues/21755 */display: inline-block !important;position: relative;}#sk-container-id-2 div.sk-text-repr-fallback {display: none;}</style><div id=\"sk-container-id-2\" class=\"sk-top-container\"><div class=\"sk-text-repr-fallback\"><pre>Pipeline(steps=[(&#x27;std_scaler&#x27;, StandardScaler()), (&#x27;pca&#x27;, PCA(n_components=6)),\n",
       "                (&#x27;regressor&#x27;, LinearRegression())])</pre><b>In a Jupyter environment, please rerun this cell to show the HTML representation or trust the notebook. <br />On GitHub, the HTML representation is unable to render, please try loading this page with nbviewer.org.</b></div><div class=\"sk-container\" hidden><div class=\"sk-item sk-dashed-wrapped\"><div class=\"sk-label-container\"><div class=\"sk-label sk-toggleable\"><input class=\"sk-toggleable__control sk-hidden--visually\" id=\"sk-estimator-id-2\" type=\"checkbox\" ><label for=\"sk-estimator-id-2\" class=\"sk-toggleable__label sk-toggleable__label-arrow\">Pipeline</label><div class=\"sk-toggleable__content\"><pre>Pipeline(steps=[(&#x27;std_scaler&#x27;, StandardScaler()), (&#x27;pca&#x27;, PCA(n_components=6)),\n",
       "                (&#x27;regressor&#x27;, LinearRegression())])</pre></div></div></div><div class=\"sk-serial\"><div class=\"sk-item\"><div class=\"sk-estimator sk-toggleable\"><input class=\"sk-toggleable__control sk-hidden--visually\" id=\"sk-estimator-id-3\" type=\"checkbox\" ><label for=\"sk-estimator-id-3\" class=\"sk-toggleable__label sk-toggleable__label-arrow\">StandardScaler</label><div class=\"sk-toggleable__content\"><pre>StandardScaler()</pre></div></div></div><div class=\"sk-item\"><div class=\"sk-estimator sk-toggleable\"><input class=\"sk-toggleable__control sk-hidden--visually\" id=\"sk-estimator-id-4\" type=\"checkbox\" ><label for=\"sk-estimator-id-4\" class=\"sk-toggleable__label sk-toggleable__label-arrow\">PCA</label><div class=\"sk-toggleable__content\"><pre>PCA(n_components=6)</pre></div></div></div><div class=\"sk-item\"><div class=\"sk-estimator sk-toggleable\"><input class=\"sk-toggleable__control sk-hidden--visually\" id=\"sk-estimator-id-5\" type=\"checkbox\" ><label for=\"sk-estimator-id-5\" class=\"sk-toggleable__label sk-toggleable__label-arrow\">LinearRegression</label><div class=\"sk-toggleable__content\"><pre>LinearRegression()</pre></div></div></div></div></div></div></div>"
      ],
      "text/plain": [
       "Pipeline(steps=[('std_scaler', StandardScaler()), ('pca', PCA(n_components=6)),\n",
       "                ('regressor', LinearRegression())])"
      ]
     },
     "execution_count": 40,
     "metadata": {},
     "output_type": "execute_result"
    }
   ],
   "source": [
    "from sklearn.pipeline import Pipeline\n",
    "from sklearn.preprocessing import StandardScaler\n",
    "\n",
    "_sc = StandardScaler()\n",
    "_pca = PCA(n_components = 6)\n",
    "_model = LinearRegression()\n",
    "linear_regress_model = Pipeline([('std_scaler', _sc),('pca', _pca),('regressor', _model)])\n",
    "linear_regress_model"
   ]
  },
  {
   "cell_type": "code",
   "execution_count": 41,
   "id": "03ea49d3",
   "metadata": {},
   "outputs": [
    {
     "data": {
      "text/html": [
       "<style>#sk-container-id-3 {color: black;background-color: white;}#sk-container-id-3 pre{padding: 0;}#sk-container-id-3 div.sk-toggleable {background-color: white;}#sk-container-id-3 label.sk-toggleable__label {cursor: pointer;display: block;width: 100%;margin-bottom: 0;padding: 0.3em;box-sizing: border-box;text-align: center;}#sk-container-id-3 label.sk-toggleable__label-arrow:before {content: \"▸\";float: left;margin-right: 0.25em;color: #696969;}#sk-container-id-3 label.sk-toggleable__label-arrow:hover:before {color: black;}#sk-container-id-3 div.sk-estimator:hover label.sk-toggleable__label-arrow:before {color: black;}#sk-container-id-3 div.sk-toggleable__content {max-height: 0;max-width: 0;overflow: hidden;text-align: left;background-color: #f0f8ff;}#sk-container-id-3 div.sk-toggleable__content pre {margin: 0.2em;color: black;border-radius: 0.25em;background-color: #f0f8ff;}#sk-container-id-3 input.sk-toggleable__control:checked~div.sk-toggleable__content {max-height: 200px;max-width: 100%;overflow: auto;}#sk-container-id-3 input.sk-toggleable__control:checked~label.sk-toggleable__label-arrow:before {content: \"▾\";}#sk-container-id-3 div.sk-estimator input.sk-toggleable__control:checked~label.sk-toggleable__label {background-color: #d4ebff;}#sk-container-id-3 div.sk-label input.sk-toggleable__control:checked~label.sk-toggleable__label {background-color: #d4ebff;}#sk-container-id-3 input.sk-hidden--visually {border: 0;clip: rect(1px 1px 1px 1px);clip: rect(1px, 1px, 1px, 1px);height: 1px;margin: -1px;overflow: hidden;padding: 0;position: absolute;width: 1px;}#sk-container-id-3 div.sk-estimator {font-family: monospace;background-color: #f0f8ff;border: 1px dotted black;border-radius: 0.25em;box-sizing: border-box;margin-bottom: 0.5em;}#sk-container-id-3 div.sk-estimator:hover {background-color: #d4ebff;}#sk-container-id-3 div.sk-parallel-item::after {content: \"\";width: 100%;border-bottom: 1px solid gray;flex-grow: 1;}#sk-container-id-3 div.sk-label:hover label.sk-toggleable__label {background-color: #d4ebff;}#sk-container-id-3 div.sk-serial::before {content: \"\";position: absolute;border-left: 1px solid gray;box-sizing: border-box;top: 0;bottom: 0;left: 50%;z-index: 0;}#sk-container-id-3 div.sk-serial {display: flex;flex-direction: column;align-items: center;background-color: white;padding-right: 0.2em;padding-left: 0.2em;position: relative;}#sk-container-id-3 div.sk-item {position: relative;z-index: 1;}#sk-container-id-3 div.sk-parallel {display: flex;align-items: stretch;justify-content: center;background-color: white;position: relative;}#sk-container-id-3 div.sk-item::before, #sk-container-id-3 div.sk-parallel-item::before {content: \"\";position: absolute;border-left: 1px solid gray;box-sizing: border-box;top: 0;bottom: 0;left: 50%;z-index: -1;}#sk-container-id-3 div.sk-parallel-item {display: flex;flex-direction: column;z-index: 1;position: relative;background-color: white;}#sk-container-id-3 div.sk-parallel-item:first-child::after {align-self: flex-end;width: 50%;}#sk-container-id-3 div.sk-parallel-item:last-child::after {align-self: flex-start;width: 50%;}#sk-container-id-3 div.sk-parallel-item:only-child::after {width: 0;}#sk-container-id-3 div.sk-dashed-wrapped {border: 1px dashed gray;margin: 0 0.4em 0.5em 0.4em;box-sizing: border-box;padding-bottom: 0.4em;background-color: white;}#sk-container-id-3 div.sk-label label {font-family: monospace;font-weight: bold;display: inline-block;line-height: 1.2em;}#sk-container-id-3 div.sk-label-container {text-align: center;}#sk-container-id-3 div.sk-container {/* jupyter's `normalize.less` sets `[hidden] { display: none; }` but bootstrap.min.css set `[hidden] { display: none !important; }` so we also need the `!important` here to be able to override the default hidden behavior on the sphinx rendered scikit-learn.org. See: https://github.com/scikit-learn/scikit-learn/issues/21755 */display: inline-block !important;position: relative;}#sk-container-id-3 div.sk-text-repr-fallback {display: none;}</style><div id=\"sk-container-id-3\" class=\"sk-top-container\"><div class=\"sk-text-repr-fallback\"><pre>Pipeline(steps=[(&#x27;std_scaler&#x27;, StandardScaler()), (&#x27;pca&#x27;, PCA(n_components=6)),\n",
       "                (&#x27;regressor&#x27;, LinearRegression())])</pre><b>In a Jupyter environment, please rerun this cell to show the HTML representation or trust the notebook. <br />On GitHub, the HTML representation is unable to render, please try loading this page with nbviewer.org.</b></div><div class=\"sk-container\" hidden><div class=\"sk-item sk-dashed-wrapped\"><div class=\"sk-label-container\"><div class=\"sk-label sk-toggleable\"><input class=\"sk-toggleable__control sk-hidden--visually\" id=\"sk-estimator-id-6\" type=\"checkbox\" ><label for=\"sk-estimator-id-6\" class=\"sk-toggleable__label sk-toggleable__label-arrow\">Pipeline</label><div class=\"sk-toggleable__content\"><pre>Pipeline(steps=[(&#x27;std_scaler&#x27;, StandardScaler()), (&#x27;pca&#x27;, PCA(n_components=6)),\n",
       "                (&#x27;regressor&#x27;, LinearRegression())])</pre></div></div></div><div class=\"sk-serial\"><div class=\"sk-item\"><div class=\"sk-estimator sk-toggleable\"><input class=\"sk-toggleable__control sk-hidden--visually\" id=\"sk-estimator-id-7\" type=\"checkbox\" ><label for=\"sk-estimator-id-7\" class=\"sk-toggleable__label sk-toggleable__label-arrow\">StandardScaler</label><div class=\"sk-toggleable__content\"><pre>StandardScaler()</pre></div></div></div><div class=\"sk-item\"><div class=\"sk-estimator sk-toggleable\"><input class=\"sk-toggleable__control sk-hidden--visually\" id=\"sk-estimator-id-8\" type=\"checkbox\" ><label for=\"sk-estimator-id-8\" class=\"sk-toggleable__label sk-toggleable__label-arrow\">PCA</label><div class=\"sk-toggleable__content\"><pre>PCA(n_components=6)</pre></div></div></div><div class=\"sk-item\"><div class=\"sk-estimator sk-toggleable\"><input class=\"sk-toggleable__control sk-hidden--visually\" id=\"sk-estimator-id-9\" type=\"checkbox\" ><label for=\"sk-estimator-id-9\" class=\"sk-toggleable__label sk-toggleable__label-arrow\">LinearRegression</label><div class=\"sk-toggleable__content\"><pre>LinearRegression()</pre></div></div></div></div></div></div></div>"
      ],
      "text/plain": [
       "Pipeline(steps=[('std_scaler', StandardScaler()), ('pca', PCA(n_components=6)),\n",
       "                ('regressor', LinearRegression())])"
      ]
     },
     "execution_count": 41,
     "metadata": {},
     "output_type": "execute_result"
    }
   ],
   "source": [
    "X_train, X_test, y_train, y_test = train_test_split(X, y,test_size=0.3) # train the model using the PCA components\n",
    "linear_regress_model.fit(X_train,y_train)\n",
    "# Score the training and testing model to see how it performs:"
   ]
  },
  {
   "cell_type": "code",
   "execution_count": 42,
   "id": "5858e65e",
   "metadata": {},
   "outputs": [
    {
     "data": {
      "text/plain": [
       "0.7023127266973637"
      ]
     },
     "execution_count": 42,
     "metadata": {},
     "output_type": "execute_result"
    }
   ],
   "source": [
    "linear_regress_model.score(X_train,y_train)\n",
    "# accuracy:"
   ]
  },
  {
   "cell_type": "code",
   "execution_count": 43,
   "id": "680fa764",
   "metadata": {},
   "outputs": [
    {
     "data": {
      "text/plain": [
       "0.6725651236460044"
      ]
     },
     "execution_count": 43,
     "metadata": {},
     "output_type": "execute_result"
    }
   ],
   "source": [
    "linear_regress_model.score(X_test,y_test)\n",
    "# accuracy:"
   ]
  },
  {
   "cell_type": "code",
   "execution_count": 44,
   "id": "8dabbb7f",
   "metadata": {},
   "outputs": [],
   "source": [
    "y_train_predict = linear_regress_model.predict(X_train)"
   ]
  },
  {
   "cell_type": "code",
   "execution_count": 45,
   "id": "a9febc37",
   "metadata": {},
   "outputs": [],
   "source": [
    "y_test_predict = linear_regress_model.predict(X_test)"
   ]
  },
  {
   "cell_type": "code",
   "execution_count": 46,
   "id": "3febff78",
   "metadata": {},
   "outputs": [
    {
     "name": "stdout",
     "output_type": "stream",
     "text": [
      "The model performance for training set\n",
      "RMSE 4.887015783331453\n",
      "R2 0.7023127266973637\n",
      "MSE 23.88292326653073\n",
      "MAE 3.2177516889844413\n"
     ]
    }
   ],
   "source": [
    "print(\"The model performance for training set\")\n",
    "\n",
    "rmse = (np.sqrt(mean_squared_error(y_train, y_train_predict)))\n",
    "# r-squared score of the model\n",
    "r2 = r2_score(y_train, y_train_predict)\n",
    "\n",
    "print(\"RMSE\",rmse)\n",
    "print(\"R2\",r2)\n",
    "print(\"MSE\",mean_squared_error(y_train, y_train_predict))\n",
    "print(\"MAE\",mean_absolute_error(y_train, y_train_predict))"
   ]
  },
  {
   "cell_type": "code",
   "execution_count": 47,
   "id": "1a8cd79a",
   "metadata": {},
   "outputs": [
    {
     "name": "stdout",
     "output_type": "stream",
     "text": [
      "The model performance for test set\n",
      "RMSE 5.548408645970119\n",
      "R2 0.6725651236460044\n",
      "MSE 30.784838502675974\n",
      "MAE 3.761150600865829\n"
     ]
    }
   ],
   "source": [
    "print(\"The model performance for test set\")\n",
    "\n",
    "rmse = (np.sqrt(mean_squared_error(y_test, y_test_predict)))\n",
    "# r-squared score of the model\n",
    "r2 = r2_score(y_test, y_test_predict)\n",
    "\n",
    "print(\"RMSE\",rmse)\n",
    "print(\"R2\",r2)\n",
    "print(\"MSE\",mean_squared_error(y_test, y_test_predict))\n",
    "print(\"MAE\",mean_absolute_error(y_test,y_test_predict))"
   ]
  },
  {
   "cell_type": "code",
   "execution_count": null,
   "id": "0939e8e0",
   "metadata": {},
   "outputs": [],
   "source": []
  },
  {
   "cell_type": "code",
   "execution_count": null,
   "id": "866ec442",
   "metadata": {},
   "outputs": [],
   "source": [
    "# 3. Load \"IRIS \" datasets from SKlearn and follow this link for the data description (features and \n",
    "# target variable). Apply PCA on the dataset and select the first three principal components. Split \n",
    "# the dataset in train and test set (use your choice of splitting). Train a logistic regression model \n",
    "# and report the performance (use your choice of at least 4 performance metric)."
   ]
  },
  {
   "cell_type": "code",
   "execution_count": 449,
   "id": "cc8fdae2",
   "metadata": {},
   "outputs": [],
   "source": [
    "from sklearn.datasets import load_iris\n",
    "X, y = load_iris(return_X_y=True)"
   ]
  },
  {
   "cell_type": "code",
   "execution_count": 450,
   "id": "5d3397f0",
   "metadata": {},
   "outputs": [
    {
     "data": {
      "text/plain": [
       "((150, 4), (150,))"
      ]
     },
     "execution_count": 450,
     "metadata": {},
     "output_type": "execute_result"
    }
   ],
   "source": [
    "X.shape, y.shape"
   ]
  },
  {
   "cell_type": "code",
   "execution_count": 451,
   "id": "b9b38c07",
   "metadata": {},
   "outputs": [
    {
     "data": {
      "text/plain": [
       "dict_keys(['data', 'target', 'frame', 'target_names', 'DESCR', 'feature_names', 'filename', 'data_module'])"
      ]
     },
     "execution_count": 451,
     "metadata": {},
     "output_type": "execute_result"
    }
   ],
   "source": [
    "load_iris().keys()"
   ]
  },
  {
   "cell_type": "code",
   "execution_count": 452,
   "id": "f2385e0f",
   "metadata": {},
   "outputs": [],
   "source": [
    "X = load_iris().data"
   ]
  },
  {
   "cell_type": "code",
   "execution_count": 453,
   "id": "4e2d3241",
   "metadata": {},
   "outputs": [],
   "source": [
    "Y = load_iris().target"
   ]
  },
  {
   "cell_type": "code",
   "execution_count": 454,
   "id": "5ce9abcd",
   "metadata": {},
   "outputs": [],
   "source": [
    "names = load_iris().feature_names"
   ]
  },
  {
   "cell_type": "code",
   "execution_count": 455,
   "id": "a08cec71",
   "metadata": {},
   "outputs": [
    {
     "data": {
      "text/plain": [
       "array(['setosa', 'versicolor', 'virginica'], dtype='<U10')"
      ]
     },
     "execution_count": 455,
     "metadata": {},
     "output_type": "execute_result"
    }
   ],
   "source": [
    "load_iris().target_names"
   ]
  },
  {
   "cell_type": "code",
   "execution_count": 456,
   "id": "391a5aa5",
   "metadata": {},
   "outputs": [],
   "source": [
    "from sklearn.preprocessing import StandardScaler# get the features and label from the original dataframe\n",
    "sc = StandardScaler()\n",
    "X_scaled = sc.fit_transform(X)"
   ]
  },
  {
   "cell_type": "code",
   "execution_count": 457,
   "id": "c866eee4",
   "metadata": {},
   "outputs": [
    {
     "data": {
      "text/plain": [
       "array([[-2.26470281e+00, -2.08096115e+00, -2.36422905e+00,\n",
       "        -2.29938422e+00, -2.38984217e+00, -2.07563095e+00,\n",
       "        -2.44402884e+00, -2.23284716e+00, -2.33464048e+00,\n",
       "        -2.18432817e+00, -2.16631010e+00, -2.32613087e+00,\n",
       "        -2.21845090e+00, -2.63310070e+00, -2.19874060e+00,\n",
       "        -2.26221453e+00, -2.20758770e+00, -2.19034951e+00,\n",
       "        -1.89857200e+00, -2.34336905e+00, -1.91432300e+00,\n",
       "        -2.20701284e+00, -2.77434470e+00, -1.81866953e+00,\n",
       "        -2.22716331e+00, -1.95184633e+00, -2.05115137e+00,\n",
       "        -2.16857717e+00, -2.13956345e+00, -2.26526149e+00,\n",
       "        -2.14012214e+00, -1.83159477e+00, -2.61494794e+00,\n",
       "        -2.44617739e+00, -2.10997488e+00, -2.20780890e+00,\n",
       "        -2.04514621e+00, -2.52733191e+00, -2.42963258e+00,\n",
       "        -2.16971071e+00, -2.28647514e+00, -1.85812246e+00,\n",
       "        -2.55363840e+00, -1.96444768e+00, -2.13705901e+00,\n",
       "        -2.06974430e+00, -2.38473317e+00, -2.39437631e+00,\n",
       "        -2.22944655e+00, -2.20383344e+00,  1.10178118e+00,\n",
       "         7.31337425e-01,  1.24097932e+00,  4.07483059e-01,\n",
       "         1.07547470e+00,  3.88687337e-01,  7.46529741e-01,\n",
       "        -4.87322742e-01,  9.27901638e-01,  1.14261887e-02,\n",
       "        -1.10196280e-01,  4.40693449e-01,  5.62108306e-01,\n",
       "         7.19561889e-01, -3.33547032e-02,  8.75407191e-01,\n",
       "         3.50251668e-01,  1.58810048e-01,  1.22509363e+00,\n",
       "         1.64917899e-01,  7.37682649e-01,  4.76287191e-01,\n",
       "         1.23417810e+00,  6.32858200e-01,  7.02661183e-01,\n",
       "         8.74273654e-01,  1.25650912e+00,  1.35840512e+00,\n",
       "         6.64800367e-01, -4.02586109e-02,  1.30795175e-01,\n",
       "         2.34526890e-02,  2.41538273e-01,  1.06109461e+00,\n",
       "         2.23978774e-01,  4.29139116e-01,  1.04872805e+00,\n",
       "         1.04453138e+00,  6.95883211e-02,  2.83477238e-01,\n",
       "         2.79077776e-01,  6.24569791e-01,  3.36530370e-01,\n",
       "        -3.62183385e-01,  2.88586239e-01,  9.13606557e-02,\n",
       "         2.27716866e-01,  5.76388289e-01, -4.47667019e-01,\n",
       "         2.56730589e-01,  1.84456887e+00,  1.15788161e+00,\n",
       "         2.20526679e+00,  1.44015066e+00,  1.86781222e+00,\n",
       "         2.75187334e+00,  3.67017688e-01,  2.30243944e+00,\n",
       "         2.00668647e+00,  2.25977735e+00,  1.36417549e+00,\n",
       "         1.60267867e+00,  1.88390070e+00,  1.26011510e+00,\n",
       "         1.46764520e+00,  1.59007732e+00,  1.47143146e+00,\n",
       "         2.42632899e+00,  3.31069558e+00,  1.26376667e+00,\n",
       "         2.03771630e+00,  9.77980734e-01,  2.89765149e+00,\n",
       "         1.33323218e+00,  1.70073390e+00,  1.95432671e+00,\n",
       "         1.17510363e+00,  1.02095055e+00,  1.78834992e+00,\n",
       "         1.86364755e+00,  2.43595373e+00,  2.30492772e+00,\n",
       "         1.86270322e+00,  1.11414774e+00,  1.20247330e+00,\n",
       "         2.79877045e+00,  1.57625591e+00,  1.34629210e+00,\n",
       "         9.24824917e-01,  1.85204505e+00,  2.01481043e+00,\n",
       "         1.90178409e+00,  1.15788161e+00,  2.04055823e+00,\n",
       "         1.99814710e+00,  1.87050329e+00,  1.56458048e+00,\n",
       "         1.52117050e+00,  1.37278779e+00,  9.60656030e-01],\n",
       "       [ 4.80026597e-01, -6.74133557e-01, -3.41908024e-01,\n",
       "        -5.97394508e-01,  6.46835383e-01,  1.48917752e+00,\n",
       "         4.76441976e-02,  2.23148073e-01, -1.11532768e+00,\n",
       "        -4.69013561e-01,  1.04369065e+00,  1.33078335e-01,\n",
       "        -7.28676165e-01, -9.61506729e-01,  1.86005711e+00,\n",
       "         2.68628449e+00,  1.48360936e+00,  4.88838316e-01,\n",
       "         1.40501879e+00,  1.12784938e+00,  4.08855708e-01,\n",
       "         9.24121427e-01,  4.58343668e-01,  8.55585263e-02,\n",
       "         1.37254455e-01, -6.25618588e-01,  2.42163553e-01,\n",
       "         5.27149525e-01,  3.13217810e-01, -3.37731904e-01,\n",
       "        -5.04540690e-01,  4.23695068e-01,  1.79357586e+00,\n",
       "         2.15072788e+00, -4.60201841e-01, -2.06107398e-01,\n",
       "         6.61558111e-01,  5.92292774e-01, -9.04180040e-01,\n",
       "         2.68878961e-01,  4.41715388e-01, -2.33741516e+00,\n",
       "        -4.79100690e-01,  4.72326668e-01,  1.14222926e+00,\n",
       "        -7.11052725e-01,  1.12042970e+00, -3.86246873e-01,\n",
       "         9.97959764e-01,  9.21635752e-03,  8.62972418e-01,\n",
       "         5.94614726e-01,  6.16297654e-01, -1.75440399e+00,\n",
       "        -2.08421046e-01, -5.93283636e-01,  7.73019312e-01,\n",
       "        -1.85242909e+00,  3.22260779e-02, -1.03401828e+00,\n",
       "        -2.65407282e+00, -6.32951884e-02, -1.76472438e+00,\n",
       "        -1.86224606e-01, -4.39003210e-01,  5.09063957e-01,\n",
       "        -1.96311735e-01, -7.92095742e-01, -1.62224380e+00,\n",
       "        -1.30260923e+00,  3.96571562e-01, -4.17320281e-01,\n",
       "        -9.33325729e-01, -4.16387721e-01, -6.34118197e-02,\n",
       "         2.50793393e-01, -7.72560197e-02,  3.31311682e-01,\n",
       "        -2.25927855e-01, -1.05871855e+00, -1.56227183e+00,\n",
       "        -1.57247559e+00, -7.77256383e-01, -6.33843245e-01,\n",
       "        -2.87773512e-01,  8.45582241e-01,  5.22051797e-01,\n",
       "        -1.38298872e+00, -2.19503335e-01, -1.32932464e+00,\n",
       "        -1.12002852e+00,  2.49230293e-02, -9.88404018e-01,\n",
       "        -2.01923787e+00, -8.55730320e-01, -1.81192126e-01,\n",
       "        -3.84920081e-01, -1.54873597e-01, -1.54379203e+00,\n",
       "        -5.98851796e-01,  8.70421312e-01, -6.98869862e-01,\n",
       "         5.62010477e-01, -4.69875881e-02,  2.95044824e-01,\n",
       "         8.00409201e-01, -1.56150289e+00,  4.20065580e-01,\n",
       "        -7.11438654e-01,  1.92101038e+00,  6.92756454e-01,\n",
       "        -4.21700450e-01,  4.19249651e-01, -1.16226042e+00,\n",
       "        -4.42271587e-01,  6.76244806e-01,  2.55621824e-01,\n",
       "         2.55666125e+00,  1.77809493e-02, -1.70674538e+00,\n",
       "         9.10467410e-01, -5.71764325e-01,  4.13641060e-01,\n",
       "        -4.81811219e-01,  1.01392187e+00,  1.00777760e+00,\n",
       "        -3.16394472e-01,  6.43460292e-02, -1.87361215e-01,\n",
       "         5.62290726e-01,  2.59284433e-01,  2.62632347e+00,\n",
       "        -1.78549495e-01, -2.92922623e-01, -8.11315271e-01,\n",
       "         8.56803329e-01,  1.06858111e+00,  4.22430611e-01,\n",
       "         1.72231005e-02,  6.76128174e-01,  6.13885637e-01,\n",
       "         6.89575494e-01, -6.98869862e-01,  8.67520601e-01,\n",
       "         1.04916875e+00,  3.86966082e-01, -8.96686809e-01,\n",
       "         2.69069144e-01,  1.01125442e+00, -2.43316682e-02],\n",
       "       [-1.27706022e-01, -2.34608854e-01,  4.42014848e-02,\n",
       "         9.12901063e-02,  1.57381957e-02,  2.69682944e-02,\n",
       "         3.35470401e-01, -8.86954979e-02,  1.45076864e-01,\n",
       "        -2.53765567e-01, -2.68681102e-01,  9.37592444e-02,\n",
       "        -2.30911237e-01,  1.80796084e-01, -4.72900998e-01,\n",
       "         3.05266093e-02, -5.34409408e-03, -4.42153165e-02,\n",
       "        -3.74343275e-01,  1.32630467e-01, -4.21292594e-01,\n",
       "         1.59865277e-01,  3.32179098e-01,  3.44885958e-02,\n",
       "         1.17993536e-01, -3.05640982e-01,  8.63640108e-02,\n",
       "        -2.06816248e-01, -2.71150240e-01,  6.84357762e-02,\n",
       "        -7.50084417e-02, -2.70467377e-01,  4.72284187e-02,\n",
       "        -8.26680451e-02, -1.70274861e-01, -2.25441580e-01,\n",
       "        -4.84537410e-01,  1.94358125e-02,  1.93254662e-01,\n",
       "        -1.75883821e-01,  3.48949090e-02, -2.04234223e-01,\n",
       "         3.05766453e-01,  3.09601318e-01,  2.48433561e-01,\n",
       "        -6.39298256e-02,  5.72178581e-02,  1.39467905e-01,\n",
       "        -1.81492780e-01, -1.53029490e-01, -6.84586163e-01,\n",
       "        -9.41217155e-02, -5.54006835e-01, -2.31017678e-02,\n",
       "        -3.98255523e-01,  1.24191550e-01,  1.48969403e-01,\n",
       "         2.49265266e-01, -5.96169361e-01,  5.38899390e-01,\n",
       "        -4.67904441e-02,  2.05073815e-01, -7.65771394e-01,\n",
       "        -6.86589454e-02,  1.94932893e-01, -5.03511382e-01,\n",
       "         4.90873075e-01, -3.02037174e-01, -4.82304024e-01,\n",
       "        -1.72837808e-01,  6.16526306e-01, -2.64952227e-01,\n",
       "        -3.68412272e-01, -2.91896252e-01, -4.46027008e-01,\n",
       "        -4.72578954e-01, -7.27155002e-01, -2.60826577e-01,\n",
       "         8.58638887e-02, -3.19573330e-01, -1.49983478e-01,\n",
       "        -2.41552281e-01, -1.51211957e-01,  1.05311387e-01,\n",
       "         6.65249720e-01,  4.50634071e-01, -3.95786384e-01,\n",
       "        -6.88295960e-01,  2.91579274e-01,  8.94100229e-02,\n",
       "         9.44876010e-02, -2.04811472e-02, -1.99389755e-01,\n",
       "         1.05821048e-01,  1.30889685e-01,  1.28978343e-01,\n",
       "         1.56213154e-01, -2.71650362e-01,  1.90400930e-01,\n",
       "         9.18791610e-02,  1.00540102e+00,  5.30160149e-01,\n",
       "        -2.02914170e-01,  1.63630107e-01,  3.95628375e-01,\n",
       "        -5.82309103e-01,  9.86893267e-01, -6.51706439e-01,\n",
       "        -3.93990571e-01,  3.97551897e-01,  2.84612074e-01,\n",
       "         2.31864079e-02,  2.63384095e-02,  5.80249290e-01,\n",
       "         1.00386957e+00,  6.38428708e-01,  3.74312599e-02,\n",
       "        -1.27881459e-01, -7.03305304e-01, -2.67536893e-01,\n",
       "         2.34799484e-01,  8.28127201e-01, -8.57421825e-01,\n",
       "        -5.42836383e-03,  2.98450613e-01, -4.19984722e-01,\n",
       "         1.29937757e-01,  3.37715967e-01,  2.70658006e-01,\n",
       "        -7.15634119e-01, -7.27816146e-01, -4.93473808e-01,\n",
       "         3.54148712e-01, -1.83488392e-01, -1.64723757e-01,\n",
       "        -5.42906499e-01,  9.45853819e-01,  1.80875478e-01,\n",
       "         4.16826193e-01, -1.26721148e-02,  4.28332842e-01,\n",
       "         1.30075005e-01,  5.30160149e-01,  3.38144000e-01,\n",
       "         6.32413436e-01,  2.56273852e-01, -2.63713516e-02,\n",
       "         1.80178380e-01,  9.33395241e-01,  5.28248807e-01],\n",
       "       [-2.41682039e-02, -1.03006775e-01, -2.83770534e-02,\n",
       "         6.59555596e-02,  3.59228133e-02, -6.60818022e-03,\n",
       "         3.67755572e-02,  2.46120962e-02,  2.68592208e-02,\n",
       "         3.98992877e-02, -1.67313672e-02,  1.33483413e-01,\n",
       "        -2.42503814e-03,  1.92155336e-02, -1.94731769e-01,\n",
       "        -5.05337373e-02, -1.88817432e-01, -9.30904384e-02,\n",
       "        -6.10959671e-02,  3.77564197e-02, -1.09212863e-02,\n",
       "        -5.95973299e-02, -1.96484301e-02, -1.51140999e-01,\n",
       "         2.70140352e-01, -4.35616510e-02, -6.76800599e-02,\n",
       "        -1.02753930e-02, -8.42592210e-02,  1.08279885e-01,\n",
       "         4.81888683e-02, -2.39870381e-01,  2.29235932e-01,\n",
       "         4.82143929e-02, -2.90229468e-02, -1.68907873e-01,\n",
       "        -1.96358525e-01,  1.36504550e-01,  9.73842285e-03,\n",
       "        -7.04740592e-03, -1.06983249e-01, -2.89863919e-01,\n",
       "         6.66014529e-02, -1.77093014e-01,  1.51043437e-01,\n",
       "        -1.40269507e-01,  1.52230967e-01,  4.88347616e-02,\n",
       "         1.49281349e-02, -4.93717318e-02, -3.48337755e-02,\n",
       "        -4.90362325e-03, -9.42339702e-03, -6.57688353e-02,\n",
       "        -1.04736873e-01,  2.40831300e-01,  7.73697853e-02,\n",
       "         4.05202053e-02,  2.98796094e-02,  2.84611837e-02,\n",
       "        -1.37607310e-02, -4.01260816e-02, -4.57311573e-02,\n",
       "         1.64807198e-01, -1.09048499e-01, -1.04943723e-01,\n",
       "         1.91509364e-01,  2.05297735e-01, -2.25899769e-01,\n",
       "         5.17268487e-02,  8.32841227e-02, -1.13568273e-01,\n",
       "         9.94452551e-03,  2.74220152e-01, -4.34583252e-02,\n",
       "        -1.01715736e-01, -3.96885184e-02, -6.68280639e-02,\n",
       "         3.64398401e-02, -6.47881557e-02,  9.40252286e-03,\n",
       "         3.27724444e-02, -2.36513599e-02,  1.83968453e-01,\n",
       "         2.54828368e-01,  1.09675181e-01, -3.72090187e-02,\n",
       "        -1.36835600e-01,  1.47144581e-01, -8.90580520e-03,\n",
       "         2.70657196e-01,  1.47686401e-01, -6.53056201e-03,\n",
       "        -1.95708119e-02,  1.07402349e-01,  2.29959626e-01,\n",
       "         1.32605877e-01,  1.98606790e-02, -1.99946457e-01,\n",
       "         5.86220486e-02,  4.92497432e-02,  4.05207540e-02,\n",
       "        -5.91841937e-02,  2.35770073e-01,  1.62982715e-02,\n",
       "         1.01384486e-01,  1.33123834e-01,  2.38041242e-01,\n",
       "         8.65106302e-02, -1.04838918e-01, -1.07860420e-01,\n",
       "        -5.83316327e-02, -1.46414939e-01, -9.91573214e-02,\n",
       "        -2.75658903e-01, -1.91862996e-01,  1.55330271e-01,\n",
       "         2.73807183e-01, -4.51886059e-02,  6.51807997e-02,\n",
       "        -1.67951254e-01, -2.77555871e-02,  1.27336502e-01,\n",
       "        -1.39959148e-01,  6.16437339e-02,  2.18338351e-01,\n",
       "        -1.25420444e-01,  8.65440136e-03, -3.10876478e-02,\n",
       "         2.08215164e-01,  1.79233648e-02,  2.11675709e-01,\n",
       "        -1.00009882e-01,  1.86343697e-01,  4.89483470e-01,\n",
       "        -2.95881050e-01, -3.56057591e-02,  2.15421288e-01,\n",
       "        -5.23840949e-03, -1.95195239e-01, -2.47538313e-01,\n",
       "        -4.69696647e-01,  4.05207540e-02, -4.51871263e-02,\n",
       "        -2.14045204e-01, -3.89256845e-01, -2.20192100e-01,\n",
       "        -1.19171137e-01, -2.61286484e-02,  1.63078032e-01]])"
      ]
     },
     "execution_count": 457,
     "metadata": {},
     "output_type": "execute_result"
    }
   ],
   "source": [
    "from sklearn.decomposition import PCA \n",
    "\n",
    "pca = PCA(n_components = 4)# perform PCA on the scaled data\n",
    "df_pca = pca.fit_transform(X_scaled)\n",
    "df_pca.transpose() # Component output\n"
   ]
  },
  {
   "cell_type": "code",
   "execution_count": 458,
   "id": "af6e24f8",
   "metadata": {},
   "outputs": [
    {
     "data": {
      "text/plain": [
       "array([[ 0.52106591, -0.26934744,  0.5804131 ,  0.56485654],\n",
       "       [ 0.37741762,  0.92329566,  0.02449161,  0.06694199],\n",
       "       [-0.71956635,  0.24438178,  0.14212637,  0.63427274],\n",
       "       [-0.26128628,  0.12350962,  0.80144925, -0.52359713]])"
      ]
     },
     "execution_count": 458,
     "metadata": {},
     "output_type": "execute_result"
    }
   ],
   "source": [
    "# Loading of each feature on the components\n",
    "pca.components_"
   ]
  },
  {
   "cell_type": "code",
   "execution_count": 459,
   "id": "7b121a5a",
   "metadata": {
    "ExecuteTime": {
     "end_time": "2020-04-09T06:29:44.610110Z",
     "start_time": "2020-04-09T06:29:44.525338Z"
    }
   },
   "outputs": [],
   "source": [
    "var_exp = pca.explained_variance_ratio_"
   ]
  },
  {
   "cell_type": "code",
   "execution_count": 460,
   "id": "de20fddc",
   "metadata": {},
   "outputs": [
    {
     "data": {
      "text/plain": [
       "array([0.72962445, 0.22850762, 0.03668922, 0.00517871])"
      ]
     },
     "execution_count": 460,
     "metadata": {},
     "output_type": "execute_result"
    }
   ],
   "source": [
    "#Check the explained variance for each PC\n",
    "#Note: Explained variance = (eigen value of each PC)/(sum of eigen values of all PCs)\n",
    "pca.explained_variance_ratio_"
   ]
  },
  {
   "cell_type": "markdown",
   "id": "f5bf1ef7",
   "metadata": {},
   "source": [
    "Let's create a dataframe of component loading against each field and identify the pattern"
   ]
  },
  {
   "cell_type": "code",
   "execution_count": 461,
   "id": "e036221f",
   "metadata": {
    "ExecuteTime": {
     "end_time": "2020-04-09T06:29:42.046671Z",
     "start_time": "2020-04-09T06:29:41.780839Z"
    }
   },
   "outputs": [
    {
     "data": {
      "image/png": "[encoded data removed]",
      "text/plain": [
       "<Figure size 1200x700 with 1 Axes>"
      ]
     },
     "metadata": {},
     "output_type": "display_data"
    }
   ],
   "source": [
    "# Step 3 View Scree Plot to identify the number of components to be built\n",
    "import matplotlib.pyplot as plt\n",
    "import seaborn as sns\n",
    "plt.figure(figsize=(12,7))\n",
    "sns.lineplot(y=var_exp,x=range(1,len(var_exp)+1),marker='o')\n",
    "plt.xlabel('Number of Components',fontsize=15)\n",
    "plt.ylabel('Variance Explained',fontsize=15)\n",
    "plt.title('Scree Plot',fontsize=15)\n",
    "plt.grid()\n",
    "plt.show()"
   ]
  },
  {
   "cell_type": "code",
   "execution_count": 462,
   "id": "2c133404",
   "metadata": {
    "ExecuteTime": {
     "end_time": "2020-04-09T07:54:06.847723Z",
     "start_time": "2020-04-09T07:54:06.824755Z"
    }
   },
   "outputs": [
    {
     "data": {
      "text/html": [
       "<div>\n",
       "<style scoped>\n",
       "    .dataframe tbody tr th:only-of-type {\n",
       "        vertical-align: middle;\n",
       "    }\n",
       "\n",
       "    .dataframe tbody tr th {\n",
       "        vertical-align: top;\n",
       "    }\n",
       "\n",
       "    .dataframe thead th {\n",
       "        text-align: right;\n",
       "    }\n",
       "</style>\n",
       "<table border=\"1\" class=\"dataframe\">\n",
       "  <thead>\n",
       "    <tr style=\"text-align: right;\">\n",
       "      <th></th>\n",
       "      <th>sepal length (cm)</th>\n",
       "      <th>sepal width (cm)</th>\n",
       "      <th>petal length (cm)</th>\n",
       "      <th>petal width (cm)</th>\n",
       "    </tr>\n",
       "  </thead>\n",
       "  <tbody>\n",
       "    <tr>\n",
       "      <th>0</th>\n",
       "      <td>0.521066</td>\n",
       "      <td>-0.269347</td>\n",
       "      <td>0.580413</td>\n",
       "      <td>0.564857</td>\n",
       "    </tr>\n",
       "    <tr>\n",
       "      <th>1</th>\n",
       "      <td>0.377418</td>\n",
       "      <td>0.923296</td>\n",
       "      <td>0.024492</td>\n",
       "      <td>0.066942</td>\n",
       "    </tr>\n",
       "    <tr>\n",
       "      <th>2</th>\n",
       "      <td>-0.719566</td>\n",
       "      <td>0.244382</td>\n",
       "      <td>0.142126</td>\n",
       "      <td>0.634273</td>\n",
       "    </tr>\n",
       "    <tr>\n",
       "      <th>3</th>\n",
       "      <td>-0.261286</td>\n",
       "      <td>0.123510</td>\n",
       "      <td>0.801449</td>\n",
       "      <td>-0.523597</td>\n",
       "    </tr>\n",
       "  </tbody>\n",
       "</table>\n",
       "</div>"
      ],
      "text/plain": [
       "   sepal length (cm)  sepal width (cm)  petal length (cm)  petal width (cm)\n",
       "0           0.521066         -0.269347           0.580413          0.564857\n",
       "1           0.377418          0.923296           0.024492          0.066942\n",
       "2          -0.719566          0.244382           0.142126          0.634273\n",
       "3          -0.261286          0.123510           0.801449         -0.523597"
      ]
     },
     "execution_count": 462,
     "metadata": {},
     "output_type": "execute_result"
    }
   ],
   "source": [
    "df_pca_loading = pd.DataFrame(pca.components_,columns= names)\n",
    "df_pca_loading"
   ]
  },
  {
   "cell_type": "code",
   "execution_count": 51,
   "id": "ccee9b79",
   "metadata": {},
   "outputs": [
    {
     "name": "stdout",
     "output_type": "stream",
     "text": [
      "Cumulative Variances (Percentage):\n",
      "[ 72.96244541  95.8132072   99.48212909 100.        ]\n",
      "\n"
     ]
    }
   ],
   "source": [
    "# print the Cumulative explained variances\n",
    "print(\"Cumulative Variances (Percentage):\")\n",
    "print(pca.explained_variance_ratio_.cumsum() * 100)\n",
    "print()"
   ]
  },
  {
   "cell_type": "code",
   "execution_count": 52,
   "id": "178e3e5f",
   "metadata": {},
   "outputs": [
    {
     "data": {
      "text/plain": [
       "array([0.72962445, 0.22850762, 0.03668922, 0.00517871])"
      ]
     },
     "execution_count": 52,
     "metadata": {},
     "output_type": "execute_result"
    }
   ],
   "source": [
    "pca.explained_variance_ratio_"
   ]
  },
  {
   "cell_type": "code",
   "execution_count": 54,
   "id": "f274f0db",
   "metadata": {},
   "outputs": [
    {
     "data": {
      "text/plain": [
       "Text(0, 0.5, 'Explained variance (%)')"
      ]
     },
     "execution_count": 54,
     "metadata": {},
     "output_type": "execute_result"
    },
    {
     "data": {
      "image/png": "[encoded data removed]",
      "text/plain": [
       "<Figure size 640x480 with 1 Axes>"
      ]
     },
     "metadata": {},
     "output_type": "display_data"
    }
   ],
   "source": [
    "# plot a scree plot\n",
    "import numpy as np\n",
    "\n",
    "components = len(pca.explained_variance_ratio_) \n",
    "plt.step(range(1,components+1),np.cumsum(pca.explained_variance_ratio_ * 100),where='mid', label = 'Cumulative explained variance')\n",
    "plt.bar(range(1,components+1), pca.explained_variance_ratio_*100 , alpha = 0.5, align = 'center', label = 'Individual explained variance')\n",
    "# plt.step(range(10), cum_var_exp, )\n",
    "plt.xlabel(\"Number of components\")\n",
    "plt.ylabel(\"Explained variance (%)\")"
   ]
  },
  {
   "cell_type": "code",
   "execution_count": 86,
   "id": "815a590f",
   "metadata": {},
   "outputs": [],
   "source": [
    "import pandas as pd\n",
    "df = pd.DataFrame(data = X, columns= names)"
   ]
  },
  {
   "cell_type": "code",
   "execution_count": 89,
   "id": "c8cddce1",
   "metadata": {},
   "outputs": [
    {
     "name": "stdout",
     "output_type": "stream",
     "text": [
      "Top 3 most important features in each component\n",
      "Component 0: ['petal length (cm)', 'petal width (cm)', 'sepal length (cm)']\n",
      "Component 1: ['sepal width (cm)', 'sepal length (cm)', 'petal width (cm)']\n",
      "Component 2: ['petal width (cm)', 'sepal width (cm)', 'petal length (cm)']\n",
      "Component 3: ['petal length (cm)', 'sepal width (cm)', 'sepal length (cm)']\n"
     ]
    }
   ],
   "source": [
    "print('Top 3 most important features in each component')\n",
    "for row in range(0,pca.components_.shape[0]):\n",
    "    # get the indices of the top 4 values in each row\n",
    "    temp = np.argpartition(-(pca.components_[row]), 3)\n",
    "    \n",
    "    # sort the indices in descending order\n",
    "    indices = temp[np.argsort((-pca.components_[row])[temp])][:3]\n",
    "    \n",
    "    # print the top 4 feature names\n",
    "    print(f'Component {row}: {df.columns[indices].to_list()}')"
   ]
  },
  {
   "cell_type": "code",
   "execution_count": 90,
   "id": "2bcf7771",
   "metadata": {},
   "outputs": [
    {
     "name": "stdout",
     "output_type": "stream",
     "text": [
      "(150, 4)\n",
      "[[-2.26470281e+00  4.80026597e-01 -1.27706022e-01 -2.41682039e-02]\n",
      " [-2.08096115e+00 -6.74133557e-01 -2.34608854e-01 -1.03006775e-01]\n",
      " [-2.36422905e+00 -3.41908024e-01  4.42014848e-02 -2.83770534e-02]\n",
      " [-2.29938422e+00 -5.97394508e-01  9.12901063e-02  6.59555596e-02]\n",
      " [-2.38984217e+00  6.46835383e-01  1.57381957e-02  3.59228133e-02]\n",
      " [-2.07563095e+00  1.48917752e+00  2.69682944e-02 -6.60818022e-03]\n",
      " [-2.44402884e+00  4.76441976e-02  3.35470401e-01  3.67755572e-02]\n",
      " [-2.23284716e+00  2.23148073e-01 -8.86954979e-02  2.46120962e-02]\n",
      " [-2.33464048e+00 -1.11532768e+00  1.45076864e-01  2.68592208e-02]\n",
      " [-2.18432817e+00 -4.69013561e-01 -2.53765567e-01  3.98992877e-02]\n",
      " [-2.16631010e+00  1.04369065e+00 -2.68681102e-01 -1.67313672e-02]\n",
      " [-2.32613087e+00  1.33078335e-01  9.37592444e-02  1.33483413e-01]\n",
      " [-2.21845090e+00 -7.28676165e-01 -2.30911237e-01 -2.42503814e-03]\n",
      " [-2.63310070e+00 -9.61506729e-01  1.80796084e-01  1.92155336e-02]\n",
      " [-2.19874060e+00  1.86005711e+00 -4.72900998e-01 -1.94731769e-01]\n",
      " [-2.26221453e+00  2.68628449e+00  3.05266093e-02 -5.05337373e-02]\n",
      " [-2.20758770e+00  1.48360936e+00 -5.34409408e-03 -1.88817432e-01]\n",
      " [-2.19034951e+00  4.88838316e-01 -4.42153165e-02 -9.30904384e-02]\n",
      " [-1.89857200e+00  1.40501879e+00 -3.74343275e-01 -6.10959671e-02]\n",
      " [-2.34336905e+00  1.12784938e+00  1.32630467e-01  3.77564197e-02]\n",
      " [-1.91432300e+00  4.08855708e-01 -4.21292594e-01 -1.09212863e-02]\n",
      " [-2.20701284e+00  9.24121427e-01  1.59865277e-01 -5.95973299e-02]\n",
      " [-2.77434470e+00  4.58343668e-01  3.32179098e-01 -1.96484301e-02]\n",
      " [-1.81866953e+00  8.55585263e-02  3.44885958e-02 -1.51140999e-01]\n",
      " [-2.22716331e+00  1.37254455e-01  1.17993536e-01  2.70140352e-01]\n",
      " [-1.95184633e+00 -6.25618588e-01 -3.05640982e-01 -4.35616510e-02]\n",
      " [-2.05115137e+00  2.42163553e-01  8.63640108e-02 -6.76800599e-02]\n",
      " [-2.16857717e+00  5.27149525e-01 -2.06816248e-01 -1.02753930e-02]\n",
      " [-2.13956345e+00  3.13217810e-01 -2.71150240e-01 -8.42592210e-02]\n",
      " [-2.26526149e+00 -3.37731904e-01  6.84357762e-02  1.08279885e-01]\n",
      " [-2.14012214e+00 -5.04540690e-01 -7.50084417e-02  4.81888683e-02]\n",
      " [-1.83159477e+00  4.23695068e-01 -2.70467377e-01 -2.39870381e-01]\n",
      " [-2.61494794e+00  1.79357586e+00  4.72284187e-02  2.29235932e-01]\n",
      " [-2.44617739e+00  2.15072788e+00 -8.26680451e-02  4.82143929e-02]\n",
      " [-2.10997488e+00 -4.60201841e-01 -1.70274861e-01 -2.90229468e-02]\n",
      " [-2.20780890e+00 -2.06107398e-01 -2.25441580e-01 -1.68907873e-01]\n",
      " [-2.04514621e+00  6.61558111e-01 -4.84537410e-01 -1.96358525e-01]\n",
      " [-2.52733191e+00  5.92292774e-01  1.94358125e-02  1.36504550e-01]\n",
      " [-2.42963258e+00 -9.04180040e-01  1.93254662e-01  9.73842285e-03]\n",
      " [-2.16971071e+00  2.68878961e-01 -1.75883821e-01 -7.04740592e-03]\n",
      " [-2.28647514e+00  4.41715388e-01  3.48949090e-02 -1.06983249e-01]\n",
      " [-1.85812246e+00 -2.33741516e+00 -2.04234223e-01 -2.89863919e-01]\n",
      " [-2.55363840e+00 -4.79100690e-01  3.05766453e-01  6.66014529e-02]\n",
      " [-1.96444768e+00  4.72326668e-01  3.09601318e-01 -1.77093014e-01]\n",
      " [-2.13705901e+00  1.14222926e+00  2.48433561e-01  1.51043437e-01]\n",
      " [-2.06974430e+00 -7.11052725e-01 -6.39298256e-02 -1.40269507e-01]\n",
      " [-2.38473317e+00  1.12042970e+00  5.72178581e-02  1.52230967e-01]\n",
      " [-2.39437631e+00 -3.86246873e-01  1.39467905e-01  4.88347616e-02]\n",
      " [-2.22944655e+00  9.97959764e-01 -1.81492780e-01  1.49281349e-02]\n",
      " [-2.20383344e+00  9.21635752e-03 -1.53029490e-01 -4.93717318e-02]\n",
      " [ 1.10178118e+00  8.62972418e-01 -6.84586163e-01 -3.48337755e-02]\n",
      " [ 7.31337425e-01  5.94614726e-01 -9.41217155e-02 -4.90362325e-03]\n",
      " [ 1.24097932e+00  6.16297654e-01 -5.54006835e-01 -9.42339702e-03]\n",
      " [ 4.07483059e-01 -1.75440399e+00 -2.31017678e-02 -6.57688353e-02]\n",
      " [ 1.07547470e+00 -2.08421046e-01 -3.98255523e-01 -1.04736873e-01]\n",
      " [ 3.88687337e-01 -5.93283636e-01  1.24191550e-01  2.40831300e-01]\n",
      " [ 7.46529741e-01  7.73019312e-01  1.48969403e-01  7.73697853e-02]\n",
      " [-4.87322742e-01 -1.85242909e+00  2.49265266e-01  4.05202053e-02]\n",
      " [ 9.27901638e-01  3.22260779e-02 -5.96169361e-01  2.98796094e-02]\n",
      " [ 1.14261887e-02 -1.03401828e+00  5.38899390e-01  2.84611837e-02]\n",
      " [-1.10196280e-01 -2.65407282e+00 -4.67904441e-02 -1.37607310e-02]\n",
      " [ 4.40693449e-01 -6.32951884e-02  2.05073815e-01 -4.01260816e-02]\n",
      " [ 5.62108306e-01 -1.76472438e+00 -7.65771394e-01 -4.57311573e-02]\n",
      " [ 7.19561889e-01 -1.86224606e-01 -6.86589454e-02  1.64807198e-01]\n",
      " [-3.33547032e-02 -4.39003210e-01  1.94932893e-01 -1.09048499e-01]\n",
      " [ 8.75407191e-01  5.09063957e-01 -5.03511382e-01 -1.04943723e-01]\n",
      " [ 3.50251668e-01 -1.96311735e-01  4.90873075e-01  1.91509364e-01]\n",
      " [ 1.58810048e-01 -7.92095742e-01 -3.02037174e-01  2.05297735e-01]\n",
      " [ 1.22509363e+00 -1.62224380e+00 -4.82304024e-01 -2.25899769e-01]\n",
      " [ 1.64917899e-01 -1.30260923e+00 -1.72837808e-01  5.17268487e-02]\n",
      " [ 7.37682649e-01  3.96571562e-01  6.16526306e-01  8.32841227e-02]\n",
      " [ 4.76287191e-01 -4.17320281e-01 -2.64952227e-01 -1.13568273e-01]\n",
      " [ 1.23417810e+00 -9.33325729e-01 -3.68412272e-01  9.94452551e-03]\n",
      " [ 6.32858200e-01 -4.16387721e-01 -2.91896252e-01  2.74220152e-01]\n",
      " [ 7.02661183e-01 -6.34118197e-02 -4.46027008e-01 -4.34583252e-02]\n",
      " [ 8.74273654e-01  2.50793393e-01 -4.72578954e-01 -1.01715736e-01]\n",
      " [ 1.25650912e+00 -7.72560197e-02 -7.27155002e-01 -3.96885184e-02]\n",
      " [ 1.35840512e+00  3.31311682e-01 -2.60826577e-01 -6.68280639e-02]\n",
      " [ 6.64800367e-01 -2.25927855e-01  8.58638887e-02  3.64398401e-02]\n",
      " [-4.02586109e-02 -1.05871855e+00 -3.19573330e-01 -6.47881557e-02]\n",
      " [ 1.30795175e-01 -1.56227183e+00 -1.49983478e-01  9.40252286e-03]\n",
      " [ 2.34526890e-02 -1.57247559e+00 -2.41552281e-01  3.27724444e-02]\n",
      " [ 2.41538273e-01 -7.77256383e-01 -1.51211957e-01 -2.36513599e-02]\n",
      " [ 1.06109461e+00 -6.33843245e-01  1.05311387e-01  1.83968453e-01]\n",
      " [ 2.23978774e-01 -2.87773512e-01  6.65249720e-01  2.54828368e-01]\n",
      " [ 4.29139116e-01  8.45582241e-01  4.50634071e-01  1.09675181e-01]\n",
      " [ 1.04872805e+00  5.22051797e-01 -3.95786384e-01 -3.72090187e-02]\n",
      " [ 1.04453138e+00 -1.38298872e+00 -6.88295960e-01 -1.36835600e-01]\n",
      " [ 6.95883211e-02 -2.19503335e-01  2.91579274e-01  1.47144581e-01]\n",
      " [ 2.83477238e-01 -1.32932464e+00  8.94100229e-02 -8.90580520e-03]\n",
      " [ 2.79077776e-01 -1.12002852e+00  9.44876010e-02  2.70657196e-01]\n",
      " [ 6.24569791e-01  2.49230293e-02 -2.04811472e-02  1.47686401e-01]\n",
      " [ 3.36530370e-01 -9.88404018e-01 -1.99389755e-01 -6.53056201e-03]\n",
      " [-3.62183385e-01 -2.01923787e+00  1.05821048e-01 -1.95708119e-02]\n",
      " [ 2.88586239e-01 -8.55730320e-01  1.30889685e-01  1.07402349e-01]\n",
      " [ 9.13606557e-02 -1.81192126e-01  1.28978343e-01  2.29959626e-01]\n",
      " [ 2.27716866e-01 -3.84920081e-01  1.56213154e-01  1.32605877e-01]\n",
      " [ 5.76388289e-01 -1.54873597e-01 -2.71650362e-01  1.98606790e-02]\n",
      " [-4.47667019e-01 -1.54379203e+00  1.90400930e-01 -1.99946457e-01]\n",
      " [ 2.56730589e-01 -5.98851796e-01  9.18791610e-02  5.86220486e-02]\n",
      " [ 1.84456887e+00  8.70421312e-01  1.00540102e+00  4.92497432e-02]\n",
      " [ 1.15788161e+00 -6.98869862e-01  5.30160149e-01  4.05207540e-02]\n",
      " [ 2.20526679e+00  5.62010477e-01 -2.02914170e-01 -5.91841937e-02]\n",
      " [ 1.44015066e+00 -4.69875881e-02  1.63630107e-01  2.35770073e-01]\n",
      " [ 1.86781222e+00  2.95044824e-01  3.95628375e-01  1.62982715e-02]\n",
      " [ 2.75187334e+00  8.00409201e-01 -5.82309103e-01  1.01384486e-01]\n",
      " [ 3.67017688e-01 -1.56150289e+00  9.86893267e-01  1.33123834e-01]\n",
      " [ 2.30243944e+00  4.20065580e-01 -6.51706439e-01  2.38041242e-01]\n",
      " [ 2.00668647e+00 -7.11438654e-01 -3.93990571e-01  8.65106302e-02]\n",
      " [ 2.25977735e+00  1.92101038e+00  3.97551897e-01 -1.04838918e-01]\n",
      " [ 1.36417549e+00  6.92756454e-01  2.84612074e-01 -1.07860420e-01]\n",
      " [ 1.60267867e+00 -4.21700450e-01  2.31864079e-02 -5.83316327e-02]\n",
      " [ 1.88390070e+00  4.19249651e-01  2.63384095e-02 -1.46414939e-01]\n",
      " [ 1.26011510e+00 -1.16226042e+00  5.80249290e-01 -9.91573214e-02]\n",
      " [ 1.46764520e+00 -4.42271587e-01  1.00386957e+00 -2.75658903e-01]\n",
      " [ 1.59007732e+00  6.76244806e-01  6.38428708e-01 -1.91862996e-01]\n",
      " [ 1.47143146e+00  2.55621824e-01  3.74312599e-02  1.55330271e-01]\n",
      " [ 2.42632899e+00  2.55666125e+00 -1.27881459e-01  2.73807183e-01]\n",
      " [ 3.31069558e+00  1.77809493e-02 -7.03305304e-01 -4.51886059e-02]\n",
      " [ 1.26376667e+00 -1.70674538e+00 -2.67536893e-01  6.51807997e-02]\n",
      " [ 2.03771630e+00  9.10467410e-01  2.34799484e-01 -1.67951254e-01]\n",
      " [ 9.77980734e-01 -5.71764325e-01  8.28127201e-01 -2.77555871e-02]\n",
      " [ 2.89765149e+00  4.13641060e-01 -8.57421825e-01  1.27336502e-01]\n",
      " [ 1.33323218e+00 -4.81811219e-01 -5.42836383e-03 -1.39959148e-01]\n",
      " [ 1.70073390e+00  1.01392187e+00  2.98450613e-01  6.16437339e-02]\n",
      " [ 1.95432671e+00  1.00777760e+00 -4.19984722e-01  2.18338351e-01]\n",
      " [ 1.17510363e+00 -3.16394472e-01  1.29937757e-01 -1.25420444e-01]\n",
      " [ 1.02095055e+00  6.43460292e-02  3.37715967e-01  8.65440136e-03]\n",
      " [ 1.78834992e+00 -1.87361215e-01  2.70658006e-01 -3.10876478e-02]\n",
      " [ 1.86364755e+00  5.62290726e-01 -7.15634119e-01  2.08215164e-01]\n",
      " [ 2.43595373e+00  2.59284433e-01 -7.27816146e-01  1.79233648e-02]\n",
      " [ 2.30492772e+00  2.62632347e+00 -4.93473808e-01  2.11675709e-01]\n",
      " [ 1.86270322e+00 -1.78549495e-01  3.54148712e-01 -1.00009882e-01]\n",
      " [ 1.11414774e+00 -2.92922623e-01 -1.83488392e-01  1.86343697e-01]\n",
      " [ 1.20247330e+00 -8.11315271e-01 -1.64723757e-01  4.89483470e-01]\n",
      " [ 2.79877045e+00  8.56803329e-01 -5.42906499e-01 -2.95881050e-01]\n",
      " [ 1.57625591e+00  1.06858111e+00  9.45853819e-01 -3.56057591e-02]\n",
      " [ 1.34629210e+00  4.22430611e-01  1.80875478e-01  2.15421288e-01]\n",
      " [ 9.24824917e-01  1.72231005e-02  4.16826193e-01 -5.23840949e-03]\n",
      " [ 1.85204505e+00  6.76128174e-01 -1.26721148e-02 -1.95195239e-01]\n",
      " [ 2.01481043e+00  6.13885637e-01  4.28332842e-01 -2.47538313e-01]\n",
      " [ 1.90178409e+00  6.89575494e-01  1.30075005e-01 -4.69696647e-01]\n",
      " [ 1.15788161e+00 -6.98869862e-01  5.30160149e-01  4.05207540e-02]\n",
      " [ 2.04055823e+00  8.67520601e-01  3.38144000e-01 -4.51871263e-02]\n",
      " [ 1.99814710e+00  1.04916875e+00  6.32413436e-01 -2.14045204e-01]\n",
      " [ 1.87050329e+00  3.86966082e-01  2.56273852e-01 -3.89256845e-01]\n",
      " [ 1.56458048e+00 -8.96686809e-01 -2.63713516e-02 -2.20192100e-01]\n",
      " [ 1.52117050e+00  2.69069144e-01  1.80178380e-01 -1.19171137e-01]\n",
      " [ 1.37278779e+00  1.01125442e+00  9.33395241e-01 -2.61286484e-02]\n",
      " [ 9.60656030e-01 -2.43316682e-02  5.28248807e-01  1.63078032e-01]]\n"
     ]
    }
   ],
   "source": [
    "# Transforming all columns into 6 PCAs\n",
    "X_pca = pca.transform(X_scaled)\n",
    "print(X_pca.shape)\n",
    "print(X_pca)"
   ]
  },
  {
   "cell_type": "code",
   "execution_count": 77,
   "id": "32092759",
   "metadata": {},
   "outputs": [
    {
     "data": {
      "text/html": [
       "<style>#sk-container-id-1 {color: black;background-color: white;}#sk-container-id-1 pre{padding: 0;}#sk-container-id-1 div.sk-toggleable {background-color: white;}#sk-container-id-1 label.sk-toggleable__label {cursor: pointer;display: block;width: 100%;margin-bottom: 0;padding: 0.3em;box-sizing: border-box;text-align: center;}#sk-container-id-1 label.sk-toggleable__label-arrow:before {content: \"▸\";float: left;margin-right: 0.25em;color: #696969;}#sk-container-id-1 label.sk-toggleable__label-arrow:hover:before {color: black;}#sk-container-id-1 div.sk-estimator:hover label.sk-toggleable__label-arrow:before {color: black;}#sk-container-id-1 div.sk-toggleable__content {max-height: 0;max-width: 0;overflow: hidden;text-align: left;background-color: #f0f8ff;}#sk-container-id-1 div.sk-toggleable__content pre {margin: 0.2em;color: black;border-radius: 0.25em;background-color: #f0f8ff;}#sk-container-id-1 input.sk-toggleable__control:checked~div.sk-toggleable__content {max-height: 200px;max-width: 100%;overflow: auto;}#sk-container-id-1 input.sk-toggleable__control:checked~label.sk-toggleable__label-arrow:before {content: \"▾\";}#sk-container-id-1 div.sk-estimator input.sk-toggleable__control:checked~label.sk-toggleable__label {background-color: #d4ebff;}#sk-container-id-1 div.sk-label input.sk-toggleable__control:checked~label.sk-toggleable__label {background-color: #d4ebff;}#sk-container-id-1 input.sk-hidden--visually {border: 0;clip: rect(1px 1px 1px 1px);clip: rect(1px, 1px, 1px, 1px);height: 1px;margin: -1px;overflow: hidden;padding: 0;position: absolute;width: 1px;}#sk-container-id-1 div.sk-estimator {font-family: monospace;background-color: #f0f8ff;border: 1px dotted black;border-radius: 0.25em;box-sizing: border-box;margin-bottom: 0.5em;}#sk-container-id-1 div.sk-estimator:hover {background-color: #d4ebff;}#sk-container-id-1 div.sk-parallel-item::after {content: \"\";width: 100%;border-bottom: 1px solid gray;flex-grow: 1;}#sk-container-id-1 div.sk-label:hover label.sk-toggleable__label {background-color: #d4ebff;}#sk-container-id-1 div.sk-serial::before {content: \"\";position: absolute;border-left: 1px solid gray;box-sizing: border-box;top: 0;bottom: 0;left: 50%;z-index: 0;}#sk-container-id-1 div.sk-serial {display: flex;flex-direction: column;align-items: center;background-color: white;padding-right: 0.2em;padding-left: 0.2em;position: relative;}#sk-container-id-1 div.sk-item {position: relative;z-index: 1;}#sk-container-id-1 div.sk-parallel {display: flex;align-items: stretch;justify-content: center;background-color: white;position: relative;}#sk-container-id-1 div.sk-item::before, #sk-container-id-1 div.sk-parallel-item::before {content: \"\";position: absolute;border-left: 1px solid gray;box-sizing: border-box;top: 0;bottom: 0;left: 50%;z-index: -1;}#sk-container-id-1 div.sk-parallel-item {display: flex;flex-direction: column;z-index: 1;position: relative;background-color: white;}#sk-container-id-1 div.sk-parallel-item:first-child::after {align-self: flex-end;width: 50%;}#sk-container-id-1 div.sk-parallel-item:last-child::after {align-self: flex-start;width: 50%;}#sk-container-id-1 div.sk-parallel-item:only-child::after {width: 0;}#sk-container-id-1 div.sk-dashed-wrapped {border: 1px dashed gray;margin: 0 0.4em 0.5em 0.4em;box-sizing: border-box;padding-bottom: 0.4em;background-color: white;}#sk-container-id-1 div.sk-label label {font-family: monospace;font-weight: bold;display: inline-block;line-height: 1.2em;}#sk-container-id-1 div.sk-label-container {text-align: center;}#sk-container-id-1 div.sk-container {/* jupyter's `normalize.less` sets `[hidden] { display: none; }` but bootstrap.min.css set `[hidden] { display: none !important; }` so we also need the `!important` here to be able to override the default hidden behavior on the sphinx rendered scikit-learn.org. See: https://github.com/scikit-learn/scikit-learn/issues/21755 */display: inline-block !important;position: relative;}#sk-container-id-1 div.sk-text-repr-fallback {display: none;}</style><div id=\"sk-container-id-1\" class=\"sk-top-container\"><div class=\"sk-text-repr-fallback\"><pre>Pipeline(steps=[(&#x27;std_scaler&#x27;, StandardScaler()), (&#x27;pca&#x27;, PCA(n_components=3)),\n",
       "                (&#x27;regressor&#x27;, LogisticRegression())])</pre><b>In a Jupyter environment, please rerun this cell to show the HTML representation or trust the notebook. <br />On GitHub, the HTML representation is unable to render, please try loading this page with nbviewer.org.</b></div><div class=\"sk-container\" hidden><div class=\"sk-item sk-dashed-wrapped\"><div class=\"sk-label-container\"><div class=\"sk-label sk-toggleable\"><input class=\"sk-toggleable__control sk-hidden--visually\" id=\"sk-estimator-id-1\" type=\"checkbox\" ><label for=\"sk-estimator-id-1\" class=\"sk-toggleable__label sk-toggleable__label-arrow\">Pipeline</label><div class=\"sk-toggleable__content\"><pre>Pipeline(steps=[(&#x27;std_scaler&#x27;, StandardScaler()), (&#x27;pca&#x27;, PCA(n_components=3)),\n",
       "                (&#x27;regressor&#x27;, LogisticRegression())])</pre></div></div></div><div class=\"sk-serial\"><div class=\"sk-item\"><div class=\"sk-estimator sk-toggleable\"><input class=\"sk-toggleable__control sk-hidden--visually\" id=\"sk-estimator-id-2\" type=\"checkbox\" ><label for=\"sk-estimator-id-2\" class=\"sk-toggleable__label sk-toggleable__label-arrow\">StandardScaler</label><div class=\"sk-toggleable__content\"><pre>StandardScaler()</pre></div></div></div><div class=\"sk-item\"><div class=\"sk-estimator sk-toggleable\"><input class=\"sk-toggleable__control sk-hidden--visually\" id=\"sk-estimator-id-3\" type=\"checkbox\" ><label for=\"sk-estimator-id-3\" class=\"sk-toggleable__label sk-toggleable__label-arrow\">PCA</label><div class=\"sk-toggleable__content\"><pre>PCA(n_components=3)</pre></div></div></div><div class=\"sk-item\"><div class=\"sk-estimator sk-toggleable\"><input class=\"sk-toggleable__control sk-hidden--visually\" id=\"sk-estimator-id-4\" type=\"checkbox\" ><label for=\"sk-estimator-id-4\" class=\"sk-toggleable__label sk-toggleable__label-arrow\">LogisticRegression</label><div class=\"sk-toggleable__content\"><pre>LogisticRegression()</pre></div></div></div></div></div></div></div>"
      ],
      "text/plain": [
       "Pipeline(steps=[('std_scaler', StandardScaler()), ('pca', PCA(n_components=3)),\n",
       "                ('regressor', LogisticRegression())])"
      ]
     },
     "execution_count": 77,
     "metadata": {},
     "output_type": "execute_result"
    }
   ],
   "source": [
    "from sklearn.pipeline import Pipeline\n",
    "from sklearn.preprocessing import StandardScaler\n",
    "from sklearn.linear_model import LogisticRegression\n",
    "\n",
    "_sc = StandardScaler()\n",
    "_pca = PCA(n_components = 3)\n",
    "_model = LogisticRegression()\n",
    "logistic_regress_model = Pipeline([('std_scaler', _sc),('pca', _pca),('regressor', _model)])\n",
    "logistic_regress_model"
   ]
  },
  {
   "cell_type": "code",
   "execution_count": 79,
   "id": "8ae7a322",
   "metadata": {},
   "outputs": [
    {
     "data": {
      "text/html": [
       "<style>#sk-container-id-2 {color: black;background-color: white;}#sk-container-id-2 pre{padding: 0;}#sk-container-id-2 div.sk-toggleable {background-color: white;}#sk-container-id-2 label.sk-toggleable__label {cursor: pointer;display: block;width: 100%;margin-bottom: 0;padding: 0.3em;box-sizing: border-box;text-align: center;}#sk-container-id-2 label.sk-toggleable__label-arrow:before {content: \"▸\";float: left;margin-right: 0.25em;color: #696969;}#sk-container-id-2 label.sk-toggleable__label-arrow:hover:before {color: black;}#sk-container-id-2 div.sk-estimator:hover label.sk-toggleable__label-arrow:before {color: black;}#sk-container-id-2 div.sk-toggleable__content {max-height: 0;max-width: 0;overflow: hidden;text-align: left;background-color: #f0f8ff;}#sk-container-id-2 div.sk-toggleable__content pre {margin: 0.2em;color: black;border-radius: 0.25em;background-color: #f0f8ff;}#sk-container-id-2 input.sk-toggleable__control:checked~div.sk-toggleable__content {max-height: 200px;max-width: 100%;overflow: auto;}#sk-container-id-2 input.sk-toggleable__control:checked~label.sk-toggleable__label-arrow:before {content: \"▾\";}#sk-container-id-2 div.sk-estimator input.sk-toggleable__control:checked~label.sk-toggleable__label {background-color: #d4ebff;}#sk-container-id-2 div.sk-label input.sk-toggleable__control:checked~label.sk-toggleable__label {background-color: #d4ebff;}#sk-container-id-2 input.sk-hidden--visually {border: 0;clip: rect(1px 1px 1px 1px);clip: rect(1px, 1px, 1px, 1px);height: 1px;margin: -1px;overflow: hidden;padding: 0;position: absolute;width: 1px;}#sk-container-id-2 div.sk-estimator {font-family: monospace;background-color: #f0f8ff;border: 1px dotted black;border-radius: 0.25em;box-sizing: border-box;margin-bottom: 0.5em;}#sk-container-id-2 div.sk-estimator:hover {background-color: #d4ebff;}#sk-container-id-2 div.sk-parallel-item::after {content: \"\";width: 100%;border-bottom: 1px solid gray;flex-grow: 1;}#sk-container-id-2 div.sk-label:hover label.sk-toggleable__label {background-color: #d4ebff;}#sk-container-id-2 div.sk-serial::before {content: \"\";position: absolute;border-left: 1px solid gray;box-sizing: border-box;top: 0;bottom: 0;left: 50%;z-index: 0;}#sk-container-id-2 div.sk-serial {display: flex;flex-direction: column;align-items: center;background-color: white;padding-right: 0.2em;padding-left: 0.2em;position: relative;}#sk-container-id-2 div.sk-item {position: relative;z-index: 1;}#sk-container-id-2 div.sk-parallel {display: flex;align-items: stretch;justify-content: center;background-color: white;position: relative;}#sk-container-id-2 div.sk-item::before, #sk-container-id-2 div.sk-parallel-item::before {content: \"\";position: absolute;border-left: 1px solid gray;box-sizing: border-box;top: 0;bottom: 0;left: 50%;z-index: -1;}#sk-container-id-2 div.sk-parallel-item {display: flex;flex-direction: column;z-index: 1;position: relative;background-color: white;}#sk-container-id-2 div.sk-parallel-item:first-child::after {align-self: flex-end;width: 50%;}#sk-container-id-2 div.sk-parallel-item:last-child::after {align-self: flex-start;width: 50%;}#sk-container-id-2 div.sk-parallel-item:only-child::after {width: 0;}#sk-container-id-2 div.sk-dashed-wrapped {border: 1px dashed gray;margin: 0 0.4em 0.5em 0.4em;box-sizing: border-box;padding-bottom: 0.4em;background-color: white;}#sk-container-id-2 div.sk-label label {font-family: monospace;font-weight: bold;display: inline-block;line-height: 1.2em;}#sk-container-id-2 div.sk-label-container {text-align: center;}#sk-container-id-2 div.sk-container {/* jupyter's `normalize.less` sets `[hidden] { display: none; }` but bootstrap.min.css set `[hidden] { display: none !important; }` so we also need the `!important` here to be able to override the default hidden behavior on the sphinx rendered scikit-learn.org. See: https://github.com/scikit-learn/scikit-learn/issues/21755 */display: inline-block !important;position: relative;}#sk-container-id-2 div.sk-text-repr-fallback {display: none;}</style><div id=\"sk-container-id-2\" class=\"sk-top-container\"><div class=\"sk-text-repr-fallback\"><pre>Pipeline(steps=[(&#x27;std_scaler&#x27;, StandardScaler()), (&#x27;pca&#x27;, PCA(n_components=3)),\n",
       "                (&#x27;regressor&#x27;, LogisticRegression())])</pre><b>In a Jupyter environment, please rerun this cell to show the HTML representation or trust the notebook. <br />On GitHub, the HTML representation is unable to render, please try loading this page with nbviewer.org.</b></div><div class=\"sk-container\" hidden><div class=\"sk-item sk-dashed-wrapped\"><div class=\"sk-label-container\"><div class=\"sk-label sk-toggleable\"><input class=\"sk-toggleable__control sk-hidden--visually\" id=\"sk-estimator-id-5\" type=\"checkbox\" ><label for=\"sk-estimator-id-5\" class=\"sk-toggleable__label sk-toggleable__label-arrow\">Pipeline</label><div class=\"sk-toggleable__content\"><pre>Pipeline(steps=[(&#x27;std_scaler&#x27;, StandardScaler()), (&#x27;pca&#x27;, PCA(n_components=3)),\n",
       "                (&#x27;regressor&#x27;, LogisticRegression())])</pre></div></div></div><div class=\"sk-serial\"><div class=\"sk-item\"><div class=\"sk-estimator sk-toggleable\"><input class=\"sk-toggleable__control sk-hidden--visually\" id=\"sk-estimator-id-6\" type=\"checkbox\" ><label for=\"sk-estimator-id-6\" class=\"sk-toggleable__label sk-toggleable__label-arrow\">StandardScaler</label><div class=\"sk-toggleable__content\"><pre>StandardScaler()</pre></div></div></div><div class=\"sk-item\"><div class=\"sk-estimator sk-toggleable\"><input class=\"sk-toggleable__control sk-hidden--visually\" id=\"sk-estimator-id-7\" type=\"checkbox\" ><label for=\"sk-estimator-id-7\" class=\"sk-toggleable__label sk-toggleable__label-arrow\">PCA</label><div class=\"sk-toggleable__content\"><pre>PCA(n_components=3)</pre></div></div></div><div class=\"sk-item\"><div class=\"sk-estimator sk-toggleable\"><input class=\"sk-toggleable__control sk-hidden--visually\" id=\"sk-estimator-id-8\" type=\"checkbox\" ><label for=\"sk-estimator-id-8\" class=\"sk-toggleable__label sk-toggleable__label-arrow\">LogisticRegression</label><div class=\"sk-toggleable__content\"><pre>LogisticRegression()</pre></div></div></div></div></div></div></div>"
      ],
      "text/plain": [
       "Pipeline(steps=[('std_scaler', StandardScaler()), ('pca', PCA(n_components=3)),\n",
       "                ('regressor', LogisticRegression())])"
      ]
     },
     "execution_count": 79,
     "metadata": {},
     "output_type": "execute_result"
    }
   ],
   "source": [
    "from sklearn.model_selection import train_test_split\n",
    "\n",
    "X_train, X_test, y_train, y_test = train_test_split(X, y,test_size=0.3) # train the model using the PCA components\n",
    "logistic_regress_model.fit(X_train,y_train)\n",
    "# Score the training and testing model to see how it performs:"
   ]
  },
  {
   "cell_type": "code",
   "execution_count": 91,
   "id": "36f76f3e",
   "metadata": {},
   "outputs": [
    {
     "data": {
      "text/plain": [
       "0.9523809523809523"
      ]
     },
     "execution_count": 91,
     "metadata": {},
     "output_type": "execute_result"
    }
   ],
   "source": [
    "logistic_regress_model.score(X_train,y_train)\n",
    "# accuracy:"
   ]
  },
  {
   "cell_type": "code",
   "execution_count": 92,
   "id": "8b8964a6",
   "metadata": {},
   "outputs": [
    {
     "data": {
      "text/plain": [
       "0.9777777777777777"
      ]
     },
     "execution_count": 92,
     "metadata": {},
     "output_type": "execute_result"
    }
   ],
   "source": [
    "logistic_regress_model.score(X_test,y_test)\n",
    "# accuracy:"
   ]
  },
  {
   "cell_type": "code",
   "execution_count": 94,
   "id": "c84a6370",
   "metadata": {},
   "outputs": [],
   "source": [
    "y_train_predict = logistic_regress_model.predict(X_train)"
   ]
  },
  {
   "cell_type": "code",
   "execution_count": 95,
   "id": "bba63ece",
   "metadata": {},
   "outputs": [],
   "source": [
    "y_test_predict = logistic_regress_model.predict(X_test)"
   ]
  },
  {
   "cell_type": "code",
   "execution_count": 103,
   "id": "a21e007e",
   "metadata": {},
   "outputs": [
    {
     "name": "stdout",
     "output_type": "stream",
     "text": [
      "              precision    recall  f1-score   support\n",
      "\n",
      "           0       1.00      1.00      1.00        38\n",
      "           1       0.94      0.92      0.93        36\n",
      "           2       0.91      0.94      0.92        31\n",
      "\n",
      "    accuracy                           0.95       105\n",
      "   macro avg       0.95      0.95      0.95       105\n",
      "weighted avg       0.95      0.95      0.95       105\n",
      "\n"
     ]
    }
   ],
   "source": [
    "from sklearn.metrics import classification_report\n",
    "\n",
    "print(classification_report(y_train, y_train_predict))"
   ]
  },
  {
   "cell_type": "code",
   "execution_count": 104,
   "id": "fc55bd04",
   "metadata": {},
   "outputs": [
    {
     "name": "stdout",
     "output_type": "stream",
     "text": [
      "              precision    recall  f1-score   support\n",
      "\n",
      "           0       1.00      1.00      1.00        12\n",
      "           1       0.93      1.00      0.97        14\n",
      "           2       1.00      0.95      0.97        19\n",
      "\n",
      "    accuracy                           0.98        45\n",
      "   macro avg       0.98      0.98      0.98        45\n",
      "weighted avg       0.98      0.98      0.98        45\n",
      "\n"
     ]
    }
   ],
   "source": [
    "print(classification_report(y_test, y_test_predict))"
   ]
  },
  {
   "cell_type": "code",
   "execution_count": null,
   "id": "cca9bf41",
   "metadata": {},
   "outputs": [],
   "source": [
    " "
   ]
  },
  {
   "cell_type": "code",
   "execution_count": 105,
   "id": "0a454fa7",
   "metadata": {},
   "outputs": [],
   "source": [
    "# 4. Apply L1 or L2 regulariser on the logistic regression model developed using the same train and \n",
    "# test data used in Q3 and calculate performance of the new model. Compare performance of this \n",
    "# model with the performance reported in Q3. Explain the outcome.\n"
   ]
  },
  {
   "cell_type": "code",
   "execution_count": 144,
   "id": "654101f2",
   "metadata": {},
   "outputs": [
    {
     "name": "stdout",
     "output_type": "stream",
     "text": [
      "0.9619047619047619\n",
      "1.0\n",
      "              precision    recall  f1-score   support\n",
      "\n",
      "           0       1.00      1.00      1.00        38\n",
      "           1       0.97      0.92      0.94        36\n",
      "           2       0.91      0.97      0.94        31\n",
      "\n",
      "    accuracy                           0.96       105\n",
      "   macro avg       0.96      0.96      0.96       105\n",
      "weighted avg       0.96      0.96      0.96       105\n",
      "\n",
      "              precision    recall  f1-score   support\n",
      "\n",
      "           0       1.00      1.00      1.00        12\n",
      "           1       1.00      1.00      1.00        14\n",
      "           2       1.00      1.00      1.00        19\n",
      "\n",
      "    accuracy                           1.00        45\n",
      "   macro avg       1.00      1.00      1.00        45\n",
      "weighted avg       1.00      1.00      1.00        45\n",
      "\n"
     ]
    },
    {
     "name": "stderr",
     "output_type": "stream",
     "text": [
      "C:\\ProgramData\\Anaconda3\\lib\\site-packages\\sklearn\\linear_model\\_sag.py:350: ConvergenceWarning: The max_iter was reached which means the coef_ did not converge\n",
      "  warnings.warn(\n"
     ]
    }
   ],
   "source": [
    "_model = LogisticRegression(penalty='l1', solver ='saga')\n",
    "logistic_regress_model = Pipeline([('std_scaler', _sc),('pca', _pca),('regressor', _model)])\n",
    "logistic_regress_model.fit(X_train,y_train)\n",
    "print(logistic_regress_model.score(X_train,y_train))\n",
    "print(logistic_regress_model.score(X_test,y_test))\n",
    "y_train_predict = logistic_regress_model.predict(X_train)\n",
    "y_test_predict = logistic_regress_model.predict(X_test)\n",
    "print(classification_report(y_train, y_train_predict))\n",
    "print(classification_report(y_test, y_test_predict))"
   ]
  },
  {
   "cell_type": "code",
   "execution_count": 145,
   "id": "30b95470",
   "metadata": {},
   "outputs": [
    {
     "name": "stdout",
     "output_type": "stream",
     "text": [
      "0.9428571428571428\n",
      "0.9111111111111111\n",
      "              precision    recall  f1-score   support\n",
      "\n",
      "           0       1.00      1.00      1.00        38\n",
      "           1       0.94      0.89      0.91        36\n",
      "           2       0.88      0.94      0.91        31\n",
      "\n",
      "    accuracy                           0.94       105\n",
      "   macro avg       0.94      0.94      0.94       105\n",
      "weighted avg       0.94      0.94      0.94       105\n",
      "\n",
      "              precision    recall  f1-score   support\n",
      "\n",
      "           0       1.00      0.92      0.96        12\n",
      "           1       0.86      0.86      0.86        14\n",
      "           2       0.90      0.95      0.92        19\n",
      "\n",
      "    accuracy                           0.91        45\n",
      "   macro avg       0.92      0.91      0.91        45\n",
      "weighted avg       0.91      0.91      0.91        45\n",
      "\n"
     ]
    }
   ],
   "source": [
    "_model = LogisticRegression(penalty='l1', solver ='liblinear')\n",
    "logistic_regress_model = Pipeline([('std_scaler', _sc),('pca', _pca),('regressor', _model)])\n",
    "logistic_regress_model.fit(X_train,y_train)\n",
    "print(logistic_regress_model.score(X_train,y_train))\n",
    "print(logistic_regress_model.score(X_test,y_test))\n",
    "y_train_predict = logistic_regress_model.predict(X_train)\n",
    "y_test_predict = logistic_regress_model.predict(X_test)\n",
    "print(classification_report(y_train, y_train_predict))\n",
    "print(classification_report(y_test, y_test_predict))"
   ]
  },
  {
   "cell_type": "code",
   "execution_count": null,
   "id": "c820df90",
   "metadata": {},
   "outputs": [],
   "source": []
  },
  {
   "cell_type": "code",
   "execution_count": null,
   "id": "ab0edcf6",
   "metadata": {},
   "outputs": [],
   "source": []
  },
  {
   "cell_type": "code",
   "execution_count": null,
   "id": "c8c1f66c",
   "metadata": {},
   "outputs": [],
   "source": [
    "# 5. Load \"digits\" datasets from SKlearn and print the dimension of the dataset. Apply PCA on the \n",
    "# dataset and select first three components. Print the dimension of modified dataset and visualise \n",
    "# the data using appropriate plotting tool/s"
   ]
  },
  {
   "cell_type": "code",
   "execution_count": 463,
   "id": "991d1a92",
   "metadata": {},
   "outputs": [],
   "source": [
    "from sklearn.datasets import load_digits\n",
    "X, y = load_digits(return_X_y=True)"
   ]
  },
  {
   "cell_type": "code",
   "execution_count": 464,
   "id": "78e00e91",
   "metadata": {},
   "outputs": [
    {
     "data": {
      "text/plain": [
       "dict_keys(['data', 'target', 'frame', 'feature_names', 'target_names', 'images', 'DESCR'])"
      ]
     },
     "execution_count": 464,
     "metadata": {},
     "output_type": "execute_result"
    }
   ],
   "source": [
    "load_digits().keys()"
   ]
  },
  {
   "cell_type": "code",
   "execution_count": 465,
   "id": "ec58f68d",
   "metadata": {},
   "outputs": [
    {
     "data": {
      "text/html": [
       "<div>\n",
       "<style scoped>\n",
       "    .dataframe tbody tr th:only-of-type {\n",
       "        vertical-align: middle;\n",
       "    }\n",
       "\n",
       "    .dataframe tbody tr th {\n",
       "        vertical-align: top;\n",
       "    }\n",
       "\n",
       "    .dataframe thead th {\n",
       "        text-align: right;\n",
       "    }\n",
       "</style>\n",
       "<table border=\"1\" class=\"dataframe\">\n",
       "  <thead>\n",
       "    <tr style=\"text-align: right;\">\n",
       "      <th></th>\n",
       "      <th>pixel_0_0</th>\n",
       "      <th>pixel_0_1</th>\n",
       "      <th>pixel_0_2</th>\n",
       "      <th>pixel_0_3</th>\n",
       "      <th>pixel_0_4</th>\n",
       "      <th>pixel_0_5</th>\n",
       "      <th>pixel_0_6</th>\n",
       "      <th>pixel_0_7</th>\n",
       "      <th>pixel_1_0</th>\n",
       "      <th>pixel_1_1</th>\n",
       "      <th>...</th>\n",
       "      <th>pixel_6_6</th>\n",
       "      <th>pixel_6_7</th>\n",
       "      <th>pixel_7_0</th>\n",
       "      <th>pixel_7_1</th>\n",
       "      <th>pixel_7_2</th>\n",
       "      <th>pixel_7_3</th>\n",
       "      <th>pixel_7_4</th>\n",
       "      <th>pixel_7_5</th>\n",
       "      <th>pixel_7_6</th>\n",
       "      <th>pixel_7_7</th>\n",
       "    </tr>\n",
       "  </thead>\n",
       "  <tbody>\n",
       "    <tr>\n",
       "      <th>0</th>\n",
       "      <td>0.0</td>\n",
       "      <td>0.0</td>\n",
       "      <td>5.0</td>\n",
       "      <td>13.0</td>\n",
       "      <td>9.0</td>\n",
       "      <td>1.0</td>\n",
       "      <td>0.0</td>\n",
       "      <td>0.0</td>\n",
       "      <td>0.0</td>\n",
       "      <td>0.0</td>\n",
       "      <td>...</td>\n",
       "      <td>0.0</td>\n",
       "      <td>0.0</td>\n",
       "      <td>0.0</td>\n",
       "      <td>0.0</td>\n",
       "      <td>6.0</td>\n",
       "      <td>13.0</td>\n",
       "      <td>10.0</td>\n",
       "      <td>0.0</td>\n",
       "      <td>0.0</td>\n",
       "      <td>0.0</td>\n",
       "    </tr>\n",
       "    <tr>\n",
       "      <th>1</th>\n",
       "      <td>0.0</td>\n",
       "      <td>0.0</td>\n",
       "      <td>0.0</td>\n",
       "      <td>12.0</td>\n",
       "      <td>13.0</td>\n",
       "      <td>5.0</td>\n",
       "      <td>0.0</td>\n",
       "      <td>0.0</td>\n",
       "      <td>0.0</td>\n",
       "      <td>0.0</td>\n",
       "      <td>...</td>\n",
       "      <td>0.0</td>\n",
       "      <td>0.0</td>\n",
       "      <td>0.0</td>\n",
       "      <td>0.0</td>\n",
       "      <td>0.0</td>\n",
       "      <td>11.0</td>\n",
       "      <td>16.0</td>\n",
       "      <td>10.0</td>\n",
       "      <td>0.0</td>\n",
       "      <td>0.0</td>\n",
       "    </tr>\n",
       "    <tr>\n",
       "      <th>2</th>\n",
       "      <td>0.0</td>\n",
       "      <td>0.0</td>\n",
       "      <td>0.0</td>\n",
       "      <td>4.0</td>\n",
       "      <td>15.0</td>\n",
       "      <td>12.0</td>\n",
       "      <td>0.0</td>\n",
       "      <td>0.0</td>\n",
       "      <td>0.0</td>\n",
       "      <td>0.0</td>\n",
       "      <td>...</td>\n",
       "      <td>5.0</td>\n",
       "      <td>0.0</td>\n",
       "      <td>0.0</td>\n",
       "      <td>0.0</td>\n",
       "      <td>0.0</td>\n",
       "      <td>3.0</td>\n",
       "      <td>11.0</td>\n",
       "      <td>16.0</td>\n",
       "      <td>9.0</td>\n",
       "      <td>0.0</td>\n",
       "    </tr>\n",
       "    <tr>\n",
       "      <th>3</th>\n",
       "      <td>0.0</td>\n",
       "      <td>0.0</td>\n",
       "      <td>7.0</td>\n",
       "      <td>15.0</td>\n",
       "      <td>13.0</td>\n",
       "      <td>1.0</td>\n",
       "      <td>0.0</td>\n",
       "      <td>0.0</td>\n",
       "      <td>0.0</td>\n",
       "      <td>8.0</td>\n",
       "      <td>...</td>\n",
       "      <td>9.0</td>\n",
       "      <td>0.0</td>\n",
       "      <td>0.0</td>\n",
       "      <td>0.0</td>\n",
       "      <td>7.0</td>\n",
       "      <td>13.0</td>\n",
       "      <td>13.0</td>\n",
       "      <td>9.0</td>\n",
       "      <td>0.0</td>\n",
       "      <td>0.0</td>\n",
       "    </tr>\n",
       "    <tr>\n",
       "      <th>4</th>\n",
       "      <td>0.0</td>\n",
       "      <td>0.0</td>\n",
       "      <td>0.0</td>\n",
       "      <td>1.0</td>\n",
       "      <td>11.0</td>\n",
       "      <td>0.0</td>\n",
       "      <td>0.0</td>\n",
       "      <td>0.0</td>\n",
       "      <td>0.0</td>\n",
       "      <td>0.0</td>\n",
       "      <td>...</td>\n",
       "      <td>0.0</td>\n",
       "      <td>0.0</td>\n",
       "      <td>0.0</td>\n",
       "      <td>0.0</td>\n",
       "      <td>0.0</td>\n",
       "      <td>2.0</td>\n",
       "      <td>16.0</td>\n",
       "      <td>4.0</td>\n",
       "      <td>0.0</td>\n",
       "      <td>0.0</td>\n",
       "    </tr>\n",
       "    <tr>\n",
       "      <th>...</th>\n",
       "      <td>...</td>\n",
       "      <td>...</td>\n",
       "      <td>...</td>\n",
       "      <td>...</td>\n",
       "      <td>...</td>\n",
       "      <td>...</td>\n",
       "      <td>...</td>\n",
       "      <td>...</td>\n",
       "      <td>...</td>\n",
       "      <td>...</td>\n",
       "      <td>...</td>\n",
       "      <td>...</td>\n",
       "      <td>...</td>\n",
       "      <td>...</td>\n",
       "      <td>...</td>\n",
       "      <td>...</td>\n",
       "      <td>...</td>\n",
       "      <td>...</td>\n",
       "      <td>...</td>\n",
       "      <td>...</td>\n",
       "      <td>...</td>\n",
       "    </tr>\n",
       "    <tr>\n",
       "      <th>1792</th>\n",
       "      <td>0.0</td>\n",
       "      <td>0.0</td>\n",
       "      <td>4.0</td>\n",
       "      <td>10.0</td>\n",
       "      <td>13.0</td>\n",
       "      <td>6.0</td>\n",
       "      <td>0.0</td>\n",
       "      <td>0.0</td>\n",
       "      <td>0.0</td>\n",
       "      <td>1.0</td>\n",
       "      <td>...</td>\n",
       "      <td>4.0</td>\n",
       "      <td>0.0</td>\n",
       "      <td>0.0</td>\n",
       "      <td>0.0</td>\n",
       "      <td>2.0</td>\n",
       "      <td>14.0</td>\n",
       "      <td>15.0</td>\n",
       "      <td>9.0</td>\n",
       "      <td>0.0</td>\n",
       "      <td>0.0</td>\n",
       "    </tr>\n",
       "    <tr>\n",
       "      <th>1793</th>\n",
       "      <td>0.0</td>\n",
       "      <td>0.0</td>\n",
       "      <td>6.0</td>\n",
       "      <td>16.0</td>\n",
       "      <td>13.0</td>\n",
       "      <td>11.0</td>\n",
       "      <td>1.0</td>\n",
       "      <td>0.0</td>\n",
       "      <td>0.0</td>\n",
       "      <td>0.0</td>\n",
       "      <td>...</td>\n",
       "      <td>1.0</td>\n",
       "      <td>0.0</td>\n",
       "      <td>0.0</td>\n",
       "      <td>0.0</td>\n",
       "      <td>6.0</td>\n",
       "      <td>16.0</td>\n",
       "      <td>14.0</td>\n",
       "      <td>6.0</td>\n",
       "      <td>0.0</td>\n",
       "      <td>0.0</td>\n",
       "    </tr>\n",
       "    <tr>\n",
       "      <th>1794</th>\n",
       "      <td>0.0</td>\n",
       "      <td>0.0</td>\n",
       "      <td>1.0</td>\n",
       "      <td>11.0</td>\n",
       "      <td>15.0</td>\n",
       "      <td>1.0</td>\n",
       "      <td>0.0</td>\n",
       "      <td>0.0</td>\n",
       "      <td>0.0</td>\n",
       "      <td>0.0</td>\n",
       "      <td>...</td>\n",
       "      <td>0.0</td>\n",
       "      <td>0.0</td>\n",
       "      <td>0.0</td>\n",
       "      <td>0.0</td>\n",
       "      <td>2.0</td>\n",
       "      <td>9.0</td>\n",
       "      <td>13.0</td>\n",
       "      <td>6.0</td>\n",
       "      <td>0.0</td>\n",
       "      <td>0.0</td>\n",
       "    </tr>\n",
       "    <tr>\n",
       "      <th>1795</th>\n",
       "      <td>0.0</td>\n",
       "      <td>0.0</td>\n",
       "      <td>2.0</td>\n",
       "      <td>10.0</td>\n",
       "      <td>7.0</td>\n",
       "      <td>0.0</td>\n",
       "      <td>0.0</td>\n",
       "      <td>0.0</td>\n",
       "      <td>0.0</td>\n",
       "      <td>0.0</td>\n",
       "      <td>...</td>\n",
       "      <td>2.0</td>\n",
       "      <td>0.0</td>\n",
       "      <td>0.0</td>\n",
       "      <td>0.0</td>\n",
       "      <td>5.0</td>\n",
       "      <td>12.0</td>\n",
       "      <td>16.0</td>\n",
       "      <td>12.0</td>\n",
       "      <td>0.0</td>\n",
       "      <td>0.0</td>\n",
       "    </tr>\n",
       "    <tr>\n",
       "      <th>1796</th>\n",
       "      <td>0.0</td>\n",
       "      <td>0.0</td>\n",
       "      <td>10.0</td>\n",
       "      <td>14.0</td>\n",
       "      <td>8.0</td>\n",
       "      <td>1.0</td>\n",
       "      <td>0.0</td>\n",
       "      <td>0.0</td>\n",
       "      <td>0.0</td>\n",
       "      <td>2.0</td>\n",
       "      <td>...</td>\n",
       "      <td>8.0</td>\n",
       "      <td>0.0</td>\n",
       "      <td>0.0</td>\n",
       "      <td>1.0</td>\n",
       "      <td>8.0</td>\n",
       "      <td>12.0</td>\n",
       "      <td>14.0</td>\n",
       "      <td>12.0</td>\n",
       "      <td>1.0</td>\n",
       "      <td>0.0</td>\n",
       "    </tr>\n",
       "  </tbody>\n",
       "</table>\n",
       "<p>1797 rows × 64 columns</p>\n",
       "</div>"
      ],
      "text/plain": [
       "      pixel_0_0  pixel_0_1  pixel_0_2  pixel_0_3  pixel_0_4  pixel_0_5  \\\n",
       "0           0.0        0.0        5.0       13.0        9.0        1.0   \n",
       "1           0.0        0.0        0.0       12.0       13.0        5.0   \n",
       "2           0.0        0.0        0.0        4.0       15.0       12.0   \n",
       "3           0.0        0.0        7.0       15.0       13.0        1.0   \n",
       "4           0.0        0.0        0.0        1.0       11.0        0.0   \n",
       "...         ...        ...        ...        ...        ...        ...   \n",
       "1792        0.0        0.0        4.0       10.0       13.0        6.0   \n",
       "1793        0.0        0.0        6.0       16.0       13.0       11.0   \n",
       "1794        0.0        0.0        1.0       11.0       15.0        1.0   \n",
       "1795        0.0        0.0        2.0       10.0        7.0        0.0   \n",
       "1796        0.0        0.0       10.0       14.0        8.0        1.0   \n",
       "\n",
       "      pixel_0_6  pixel_0_7  pixel_1_0  pixel_1_1  ...  pixel_6_6  pixel_6_7  \\\n",
       "0           0.0        0.0        0.0        0.0  ...        0.0        0.0   \n",
       "1           0.0        0.0        0.0        0.0  ...        0.0        0.0   \n",
       "2           0.0        0.0        0.0        0.0  ...        5.0        0.0   \n",
       "3           0.0        0.0        0.0        8.0  ...        9.0        0.0   \n",
       "4           0.0        0.0        0.0        0.0  ...        0.0        0.0   \n",
       "...         ...        ...        ...        ...  ...        ...        ...   \n",
       "1792        0.0        0.0        0.0        1.0  ...        4.0        0.0   \n",
       "1793        1.0        0.0        0.0        0.0  ...        1.0        0.0   \n",
       "1794        0.0        0.0        0.0        0.0  ...        0.0        0.0   \n",
       "1795        0.0        0.0        0.0        0.0  ...        2.0        0.0   \n",
       "1796        0.0        0.0        0.0        2.0  ...        8.0        0.0   \n",
       "\n",
       "      pixel_7_0  pixel_7_1  pixel_7_2  pixel_7_3  pixel_7_4  pixel_7_5  \\\n",
       "0           0.0        0.0        6.0       13.0       10.0        0.0   \n",
       "1           0.0        0.0        0.0       11.0       16.0       10.0   \n",
       "2           0.0        0.0        0.0        3.0       11.0       16.0   \n",
       "3           0.0        0.0        7.0       13.0       13.0        9.0   \n",
       "4           0.0        0.0        0.0        2.0       16.0        4.0   \n",
       "...         ...        ...        ...        ...        ...        ...   \n",
       "1792        0.0        0.0        2.0       14.0       15.0        9.0   \n",
       "1793        0.0        0.0        6.0       16.0       14.0        6.0   \n",
       "1794        0.0        0.0        2.0        9.0       13.0        6.0   \n",
       "1795        0.0        0.0        5.0       12.0       16.0       12.0   \n",
       "1796        0.0        1.0        8.0       12.0       14.0       12.0   \n",
       "\n",
       "      pixel_7_6  pixel_7_7  \n",
       "0           0.0        0.0  \n",
       "1           0.0        0.0  \n",
       "2           9.0        0.0  \n",
       "3           0.0        0.0  \n",
       "4           0.0        0.0  \n",
       "...         ...        ...  \n",
       "1792        0.0        0.0  \n",
       "1793        0.0        0.0  \n",
       "1794        0.0        0.0  \n",
       "1795        0.0        0.0  \n",
       "1796        1.0        0.0  \n",
       "\n",
       "[1797 rows x 64 columns]"
      ]
     },
     "execution_count": 465,
     "metadata": {},
     "output_type": "execute_result"
    }
   ],
   "source": [
    "df = pd.DataFrame(load_digits().data,columns=load_digits().feature_names)\n",
    "df"
   ]
  },
  {
   "cell_type": "code",
   "execution_count": 466,
   "id": "f202497d",
   "metadata": {},
   "outputs": [
    {
     "data": {
      "text/plain": [
       "(1797, 64)"
      ]
     },
     "execution_count": 466,
     "metadata": {},
     "output_type": "execute_result"
    }
   ],
   "source": [
    "df.shape"
   ]
  },
  {
   "cell_type": "code",
   "execution_count": 467,
   "id": "ac8580a4",
   "metadata": {},
   "outputs": [],
   "source": [
    "from sklearn.preprocessing import StandardScaler# get the features and label from the original dataframe\n",
    "sc = StandardScaler()\n",
    "X_scaled = sc.fit_transform(X)"
   ]
  },
  {
   "cell_type": "code",
   "execution_count": 468,
   "id": "ceb1f9ab",
   "metadata": {},
   "outputs": [
    {
     "data": {
      "text/plain": [
       "array([[ 1.91421482,  0.588987  ,  1.30203576, ...,  1.02259814,\n",
       "         1.07605728, -1.25770445],\n",
       "       [-0.95450135,  0.92465086, -0.31719593, ..., -0.14791302,\n",
       "        -0.38089721, -2.22758821],\n",
       "       [-3.9460253 ,  3.92475589,  3.02332369, ...,  2.469953  ,\n",
       "        -2.45547554,  0.2836259 ],\n",
       "       ...,\n",
       "       [ 0.42466637, -0.11375495, -1.09899118, ...,  0.18756133,\n",
       "         0.75811784, -1.11842908],\n",
       "       [ 0.44072498,  0.90434966, -0.50726239, ...,  0.15629862,\n",
       "        -0.12502588, -1.08813473],\n",
       "       [ 0.57862552, -0.25008524,  0.03600373, ..., -0.26046127,\n",
       "        -0.43371529, -0.29978183]])"
      ]
     },
     "execution_count": 468,
     "metadata": {},
     "output_type": "execute_result"
    }
   ],
   "source": [
    "from sklearn.decomposition import PCA \n",
    "\n",
    "pca = PCA(n_components = 22)# perform PCA on the scaled data\n",
    "df_pca = pca.fit_transform(X_scaled)\n",
    "df_pca.transpose() # Component output\n"
   ]
  },
  {
   "cell_type": "code",
   "execution_count": 469,
   "id": "09f75a36",
   "metadata": {},
   "outputs": [
    {
     "data": {
      "text/plain": [
       "array([[-1.11022302e-16, -1.82233904e-01, -2.85868013e-01, ...,\n",
       "        -1.03197976e-01, -1.19810637e-01, -7.14936028e-02],\n",
       "       [ 5.55111512e-17,  4.70270407e-02,  5.95647187e-02, ...,\n",
       "        -2.42617650e-01, -1.65089419e-01, -7.13291700e-02],\n",
       "       [ 5.55111512e-17,  2.35882243e-02, -5.67986700e-02, ...,\n",
       "        -2.22795682e-02,  1.00365777e-01,  9.24456344e-02],\n",
       "       ...,\n",
       "       [ 2.62508216e-17,  9.75730515e-02, -2.46819289e-02, ...,\n",
       "        -2.22697162e-02, -6.51307127e-02, -4.46976786e-02],\n",
       "       [-1.26309553e-16,  6.07012067e-03, -1.16839741e-01, ...,\n",
       "        -5.53153682e-02, -1.98208248e-01, -3.49693753e-01],\n",
       "       [ 1.05900294e-16,  3.17224318e-02, -6.42173985e-03, ...,\n",
       "        -1.14947624e-01, -1.27868219e-01, -1.38439123e-01]])"
      ]
     },
     "execution_count": 469,
     "metadata": {},
     "output_type": "execute_result"
    }
   ],
   "source": [
    "# Loading of each feature on the components\n",
    "pca.components_"
   ]
  },
  {
   "cell_type": "code",
   "execution_count": 470,
   "id": "bed4650c",
   "metadata": {
    "ExecuteTime": {
     "end_time": "2020-04-09T06:29:44.610110Z",
     "start_time": "2020-04-09T06:29:44.525338Z"
    }
   },
   "outputs": [],
   "source": [
    "var_exp = pca.explained_variance_ratio_"
   ]
  },
  {
   "cell_type": "code",
   "execution_count": 471,
   "id": "b02115f0",
   "metadata": {},
   "outputs": [
    {
     "data": {
      "text/plain": [
       "array([0.12033916, 0.09561054, 0.08444415, 0.06498408, 0.04860155,\n",
       "       0.0421412 , 0.03942083, 0.0338938 , 0.02998219, 0.02932002,\n",
       "       0.02781804, 0.02577052, 0.02275297, 0.02227142, 0.02165198,\n",
       "       0.0191414 , 0.01775316, 0.01637938, 0.01596373, 0.01488914,\n",
       "       0.01347672, 0.012711  ])"
      ]
     },
     "execution_count": 471,
     "metadata": {},
     "output_type": "execute_result"
    }
   ],
   "source": [
    "#Check the explained variance for each PC\n",
    "#Note: Explained variance = (eigen value of each PC)/(sum of eigen values of all PCs)\n",
    "pca.explained_variance_ratio_"
   ]
  },
  {
   "cell_type": "markdown",
   "id": "e0afe1b9",
   "metadata": {},
   "source": [
    "Let's create a dataframe of component loading against each field and identify the pattern"
   ]
  },
  {
   "cell_type": "code",
   "execution_count": 472,
   "id": "a1ea1315",
   "metadata": {
    "ExecuteTime": {
     "end_time": "2020-04-09T06:29:42.046671Z",
     "start_time": "2020-04-09T06:29:41.780839Z"
    }
   },
   "outputs": [
    {
     "data": {
      "image/png": "[encoded data removed]",
      "text/plain": [
       "<Figure size 1200x700 with 1 Axes>"
      ]
     },
     "metadata": {},
     "output_type": "display_data"
    }
   ],
   "source": [
    "# Step 3 View Scree Plot to identify the number of components to be built\n",
    "import matplotlib.pyplot as plt\n",
    "import seaborn as sns\n",
    "plt.figure(figsize=(12,7))\n",
    "sns.lineplot(y=var_exp,x=range(1,len(var_exp)+1),marker='o')\n",
    "plt.xlabel('Number of Components',fontsize=15)\n",
    "plt.ylabel('Variance Explained',fontsize=15)\n",
    "plt.title('Scree Plot',fontsize=15)\n",
    "plt.grid()\n",
    "plt.show()"
   ]
  },
  {
   "cell_type": "code",
   "execution_count": 473,
   "id": "f5ba3cf5",
   "metadata": {
    "ExecuteTime": {
     "end_time": "2020-04-09T07:54:06.847723Z",
     "start_time": "2020-04-09T07:54:06.824755Z"
    }
   },
   "outputs": [
    {
     "data": {
      "text/html": [
       "<div>\n",
       "<style scoped>\n",
       "    .dataframe tbody tr th:only-of-type {\n",
       "        vertical-align: middle;\n",
       "    }\n",
       "\n",
       "    .dataframe tbody tr th {\n",
       "        vertical-align: top;\n",
       "    }\n",
       "\n",
       "    .dataframe thead th {\n",
       "        text-align: right;\n",
       "    }\n",
       "</style>\n",
       "<table border=\"1\" class=\"dataframe\">\n",
       "  <thead>\n",
       "    <tr style=\"text-align: right;\">\n",
       "      <th></th>\n",
       "      <th>pixel_0_0</th>\n",
       "      <th>pixel_0_1</th>\n",
       "      <th>pixel_0_2</th>\n",
       "      <th>pixel_0_3</th>\n",
       "      <th>pixel_0_4</th>\n",
       "      <th>pixel_0_5</th>\n",
       "      <th>pixel_0_6</th>\n",
       "      <th>pixel_0_7</th>\n",
       "      <th>pixel_1_0</th>\n",
       "      <th>pixel_1_1</th>\n",
       "      <th>...</th>\n",
       "      <th>pixel_6_6</th>\n",
       "      <th>pixel_6_7</th>\n",
       "      <th>pixel_7_0</th>\n",
       "      <th>pixel_7_1</th>\n",
       "      <th>pixel_7_2</th>\n",
       "      <th>pixel_7_3</th>\n",
       "      <th>pixel_7_4</th>\n",
       "      <th>pixel_7_5</th>\n",
       "      <th>pixel_7_6</th>\n",
       "      <th>pixel_7_7</th>\n",
       "    </tr>\n",
       "  </thead>\n",
       "  <tbody>\n",
       "    <tr>\n",
       "      <th>0</th>\n",
       "      <td>-1.110223e-16</td>\n",
       "      <td>-0.182234</td>\n",
       "      <td>-0.285868</td>\n",
       "      <td>-0.220370</td>\n",
       "      <td>0.025170</td>\n",
       "      <td>0.009497</td>\n",
       "      <td>0.052476</td>\n",
       "      <td>0.062695</td>\n",
       "      <td>-0.034707</td>\n",
       "      <td>-0.245534</td>\n",
       "      <td>...</td>\n",
       "      <td>-0.121247</td>\n",
       "      <td>-0.048771</td>\n",
       "      <td>0.001836</td>\n",
       "      <td>-0.160396</td>\n",
       "      <td>-0.279853</td>\n",
       "      <td>-0.194449</td>\n",
       "      <td>-0.017774</td>\n",
       "      <td>-0.103198</td>\n",
       "      <td>-0.119811</td>\n",
       "      <td>-0.071494</td>\n",
       "    </tr>\n",
       "    <tr>\n",
       "      <th>1</th>\n",
       "      <td>5.551115e-17</td>\n",
       "      <td>0.047027</td>\n",
       "      <td>0.059565</td>\n",
       "      <td>-0.020804</td>\n",
       "      <td>0.155903</td>\n",
       "      <td>0.274133</td>\n",
       "      <td>0.249733</td>\n",
       "      <td>0.145832</td>\n",
       "      <td>-0.001027</td>\n",
       "      <td>0.027619</td>\n",
       "      <td>...</td>\n",
       "      <td>-0.257752</td>\n",
       "      <td>-0.115002</td>\n",
       "      <td>0.004883</td>\n",
       "      <td>0.044498</td>\n",
       "      <td>0.081400</td>\n",
       "      <td>-0.009905</td>\n",
       "      <td>-0.251934</td>\n",
       "      <td>-0.242618</td>\n",
       "      <td>-0.165089</td>\n",
       "      <td>-0.071329</td>\n",
       "    </tr>\n",
       "    <tr>\n",
       "      <th>2</th>\n",
       "      <td>5.551115e-17</td>\n",
       "      <td>0.023588</td>\n",
       "      <td>-0.056799</td>\n",
       "      <td>-0.040464</td>\n",
       "      <td>-0.067065</td>\n",
       "      <td>-0.091090</td>\n",
       "      <td>-0.037579</td>\n",
       "      <td>-0.022546</td>\n",
       "      <td>0.002812</td>\n",
       "      <td>-0.050642</td>\n",
       "      <td>...</td>\n",
       "      <td>-0.023179</td>\n",
       "      <td>0.102993</td>\n",
       "      <td>0.011547</td>\n",
       "      <td>0.033895</td>\n",
       "      <td>-0.051273</td>\n",
       "      <td>-0.083464</td>\n",
       "      <td>-0.062455</td>\n",
       "      <td>-0.022280</td>\n",
       "      <td>0.100366</td>\n",
       "      <td>0.092446</td>\n",
       "    </tr>\n",
       "    <tr>\n",
       "      <th>3</th>\n",
       "      <td>3.816392e-17</td>\n",
       "      <td>0.178153</td>\n",
       "      <td>0.156128</td>\n",
       "      <td>0.167800</td>\n",
       "      <td>-0.000010</td>\n",
       "      <td>-0.000518</td>\n",
       "      <td>0.043700</td>\n",
       "      <td>0.008748</td>\n",
       "      <td>0.014403</td>\n",
       "      <td>0.124041</td>\n",
       "      <td>...</td>\n",
       "      <td>-0.157441</td>\n",
       "      <td>-0.130347</td>\n",
       "      <td>0.007788</td>\n",
       "      <td>0.186418</td>\n",
       "      <td>0.165487</td>\n",
       "      <td>0.171489</td>\n",
       "      <td>-0.154438</td>\n",
       "      <td>-0.252432</td>\n",
       "      <td>-0.160720</td>\n",
       "      <td>-0.118181</td>\n",
       "    </tr>\n",
       "    <tr>\n",
       "      <th>4</th>\n",
       "      <td>-5.551115e-17</td>\n",
       "      <td>-0.029976</td>\n",
       "      <td>-0.014669</td>\n",
       "      <td>0.043718</td>\n",
       "      <td>-0.139992</td>\n",
       "      <td>0.007995</td>\n",
       "      <td>0.211221</td>\n",
       "      <td>0.281815</td>\n",
       "      <td>-0.000630</td>\n",
       "      <td>0.006773</td>\n",
       "      <td>...</td>\n",
       "      <td>0.192442</td>\n",
       "      <td>0.248976</td>\n",
       "      <td>-0.051242</td>\n",
       "      <td>-0.039173</td>\n",
       "      <td>-0.033458</td>\n",
       "      <td>0.100367</td>\n",
       "      <td>-0.003774</td>\n",
       "      <td>0.094738</td>\n",
       "      <td>0.244012</td>\n",
       "      <td>0.231709</td>\n",
       "    </tr>\n",
       "    <tr>\n",
       "      <th>5</th>\n",
       "      <td>-8.673617e-17</td>\n",
       "      <td>0.231723</td>\n",
       "      <td>0.119873</td>\n",
       "      <td>-0.100389</td>\n",
       "      <td>-0.093478</td>\n",
       "      <td>-0.082193</td>\n",
       "      <td>0.030191</td>\n",
       "      <td>0.157871</td>\n",
       "      <td>-0.023332</td>\n",
       "      <td>0.064997</td>\n",
       "      <td>...</td>\n",
       "      <td>-0.000429</td>\n",
       "      <td>0.004020</td>\n",
       "      <td>0.126621</td>\n",
       "      <td>0.260507</td>\n",
       "      <td>0.109750</td>\n",
       "      <td>-0.086507</td>\n",
       "      <td>0.111833</td>\n",
       "      <td>0.057762</td>\n",
       "      <td>0.028940</td>\n",
       "      <td>0.016330</td>\n",
       "    </tr>\n",
       "    <tr>\n",
       "      <th>6</th>\n",
       "      <td>-1.561251e-17</td>\n",
       "      <td>0.108314</td>\n",
       "      <td>0.004745</td>\n",
       "      <td>-0.233707</td>\n",
       "      <td>0.039528</td>\n",
       "      <td>0.145985</td>\n",
       "      <td>0.036360</td>\n",
       "      <td>-0.098106</td>\n",
       "      <td>0.078251</td>\n",
       "      <td>0.124256</td>\n",
       "      <td>...</td>\n",
       "      <td>-0.081070</td>\n",
       "      <td>-0.083123</td>\n",
       "      <td>-0.016203</td>\n",
       "      <td>0.091575</td>\n",
       "      <td>-0.014849</td>\n",
       "      <td>-0.135309</td>\n",
       "      <td>0.172849</td>\n",
       "      <td>0.032169</td>\n",
       "      <td>-0.077622</td>\n",
       "      <td>-0.026414</td>\n",
       "    </tr>\n",
       "    <tr>\n",
       "      <th>7</th>\n",
       "      <td>-2.247009e-17</td>\n",
       "      <td>-0.125511</td>\n",
       "      <td>-0.006180</td>\n",
       "      <td>0.033389</td>\n",
       "      <td>-0.046141</td>\n",
       "      <td>-0.080359</td>\n",
       "      <td>-0.106775</td>\n",
       "      <td>-0.080034</td>\n",
       "      <td>0.021862</td>\n",
       "      <td>-0.024124</td>\n",
       "      <td>...</td>\n",
       "      <td>-0.130855</td>\n",
       "      <td>0.178411</td>\n",
       "      <td>0.057191</td>\n",
       "      <td>-0.110157</td>\n",
       "      <td>-0.040826</td>\n",
       "      <td>0.098843</td>\n",
       "      <td>0.055052</td>\n",
       "      <td>-0.034289</td>\n",
       "      <td>0.164535</td>\n",
       "      <td>0.350941</td>\n",
       "    </tr>\n",
       "    <tr>\n",
       "      <th>8</th>\n",
       "      <td>9.161508e-18</td>\n",
       "      <td>-0.213812</td>\n",
       "      <td>-0.120175</td>\n",
       "      <td>0.101879</td>\n",
       "      <td>0.093107</td>\n",
       "      <td>-0.063949</td>\n",
       "      <td>-0.037944</td>\n",
       "      <td>0.158183</td>\n",
       "      <td>0.150758</td>\n",
       "      <td>-0.017358</td>\n",
       "      <td>...</td>\n",
       "      <td>-0.026630</td>\n",
       "      <td>-0.188073</td>\n",
       "      <td>0.034139</td>\n",
       "      <td>-0.214507</td>\n",
       "      <td>-0.115401</td>\n",
       "      <td>0.115922</td>\n",
       "      <td>0.154258</td>\n",
       "      <td>0.027114</td>\n",
       "      <td>-0.144329</td>\n",
       "      <td>-0.219652</td>\n",
       "    </tr>\n",
       "    <tr>\n",
       "      <th>9</th>\n",
       "      <td>-3.122502e-17</td>\n",
       "      <td>0.059850</td>\n",
       "      <td>0.007662</td>\n",
       "      <td>-0.021588</td>\n",
       "      <td>0.005043</td>\n",
       "      <td>-0.164145</td>\n",
       "      <td>-0.187896</td>\n",
       "      <td>-0.065314</td>\n",
       "      <td>0.204846</td>\n",
       "      <td>0.208702</td>\n",
       "      <td>...</td>\n",
       "      <td>0.039406</td>\n",
       "      <td>0.026772</td>\n",
       "      <td>-0.023707</td>\n",
       "      <td>0.009654</td>\n",
       "      <td>0.013349</td>\n",
       "      <td>-0.105759</td>\n",
       "      <td>-0.100355</td>\n",
       "      <td>-0.036636</td>\n",
       "      <td>0.057166</td>\n",
       "      <td>0.029210</td>\n",
       "    </tr>\n",
       "    <tr>\n",
       "      <th>10</th>\n",
       "      <td>1.012645e-16</td>\n",
       "      <td>-0.049971</td>\n",
       "      <td>-0.147518</td>\n",
       "      <td>-0.155545</td>\n",
       "      <td>0.163468</td>\n",
       "      <td>0.277143</td>\n",
       "      <td>0.151619</td>\n",
       "      <td>-0.043589</td>\n",
       "      <td>0.095253</td>\n",
       "      <td>0.004713</td>\n",
       "      <td>...</td>\n",
       "      <td>0.095532</td>\n",
       "      <td>0.030172</td>\n",
       "      <td>0.295480</td>\n",
       "      <td>-0.002004</td>\n",
       "      <td>-0.123534</td>\n",
       "      <td>-0.121187</td>\n",
       "      <td>-0.025144</td>\n",
       "      <td>0.162865</td>\n",
       "      <td>0.150167</td>\n",
       "      <td>0.014656</td>\n",
       "    </tr>\n",
       "    <tr>\n",
       "      <th>11</th>\n",
       "      <td>-6.586528e-17</td>\n",
       "      <td>-0.204260</td>\n",
       "      <td>0.044574</td>\n",
       "      <td>0.188531</td>\n",
       "      <td>0.059249</td>\n",
       "      <td>-0.025481</td>\n",
       "      <td>-0.108893</td>\n",
       "      <td>-0.122076</td>\n",
       "      <td>-0.157136</td>\n",
       "      <td>-0.094562</td>\n",
       "      <td>...</td>\n",
       "      <td>-0.041770</td>\n",
       "      <td>0.043171</td>\n",
       "      <td>0.126093</td>\n",
       "      <td>-0.190749</td>\n",
       "      <td>0.042792</td>\n",
       "      <td>0.236575</td>\n",
       "      <td>-0.016692</td>\n",
       "      <td>-0.134177</td>\n",
       "      <td>-0.110419</td>\n",
       "      <td>0.029917</td>\n",
       "    </tr>\n",
       "    <tr>\n",
       "      <th>12</th>\n",
       "      <td>-8.746801e-17</td>\n",
       "      <td>0.133771</td>\n",
       "      <td>0.031535</td>\n",
       "      <td>0.064196</td>\n",
       "      <td>0.073327</td>\n",
       "      <td>0.118655</td>\n",
       "      <td>0.180531</td>\n",
       "      <td>0.008731</td>\n",
       "      <td>-0.049968</td>\n",
       "      <td>-0.047324</td>\n",
       "      <td>...</td>\n",
       "      <td>0.036403</td>\n",
       "      <td>0.251114</td>\n",
       "      <td>0.144058</td>\n",
       "      <td>0.162185</td>\n",
       "      <td>0.037901</td>\n",
       "      <td>0.042543</td>\n",
       "      <td>-0.102453</td>\n",
       "      <td>-0.114927</td>\n",
       "      <td>-0.066539</td>\n",
       "      <td>-0.019883</td>\n",
       "    </tr>\n",
       "    <tr>\n",
       "      <th>13</th>\n",
       "      <td>-1.250898e-16</td>\n",
       "      <td>-0.041716</td>\n",
       "      <td>0.038867</td>\n",
       "      <td>0.183215</td>\n",
       "      <td>0.158681</td>\n",
       "      <td>0.033758</td>\n",
       "      <td>0.049782</td>\n",
       "      <td>0.085247</td>\n",
       "      <td>0.141580</td>\n",
       "      <td>-0.016935</td>\n",
       "      <td>...</td>\n",
       "      <td>0.006682</td>\n",
       "      <td>-0.023311</td>\n",
       "      <td>-0.105369</td>\n",
       "      <td>-0.054872</td>\n",
       "      <td>0.045848</td>\n",
       "      <td>0.262186</td>\n",
       "      <td>0.115909</td>\n",
       "      <td>-0.081513</td>\n",
       "      <td>-0.103158</td>\n",
       "      <td>0.017089</td>\n",
       "    </tr>\n",
       "    <tr>\n",
       "      <th>14</th>\n",
       "      <td>-7.892992e-17</td>\n",
       "      <td>-0.130617</td>\n",
       "      <td>0.100060</td>\n",
       "      <td>0.044965</td>\n",
       "      <td>-0.300071</td>\n",
       "      <td>-0.093185</td>\n",
       "      <td>-0.002841</td>\n",
       "      <td>-0.079841</td>\n",
       "      <td>-0.056181</td>\n",
       "      <td>-0.239773</td>\n",
       "      <td>...</td>\n",
       "      <td>-0.156110</td>\n",
       "      <td>0.082306</td>\n",
       "      <td>-0.033996</td>\n",
       "      <td>-0.083303</td>\n",
       "      <td>0.077349</td>\n",
       "      <td>0.081349</td>\n",
       "      <td>-0.047799</td>\n",
       "      <td>-0.086755</td>\n",
       "      <td>-0.035285</td>\n",
       "      <td>0.140934</td>\n",
       "    </tr>\n",
       "    <tr>\n",
       "      <th>15</th>\n",
       "      <td>-2.547875e-18</td>\n",
       "      <td>0.082292</td>\n",
       "      <td>0.022125</td>\n",
       "      <td>0.074213</td>\n",
       "      <td>0.291575</td>\n",
       "      <td>0.100640</td>\n",
       "      <td>-0.129172</td>\n",
       "      <td>-0.222525</td>\n",
       "      <td>0.366169</td>\n",
       "      <td>0.101376</td>\n",
       "      <td>...</td>\n",
       "      <td>-0.032630</td>\n",
       "      <td>0.256871</td>\n",
       "      <td>-0.188832</td>\n",
       "      <td>0.031217</td>\n",
       "      <td>0.019313</td>\n",
       "      <td>0.073979</td>\n",
       "      <td>0.151792</td>\n",
       "      <td>0.040419</td>\n",
       "      <td>0.048675</td>\n",
       "      <td>0.070061</td>\n",
       "    </tr>\n",
       "    <tr>\n",
       "      <th>16</th>\n",
       "      <td>-1.479936e-16</td>\n",
       "      <td>0.171402</td>\n",
       "      <td>-0.017736</td>\n",
       "      <td>0.023831</td>\n",
       "      <td>-0.044030</td>\n",
       "      <td>-0.097991</td>\n",
       "      <td>-0.187939</td>\n",
       "      <td>-0.223714</td>\n",
       "      <td>-0.180707</td>\n",
       "      <td>-0.074323</td>\n",
       "      <td>...</td>\n",
       "      <td>0.037344</td>\n",
       "      <td>-0.086700</td>\n",
       "      <td>0.456722</td>\n",
       "      <td>0.248752</td>\n",
       "      <td>-0.024789</td>\n",
       "      <td>0.011585</td>\n",
       "      <td>0.067676</td>\n",
       "      <td>0.033594</td>\n",
       "      <td>-0.028946</td>\n",
       "      <td>-0.054456</td>\n",
       "    </tr>\n",
       "    <tr>\n",
       "      <th>17</th>\n",
       "      <td>7.638204e-17</td>\n",
       "      <td>-0.065252</td>\n",
       "      <td>0.016551</td>\n",
       "      <td>0.010445</td>\n",
       "      <td>-0.328954</td>\n",
       "      <td>-0.149437</td>\n",
       "      <td>0.064668</td>\n",
       "      <td>0.146585</td>\n",
       "      <td>0.545774</td>\n",
       "      <td>0.112059</td>\n",
       "      <td>...</td>\n",
       "      <td>0.013238</td>\n",
       "      <td>-0.001535</td>\n",
       "      <td>0.365171</td>\n",
       "      <td>-0.018967</td>\n",
       "      <td>0.004531</td>\n",
       "      <td>0.040427</td>\n",
       "      <td>-0.017655</td>\n",
       "      <td>-0.019766</td>\n",
       "      <td>-0.039681</td>\n",
       "      <td>-0.039566</td>\n",
       "    </tr>\n",
       "    <tr>\n",
       "      <th>18</th>\n",
       "      <td>-8.468974e-17</td>\n",
       "      <td>-0.136912</td>\n",
       "      <td>-0.021250</td>\n",
       "      <td>0.024491</td>\n",
       "      <td>0.214980</td>\n",
       "      <td>0.055626</td>\n",
       "      <td>-0.049456</td>\n",
       "      <td>0.043180</td>\n",
       "      <td>0.231063</td>\n",
       "      <td>-0.046658</td>\n",
       "      <td>...</td>\n",
       "      <td>-0.126986</td>\n",
       "      <td>0.063089</td>\n",
       "      <td>0.407727</td>\n",
       "      <td>-0.126136</td>\n",
       "      <td>0.003808</td>\n",
       "      <td>0.045227</td>\n",
       "      <td>0.020793</td>\n",
       "      <td>-0.135696</td>\n",
       "      <td>-0.076514</td>\n",
       "      <td>0.085419</td>\n",
       "    </tr>\n",
       "    <tr>\n",
       "      <th>19</th>\n",
       "      <td>2.625082e-17</td>\n",
       "      <td>0.097573</td>\n",
       "      <td>-0.024682</td>\n",
       "      <td>-0.003032</td>\n",
       "      <td>-0.182416</td>\n",
       "      <td>-0.046120</td>\n",
       "      <td>0.053582</td>\n",
       "      <td>-0.130972</td>\n",
       "      <td>0.361712</td>\n",
       "      <td>-0.000627</td>\n",
       "      <td>...</td>\n",
       "      <td>0.037718</td>\n",
       "      <td>-0.153688</td>\n",
       "      <td>-0.189042</td>\n",
       "      <td>0.052451</td>\n",
       "      <td>-0.025939</td>\n",
       "      <td>0.013030</td>\n",
       "      <td>-0.080010</td>\n",
       "      <td>-0.022270</td>\n",
       "      <td>-0.065131</td>\n",
       "      <td>-0.044698</td>\n",
       "    </tr>\n",
       "    <tr>\n",
       "      <th>20</th>\n",
       "      <td>-1.263096e-16</td>\n",
       "      <td>0.006070</td>\n",
       "      <td>-0.116840</td>\n",
       "      <td>-0.040130</td>\n",
       "      <td>-0.089560</td>\n",
       "      <td>-0.154271</td>\n",
       "      <td>-0.128332</td>\n",
       "      <td>-0.047970</td>\n",
       "      <td>-0.097194</td>\n",
       "      <td>0.065247</td>\n",
       "      <td>...</td>\n",
       "      <td>-0.026017</td>\n",
       "      <td>-0.098830</td>\n",
       "      <td>0.017307</td>\n",
       "      <td>-0.009676</td>\n",
       "      <td>-0.140064</td>\n",
       "      <td>0.107832</td>\n",
       "      <td>0.248825</td>\n",
       "      <td>-0.055315</td>\n",
       "      <td>-0.198208</td>\n",
       "      <td>-0.349694</td>\n",
       "    </tr>\n",
       "    <tr>\n",
       "      <th>21</th>\n",
       "      <td>1.059003e-16</td>\n",
       "      <td>0.031722</td>\n",
       "      <td>-0.006422</td>\n",
       "      <td>-0.104672</td>\n",
       "      <td>-0.309578</td>\n",
       "      <td>-0.021767</td>\n",
       "      <td>0.009332</td>\n",
       "      <td>-0.033612</td>\n",
       "      <td>0.108365</td>\n",
       "      <td>-0.081664</td>\n",
       "      <td>...</td>\n",
       "      <td>-0.042663</td>\n",
       "      <td>0.108825</td>\n",
       "      <td>-0.206552</td>\n",
       "      <td>0.039076</td>\n",
       "      <td>-0.009776</td>\n",
       "      <td>-0.087709</td>\n",
       "      <td>-0.182723</td>\n",
       "      <td>-0.114948</td>\n",
       "      <td>-0.127868</td>\n",
       "      <td>-0.138439</td>\n",
       "    </tr>\n",
       "  </tbody>\n",
       "</table>\n",
       "<p>22 rows × 64 columns</p>\n",
       "</div>"
      ],
      "text/plain": [
       "       pixel_0_0  pixel_0_1  pixel_0_2  pixel_0_3  pixel_0_4  pixel_0_5  \\\n",
       "0  -1.110223e-16  -0.182234  -0.285868  -0.220370   0.025170   0.009497   \n",
       "1   5.551115e-17   0.047027   0.059565  -0.020804   0.155903   0.274133   \n",
       "2   5.551115e-17   0.023588  -0.056799  -0.040464  -0.067065  -0.091090   \n",
       "3   3.816392e-17   0.178153   0.156128   0.167800  -0.000010  -0.000518   \n",
       "4  -5.551115e-17  -0.029976  -0.014669   0.043718  -0.139992   0.007995   \n",
       "5  -8.673617e-17   0.231723   0.119873  -0.100389  -0.093478  -0.082193   \n",
       "6  -1.561251e-17   0.108314   0.004745  -0.233707   0.039528   0.145985   \n",
       "7  -2.247009e-17  -0.125511  -0.006180   0.033389  -0.046141  -0.080359   \n",
       "8   9.161508e-18  -0.213812  -0.120175   0.101879   0.093107  -0.063949   \n",
       "9  -3.122502e-17   0.059850   0.007662  -0.021588   0.005043  -0.164145   \n",
       "10  1.012645e-16  -0.049971  -0.147518  -0.155545   0.163468   0.277143   \n",
       "11 -6.586528e-17  -0.204260   0.044574   0.188531   0.059249  -0.025481   \n",
       "12 -8.746801e-17   0.133771   0.031535   0.064196   0.073327   0.118655   \n",
       "13 -1.250898e-16  -0.041716   0.038867   0.183215   0.158681   0.033758   \n",
       "14 -7.892992e-17  -0.130617   0.100060   0.044965  -0.300071  -0.093185   \n",
       "15 -2.547875e-18   0.082292   0.022125   0.074213   0.291575   0.100640   \n",
       "16 -1.479936e-16   0.171402  -0.017736   0.023831  -0.044030  -0.097991   \n",
       "17  7.638204e-17  -0.065252   0.016551   0.010445  -0.328954  -0.149437   \n",
       "18 -8.468974e-17  -0.136912  -0.021250   0.024491   0.214980   0.055626   \n",
       "19  2.625082e-17   0.097573  -0.024682  -0.003032  -0.182416  -0.046120   \n",
       "20 -1.263096e-16   0.006070  -0.116840  -0.040130  -0.089560  -0.154271   \n",
       "21  1.059003e-16   0.031722  -0.006422  -0.104672  -0.309578  -0.021767   \n",
       "\n",
       "    pixel_0_6  pixel_0_7  pixel_1_0  pixel_1_1  ...  pixel_6_6  pixel_6_7  \\\n",
       "0    0.052476   0.062695  -0.034707  -0.245534  ...  -0.121247  -0.048771   \n",
       "1    0.249733   0.145832  -0.001027   0.027619  ...  -0.257752  -0.115002   \n",
       "2   -0.037579  -0.022546   0.002812  -0.050642  ...  -0.023179   0.102993   \n",
       "3    0.043700   0.008748   0.014403   0.124041  ...  -0.157441  -0.130347   \n",
       "4    0.211221   0.281815  -0.000630   0.006773  ...   0.192442   0.248976   \n",
       "5    0.030191   0.157871  -0.023332   0.064997  ...  -0.000429   0.004020   \n",
       "6    0.036360  -0.098106   0.078251   0.124256  ...  -0.081070  -0.083123   \n",
       "7   -0.106775  -0.080034   0.021862  -0.024124  ...  -0.130855   0.178411   \n",
       "8   -0.037944   0.158183   0.150758  -0.017358  ...  -0.026630  -0.188073   \n",
       "9   -0.187896  -0.065314   0.204846   0.208702  ...   0.039406   0.026772   \n",
       "10   0.151619  -0.043589   0.095253   0.004713  ...   0.095532   0.030172   \n",
       "11  -0.108893  -0.122076  -0.157136  -0.094562  ...  -0.041770   0.043171   \n",
       "12   0.180531   0.008731  -0.049968  -0.047324  ...   0.036403   0.251114   \n",
       "13   0.049782   0.085247   0.141580  -0.016935  ...   0.006682  -0.023311   \n",
       "14  -0.002841  -0.079841  -0.056181  -0.239773  ...  -0.156110   0.082306   \n",
       "15  -0.129172  -0.222525   0.366169   0.101376  ...  -0.032630   0.256871   \n",
       "16  -0.187939  -0.223714  -0.180707  -0.074323  ...   0.037344  -0.086700   \n",
       "17   0.064668   0.146585   0.545774   0.112059  ...   0.013238  -0.001535   \n",
       "18  -0.049456   0.043180   0.231063  -0.046658  ...  -0.126986   0.063089   \n",
       "19   0.053582  -0.130972   0.361712  -0.000627  ...   0.037718  -0.153688   \n",
       "20  -0.128332  -0.047970  -0.097194   0.065247  ...  -0.026017  -0.098830   \n",
       "21   0.009332  -0.033612   0.108365  -0.081664  ...  -0.042663   0.108825   \n",
       "\n",
       "    pixel_7_0  pixel_7_1  pixel_7_2  pixel_7_3  pixel_7_4  pixel_7_5  \\\n",
       "0    0.001836  -0.160396  -0.279853  -0.194449  -0.017774  -0.103198   \n",
       "1    0.004883   0.044498   0.081400  -0.009905  -0.251934  -0.242618   \n",
       "2    0.011547   0.033895  -0.051273  -0.083464  -0.062455  -0.022280   \n",
       "3    0.007788   0.186418   0.165487   0.171489  -0.154438  -0.252432   \n",
       "4   -0.051242  -0.039173  -0.033458   0.100367  -0.003774   0.094738   \n",
       "5    0.126621   0.260507   0.109750  -0.086507   0.111833   0.057762   \n",
       "6   -0.016203   0.091575  -0.014849  -0.135309   0.172849   0.032169   \n",
       "7    0.057191  -0.110157  -0.040826   0.098843   0.055052  -0.034289   \n",
       "8    0.034139  -0.214507  -0.115401   0.115922   0.154258   0.027114   \n",
       "9   -0.023707   0.009654   0.013349  -0.105759  -0.100355  -0.036636   \n",
       "10   0.295480  -0.002004  -0.123534  -0.121187  -0.025144   0.162865   \n",
       "11   0.126093  -0.190749   0.042792   0.236575  -0.016692  -0.134177   \n",
       "12   0.144058   0.162185   0.037901   0.042543  -0.102453  -0.114927   \n",
       "13  -0.105369  -0.054872   0.045848   0.262186   0.115909  -0.081513   \n",
       "14  -0.033996  -0.083303   0.077349   0.081349  -0.047799  -0.086755   \n",
       "15  -0.188832   0.031217   0.019313   0.073979   0.151792   0.040419   \n",
       "16   0.456722   0.248752  -0.024789   0.011585   0.067676   0.033594   \n",
       "17   0.365171  -0.018967   0.004531   0.040427  -0.017655  -0.019766   \n",
       "18   0.407727  -0.126136   0.003808   0.045227   0.020793  -0.135696   \n",
       "19  -0.189042   0.052451  -0.025939   0.013030  -0.080010  -0.022270   \n",
       "20   0.017307  -0.009676  -0.140064   0.107832   0.248825  -0.055315   \n",
       "21  -0.206552   0.039076  -0.009776  -0.087709  -0.182723  -0.114948   \n",
       "\n",
       "    pixel_7_6  pixel_7_7  \n",
       "0   -0.119811  -0.071494  \n",
       "1   -0.165089  -0.071329  \n",
       "2    0.100366   0.092446  \n",
       "3   -0.160720  -0.118181  \n",
       "4    0.244012   0.231709  \n",
       "5    0.028940   0.016330  \n",
       "6   -0.077622  -0.026414  \n",
       "7    0.164535   0.350941  \n",
       "8   -0.144329  -0.219652  \n",
       "9    0.057166   0.029210  \n",
       "10   0.150167   0.014656  \n",
       "11  -0.110419   0.029917  \n",
       "12  -0.066539  -0.019883  \n",
       "13  -0.103158   0.017089  \n",
       "14  -0.035285   0.140934  \n",
       "15   0.048675   0.070061  \n",
       "16  -0.028946  -0.054456  \n",
       "17  -0.039681  -0.039566  \n",
       "18  -0.076514   0.085419  \n",
       "19  -0.065131  -0.044698  \n",
       "20  -0.198208  -0.349694  \n",
       "21  -0.127868  -0.138439  \n",
       "\n",
       "[22 rows x 64 columns]"
      ]
     },
     "execution_count": 473,
     "metadata": {},
     "output_type": "execute_result"
    }
   ],
   "source": [
    "df_pca_loading = pd.DataFrame(pca.components_,columns= df.columns)\n",
    "df_pca_loading"
   ]
  },
  {
   "cell_type": "code",
   "execution_count": 474,
   "id": "90e1b32a",
   "metadata": {},
   "outputs": [
    {
     "name": "stdout",
     "output_type": "stream",
     "text": [
      "Cumulative Variances (Percentage):\n",
      "[12.0339161  21.5949705  30.03938539 36.5377933  41.39794804 45.61206772\n",
      " 49.55415037 52.94353007 55.94174917 58.87375068 61.65555444 64.23260608\n",
      " 66.5079032  68.73504484 70.90024304 72.81438347 74.5896991  76.22763685\n",
      " 77.82401013 79.31292383 80.66059622 81.93169619]\n",
      "\n"
     ]
    }
   ],
   "source": [
    "# print the Cumulative explained variances\n",
    "print(\"Cumulative Variances (Percentage):\")\n",
    "print(pca.explained_variance_ratio_.cumsum() * 100)\n",
    "print()"
   ]
  },
  {
   "cell_type": "code",
   "execution_count": 475,
   "id": "4b0badd4",
   "metadata": {},
   "outputs": [
    {
     "data": {
      "text/plain": [
       "array([0.12033916, 0.09561054, 0.08444415, 0.06498408, 0.04860155,\n",
       "       0.0421412 , 0.03942083, 0.0338938 , 0.02998219, 0.02932002,\n",
       "       0.02781804, 0.02577052, 0.02275297, 0.02227142, 0.02165198,\n",
       "       0.0191414 , 0.01775316, 0.01637938, 0.01596373, 0.01488914,\n",
       "       0.01347672, 0.012711  ])"
      ]
     },
     "execution_count": 475,
     "metadata": {},
     "output_type": "execute_result"
    }
   ],
   "source": [
    "pca.explained_variance_ratio_"
   ]
  },
  {
   "cell_type": "code",
   "execution_count": 476,
   "id": "e064765e",
   "metadata": {},
   "outputs": [
    {
     "data": {
      "text/plain": [
       "Text(0, 0.5, 'Explained variance (%)')"
      ]
     },
     "execution_count": 476,
     "metadata": {},
     "output_type": "execute_result"
    },
    {
     "data": {
      "image/png": "[encoded data removed]",
      "text/plain": [
       "<Figure size 640x480 with 1 Axes>"
      ]
     },
     "metadata": {},
     "output_type": "display_data"
    }
   ],
   "source": [
    "# plot a scree plot\n",
    "import numpy as np\n",
    "\n",
    "components = len(pca.explained_variance_ratio_) \n",
    "plt.step(range(1,components+1),np.cumsum(pca.explained_variance_ratio_ * 100),where='mid', label = 'Cumulative explained variance')\n",
    "plt.bar(range(1,components+1), pca.explained_variance_ratio_*100 , alpha = 0.5, align = 'center', label = 'Individual explained variance')\n",
    "# plt.step(range(10), cum_var_exp, )\n",
    "plt.xlabel(\"Number of components\")\n",
    "plt.ylabel(\"Explained variance (%)\")"
   ]
  },
  {
   "cell_type": "code",
   "execution_count": 477,
   "id": "cb09ade3",
   "metadata": {},
   "outputs": [],
   "source": [
    "# import pandas as pd\n",
    "# df = pd.DataFrame(data = X, columns= names)"
   ]
  },
  {
   "cell_type": "code",
   "execution_count": 478,
   "id": "31504048",
   "metadata": {},
   "outputs": [
    {
     "name": "stdout",
     "output_type": "stream",
     "text": [
      "Top 22 most important features in each component\n",
      "Component 0: ['pixel_4_1', 'pixel_4_2', 'pixel_3_2', 'pixel_5_1', 'pixel_3_6', 'pixel_2_6', 'pixel_4_5', 'pixel_5_2', 'pixel_4_6', 'pixel_3_5', 'pixel_2_3', 'pixel_3_1', 'pixel_5_4', 'pixel_1_3', 'pixel_5_5', 'pixel_2_7', 'pixel_1_7', 'pixel_1_6', 'pixel_6_4', 'pixel_2_2']\n",
      "Component 1: ['pixel_0_5', 'pixel_1_6', 'pixel_0_6', 'pixel_1_5', 'pixel_3_4', 'pixel_2_5', 'pixel_0_4', 'pixel_5_4', 'pixel_2_6', 'pixel_0_7', 'pixel_3_5', 'pixel_1_7', 'pixel_4_4', 'pixel_7_2', 'pixel_2_7', 'pixel_2_4', 'pixel_6_4', 'pixel_0_2', 'pixel_4_3', 'pixel_1_4']\n",
      "Component 2: ['pixel_5_3', 'pixel_4_3', 'pixel_5_4', 'pixel_4_4', 'pixel_6_3', 'pixel_2_3', 'pixel_1_3', 'pixel_6_4', 'pixel_2_4', 'pixel_3_3', 'pixel_6_7', 'pixel_7_6', 'pixel_7_7', 'pixel_5_2', 'pixel_3_4', 'pixel_4_2', 'pixel_1_4', 'pixel_7_1', 'pixel_5_7', 'pixel_0_1']\n",
      "Component 3: ['pixel_3_1', 'pixel_2_2', 'pixel_1_2', 'pixel_4_1', 'pixel_7_1', 'pixel_0_1', 'pixel_3_2', 'pixel_2_1', 'pixel_4_2', 'pixel_7_3', 'pixel_0_3', 'pixel_7_2', 'pixel_0_2', 'pixel_5_2', 'pixel_6_3', 'pixel_6_2', 'pixel_1_1', 'pixel_5_1', 'pixel_1_3', 'pixel_5_3']\n",
      "Component 4: ['pixel_1_7', 'pixel_0_7', 'pixel_6_7', 'pixel_7_6', 'pixel_2_7', 'pixel_7_7', 'pixel_0_6', 'pixel_6_6', 'pixel_1_6', 'pixel_2_6', 'pixel_2_2', 'pixel_1_3', 'pixel_5_7', 'pixel_3_7', 'pixel_7_3', 'pixel_7_5', 'pixel_2_1', 'pixel_3_2', 'pixel_3_1', 'pixel_1_2']\n",
      "Component 5: ['pixel_6_1', 'pixel_6_0', 'pixel_3_7', 'pixel_2_7', 'pixel_7_1', 'pixel_1_7', 'pixel_0_1', 'pixel_5_0', 'pixel_2_6', 'pixel_5_1', 'pixel_0_7', 'pixel_6_2', 'pixel_2_3', 'pixel_7_0', 'pixel_6_4', 'pixel_0_2', 'pixel_6_5', 'pixel_7_4', 'pixel_7_2', 'pixel_3_6']\n",
      "Component 6: ['pixel_3_2', 'pixel_3_1', 'pixel_3_3', 'pixel_2_1', 'pixel_5_5', 'pixel_2_3', 'pixel_6_4', 'pixel_2_2', 'pixel_7_4', 'pixel_6_5', 'pixel_0_5', 'pixel_1_1', 'pixel_0_1', 'pixel_2_0', 'pixel_3_0', 'pixel_7_1', 'pixel_5_4', 'pixel_1_0', 'pixel_0_4', 'pixel_0_6']\n",
      "Component 7: ['pixel_6_4', 'pixel_7_7', 'pixel_2_5', 'pixel_5_4', 'pixel_6_7', 'pixel_1_4', 'pixel_7_6', 'pixel_1_3', 'pixel_3_1', 'pixel_6_3', 'pixel_2_1', 'pixel_1_5', 'pixel_3_5', 'pixel_2_2', 'pixel_7_3', 'pixel_3_6', 'pixel_2_4', 'pixel_6_0', 'pixel_2_6', 'pixel_1_2']\n",
      "Component 8: ['pixel_2_0', 'pixel_3_0', 'pixel_1_4', 'pixel_6_2', 'pixel_1_7', 'pixel_1_3', 'pixel_3_7', 'pixel_2_7', 'pixel_3_3', 'pixel_0_7', 'pixel_7_4', 'pixel_1_0', 'pixel_6_3', 'pixel_2_2', 'pixel_2_4', 'pixel_4_3', 'pixel_5_2', 'pixel_7_3', 'pixel_1_5', 'pixel_1_2']\n",
      "Component 9: ['pixel_2_0', 'pixel_3_0', 'pixel_1_1', 'pixel_1_0', 'pixel_2_1', 'pixel_4_6', 'pixel_3_7', 'pixel_3_6', 'pixel_2_7', 'pixel_3_5', 'pixel_4_5', 'pixel_3_1', 'pixel_2_4', 'pixel_4_1', 'pixel_6_0', 'pixel_5_0', 'pixel_3_4', 'pixel_5_3', 'pixel_0_1', 'pixel_7_6']\n",
      "Component 10: ['pixel_6_0', 'pixel_7_0', 'pixel_0_5', 'pixel_5_0', 'pixel_6_1', 'pixel_0_4', 'pixel_7_5', 'pixel_1_5', 'pixel_2_0', 'pixel_0_6', 'pixel_7_6', 'pixel_1_6', 'pixel_3_0', 'pixel_2_1', 'pixel_6_6', 'pixel_1_0', 'pixel_5_1', 'pixel_3_7', 'pixel_6_3', 'pixel_5_3']\n",
      "Component 11: ['pixel_6_0', 'pixel_3_7', 'pixel_7_3', 'pixel_5_0', 'pixel_0_3', 'pixel_3_4', 'pixel_3_3', 'pixel_4_4', 'pixel_7_0', 'pixel_4_5', 'pixel_1_2', 'pixel_2_2', 'pixel_3_2', 'pixel_4_3', 'pixel_2_7', 'pixel_5_7', 'pixel_5_5', 'pixel_3_1', 'pixel_0_4', 'pixel_0_2']\n",
      "Component 12: ['pixel_5_7', 'pixel_4_6', 'pixel_1_3', 'pixel_6_7', 'pixel_2_3', 'pixel_1_4', 'pixel_3_0', 'pixel_5_6', 'pixel_0_6', 'pixel_7_1', 'pixel_3_3', 'pixel_4_5', 'pixel_2_0', 'pixel_7_0', 'pixel_6_3', 'pixel_0_1', 'pixel_0_5', 'pixel_6_4', 'pixel_3_5', 'pixel_6_0']\n",
      "Component 13: ['pixel_5_5', 'pixel_2_0', 'pixel_4_4', 'pixel_7_3', 'pixel_4_5', 'pixel_3_0', 'pixel_0_3', 'pixel_6_4', 'pixel_5_1', 'pixel_0_4', 'pixel_6_5', 'pixel_1_0', 'pixel_5_4', 'pixel_7_4', 'pixel_5_0', 'pixel_0_7', 'pixel_4_1', 'pixel_5_6', 'pixel_1_3', 'pixel_1_7']\n",
      "Component 14: ['pixel_3_0', 'pixel_2_0', 'pixel_3_3', 'pixel_6_1', 'pixel_7_7', 'pixel_6_2', 'pixel_0_2', 'pixel_2_3', 'pixel_2_6', 'pixel_6_7', 'pixel_7_3', 'pixel_7_2', 'pixel_3_6', 'pixel_3_2', 'pixel_1_6', 'pixel_3_4', 'pixel_3_5', 'pixel_0_3', 'pixel_5_1', 'pixel_4_2']\n",
      "Component 15: ['pixel_1_0', 'pixel_5_7', 'pixel_0_4', 'pixel_6_7', 'pixel_4_3', 'pixel_2_6', 'pixel_4_2', 'pixel_1_5', 'pixel_3_3', 'pixel_3_6', 'pixel_7_4', 'pixel_2_7', 'pixel_2_5', 'pixel_5_2', 'pixel_1_1', 'pixel_0_5', 'pixel_6_2', 'pixel_6_5', 'pixel_5_4', 'pixel_3_7']\n",
      "Component 16: ['pixel_7_0', 'pixel_7_1', 'pixel_4_4', 'pixel_3_0', 'pixel_0_1', 'pixel_4_3', 'pixel_2_6', 'pixel_2_7', 'pixel_2_5', 'pixel_3_5', 'pixel_6_5', 'pixel_1_3', 'pixel_5_5', 'pixel_6_4', 'pixel_4_5', 'pixel_7_4', 'pixel_2_0', 'pixel_3_6', 'pixel_6_0', 'pixel_5_4']\n",
      "Component 17: ['pixel_1_0', 'pixel_7_0', 'pixel_3_4', 'pixel_4_4', 'pixel_3_5', 'pixel_4_5', 'pixel_2_2', 'pixel_0_7', 'pixel_2_5', 'pixel_1_1', 'pixel_6_1', 'pixel_2_4', 'pixel_3_2', 'pixel_5_1', 'pixel_5_4', 'pixel_1_2', 'pixel_0_6', 'pixel_2_1', 'pixel_1_6', 'pixel_4_1']\n",
      "Component 18: ['pixel_7_0', 'pixel_1_0', 'pixel_0_4', 'pixel_7_7', 'pixel_1_7', 'pixel_6_7', 'pixel_3_6', 'pixel_0_5', 'pixel_4_6', 'pixel_2_7', 'pixel_6_0', 'pixel_7_3', 'pixel_0_7', 'pixel_1_4', 'pixel_0_3', 'pixel_7_4', 'pixel_4_1', 'pixel_6_4', 'pixel_4_2', 'pixel_2_3']\n",
      "Component 19: ['pixel_1_0', 'pixel_5_0', 'pixel_6_0', 'pixel_1_3', 'pixel_6_3', 'pixel_3_6', 'pixel_2_3', 'pixel_3_7', 'pixel_0_1', 'pixel_2_6', 'pixel_2_0', 'pixel_3_5', 'pixel_0_6', 'pixel_7_1', 'pixel_1_6', 'pixel_6_5', 'pixel_5_6', 'pixel_6_6', 'pixel_5_3', 'pixel_3_3']\n",
      "Component 20: ['pixel_5_7', 'pixel_7_4', 'pixel_5_0', 'pixel_2_6', 'pixel_6_4', 'pixel_7_3', 'pixel_5_4', 'pixel_2_1', 'pixel_5_3', 'pixel_1_1', 'pixel_1_6', 'pixel_5_6', 'pixel_2_5', 'pixel_7_0', 'pixel_1_7', 'pixel_0_1', 'pixel_3_0', 'pixel_4_7', 'pixel_4_0', 'pixel_0_0']\n",
      "Component 21: ['pixel_3_7', 'pixel_5_7', 'pixel_1_5', 'pixel_6_7', 'pixel_2_5', 'pixel_1_0', 'pixel_6_0', 'pixel_5_5', 'pixel_5_2', 'pixel_2_4', 'pixel_5_4', 'pixel_2_0', 'pixel_7_1', 'pixel_3_1', 'pixel_6_2', 'pixel_0_1', 'pixel_2_2', 'pixel_6_4', 'pixel_2_7', 'pixel_6_5']\n"
     ]
    }
   ],
   "source": [
    "print('Top 22 most important features in each component')\n",
    "for row in range(0,pca.components_.shape[0]):\n",
    "    # get the indices of the top 20 values in each row\n",
    "    temp = np.argpartition(-(pca.components_[row]), 20)\n",
    "    \n",
    "    # sort the indices in descending order\n",
    "    indices = temp[np.argsort((-pca.components_[row])[temp])][:20]\n",
    "    \n",
    "    # print the top 20 feature names\n",
    "    print(f'Component {row}: {df.columns[indices].to_list()}')"
   ]
  },
  {
   "cell_type": "code",
   "execution_count": 240,
   "id": "1b77c7eb",
   "metadata": {},
   "outputs": [
    {
     "name": "stdout",
     "output_type": "stream",
     "text": [
      "(1797, 22)\n",
      "[[ 1.91421393 -0.95450048 -3.94603806 ...  0.43945325  0.46310984\n",
      "   0.54898621]\n",
      " [ 0.58898085  0.92463731  3.92475186 ... -0.04952271  0.9325542\n",
      "  -0.2655065 ]\n",
      " [ 1.30203949 -0.31718809  3.02333593 ... -1.11324064 -0.52376646\n",
      "   0.04151482]\n",
      " ...\n",
      " [ 1.02259611 -0.1479113   2.46997819 ...  0.17952133  0.1600279\n",
      "  -0.253347  ]\n",
      " [ 1.07605505 -0.38090687 -2.45548745 ...  0.76741178 -0.14289405\n",
      "  -0.42090675]\n",
      " [-1.25770243 -2.22758995  0.28362476 ... -1.12434133 -1.11151706\n",
      "  -0.28101783]]\n"
     ]
    }
   ],
   "source": [
    "# Transforming all columns into 6 PCAs\n",
    "X_pca = pca.transform(X_scaled)\n",
    "print(X_pca.shape)\n",
    "print(X_pca)"
   ]
  },
  {
   "cell_type": "code",
   "execution_count": null,
   "id": "8b3d8f7d",
   "metadata": {},
   "outputs": [],
   "source": []
  },
  {
   "cell_type": "code",
   "execution_count": null,
   "id": "35fdca5c",
   "metadata": {},
   "outputs": [],
   "source": []
  },
  {
   "cell_type": "code",
   "execution_count": null,
   "id": "1c6b358e",
   "metadata": {},
   "outputs": [],
   "source": []
  },
  {
   "cell_type": "code",
   "execution_count": 479,
   "id": "2750e419",
   "metadata": {},
   "outputs": [],
   "source": [
    "# 6. Classify the digit classes available in the dataset (use the modified dataset) using SVM with RBF \n",
    "# kernel. Select appropriate data splitting approach and performance metrics. Report the \n",
    "# performances and the used model hyper-parameters. "
   ]
  },
  {
   "cell_type": "code",
   "execution_count": 628,
   "id": "121fba0f",
   "metadata": {},
   "outputs": [
    {
     "name": "stdout",
     "output_type": "stream",
     "text": [
      "(105, 4) (105,)\n",
      "(45, 4) (45,)\n"
     ]
    }
   ],
   "source": [
    "import numpy as np\n",
    "import matplotlib.pyplot as plt\n",
    "# Import the digit data set\n",
    "from sklearn import datasets\n",
    "digitdata = datasets.load_digits()\n",
    "\n",
    "# divide this data into features and labels\n",
    "X = digitdata.data\n",
    "y = digitdata.target\n",
    "\n",
    "\n",
    "from sklearn.model_selection import train_test_split\n",
    "\n",
    "#Split the data into 80% Training and 30% Testing sets\n",
    "X_train, X_test, y_train, y_test = train_test_split(X,y, test_size=0.3,)\n",
    "\n",
    "print(Xtrain.shape,ytrain.shape)\n",
    "print (Xtest.shape,ytest.shape)\n"
   ]
  },
  {
   "cell_type": "code",
   "execution_count": 629,
   "id": "5ce26d12",
   "metadata": {},
   "outputs": [
    {
     "name": "stdout",
     "output_type": "stream",
     "text": [
      "Training accuracy: 0.9968178202068417\n",
      "Testing accuracy : 0.9962962962962963\n"
     ]
    },
    {
     "name": "stderr",
     "output_type": "stream",
     "text": [
      "C:\\Users\\Vishal.shah.LAMINAAR\\AppData\\Local\\Temp\\ipykernel_11512\\614431436.py:13: UserWarning: You passed a edgecolor/edgecolors ('g') for an unfilled marker ('+').  Matplotlib is ignoring the edgecolor in favor of the facecolor.  This behavior may change in the future.\n",
      "  plt.scatter(svc_model.support_vectors_[:, 0], svc_model.support_vectors_[:, 1], s=100, marker='+', edgecolors='g', zorder=10)\n"
     ]
    },
    {
     "data": {
      "image/png": "[encoded data removed]",
      "text/plain": [
       "<Figure size 640x480 with 1 Axes>"
      ]
     },
     "metadata": {},
     "output_type": "display_data"
    }
   ],
   "source": [
    "from sklearn import svm\n",
    "from sklearn import metrics\n",
    "\n",
    "\n",
    "svc_model = svm.SVC(kernel='rbf')\n",
    "\n",
    "svc_model.fit(X,y)\n",
    "plt.title('RBF kernel')\n",
    "#Training accuracy:\n",
    "print(\"Training accuracy: {}\".format(metrics.accuracy_score(y_train, svc_model.predict(X_train))))\n",
    "print(\"Testing accuracy : {}\".format(metrics.accuracy_score(y_test, svc_model.predict(X_test))))\n",
    "#plotting support vectors\n",
    "plt.scatter(svc_model.support_vectors_[:, 0], svc_model.support_vectors_[:, 1], s=100, marker='+', edgecolors='g', zorder=10)\n",
    "plt.show()"
   ]
  },
  {
   "cell_type": "code",
   "execution_count": 630,
   "id": "7fb6b165",
   "metadata": {},
   "outputs": [],
   "source": [
    "y_train_predict = svc_model.predict(X_train)"
   ]
  },
  {
   "cell_type": "code",
   "execution_count": 631,
   "id": "a290265b",
   "metadata": {},
   "outputs": [],
   "source": [
    "y_test_predict = svc_model.predict(X_test)"
   ]
  },
  {
   "cell_type": "code",
   "execution_count": 632,
   "id": "0d9dd31e",
   "metadata": {},
   "outputs": [
    {
     "name": "stdout",
     "output_type": "stream",
     "text": [
      "              precision    recall  f1-score   support\n",
      "\n",
      "           0       1.00      1.00      1.00       132\n",
      "           1       0.99      1.00      1.00       124\n",
      "           2       1.00      1.00      1.00       117\n",
      "           3       0.99      1.00      1.00       124\n",
      "           4       1.00      1.00      1.00       134\n",
      "           5       0.99      0.99      0.99       130\n",
      "           6       1.00      1.00      1.00       132\n",
      "           7       1.00      1.00      1.00       121\n",
      "           8       1.00      0.99      1.00       121\n",
      "           9       0.99      0.98      0.99       122\n",
      "\n",
      "    accuracy                           1.00      1257\n",
      "   macro avg       1.00      1.00      1.00      1257\n",
      "weighted avg       1.00      1.00      1.00      1257\n",
      "\n"
     ]
    }
   ],
   "source": [
    "from sklearn.metrics import classification_report\n",
    "\n",
    "print(classification_report(y_train, y_train_predict))"
   ]
  },
  {
   "cell_type": "code",
   "execution_count": 633,
   "id": "1692186e",
   "metadata": {},
   "outputs": [
    {
     "name": "stdout",
     "output_type": "stream",
     "text": [
      "              precision    recall  f1-score   support\n",
      "\n",
      "           0       1.00      1.00      1.00        46\n",
      "           1       0.98      1.00      0.99        58\n",
      "           2       1.00      1.00      1.00        60\n",
      "           3       1.00      1.00      1.00        59\n",
      "           4       1.00      1.00      1.00        47\n",
      "           5       1.00      1.00      1.00        52\n",
      "           6       1.00      1.00      1.00        49\n",
      "           7       0.98      1.00      0.99        58\n",
      "           8       1.00      0.98      0.99        53\n",
      "           9       1.00      0.98      0.99        58\n",
      "\n",
      "    accuracy                           1.00       540\n",
      "   macro avg       1.00      1.00      1.00       540\n",
      "weighted avg       1.00      1.00      1.00       540\n",
      "\n"
     ]
    }
   ],
   "source": [
    "print(classification_report(y_test, y_test_predict))"
   ]
  },
  {
   "cell_type": "code",
   "execution_count": 634,
   "id": "317282d1",
   "metadata": {},
   "outputs": [
    {
     "name": "stdout",
     "output_type": "stream",
     "text": [
      "Fitting 10 folds for each of 25 candidates, totalling 250 fits\n",
      "[CV 1/10] END .......C=0.1, gamma=1, kernel=rbf;, score=0.111 total time=   1.5s\n",
      "[CV 2/10] END .......C=0.1, gamma=1, kernel=rbf;, score=0.103 total time=   1.4s\n",
      "[CV 3/10] END .......C=0.1, gamma=1, kernel=rbf;, score=0.103 total time=   1.4s\n",
      "[CV 4/10] END .......C=0.1, gamma=1, kernel=rbf;, score=0.103 total time=   1.3s\n",
      "[CV 5/10] END .......C=0.1, gamma=1, kernel=rbf;, score=0.103 total time=   1.4s\n",
      "[CV 6/10] END .......C=0.1, gamma=1, kernel=rbf;, score=0.103 total time=   1.4s\n",
      "[CV 7/10] END .......C=0.1, gamma=1, kernel=rbf;, score=0.103 total time=   1.4s\n",
      "[CV 8/10] END .......C=0.1, gamma=1, kernel=rbf;, score=0.112 total time=   1.3s\n",
      "[CV 9/10] END .......C=0.1, gamma=1, kernel=rbf;, score=0.112 total time=   1.4s\n",
      "[CV 10/10] END ......C=0.1, gamma=1, kernel=rbf;, score=0.112 total time=   1.3s\n",
      "[CV 1/10] END .....C=0.1, gamma=0.1, kernel=rbf;, score=0.111 total time=   1.2s\n",
      "[CV 2/10] END .....C=0.1, gamma=0.1, kernel=rbf;, score=0.103 total time=   1.2s\n",
      "[CV 3/10] END .....C=0.1, gamma=0.1, kernel=rbf;, score=0.103 total time=   1.3s\n",
      "[CV 4/10] END .....C=0.1, gamma=0.1, kernel=rbf;, score=0.103 total time=   1.2s\n",
      "[CV 5/10] END .....C=0.1, gamma=0.1, kernel=rbf;, score=0.103 total time=   1.2s\n",
      "[CV 6/10] END .....C=0.1, gamma=0.1, kernel=rbf;, score=0.103 total time=   1.2s\n",
      "[CV 7/10] END .....C=0.1, gamma=0.1, kernel=rbf;, score=0.103 total time=   1.2s\n",
      "[CV 8/10] END .....C=0.1, gamma=0.1, kernel=rbf;, score=0.112 total time=   1.2s\n",
      "[CV 9/10] END .....C=0.1, gamma=0.1, kernel=rbf;, score=0.112 total time=   1.2s\n",
      "[CV 10/10] END ....C=0.1, gamma=0.1, kernel=rbf;, score=0.112 total time=   1.2s\n",
      "[CV 1/10] END ....C=0.1, gamma=0.01, kernel=rbf;, score=0.111 total time=   1.2s\n",
      "[CV 2/10] END ....C=0.1, gamma=0.01, kernel=rbf;, score=0.103 total time=   1.2s\n",
      "[CV 3/10] END ....C=0.1, gamma=0.01, kernel=rbf;, score=0.103 total time=   1.2s\n",
      "[CV 4/10] END ....C=0.1, gamma=0.01, kernel=rbf;, score=0.103 total time=   1.2s\n",
      "[CV 5/10] END ....C=0.1, gamma=0.01, kernel=rbf;, score=0.103 total time=   1.2s\n",
      "[CV 6/10] END ....C=0.1, gamma=0.01, kernel=rbf;, score=0.103 total time=   1.2s\n",
      "[CV 7/10] END ....C=0.1, gamma=0.01, kernel=rbf;, score=0.103 total time=   1.2s\n",
      "[CV 8/10] END ....C=0.1, gamma=0.01, kernel=rbf;, score=0.112 total time=   1.2s\n",
      "[CV 9/10] END ....C=0.1, gamma=0.01, kernel=rbf;, score=0.112 total time=   1.2s\n",
      "[CV 10/10] END ...C=0.1, gamma=0.01, kernel=rbf;, score=0.112 total time=   1.2s\n",
      "[CV 1/10] END ...C=0.1, gamma=0.001, kernel=rbf;, score=0.960 total time=   0.9s\n",
      "[CV 2/10] END ...C=0.1, gamma=0.001, kernel=rbf;, score=0.937 total time=   0.9s\n",
      "[CV 3/10] END ...C=0.1, gamma=0.001, kernel=rbf;, score=0.937 total time=   0.9s\n",
      "[CV 4/10] END ...C=0.1, gamma=0.001, kernel=rbf;, score=0.960 total time=   0.9s\n",
      "[CV 5/10] END ...C=0.1, gamma=0.001, kernel=rbf;, score=0.968 total time=   0.9s\n",
      "[CV 6/10] END ...C=0.1, gamma=0.001, kernel=rbf;, score=0.968 total time=   1.0s\n",
      "[CV 7/10] END ...C=0.1, gamma=0.001, kernel=rbf;, score=0.960 total time=   1.0s\n",
      "[CV 8/10] END ...C=0.1, gamma=0.001, kernel=rbf;, score=0.976 total time=   1.0s\n",
      "[CV 9/10] END ...C=0.1, gamma=0.001, kernel=rbf;, score=0.928 total time=   0.9s\n",
      "[CV 10/10] END ..C=0.1, gamma=0.001, kernel=rbf;, score=0.984 total time=   0.9s\n",
      "[CV 1/10] END ..C=0.1, gamma=0.0001, kernel=rbf;, score=0.833 total time=   1.2s\n",
      "[CV 2/10] END ..C=0.1, gamma=0.0001, kernel=rbf;, score=0.849 total time=   1.1s\n",
      "[CV 3/10] END ..C=0.1, gamma=0.0001, kernel=rbf;, score=0.833 total time=   1.2s\n",
      "[CV 4/10] END ..C=0.1, gamma=0.0001, kernel=rbf;, score=0.881 total time=   1.2s\n",
      "[CV 5/10] END ..C=0.1, gamma=0.0001, kernel=rbf;, score=0.873 total time=   1.2s\n",
      "[CV 6/10] END ..C=0.1, gamma=0.0001, kernel=rbf;, score=0.833 total time=   1.2s\n",
      "[CV 7/10] END ..C=0.1, gamma=0.0001, kernel=rbf;, score=0.865 total time=   1.2s\n",
      "[CV 8/10] END ..C=0.1, gamma=0.0001, kernel=rbf;, score=0.896 total time=   1.2s\n",
      "[CV 9/10] END ..C=0.1, gamma=0.0001, kernel=rbf;, score=0.816 total time=   1.2s\n",
      "[CV 10/10] END .C=0.1, gamma=0.0001, kernel=rbf;, score=0.880 total time=   1.2s\n",
      "[CV 1/10] END .........C=1, gamma=1, kernel=rbf;, score=0.111 total time=   1.4s\n",
      "[CV 2/10] END .........C=1, gamma=1, kernel=rbf;, score=0.103 total time=   1.4s\n",
      "[CV 3/10] END .........C=1, gamma=1, kernel=rbf;, score=0.103 total time=   1.4s\n",
      "[CV 4/10] END .........C=1, gamma=1, kernel=rbf;, score=0.103 total time=   1.6s\n",
      "[CV 5/10] END .........C=1, gamma=1, kernel=rbf;, score=0.103 total time=   1.4s\n",
      "[CV 6/10] END .........C=1, gamma=1, kernel=rbf;, score=0.103 total time=   1.3s\n",
      "[CV 7/10] END .........C=1, gamma=1, kernel=rbf;, score=0.103 total time=   1.6s\n",
      "[CV 8/10] END .........C=1, gamma=1, kernel=rbf;, score=0.112 total time=   1.3s\n",
      "[CV 9/10] END .........C=1, gamma=1, kernel=rbf;, score=0.112 total time=   1.4s\n",
      "[CV 10/10] END ........C=1, gamma=1, kernel=rbf;, score=0.112 total time=   1.9s\n",
      "[CV 1/10] END .......C=1, gamma=0.1, kernel=rbf;, score=0.111 total time=   1.6s\n",
      "[CV 2/10] END .......C=1, gamma=0.1, kernel=rbf;, score=0.103 total time=   1.6s\n",
      "[CV 3/10] END .......C=1, gamma=0.1, kernel=rbf;, score=0.103 total time=   1.6s\n",
      "[CV 4/10] END .......C=1, gamma=0.1, kernel=rbf;, score=0.103 total time=   1.5s\n",
      "[CV 5/10] END .......C=1, gamma=0.1, kernel=rbf;, score=0.103 total time=   1.4s\n",
      "[CV 6/10] END .......C=1, gamma=0.1, kernel=rbf;, score=0.103 total time=   1.4s\n",
      "[CV 7/10] END .......C=1, gamma=0.1, kernel=rbf;, score=0.103 total time=   1.4s\n",
      "[CV 8/10] END .......C=1, gamma=0.1, kernel=rbf;, score=0.112 total time=   1.2s\n",
      "[CV 9/10] END .......C=1, gamma=0.1, kernel=rbf;, score=0.112 total time=   1.3s\n",
      "[CV 10/10] END ......C=1, gamma=0.1, kernel=rbf;, score=0.112 total time=   1.2s\n",
      "[CV 1/10] END ......C=1, gamma=0.01, kernel=rbf;, score=0.714 total time=   1.3s\n",
      "[CV 2/10] END ......C=1, gamma=0.01, kernel=rbf;, score=0.706 total time=   1.2s\n",
      "[CV 3/10] END ......C=1, gamma=0.01, kernel=rbf;, score=0.786 total time=   1.4s\n",
      "[CV 4/10] END ......C=1, gamma=0.01, kernel=rbf;, score=0.786 total time=   1.2s\n",
      "[CV 5/10] END ......C=1, gamma=0.01, kernel=rbf;, score=0.730 total time=   1.3s\n",
      "[CV 6/10] END ......C=1, gamma=0.01, kernel=rbf;, score=0.817 total time=   1.3s\n",
      "[CV 7/10] END ......C=1, gamma=0.01, kernel=rbf;, score=0.722 total time=   1.2s\n",
      "[CV 8/10] END ......C=1, gamma=0.01, kernel=rbf;, score=0.760 total time=   1.3s\n",
      "[CV 9/10] END ......C=1, gamma=0.01, kernel=rbf;, score=0.672 total time=   1.2s\n",
      "[CV 10/10] END .....C=1, gamma=0.01, kernel=rbf;, score=0.832 total time=   1.3s\n",
      "[CV 1/10] END .....C=1, gamma=0.001, kernel=rbf;, score=0.976 total time=   0.6s\n",
      "[CV 2/10] END .....C=1, gamma=0.001, kernel=rbf;, score=0.984 total time=   0.6s\n",
      "[CV 3/10] END .....C=1, gamma=0.001, kernel=rbf;, score=0.992 total time=   0.6s\n",
      "[CV 4/10] END .....C=1, gamma=0.001, kernel=rbf;, score=0.984 total time=   0.6s\n",
      "[CV 5/10] END .....C=1, gamma=0.001, kernel=rbf;, score=0.992 total time=   0.6s\n",
      "[CV 6/10] END .....C=1, gamma=0.001, kernel=rbf;, score=0.984 total time=   0.6s\n",
      "[CV 7/10] END .....C=1, gamma=0.001, kernel=rbf;, score=0.984 total time=   0.6s\n",
      "[CV 8/10] END .....C=1, gamma=0.001, kernel=rbf;, score=0.992 total time=   0.6s\n",
      "[CV 9/10] END .....C=1, gamma=0.001, kernel=rbf;, score=0.984 total time=   0.6s\n",
      "[CV 10/10] END ....C=1, gamma=0.001, kernel=rbf;, score=1.000 total time=   0.6s\n",
      "[CV 1/10] END ....C=1, gamma=0.0001, kernel=rbf;, score=0.952 total time=   0.7s\n",
      "[CV 2/10] END ....C=1, gamma=0.0001, kernel=rbf;, score=0.960 total time=   0.7s\n",
      "[CV 3/10] END ....C=1, gamma=0.0001, kernel=rbf;, score=0.992 total time=   0.7s\n",
      "[CV 4/10] END ....C=1, gamma=0.0001, kernel=rbf;, score=0.960 total time=   0.7s\n",
      "[CV 5/10] END ....C=1, gamma=0.0001, kernel=rbf;, score=0.968 total time=   0.7s\n",
      "[CV 6/10] END ....C=1, gamma=0.0001, kernel=rbf;, score=0.976 total time=   0.7s\n",
      "[CV 7/10] END ....C=1, gamma=0.0001, kernel=rbf;, score=0.968 total time=   0.7s\n",
      "[CV 8/10] END ....C=1, gamma=0.0001, kernel=rbf;, score=0.984 total time=   0.7s\n",
      "[CV 9/10] END ....C=1, gamma=0.0001, kernel=rbf;, score=0.944 total time=   0.7s\n",
      "[CV 10/10] END ...C=1, gamma=0.0001, kernel=rbf;, score=0.984 total time=   0.7s\n",
      "[CV 1/10] END ........C=10, gamma=1, kernel=rbf;, score=0.111 total time=   1.5s\n"
     ]
    },
    {
     "name": "stdout",
     "output_type": "stream",
     "text": [
      "[CV 2/10] END ........C=10, gamma=1, kernel=rbf;, score=0.103 total time=   1.5s\n",
      "[CV 3/10] END ........C=10, gamma=1, kernel=rbf;, score=0.103 total time=   1.5s\n",
      "[CV 4/10] END ........C=10, gamma=1, kernel=rbf;, score=0.103 total time=   1.4s\n",
      "[CV 5/10] END ........C=10, gamma=1, kernel=rbf;, score=0.103 total time=   1.5s\n",
      "[CV 6/10] END ........C=10, gamma=1, kernel=rbf;, score=0.103 total time=   1.5s\n",
      "[CV 7/10] END ........C=10, gamma=1, kernel=rbf;, score=0.103 total time=   1.4s\n",
      "[CV 8/10] END ........C=10, gamma=1, kernel=rbf;, score=0.112 total time=   1.4s\n",
      "[CV 9/10] END ........C=10, gamma=1, kernel=rbf;, score=0.112 total time=   1.3s\n",
      "[CV 10/10] END .......C=10, gamma=1, kernel=rbf;, score=0.112 total time=   1.4s\n",
      "[CV 1/10] END ......C=10, gamma=0.1, kernel=rbf;, score=0.111 total time=   1.3s\n",
      "[CV 2/10] END ......C=10, gamma=0.1, kernel=rbf;, score=0.103 total time=   1.3s\n",
      "[CV 3/10] END ......C=10, gamma=0.1, kernel=rbf;, score=0.103 total time=   1.3s\n",
      "[CV 4/10] END ......C=10, gamma=0.1, kernel=rbf;, score=0.103 total time=   1.3s\n",
      "[CV 5/10] END ......C=10, gamma=0.1, kernel=rbf;, score=0.103 total time=   1.5s\n",
      "[CV 6/10] END ......C=10, gamma=0.1, kernel=rbf;, score=0.103 total time=   1.5s\n",
      "[CV 7/10] END ......C=10, gamma=0.1, kernel=rbf;, score=0.103 total time=   1.4s\n",
      "[CV 8/10] END ......C=10, gamma=0.1, kernel=rbf;, score=0.112 total time=   1.2s\n",
      "[CV 9/10] END ......C=10, gamma=0.1, kernel=rbf;, score=0.112 total time=   1.3s\n",
      "[CV 10/10] END .....C=10, gamma=0.1, kernel=rbf;, score=0.112 total time=   1.3s\n",
      "[CV 1/10] END .....C=10, gamma=0.01, kernel=rbf;, score=0.746 total time=   1.2s\n",
      "[CV 2/10] END .....C=10, gamma=0.01, kernel=rbf;, score=0.730 total time=   1.3s\n",
      "[CV 3/10] END .....C=10, gamma=0.01, kernel=rbf;, score=0.794 total time=   1.3s\n",
      "[CV 4/10] END .....C=10, gamma=0.01, kernel=rbf;, score=0.802 total time=   1.2s\n",
      "[CV 5/10] END .....C=10, gamma=0.01, kernel=rbf;, score=0.762 total time=   1.3s\n",
      "[CV 6/10] END .....C=10, gamma=0.01, kernel=rbf;, score=0.833 total time=   1.2s\n",
      "[CV 7/10] END .....C=10, gamma=0.01, kernel=rbf;, score=0.746 total time=   1.3s\n",
      "[CV 8/10] END .....C=10, gamma=0.01, kernel=rbf;, score=0.768 total time=   1.2s\n",
      "[CV 9/10] END .....C=10, gamma=0.01, kernel=rbf;, score=0.712 total time=   1.3s\n",
      "[CV 10/10] END ....C=10, gamma=0.01, kernel=rbf;, score=0.848 total time=   1.3s\n",
      "[CV 1/10] END ....C=10, gamma=0.001, kernel=rbf;, score=0.992 total time=   0.7s\n",
      "[CV 2/10] END ....C=10, gamma=0.001, kernel=rbf;, score=0.984 total time=   0.6s\n",
      "[CV 3/10] END ....C=10, gamma=0.001, kernel=rbf;, score=0.992 total time=   0.7s\n",
      "[CV 4/10] END ....C=10, gamma=0.001, kernel=rbf;, score=0.984 total time=   0.6s\n",
      "[CV 5/10] END ....C=10, gamma=0.001, kernel=rbf;, score=0.992 total time=   0.6s\n",
      "[CV 6/10] END ....C=10, gamma=0.001, kernel=rbf;, score=0.984 total time=   0.6s\n",
      "[CV 7/10] END ....C=10, gamma=0.001, kernel=rbf;, score=0.984 total time=   0.7s\n",
      "[CV 8/10] END ....C=10, gamma=0.001, kernel=rbf;, score=0.992 total time=   0.6s\n",
      "[CV 9/10] END ....C=10, gamma=0.001, kernel=rbf;, score=0.992 total time=   0.6s\n",
      "[CV 10/10] END ...C=10, gamma=0.001, kernel=rbf;, score=1.000 total time=   0.7s\n",
      "[CV 1/10] END ...C=10, gamma=0.0001, kernel=rbf;, score=0.992 total time=   0.5s\n",
      "[CV 2/10] END ...C=10, gamma=0.0001, kernel=rbf;, score=0.976 total time=   0.4s\n",
      "[CV 3/10] END ...C=10, gamma=0.0001, kernel=rbf;, score=0.992 total time=   0.4s\n",
      "[CV 4/10] END ...C=10, gamma=0.0001, kernel=rbf;, score=0.968 total time=   0.5s\n",
      "[CV 5/10] END ...C=10, gamma=0.0001, kernel=rbf;, score=0.984 total time=   0.4s\n",
      "[CV 6/10] END ...C=10, gamma=0.0001, kernel=rbf;, score=1.000 total time=   0.4s\n",
      "[CV 7/10] END ...C=10, gamma=0.0001, kernel=rbf;, score=0.984 total time=   0.4s\n",
      "[CV 8/10] END ...C=10, gamma=0.0001, kernel=rbf;, score=0.984 total time=   0.4s\n",
      "[CV 9/10] END ...C=10, gamma=0.0001, kernel=rbf;, score=0.984 total time=   0.4s\n",
      "[CV 10/10] END ..C=10, gamma=0.0001, kernel=rbf;, score=0.992 total time=   0.4s\n",
      "[CV 1/10] END .......C=100, gamma=1, kernel=rbf;, score=0.111 total time=   1.6s\n",
      "[CV 2/10] END .......C=100, gamma=1, kernel=rbf;, score=0.103 total time=   1.6s\n",
      "[CV 3/10] END .......C=100, gamma=1, kernel=rbf;, score=0.103 total time=   1.6s\n",
      "[CV 4/10] END .......C=100, gamma=1, kernel=rbf;, score=0.103 total time=   1.3s\n",
      "[CV 5/10] END .......C=100, gamma=1, kernel=rbf;, score=0.103 total time=   1.5s\n",
      "[CV 6/10] END .......C=100, gamma=1, kernel=rbf;, score=0.103 total time=   1.5s\n",
      "[CV 7/10] END .......C=100, gamma=1, kernel=rbf;, score=0.103 total time=   1.6s\n",
      "[CV 8/10] END .......C=100, gamma=1, kernel=rbf;, score=0.112 total time=   1.5s\n",
      "[CV 9/10] END .......C=100, gamma=1, kernel=rbf;, score=0.112 total time=   1.4s\n",
      "[CV 10/10] END ......C=100, gamma=1, kernel=rbf;, score=0.112 total time=   1.4s\n",
      "[CV 1/10] END .....C=100, gamma=0.1, kernel=rbf;, score=0.111 total time=   1.3s\n",
      "[CV 2/10] END .....C=100, gamma=0.1, kernel=rbf;, score=0.103 total time=   1.4s\n",
      "[CV 3/10] END .....C=100, gamma=0.1, kernel=rbf;, score=0.103 total time=   1.5s\n",
      "[CV 4/10] END .....C=100, gamma=0.1, kernel=rbf;, score=0.103 total time=   1.4s\n",
      "[CV 5/10] END .....C=100, gamma=0.1, kernel=rbf;, score=0.103 total time=   1.3s\n",
      "[CV 6/10] END .....C=100, gamma=0.1, kernel=rbf;, score=0.103 total time=   1.3s\n",
      "[CV 7/10] END .....C=100, gamma=0.1, kernel=rbf;, score=0.103 total time=   1.4s\n",
      "[CV 8/10] END .....C=100, gamma=0.1, kernel=rbf;, score=0.112 total time=   1.4s\n",
      "[CV 9/10] END .....C=100, gamma=0.1, kernel=rbf;, score=0.112 total time=   1.5s\n",
      "[CV 10/10] END ....C=100, gamma=0.1, kernel=rbf;, score=0.112 total time=   1.4s\n",
      "[CV 1/10] END ....C=100, gamma=0.01, kernel=rbf;, score=0.746 total time=   1.3s\n",
      "[CV 2/10] END ....C=100, gamma=0.01, kernel=rbf;, score=0.730 total time=   1.4s\n",
      "[CV 3/10] END ....C=100, gamma=0.01, kernel=rbf;, score=0.794 total time=   1.6s\n",
      "[CV 4/10] END ....C=100, gamma=0.01, kernel=rbf;, score=0.802 total time=   1.6s\n",
      "[CV 5/10] END ....C=100, gamma=0.01, kernel=rbf;, score=0.762 total time=   1.4s\n",
      "[CV 6/10] END ....C=100, gamma=0.01, kernel=rbf;, score=0.833 total time=   1.4s\n",
      "[CV 7/10] END ....C=100, gamma=0.01, kernel=rbf;, score=0.746 total time=   1.4s\n",
      "[CV 8/10] END ....C=100, gamma=0.01, kernel=rbf;, score=0.768 total time=   1.4s\n",
      "[CV 9/10] END ....C=100, gamma=0.01, kernel=rbf;, score=0.712 total time=   1.4s\n",
      "[CV 10/10] END ...C=100, gamma=0.01, kernel=rbf;, score=0.848 total time=   1.4s\n",
      "[CV 1/10] END ...C=100, gamma=0.001, kernel=rbf;, score=0.992 total time=   0.7s\n",
      "[CV 2/10] END ...C=100, gamma=0.001, kernel=rbf;, score=0.984 total time=   0.7s\n",
      "[CV 3/10] END ...C=100, gamma=0.001, kernel=rbf;, score=0.992 total time=   0.7s\n",
      "[CV 4/10] END ...C=100, gamma=0.001, kernel=rbf;, score=0.984 total time=   0.7s\n",
      "[CV 5/10] END ...C=100, gamma=0.001, kernel=rbf;, score=0.992 total time=   0.7s\n",
      "[CV 6/10] END ...C=100, gamma=0.001, kernel=rbf;, score=0.984 total time=   0.7s\n",
      "[CV 7/10] END ...C=100, gamma=0.001, kernel=rbf;, score=0.984 total time=   0.8s\n",
      "[CV 8/10] END ...C=100, gamma=0.001, kernel=rbf;, score=0.992 total time=   0.7s\n",
      "[CV 9/10] END ...C=100, gamma=0.001, kernel=rbf;, score=0.992 total time=   0.7s\n",
      "[CV 10/10] END ..C=100, gamma=0.001, kernel=rbf;, score=1.000 total time=   0.7s\n",
      "[CV 1/10] END ..C=100, gamma=0.0001, kernel=rbf;, score=0.976 total time=   0.4s\n",
      "[CV 2/10] END ..C=100, gamma=0.0001, kernel=rbf;, score=0.984 total time=   0.4s\n",
      "[CV 3/10] END ..C=100, gamma=0.0001, kernel=rbf;, score=0.976 total time=   0.4s\n",
      "[CV 4/10] END ..C=100, gamma=0.0001, kernel=rbf;, score=0.960 total time=   0.4s\n",
      "[CV 5/10] END ..C=100, gamma=0.0001, kernel=rbf;, score=0.992 total time=   0.4s\n",
      "[CV 6/10] END ..C=100, gamma=0.0001, kernel=rbf;, score=1.000 total time=   0.4s\n",
      "[CV 7/10] END ..C=100, gamma=0.0001, kernel=rbf;, score=0.984 total time=   0.4s\n",
      "[CV 8/10] END ..C=100, gamma=0.0001, kernel=rbf;, score=1.000 total time=   0.4s\n",
      "[CV 9/10] END ..C=100, gamma=0.0001, kernel=rbf;, score=0.984 total time=   0.3s\n",
      "[CV 10/10] END .C=100, gamma=0.0001, kernel=rbf;, score=0.992 total time=   0.4s\n",
      "[CV 1/10] END ......C=1000, gamma=1, kernel=rbf;, score=0.111 total time=   1.3s\n",
      "[CV 2/10] END ......C=1000, gamma=1, kernel=rbf;, score=0.103 total time=   1.3s\n",
      "[CV 3/10] END ......C=1000, gamma=1, kernel=rbf;, score=0.103 total time=   1.6s\n"
     ]
    },
    {
     "name": "stdout",
     "output_type": "stream",
     "text": [
      "[CV 4/10] END ......C=1000, gamma=1, kernel=rbf;, score=0.103 total time=   1.5s\n",
      "[CV 5/10] END ......C=1000, gamma=1, kernel=rbf;, score=0.103 total time=   1.5s\n",
      "[CV 6/10] END ......C=1000, gamma=1, kernel=rbf;, score=0.103 total time=   1.4s\n",
      "[CV 7/10] END ......C=1000, gamma=1, kernel=rbf;, score=0.103 total time=   1.5s\n",
      "[CV 8/10] END ......C=1000, gamma=1, kernel=rbf;, score=0.112 total time=   1.4s\n",
      "[CV 9/10] END ......C=1000, gamma=1, kernel=rbf;, score=0.112 total time=   1.5s\n",
      "[CV 10/10] END .....C=1000, gamma=1, kernel=rbf;, score=0.112 total time=   1.5s\n",
      "[CV 1/10] END ....C=1000, gamma=0.1, kernel=rbf;, score=0.111 total time=   1.4s\n",
      "[CV 2/10] END ....C=1000, gamma=0.1, kernel=rbf;, score=0.103 total time=   1.5s\n",
      "[CV 3/10] END ....C=1000, gamma=0.1, kernel=rbf;, score=0.103 total time=   1.5s\n",
      "[CV 4/10] END ....C=1000, gamma=0.1, kernel=rbf;, score=0.103 total time=   1.4s\n",
      "[CV 5/10] END ....C=1000, gamma=0.1, kernel=rbf;, score=0.103 total time=   1.3s\n",
      "[CV 6/10] END ....C=1000, gamma=0.1, kernel=rbf;, score=0.103 total time=   1.3s\n",
      "[CV 7/10] END ....C=1000, gamma=0.1, kernel=rbf;, score=0.103 total time=   1.4s\n",
      "[CV 8/10] END ....C=1000, gamma=0.1, kernel=rbf;, score=0.112 total time=   1.3s\n",
      "[CV 9/10] END ....C=1000, gamma=0.1, kernel=rbf;, score=0.112 total time=   1.3s\n",
      "[CV 10/10] END ...C=1000, gamma=0.1, kernel=rbf;, score=0.112 total time=   1.4s\n",
      "[CV 1/10] END ...C=1000, gamma=0.01, kernel=rbf;, score=0.746 total time=   1.3s\n",
      "[CV 2/10] END ...C=1000, gamma=0.01, kernel=rbf;, score=0.730 total time=   1.3s\n",
      "[CV 3/10] END ...C=1000, gamma=0.01, kernel=rbf;, score=0.794 total time=   1.4s\n",
      "[CV 4/10] END ...C=1000, gamma=0.01, kernel=rbf;, score=0.802 total time=   1.5s\n",
      "[CV 5/10] END ...C=1000, gamma=0.01, kernel=rbf;, score=0.762 total time=   1.2s\n",
      "[CV 6/10] END ...C=1000, gamma=0.01, kernel=rbf;, score=0.833 total time=   1.3s\n",
      "[CV 7/10] END ...C=1000, gamma=0.01, kernel=rbf;, score=0.746 total time=   1.3s\n",
      "[CV 8/10] END ...C=1000, gamma=0.01, kernel=rbf;, score=0.768 total time=   1.3s\n",
      "[CV 9/10] END ...C=1000, gamma=0.01, kernel=rbf;, score=0.712 total time=   1.3s\n",
      "[CV 10/10] END ..C=1000, gamma=0.01, kernel=rbf;, score=0.848 total time=   1.5s\n",
      "[CV 1/10] END ..C=1000, gamma=0.001, kernel=rbf;, score=0.992 total time=   0.7s\n",
      "[CV 2/10] END ..C=1000, gamma=0.001, kernel=rbf;, score=0.984 total time=   0.7s\n",
      "[CV 3/10] END ..C=1000, gamma=0.001, kernel=rbf;, score=0.992 total time=   0.6s\n",
      "[CV 4/10] END ..C=1000, gamma=0.001, kernel=rbf;, score=0.984 total time=   0.6s\n",
      "[CV 5/10] END ..C=1000, gamma=0.001, kernel=rbf;, score=0.992 total time=   0.6s\n",
      "[CV 6/10] END ..C=1000, gamma=0.001, kernel=rbf;, score=0.984 total time=   0.6s\n",
      "[CV 7/10] END ..C=1000, gamma=0.001, kernel=rbf;, score=0.984 total time=   0.6s\n",
      "[CV 8/10] END ..C=1000, gamma=0.001, kernel=rbf;, score=0.992 total time=   0.8s\n",
      "[CV 9/10] END ..C=1000, gamma=0.001, kernel=rbf;, score=0.992 total time=   0.7s\n",
      "[CV 10/10] END .C=1000, gamma=0.001, kernel=rbf;, score=1.000 total time=   0.7s\n",
      "[CV 1/10] END .C=1000, gamma=0.0001, kernel=rbf;, score=0.976 total time=   0.4s\n",
      "[CV 2/10] END .C=1000, gamma=0.0001, kernel=rbf;, score=0.984 total time=   0.3s\n",
      "[CV 3/10] END .C=1000, gamma=0.0001, kernel=rbf;, score=0.976 total time=   0.4s\n",
      "[CV 4/10] END .C=1000, gamma=0.0001, kernel=rbf;, score=0.960 total time=   0.4s\n",
      "[CV 5/10] END .C=1000, gamma=0.0001, kernel=rbf;, score=0.992 total time=   0.4s\n",
      "[CV 6/10] END .C=1000, gamma=0.0001, kernel=rbf;, score=1.000 total time=   0.4s\n",
      "[CV 7/10] END .C=1000, gamma=0.0001, kernel=rbf;, score=0.984 total time=   0.4s\n",
      "[CV 8/10] END .C=1000, gamma=0.0001, kernel=rbf;, score=1.000 total time=   0.4s\n",
      "[CV 9/10] END .C=1000, gamma=0.0001, kernel=rbf;, score=0.984 total time=   0.4s\n",
      "[CV 10/10] END C=1000, gamma=0.0001, kernel=rbf;, score=0.992 total time=   0.4s\n"
     ]
    },
    {
     "data": {
      "text/html": [
       "<style>#sk-container-id-13 {color: black;background-color: white;}#sk-container-id-13 pre{padding: 0;}#sk-container-id-13 div.sk-toggleable {background-color: white;}#sk-container-id-13 label.sk-toggleable__label {cursor: pointer;display: block;width: 100%;margin-bottom: 0;padding: 0.3em;box-sizing: border-box;text-align: center;}#sk-container-id-13 label.sk-toggleable__label-arrow:before {content: \"▸\";float: left;margin-right: 0.25em;color: #696969;}#sk-container-id-13 label.sk-toggleable__label-arrow:hover:before {color: black;}#sk-container-id-13 div.sk-estimator:hover label.sk-toggleable__label-arrow:before {color: black;}#sk-container-id-13 div.sk-toggleable__content {max-height: 0;max-width: 0;overflow: hidden;text-align: left;background-color: #f0f8ff;}#sk-container-id-13 div.sk-toggleable__content pre {margin: 0.2em;color: black;border-radius: 0.25em;background-color: #f0f8ff;}#sk-container-id-13 input.sk-toggleable__control:checked~div.sk-toggleable__content {max-height: 200px;max-width: 100%;overflow: auto;}#sk-container-id-13 input.sk-toggleable__control:checked~label.sk-toggleable__label-arrow:before {content: \"▾\";}#sk-container-id-13 div.sk-estimator input.sk-toggleable__control:checked~label.sk-toggleable__label {background-color: #d4ebff;}#sk-container-id-13 div.sk-label input.sk-toggleable__control:checked~label.sk-toggleable__label {background-color: #d4ebff;}#sk-container-id-13 input.sk-hidden--visually {border: 0;clip: rect(1px 1px 1px 1px);clip: rect(1px, 1px, 1px, 1px);height: 1px;margin: -1px;overflow: hidden;padding: 0;position: absolute;width: 1px;}#sk-container-id-13 div.sk-estimator {font-family: monospace;background-color: #f0f8ff;border: 1px dotted black;border-radius: 0.25em;box-sizing: border-box;margin-bottom: 0.5em;}#sk-container-id-13 div.sk-estimator:hover {background-color: #d4ebff;}#sk-container-id-13 div.sk-parallel-item::after {content: \"\";width: 100%;border-bottom: 1px solid gray;flex-grow: 1;}#sk-container-id-13 div.sk-label:hover label.sk-toggleable__label {background-color: #d4ebff;}#sk-container-id-13 div.sk-serial::before {content: \"\";position: absolute;border-left: 1px solid gray;box-sizing: border-box;top: 0;bottom: 0;left: 50%;z-index: 0;}#sk-container-id-13 div.sk-serial {display: flex;flex-direction: column;align-items: center;background-color: white;padding-right: 0.2em;padding-left: 0.2em;position: relative;}#sk-container-id-13 div.sk-item {position: relative;z-index: 1;}#sk-container-id-13 div.sk-parallel {display: flex;align-items: stretch;justify-content: center;background-color: white;position: relative;}#sk-container-id-13 div.sk-item::before, #sk-container-id-13 div.sk-parallel-item::before {content: \"\";position: absolute;border-left: 1px solid gray;box-sizing: border-box;top: 0;bottom: 0;left: 50%;z-index: -1;}#sk-container-id-13 div.sk-parallel-item {display: flex;flex-direction: column;z-index: 1;position: relative;background-color: white;}#sk-container-id-13 div.sk-parallel-item:first-child::after {align-self: flex-end;width: 50%;}#sk-container-id-13 div.sk-parallel-item:last-child::after {align-self: flex-start;width: 50%;}#sk-container-id-13 div.sk-parallel-item:only-child::after {width: 0;}#sk-container-id-13 div.sk-dashed-wrapped {border: 1px dashed gray;margin: 0 0.4em 0.5em 0.4em;box-sizing: border-box;padding-bottom: 0.4em;background-color: white;}#sk-container-id-13 div.sk-label label {font-family: monospace;font-weight: bold;display: inline-block;line-height: 1.2em;}#sk-container-id-13 div.sk-label-container {text-align: center;}#sk-container-id-13 div.sk-container {/* jupyter's `normalize.less` sets `[hidden] { display: none; }` but bootstrap.min.css set `[hidden] { display: none !important; }` so we also need the `!important` here to be able to override the default hidden behavior on the sphinx rendered scikit-learn.org. See: https://github.com/scikit-learn/scikit-learn/issues/21755 */display: inline-block !important;position: relative;}#sk-container-id-13 div.sk-text-repr-fallback {display: none;}</style><div id=\"sk-container-id-13\" class=\"sk-top-container\"><div class=\"sk-text-repr-fallback\"><pre>GridSearchCV(cv=10, estimator=SVC(),\n",
       "             param_grid={&#x27;C&#x27;: [0.1, 1, 10, 100, 1000],\n",
       "                         &#x27;gamma&#x27;: [1, 0.1, 0.01, 0.001, 0.0001],\n",
       "                         &#x27;kernel&#x27;: [&#x27;rbf&#x27;]},\n",
       "             verbose=3)</pre><b>In a Jupyter environment, please rerun this cell to show the HTML representation or trust the notebook. <br />On GitHub, the HTML representation is unable to render, please try loading this page with nbviewer.org.</b></div><div class=\"sk-container\" hidden><div class=\"sk-item sk-dashed-wrapped\"><div class=\"sk-label-container\"><div class=\"sk-label sk-toggleable\"><input class=\"sk-toggleable__control sk-hidden--visually\" id=\"sk-estimator-id-42\" type=\"checkbox\" ><label for=\"sk-estimator-id-42\" class=\"sk-toggleable__label sk-toggleable__label-arrow\">GridSearchCV</label><div class=\"sk-toggleable__content\"><pre>GridSearchCV(cv=10, estimator=SVC(),\n",
       "             param_grid={&#x27;C&#x27;: [0.1, 1, 10, 100, 1000],\n",
       "                         &#x27;gamma&#x27;: [1, 0.1, 0.01, 0.001, 0.0001],\n",
       "                         &#x27;kernel&#x27;: [&#x27;rbf&#x27;]},\n",
       "             verbose=3)</pre></div></div></div><div class=\"sk-parallel\"><div class=\"sk-parallel-item\"><div class=\"sk-item\"><div class=\"sk-label-container\"><div class=\"sk-label sk-toggleable\"><input class=\"sk-toggleable__control sk-hidden--visually\" id=\"sk-estimator-id-43\" type=\"checkbox\" ><label for=\"sk-estimator-id-43\" class=\"sk-toggleable__label sk-toggleable__label-arrow\">estimator: SVC</label><div class=\"sk-toggleable__content\"><pre>SVC()</pre></div></div></div><div class=\"sk-serial\"><div class=\"sk-item\"><div class=\"sk-estimator sk-toggleable\"><input class=\"sk-toggleable__control sk-hidden--visually\" id=\"sk-estimator-id-44\" type=\"checkbox\" ><label for=\"sk-estimator-id-44\" class=\"sk-toggleable__label sk-toggleable__label-arrow\">SVC</label><div class=\"sk-toggleable__content\"><pre>SVC()</pre></div></div></div></div></div></div></div></div></div></div>"
      ],
      "text/plain": [
       "GridSearchCV(cv=10, estimator=SVC(),\n",
       "             param_grid={'C': [0.1, 1, 10, 100, 1000],\n",
       "                         'gamma': [1, 0.1, 0.01, 0.001, 0.0001],\n",
       "                         'kernel': ['rbf']},\n",
       "             verbose=3)"
      ]
     },
     "execution_count": 634,
     "metadata": {},
     "output_type": "execute_result"
    }
   ],
   "source": [
    "from sklearn.model_selection import GridSearchCV\n",
    "  \n",
    "# defining parameter range\n",
    "param_grid = {'C': [0.1, 1, 10, 100, 1000], \n",
    "              'gamma': [1, 0.1, 0.01, 0.001, 0.0001],\n",
    "              'kernel': ['rbf']} \n",
    "  \n",
    "grid = GridSearchCV(svc_model, param_grid, refit = True, cv= 10, verbose = 3)\n",
    "  \n",
    "# fitting the model for grid search\n",
    "grid.fit(X_train, y_train)"
   ]
  },
  {
   "cell_type": "code",
   "execution_count": 635,
   "id": "4dd28eba",
   "metadata": {},
   "outputs": [
    {
     "name": "stdout",
     "output_type": "stream",
     "text": [
      "{'C': 10, 'gamma': 0.001, 'kernel': 'rbf'}\n"
     ]
    }
   ],
   "source": [
    "# print best parameter after tuning\n",
    "print(grid.best_params_)"
   ]
  },
  {
   "cell_type": "code",
   "execution_count": 636,
   "id": "c0ac0606",
   "metadata": {},
   "outputs": [
    {
     "name": "stdout",
     "output_type": "stream",
     "text": [
      "SVC(C=10, gamma=0.001)\n"
     ]
    }
   ],
   "source": [
    "# print hyper-parameter \n",
    "print(grid.best_estimator_)"
   ]
  },
  {
   "cell_type": "code",
   "execution_count": 637,
   "id": "19ad9408",
   "metadata": {},
   "outputs": [
    {
     "name": "stdout",
     "output_type": "stream",
     "text": [
      "Training accuracy: 1.0\n",
      "Testing accuracy : 1.0\n"
     ]
    },
    {
     "name": "stderr",
     "output_type": "stream",
     "text": [
      "C:\\Users\\Vishal.shah.LAMINAAR\\AppData\\Local\\Temp\\ipykernel_11512\\1742566251.py:10: UserWarning: You passed a edgecolor/edgecolors ('g') for an unfilled marker ('+').  Matplotlib is ignoring the edgecolor in favor of the facecolor.  This behavior may change in the future.\n",
      "  plt.scatter(svc_model.support_vectors_[:, 0], svc_model.support_vectors_[:, 1], s=100, marker='+', edgecolors='g', zorder=10)\n"
     ]
    },
    {
     "data": {
      "image/png": "[encoded data removed]",
      "text/plain": [
       "<Figure size 640x480 with 1 Axes>"
      ]
     },
     "metadata": {},
     "output_type": "display_data"
    }
   ],
   "source": [
    "# using best parameters from hypertuning\n",
    "\n",
    "svc_model = svm.SVC(kernel='rbf',C=10, gamma=0.001)\n",
    "\n",
    "svc_model.fit(X,y)\n",
    "plt.title('RBF kernel')\n",
    "#Training accuracy:\n",
    "print(\"Training accuracy: {}\".format(metrics.accuracy_score(y_train, svc_model.predict(X_train))))\n",
    "print(\"Testing accuracy : {}\".format(metrics.accuracy_score(y_test, svc_model.predict(X_test))))\n",
    "plt.scatter(svc_model.support_vectors_[:, 0], svc_model.support_vectors_[:, 1], s=100, marker='+', edgecolors='g', zorder=10)\n",
    "plt.show()"
   ]
  },
  {
   "cell_type": "code",
   "execution_count": 643,
   "id": "2220b493",
   "metadata": {},
   "outputs": [],
   "source": [
    "X = digitdata.data\n",
    "y = digitdata.target\n",
    "X_train, X_test, y_train, y_test = train_test_split(X,y, test_size=0.3)"
   ]
  },
  {
   "cell_type": "code",
   "execution_count": 644,
   "id": "61cfe2d6",
   "metadata": {},
   "outputs": [],
   "source": [
    "y_train_predict = svc_model.predict(X_train)"
   ]
  },
  {
   "cell_type": "code",
   "execution_count": 645,
   "id": "1699fa5b",
   "metadata": {},
   "outputs": [],
   "source": [
    "y_test_predict = svc_model.predict(X_test)"
   ]
  },
  {
   "cell_type": "code",
   "execution_count": 646,
   "id": "9a47f0ca",
   "metadata": {},
   "outputs": [
    {
     "name": "stdout",
     "output_type": "stream",
     "text": [
      "              precision    recall  f1-score   support\n",
      "\n",
      "           0       1.00      1.00      1.00       134\n",
      "           1       1.00      1.00      1.00       127\n",
      "           2       1.00      1.00      1.00       122\n",
      "           3       1.00      1.00      1.00       116\n",
      "           4       1.00      1.00      1.00       122\n",
      "           5       1.00      1.00      1.00       134\n",
      "           6       1.00      1.00      1.00       126\n",
      "           7       1.00      1.00      1.00       127\n",
      "           8       1.00      1.00      1.00       121\n",
      "           9       1.00      1.00      1.00       128\n",
      "\n",
      "    accuracy                           1.00      1257\n",
      "   macro avg       1.00      1.00      1.00      1257\n",
      "weighted avg       1.00      1.00      1.00      1257\n",
      "\n"
     ]
    }
   ],
   "source": [
    "from sklearn.metrics import classification_report\n",
    "\n",
    "print(classification_report(y_train, y_train_predict))"
   ]
  },
  {
   "cell_type": "code",
   "execution_count": 647,
   "id": "8a7abe77",
   "metadata": {},
   "outputs": [
    {
     "name": "stdout",
     "output_type": "stream",
     "text": [
      "              precision    recall  f1-score   support\n",
      "\n",
      "           0       1.00      1.00      1.00        44\n",
      "           1       1.00      1.00      1.00        55\n",
      "           2       1.00      1.00      1.00        55\n",
      "           3       1.00      1.00      1.00        67\n",
      "           4       1.00      1.00      1.00        59\n",
      "           5       1.00      1.00      1.00        48\n",
      "           6       1.00      1.00      1.00        55\n",
      "           7       1.00      1.00      1.00        52\n",
      "           8       1.00      1.00      1.00        53\n",
      "           9       1.00      1.00      1.00        52\n",
      "\n",
      "    accuracy                           1.00       540\n",
      "   macro avg       1.00      1.00      1.00       540\n",
      "weighted avg       1.00      1.00      1.00       540\n",
      "\n"
     ]
    }
   ],
   "source": [
    "print(classification_report(y_test, y_test_predict))"
   ]
  },
  {
   "cell_type": "code",
   "execution_count": null,
   "id": "36a94525",
   "metadata": {},
   "outputs": [],
   "source": []
  },
  {
   "cell_type": "code",
   "execution_count": null,
   "id": "54a64610",
   "metadata": {},
   "outputs": [],
   "source": []
  },
  {
   "cell_type": "code",
   "execution_count": null,
   "id": "e00087ad",
   "metadata": {},
   "outputs": [],
   "source": [
    "# 7. Load \"diabetes\" datasets from SKlearn and print the dimension of the dataset. Apply tSNE method \n",
    "# to reduce dimension and select first three components. Plot the selected components using \n",
    "# appropriate visualisation technique."
   ]
  },
  {
   "cell_type": "code",
   "execution_count": 496,
   "id": "c91b9d61",
   "metadata": {},
   "outputs": [
    {
     "data": {
      "text/plain": [
       "dict_keys(['data', 'target', 'frame', 'DESCR', 'feature_names', 'data_filename', 'target_filename', 'data_module'])"
      ]
     },
     "execution_count": 496,
     "metadata": {},
     "output_type": "execute_result"
    }
   ],
   "source": [
    "from sklearn import datasets\n",
    "diabetes = datasets.load_diabetes()\n",
    "\n",
    "diabetes.keys()"
   ]
  },
  {
   "cell_type": "code",
   "execution_count": 497,
   "id": "8a66a3be",
   "metadata": {},
   "outputs": [],
   "source": [
    "X = diabetes.data\n",
    "y = diabetes.target"
   ]
  },
  {
   "cell_type": "code",
   "execution_count": null,
   "id": "a0d2a621",
   "metadata": {},
   "outputs": [],
   "source": []
  },
  {
   "cell_type": "code",
   "execution_count": 512,
   "id": "e1122d76",
   "metadata": {},
   "outputs": [
    {
     "data": {
      "text/html": [
       "<div>\n",
       "<style scoped>\n",
       "    .dataframe tbody tr th:only-of-type {\n",
       "        vertical-align: middle;\n",
       "    }\n",
       "\n",
       "    .dataframe tbody tr th {\n",
       "        vertical-align: top;\n",
       "    }\n",
       "\n",
       "    .dataframe thead th {\n",
       "        text-align: right;\n",
       "    }\n",
       "</style>\n",
       "<table border=\"1\" class=\"dataframe\">\n",
       "  <thead>\n",
       "    <tr style=\"text-align: right;\">\n",
       "      <th></th>\n",
       "      <th>age</th>\n",
       "      <th>sex</th>\n",
       "      <th>bmi</th>\n",
       "      <th>bp</th>\n",
       "      <th>s1</th>\n",
       "      <th>s2</th>\n",
       "      <th>s3</th>\n",
       "      <th>s4</th>\n",
       "      <th>s5</th>\n",
       "      <th>s6</th>\n",
       "    </tr>\n",
       "  </thead>\n",
       "  <tbody>\n",
       "    <tr>\n",
       "      <th>0</th>\n",
       "      <td>0.038076</td>\n",
       "      <td>0.050680</td>\n",
       "      <td>0.061696</td>\n",
       "      <td>0.021872</td>\n",
       "      <td>-0.044223</td>\n",
       "      <td>-0.034821</td>\n",
       "      <td>-0.043401</td>\n",
       "      <td>-0.002592</td>\n",
       "      <td>0.019907</td>\n",
       "      <td>-0.017646</td>\n",
       "    </tr>\n",
       "    <tr>\n",
       "      <th>1</th>\n",
       "      <td>-0.001882</td>\n",
       "      <td>-0.044642</td>\n",
       "      <td>-0.051474</td>\n",
       "      <td>-0.026328</td>\n",
       "      <td>-0.008449</td>\n",
       "      <td>-0.019163</td>\n",
       "      <td>0.074412</td>\n",
       "      <td>-0.039493</td>\n",
       "      <td>-0.068332</td>\n",
       "      <td>-0.092204</td>\n",
       "    </tr>\n",
       "    <tr>\n",
       "      <th>2</th>\n",
       "      <td>0.085299</td>\n",
       "      <td>0.050680</td>\n",
       "      <td>0.044451</td>\n",
       "      <td>-0.005670</td>\n",
       "      <td>-0.045599</td>\n",
       "      <td>-0.034194</td>\n",
       "      <td>-0.032356</td>\n",
       "      <td>-0.002592</td>\n",
       "      <td>0.002861</td>\n",
       "      <td>-0.025930</td>\n",
       "    </tr>\n",
       "    <tr>\n",
       "      <th>3</th>\n",
       "      <td>-0.089063</td>\n",
       "      <td>-0.044642</td>\n",
       "      <td>-0.011595</td>\n",
       "      <td>-0.036656</td>\n",
       "      <td>0.012191</td>\n",
       "      <td>0.024991</td>\n",
       "      <td>-0.036038</td>\n",
       "      <td>0.034309</td>\n",
       "      <td>0.022688</td>\n",
       "      <td>-0.009362</td>\n",
       "    </tr>\n",
       "    <tr>\n",
       "      <th>4</th>\n",
       "      <td>0.005383</td>\n",
       "      <td>-0.044642</td>\n",
       "      <td>-0.036385</td>\n",
       "      <td>0.021872</td>\n",
       "      <td>0.003935</td>\n",
       "      <td>0.015596</td>\n",
       "      <td>0.008142</td>\n",
       "      <td>-0.002592</td>\n",
       "      <td>-0.031988</td>\n",
       "      <td>-0.046641</td>\n",
       "    </tr>\n",
       "    <tr>\n",
       "      <th>...</th>\n",
       "      <td>...</td>\n",
       "      <td>...</td>\n",
       "      <td>...</td>\n",
       "      <td>...</td>\n",
       "      <td>...</td>\n",
       "      <td>...</td>\n",
       "      <td>...</td>\n",
       "      <td>...</td>\n",
       "      <td>...</td>\n",
       "      <td>...</td>\n",
       "    </tr>\n",
       "    <tr>\n",
       "      <th>437</th>\n",
       "      <td>0.041708</td>\n",
       "      <td>0.050680</td>\n",
       "      <td>0.019662</td>\n",
       "      <td>0.059744</td>\n",
       "      <td>-0.005697</td>\n",
       "      <td>-0.002566</td>\n",
       "      <td>-0.028674</td>\n",
       "      <td>-0.002592</td>\n",
       "      <td>0.031193</td>\n",
       "      <td>0.007207</td>\n",
       "    </tr>\n",
       "    <tr>\n",
       "      <th>438</th>\n",
       "      <td>-0.005515</td>\n",
       "      <td>0.050680</td>\n",
       "      <td>-0.015906</td>\n",
       "      <td>-0.067642</td>\n",
       "      <td>0.049341</td>\n",
       "      <td>0.079165</td>\n",
       "      <td>-0.028674</td>\n",
       "      <td>0.034309</td>\n",
       "      <td>-0.018114</td>\n",
       "      <td>0.044485</td>\n",
       "    </tr>\n",
       "    <tr>\n",
       "      <th>439</th>\n",
       "      <td>0.041708</td>\n",
       "      <td>0.050680</td>\n",
       "      <td>-0.015906</td>\n",
       "      <td>0.017293</td>\n",
       "      <td>-0.037344</td>\n",
       "      <td>-0.013840</td>\n",
       "      <td>-0.024993</td>\n",
       "      <td>-0.011080</td>\n",
       "      <td>-0.046883</td>\n",
       "      <td>0.015491</td>\n",
       "    </tr>\n",
       "    <tr>\n",
       "      <th>440</th>\n",
       "      <td>-0.045472</td>\n",
       "      <td>-0.044642</td>\n",
       "      <td>0.039062</td>\n",
       "      <td>0.001215</td>\n",
       "      <td>0.016318</td>\n",
       "      <td>0.015283</td>\n",
       "      <td>-0.028674</td>\n",
       "      <td>0.026560</td>\n",
       "      <td>0.044529</td>\n",
       "      <td>-0.025930</td>\n",
       "    </tr>\n",
       "    <tr>\n",
       "      <th>441</th>\n",
       "      <td>-0.045472</td>\n",
       "      <td>-0.044642</td>\n",
       "      <td>-0.073030</td>\n",
       "      <td>-0.081413</td>\n",
       "      <td>0.083740</td>\n",
       "      <td>0.027809</td>\n",
       "      <td>0.173816</td>\n",
       "      <td>-0.039493</td>\n",
       "      <td>-0.004222</td>\n",
       "      <td>0.003064</td>\n",
       "    </tr>\n",
       "  </tbody>\n",
       "</table>\n",
       "<p>442 rows × 10 columns</p>\n",
       "</div>"
      ],
      "text/plain": [
       "          age       sex       bmi        bp        s1        s2        s3  \\\n",
       "0    0.038076  0.050680  0.061696  0.021872 -0.044223 -0.034821 -0.043401   \n",
       "1   -0.001882 -0.044642 -0.051474 -0.026328 -0.008449 -0.019163  0.074412   \n",
       "2    0.085299  0.050680  0.044451 -0.005670 -0.045599 -0.034194 -0.032356   \n",
       "3   -0.089063 -0.044642 -0.011595 -0.036656  0.012191  0.024991 -0.036038   \n",
       "4    0.005383 -0.044642 -0.036385  0.021872  0.003935  0.015596  0.008142   \n",
       "..        ...       ...       ...       ...       ...       ...       ...   \n",
       "437  0.041708  0.050680  0.019662  0.059744 -0.005697 -0.002566 -0.028674   \n",
       "438 -0.005515  0.050680 -0.015906 -0.067642  0.049341  0.079165 -0.028674   \n",
       "439  0.041708  0.050680 -0.015906  0.017293 -0.037344 -0.013840 -0.024993   \n",
       "440 -0.045472 -0.044642  0.039062  0.001215  0.016318  0.015283 -0.028674   \n",
       "441 -0.045472 -0.044642 -0.073030 -0.081413  0.083740  0.027809  0.173816   \n",
       "\n",
       "           s4        s5        s6  \n",
       "0   -0.002592  0.019907 -0.017646  \n",
       "1   -0.039493 -0.068332 -0.092204  \n",
       "2   -0.002592  0.002861 -0.025930  \n",
       "3    0.034309  0.022688 -0.009362  \n",
       "4   -0.002592 -0.031988 -0.046641  \n",
       "..        ...       ...       ...  \n",
       "437 -0.002592  0.031193  0.007207  \n",
       "438  0.034309 -0.018114  0.044485  \n",
       "439 -0.011080 -0.046883  0.015491  \n",
       "440  0.026560  0.044529 -0.025930  \n",
       "441 -0.039493 -0.004222  0.003064  \n",
       "\n",
       "[442 rows x 10 columns]"
      ]
     },
     "execution_count": 512,
     "metadata": {},
     "output_type": "execute_result"
    }
   ],
   "source": [
    "df = pd.DataFrame(X,y,columns = diabetes.feature_names)\n",
    "df.reset_index(inplace= True, drop=True)\n",
    "df"
   ]
  },
  {
   "cell_type": "code",
   "execution_count": 513,
   "id": "cf0b88bd",
   "metadata": {},
   "outputs": [
    {
     "data": {
      "text/plain": [
       "(442, 10)"
      ]
     },
     "execution_count": 513,
     "metadata": {},
     "output_type": "execute_result"
    }
   ],
   "source": [
    "df.shape"
   ]
  },
  {
   "cell_type": "code",
   "execution_count": 514,
   "id": "5c5f4c66",
   "metadata": {},
   "outputs": [],
   "source": [
    "from sklearn.preprocessing import StandardScaler\n",
    "standarized_data = StandardScaler().fit_transform(X)"
   ]
  },
  {
   "cell_type": "code",
   "execution_count": 515,
   "id": "11815d66",
   "metadata": {},
   "outputs": [
    {
     "data": {
      "text/plain": [
       "array([[ 4.2217355 ,  4.140221  ,  1.2495553 ],\n",
       "       [-4.084664  , -0.1069193 , -1.9120344 ],\n",
       "       [ 3.8716905 ,  4.535014  ,  0.6883042 ],\n",
       "       ...,\n",
       "       [ 2.4610002 ,  3.7442153 , -0.07536019],\n",
       "       [-1.2828026 , -0.9177428 ,  3.4741042 ],\n",
       "       [-3.4608424 , -1.5937581 , -3.558737  ]], dtype=float32)"
      ]
     },
     "execution_count": 515,
     "metadata": {},
     "output_type": "execute_result"
    }
   ],
   "source": [
    "from sklearn.manifold import TSNE\n",
    "model = TSNE(n_components=3, random_state=0,perplexity=50, n_iter=5000)\n",
    "tsne_data = model.fit_transform(standarized_data)\n",
    "tsne_data"
   ]
  },
  {
   "cell_type": "code",
   "execution_count": 516,
   "id": "abd6a372",
   "metadata": {},
   "outputs": [
    {
     "data": {
      "text/html": [
       "<div>\n",
       "<style scoped>\n",
       "    .dataframe tbody tr th:only-of-type {\n",
       "        vertical-align: middle;\n",
       "    }\n",
       "\n",
       "    .dataframe tbody tr th {\n",
       "        vertical-align: top;\n",
       "    }\n",
       "\n",
       "    .dataframe thead th {\n",
       "        text-align: right;\n",
       "    }\n",
       "</style>\n",
       "<table border=\"1\" class=\"dataframe\">\n",
       "  <thead>\n",
       "    <tr style=\"text-align: right;\">\n",
       "      <th></th>\n",
       "      <th>dimension1</th>\n",
       "      <th>dimension2</th>\n",
       "      <th>dimension3</th>\n",
       "      <th>label</th>\n",
       "    </tr>\n",
       "  </thead>\n",
       "  <tbody>\n",
       "    <tr>\n",
       "      <th>0</th>\n",
       "      <td>4.221735</td>\n",
       "      <td>4.140221</td>\n",
       "      <td>1.249555</td>\n",
       "      <td>151.0</td>\n",
       "    </tr>\n",
       "    <tr>\n",
       "      <th>1</th>\n",
       "      <td>-4.084664</td>\n",
       "      <td>-0.106919</td>\n",
       "      <td>-1.912034</td>\n",
       "      <td>75.0</td>\n",
       "    </tr>\n",
       "    <tr>\n",
       "      <th>2</th>\n",
       "      <td>3.871691</td>\n",
       "      <td>4.535014</td>\n",
       "      <td>0.688304</td>\n",
       "      <td>141.0</td>\n",
       "    </tr>\n",
       "    <tr>\n",
       "      <th>3</th>\n",
       "      <td>-1.273866</td>\n",
       "      <td>0.288218</td>\n",
       "      <td>2.790769</td>\n",
       "      <td>206.0</td>\n",
       "    </tr>\n",
       "    <tr>\n",
       "      <th>4</th>\n",
       "      <td>-1.689274</td>\n",
       "      <td>-1.633593</td>\n",
       "      <td>0.718449</td>\n",
       "      <td>135.0</td>\n",
       "    </tr>\n",
       "    <tr>\n",
       "      <th>...</th>\n",
       "      <td>...</td>\n",
       "      <td>...</td>\n",
       "      <td>...</td>\n",
       "      <td>...</td>\n",
       "    </tr>\n",
       "    <tr>\n",
       "      <th>437</th>\n",
       "      <td>3.805457</td>\n",
       "      <td>1.517073</td>\n",
       "      <td>0.785267</td>\n",
       "      <td>178.0</td>\n",
       "    </tr>\n",
       "    <tr>\n",
       "      <th>438</th>\n",
       "      <td>4.092041</td>\n",
       "      <td>0.365194</td>\n",
       "      <td>-3.360055</td>\n",
       "      <td>104.0</td>\n",
       "    </tr>\n",
       "    <tr>\n",
       "      <th>439</th>\n",
       "      <td>2.461000</td>\n",
       "      <td>3.744215</td>\n",
       "      <td>-0.075360</td>\n",
       "      <td>132.0</td>\n",
       "    </tr>\n",
       "    <tr>\n",
       "      <th>440</th>\n",
       "      <td>-1.282803</td>\n",
       "      <td>-0.917743</td>\n",
       "      <td>3.474104</td>\n",
       "      <td>220.0</td>\n",
       "    </tr>\n",
       "    <tr>\n",
       "      <th>441</th>\n",
       "      <td>-3.460842</td>\n",
       "      <td>-1.593758</td>\n",
       "      <td>-3.558737</td>\n",
       "      <td>57.0</td>\n",
       "    </tr>\n",
       "  </tbody>\n",
       "</table>\n",
       "<p>442 rows × 4 columns</p>\n",
       "</div>"
      ],
      "text/plain": [
       "     dimension1  dimension2  dimension3  label\n",
       "0      4.221735    4.140221    1.249555  151.0\n",
       "1     -4.084664   -0.106919   -1.912034   75.0\n",
       "2      3.871691    4.535014    0.688304  141.0\n",
       "3     -1.273866    0.288218    2.790769  206.0\n",
       "4     -1.689274   -1.633593    0.718449  135.0\n",
       "..          ...         ...         ...    ...\n",
       "437    3.805457    1.517073    0.785267  178.0\n",
       "438    4.092041    0.365194   -3.360055  104.0\n",
       "439    2.461000    3.744215   -0.075360  132.0\n",
       "440   -1.282803   -0.917743    3.474104  220.0\n",
       "441   -3.460842   -1.593758   -3.558737   57.0\n",
       "\n",
       "[442 rows x 4 columns]"
      ]
     },
     "execution_count": 516,
     "metadata": {},
     "output_type": "execute_result"
    }
   ],
   "source": [
    "tsne_concated = np.vstack((tsne_data.T,diabetes.target)).T\n",
    "tsne_df = pd.DataFrame(data = tsne_concated , columns = ['dimension1','dimension2','dimension3','label'])\n",
    "tsne_df"
   ]
  },
  {
   "cell_type": "code",
   "execution_count": 518,
   "id": "d21f1e61",
   "metadata": {
    "scrolled": true
   },
   "outputs": [
    {
     "data": {
      "image/png": "[encoded data removed]",
      "text/plain": [
       "<Figure size 700x700 with 1 Axes>"
      ]
     },
     "metadata": {},
     "output_type": "display_data"
    }
   ],
   "source": [
    "sns.FacetGrid(tsne_df, hue = 'label',height = 7).map(plt.scatter, 'dimension1','dimension2').add_legend()\n",
    "plt.show()"
   ]
  },
  {
   "cell_type": "code",
   "execution_count": null,
   "id": "6f936c18",
   "metadata": {},
   "outputs": [],
   "source": []
  },
  {
   "cell_type": "code",
   "execution_count": null,
   "id": "8cfab176",
   "metadata": {},
   "outputs": [],
   "source": []
  },
  {
   "cell_type": "code",
   "execution_count": null,
   "id": "ce3e8b17",
   "metadata": {},
   "outputs": [],
   "source": []
  },
  {
   "cell_type": "code",
   "execution_count": null,
   "id": "b77dccf4",
   "metadata": {},
   "outputs": [],
   "source": [
    "# 8. Create a model for detecting diabetes using SVM with a poly kernel. Select appropriate data \n",
    "# splitting approach and performance metrics. Report the performances and the used model hyper\u0002parameters."
   ]
  },
  {
   "cell_type": "code",
   "execution_count": 576,
   "id": "77b3fdb0",
   "metadata": {},
   "outputs": [
    {
     "data": {
      "text/plain": [
       "dict_keys(['data', 'target', 'frame', 'DESCR', 'feature_names', 'data_filename', 'target_filename', 'data_module'])"
      ]
     },
     "execution_count": 576,
     "metadata": {},
     "output_type": "execute_result"
    }
   ],
   "source": [
    "from sklearn import datasets\n",
    "diabetes = datasets.load_diabetes()\n",
    "\n",
    "diabetes.keys()"
   ]
  },
  {
   "cell_type": "code",
   "execution_count": 577,
   "id": "39bb3f4b",
   "metadata": {},
   "outputs": [],
   "source": [
    "X = diabetes.data\n",
    "y = diabetes.target"
   ]
  },
  {
   "cell_type": "code",
   "execution_count": 578,
   "id": "17a84ce9",
   "metadata": {},
   "outputs": [
    {
     "data": {
      "text/plain": [
       "((442, 10), (442,))"
      ]
     },
     "execution_count": 578,
     "metadata": {},
     "output_type": "execute_result"
    }
   ],
   "source": [
    "X.shape,y.shape"
   ]
  },
  {
   "cell_type": "code",
   "execution_count": null,
   "id": "fc165bb6",
   "metadata": {},
   "outputs": [],
   "source": [
    " "
   ]
  },
  {
   "cell_type": "code",
   "execution_count": 584,
   "id": "aea1f1b1",
   "metadata": {},
   "outputs": [],
   "source": [
    "from sklearn.preprocessing import StandardScaler\n",
    "standarized_data = StandardScaler().fit_transform(X)"
   ]
  },
  {
   "cell_type": "code",
   "execution_count": 585,
   "id": "432d0f2e",
   "metadata": {},
   "outputs": [
    {
     "name": "stdout",
     "output_type": "stream",
     "text": [
      "(105, 4) (105,)\n",
      "(45, 4) (45,)\n"
     ]
    }
   ],
   "source": [
    "from sklearn.model_selection import train_test_split\n",
    "\n",
    "#Split the data into 80% Training and 30% Testing sets\n",
    "X_train, X_test, y_train, y_test = train_test_split(X,y, test_size=0.3, random_state=42)\n",
    "\n",
    "print(Xtrain.shape,ytrain.shape)\n",
    "print (Xtest.shape,ytest.shape)\n"
   ]
  },
  {
   "cell_type": "code",
   "execution_count": 586,
   "id": "04730dce",
   "metadata": {},
   "outputs": [
    {
     "name": "stdout",
     "output_type": "stream",
     "text": [
      "Training accuracy: 0.17475728155339806\n",
      "Testing accuracy : 0.15789473684210525\n"
     ]
    },
    {
     "name": "stderr",
     "output_type": "stream",
     "text": [
      "C:\\Users\\Vishal.shah.LAMINAAR\\AppData\\Local\\Temp\\ipykernel_11512\\437152738.py:9: UserWarning: You passed a edgecolor/edgecolors ('g') for an unfilled marker ('+').  Matplotlib is ignoring the edgecolor in favor of the facecolor.  This behavior may change in the future.\n",
      "  plt.scatter(svc_model.support_vectors_[:, 0], svc_model.support_vectors_[:, 1], s=100, marker='+', edgecolors='g', zorder=10)\n"
     ]
    },
    {
     "data": {
      "image/png": "[encoded data removed]",
      "text/plain": [
       "<Figure size 640x480 with 1 Axes>"
      ]
     },
     "metadata": {},
     "output_type": "display_data"
    }
   ],
   "source": [
    "svc_model = svm.SVC(kernel='rbf')\n",
    "\n",
    "svc_model.fit(X,y)\n",
    "plt.title('RBF kernel')\n",
    "#Training accuracy:\n",
    "print(\"Training accuracy: {}\".format(metrics.accuracy_score(y_train, svc_model.predict(X_train))))\n",
    "print(\"Testing accuracy : {}\".format(metrics.accuracy_score(y_test, svc_model.predict(X_test))))\n",
    "#plotting support vectors\n",
    "plt.scatter(svc_model.support_vectors_[:, 0], svc_model.support_vectors_[:, 1], s=100, marker='+', edgecolors='g', zorder=10)\n",
    "plt.show()"
   ]
  },
  {
   "cell_type": "code",
   "execution_count": 589,
   "id": "b2dea1d2",
   "metadata": {},
   "outputs": [],
   "source": [
    "y_train_predict = svc_model.predict(X_train)"
   ]
  },
  {
   "cell_type": "code",
   "execution_count": 590,
   "id": "16c9ee00",
   "metadata": {},
   "outputs": [],
   "source": [
    "y_test_predict = svc_model.predict(X_test)"
   ]
  },
  {
   "cell_type": "code",
   "execution_count": null,
   "id": "4147e6a6",
   "metadata": {},
   "outputs": [],
   "source": []
  },
  {
   "cell_type": "code",
   "execution_count": 591,
   "id": "1a3d6b99",
   "metadata": {},
   "outputs": [
    {
     "name": "stdout",
     "output_type": "stream",
     "text": [
      "              precision    recall  f1-score   support\n",
      "\n",
      "        25.0       0.00      0.00      0.00         1\n",
      "        31.0       0.00      0.00      0.00         1\n",
      "        39.0       0.00      0.00      0.00         2\n",
      "        40.0       0.00      0.00      0.00         1\n",
      "        42.0       1.00      0.50      0.67         2\n",
      "        43.0       0.00      0.00      0.00         1\n",
      "        44.0       0.00      0.00      0.00         1\n",
      "        45.0       0.00      0.00      0.00         1\n",
      "        47.0       0.00      0.00      0.00         2\n",
      "        48.0       0.00      0.00      0.00         1\n",
      "        49.0       0.00      0.00      0.00         3\n",
      "        50.0       0.00      0.00      0.00         1\n",
      "        51.0       0.00      0.00      0.00         3\n",
      "        52.0       0.00      0.00      0.00         1\n",
      "        53.0       0.20      0.33      0.25         3\n",
      "        54.0       0.00      0.00      0.00         1\n",
      "        55.0       1.00      0.25      0.40         4\n",
      "        57.0       0.00      0.00      0.00         1\n",
      "        58.0       0.00      0.00      0.00         1\n",
      "        59.0       0.00      0.00      0.00         3\n",
      "        60.0       0.00      0.00      0.00         1\n",
      "        63.0       0.00      0.00      0.00         1\n",
      "        64.0       0.00      0.00      0.00         2\n",
      "        65.0       0.50      0.33      0.40         3\n",
      "        66.0       0.00      0.00      0.00         2\n",
      "        67.0       0.00      0.00      0.00         1\n",
      "        68.0       0.00      0.00      0.00         2\n",
      "        69.0       0.00      0.00      0.00         2\n",
      "        70.0       0.00      0.00      0.00         1\n",
      "        71.0       0.10      0.75      0.18         4\n",
      "        72.0       0.03      0.50      0.05         2\n",
      "        73.0       0.00      0.00      0.00         1\n",
      "        74.0       0.00      0.00      0.00         2\n",
      "        75.0       0.00      0.00      0.00         2\n",
      "        77.0       1.00      0.33      0.50         3\n",
      "        78.0       0.00      0.00      0.00         3\n",
      "        79.0       0.00      0.00      0.00         1\n",
      "        80.0       0.00      0.00      0.00         1\n",
      "        81.0       0.00      0.00      0.00         2\n",
      "        83.0       0.00      0.00      0.00         3\n",
      "        84.0       0.20      0.50      0.29         2\n",
      "        85.0       0.67      0.50      0.57         4\n",
      "        86.0       0.00      0.00      0.00         1\n",
      "        87.0       0.00      0.00      0.00         1\n",
      "        88.0       0.00      0.00      0.00         3\n",
      "        89.0       0.00      0.00      0.00         1\n",
      "        90.0       0.20      1.00      0.33         1\n",
      "        91.0       0.00      0.00      0.00         3\n",
      "        92.0       0.00      0.00      0.00         2\n",
      "        93.0       0.00      0.00      0.00         1\n",
      "        94.0       0.00      0.00      0.00         1\n",
      "        95.0       0.00      0.00      0.00         1\n",
      "        96.0       0.00      0.00      0.00         2\n",
      "        97.0       0.00      0.00      0.00         2\n",
      "        99.0       0.00      0.00      0.00         1\n",
      "       100.0       0.00      0.00      0.00         1\n",
      "       101.0       1.00      1.00      1.00         1\n",
      "       102.0       1.00      1.00      1.00         1\n",
      "       103.0       1.00      0.50      0.67         2\n",
      "       104.0       1.00      0.33      0.50         3\n",
      "       107.0       0.00      0.00      0.00         1\n",
      "       109.0       0.25      0.75      0.38         4\n",
      "       110.0       0.00      0.00      0.00         1\n",
      "       111.0       0.00      0.00      0.00         2\n",
      "       113.0       0.00      0.00      0.00         2\n",
      "       114.0       0.00      0.00      0.00         1\n",
      "       115.0       0.00      0.00      0.00         2\n",
      "       116.0       0.00      0.00      0.00         2\n",
      "       118.0       0.00      0.00      0.00         2\n",
      "       120.0       0.00      0.00      0.00         1\n",
      "       121.0       0.00      0.00      0.00         1\n",
      "       122.0       0.00      0.00      0.00         1\n",
      "       123.0       0.00      0.00      0.00         1\n",
      "       124.0       0.00      0.00      0.00         2\n",
      "       126.0       0.00      0.00      0.00         1\n",
      "       127.0       0.00      0.00      0.00         2\n",
      "       128.0       0.33      1.00      0.50         2\n",
      "       129.0       0.00      0.00      0.00         1\n",
      "       131.0       0.25      0.25      0.25         4\n",
      "       132.0       0.00      0.00      0.00         1\n",
      "       134.0       0.00      0.00      0.00         2\n",
      "       135.0       0.00      0.00      0.00         1\n",
      "       137.0       0.00      0.00      0.00         1\n",
      "       138.0       0.00      0.00      0.00         2\n",
      "       139.0       0.00      0.00      0.00         2\n",
      "       141.0       0.00      0.00      0.00         3\n",
      "       142.0       0.50      0.50      0.50         4\n",
      "       143.0       0.00      0.00      0.00         2\n",
      "       144.0       0.67      0.67      0.67         3\n",
      "       145.0       0.00      0.00      0.00         1\n",
      "       146.0       0.00      0.00      0.00         1\n",
      "       147.0       0.00      0.00      0.00         1\n",
      "       148.0       0.00      0.00      0.00         1\n",
      "       150.0       0.11      0.33      0.17         3\n",
      "       151.0       0.00      0.00      0.00         2\n",
      "       152.0       0.00      0.00      0.00         2\n",
      "       154.0       0.00      0.00      0.00         1\n",
      "       155.0       0.00      0.00      0.00         2\n",
      "       158.0       0.00      0.00      0.00         1\n",
      "       160.0       0.00      0.00      0.00         2\n",
      "       161.0       0.00      0.00      0.00         1\n",
      "       162.0       0.00      0.00      0.00         1\n",
      "       163.0       0.00      0.00      0.00         2\n",
      "       164.0       0.00      0.00      0.00         1\n",
      "       168.0       0.00      0.00      0.00         1\n",
      "       170.0       1.00      0.50      0.67         2\n",
      "       172.0       0.00      0.00      0.00         1\n",
      "       173.0       0.00      0.00      0.00         1\n",
      "       174.0       0.00      0.00      0.00         1\n",
      "       175.0       0.00      0.00      0.00         1\n",
      "       177.0       0.00      0.00      0.00         1\n",
      "       178.0       0.06      0.75      0.11         4\n",
      "       179.0       0.00      0.00      0.00         2\n",
      "       180.0       0.00      0.00      0.00         1\n",
      "       181.0       0.00      0.00      0.00         1\n",
      "       182.0       0.00      0.00      0.00         3\n",
      "       183.0       0.00      0.00      0.00         1\n",
      "       185.0       0.00      0.00      0.00         3\n",
      "       190.0       0.00      0.00      0.00         1\n",
      "       191.0       0.00      0.00      0.00         2\n",
      "       192.0       0.00      0.00      0.00         1\n",
      "       195.0       0.00      0.00      0.00         1\n",
      "       196.0       0.00      0.00      0.00         2\n",
      "       197.0       0.00      0.00      0.00         1\n",
      "       198.0       0.00      0.00      0.00         3\n",
      "       199.0       0.00      0.00      0.00         1\n",
      "       200.0       0.07      0.80      0.13         5\n",
      "       201.0       0.00      0.00      0.00         1\n",
      "       202.0       0.33      0.50      0.40         2\n",
      "       206.0       0.00      0.00      0.00         1\n",
      "       208.0       0.00      0.00      0.00         1\n",
      "       209.0       0.00      0.00      0.00         1\n",
      "       210.0       0.00      0.00      0.00         1\n",
      "       212.0       0.00      0.00      0.00         1\n",
      "       214.0       0.00      0.00      0.00         2\n",
      "       215.0       0.00      0.00      0.00         1\n",
      "       216.0       0.00      0.00      0.00         1\n",
      "       217.0       0.00      0.00      0.00         2\n",
      "       219.0       0.00      0.00      0.00         1\n",
      "       220.0       0.12      1.00      0.22         2\n",
      "       221.0       0.00      0.00      0.00         1\n",
      "       225.0       0.00      0.00      0.00         2\n",
      "       229.0       0.00      0.00      0.00         1\n",
      "       230.0       0.00      0.00      0.00         1\n",
      "       233.0       1.00      1.00      1.00         1\n",
      "       235.0       0.00      0.00      0.00         2\n",
      "       236.0       0.00      0.00      0.00         1\n",
      "       237.0       0.00      0.00      0.00         1\n",
      "       241.0       0.00      0.00      0.00         1\n",
      "       242.0       1.00      1.00      1.00         1\n",
      "       243.0       1.00      0.50      0.67         2\n",
      "       244.0       0.00      0.00      0.00         1\n",
      "       245.0       0.00      0.00      0.00         2\n",
      "       246.0       0.00      0.00      0.00         2\n",
      "       248.0       0.40      1.00      0.57         2\n",
      "       249.0       0.00      0.00      0.00         1\n",
      "       252.0       1.00      0.50      0.67         2\n",
      "       253.0       0.00      0.00      0.00         1\n",
      "       257.0       0.00      0.00      0.00         1\n",
      "       258.0       1.00      0.50      0.67         2\n",
      "       259.0       1.00      0.33      0.50         3\n",
      "       261.0       0.00      0.00      0.00         1\n",
      "       262.0       0.00      0.00      0.00         1\n",
      "       263.0       0.00      0.00      0.00         1\n",
      "       265.0       0.00      0.00      0.00         2\n",
      "       268.0       0.00      0.00      0.00         2\n",
      "       270.0       0.00      0.00      0.00         1\n",
      "       272.0       0.00      0.00      0.00         1\n",
      "       273.0       0.00      0.00      0.00         1\n",
      "       274.0       0.00      0.00      0.00         1\n",
      "       275.0       0.17      1.00      0.29         3\n",
      "       276.0       0.00      0.00      0.00         1\n",
      "       277.0       0.00      0.00      0.00         1\n",
      "       279.0       0.00      0.00      0.00         1\n",
      "       281.0       0.20      1.00      0.33         2\n",
      "       283.0       0.00      0.00      0.00         1\n",
      "       288.0       0.00      0.00      0.00         1\n",
      "       292.0       0.00      0.00      0.00         2\n",
      "       293.0       0.00      0.00      0.00         1\n",
      "       296.0       0.00      0.00      0.00         1\n",
      "       302.0       0.00      0.00      0.00         1\n",
      "       303.0       0.00      0.00      0.00         1\n",
      "       306.0       0.00      0.00      0.00         1\n",
      "       308.0       0.00      0.00      0.00         1\n",
      "       310.0       1.00      1.00      1.00         2\n",
      "       311.0       0.00      0.00      0.00         1\n",
      "       317.0       0.00      0.00      0.00         1\n",
      "       321.0       0.00      0.00      0.00         1\n",
      "       332.0       0.00      0.00      0.00         1\n",
      "       336.0       0.00      0.00      0.00         1\n",
      "       341.0       0.00      0.00      0.00         1\n",
      "       346.0       0.00      0.00      0.00         1\n",
      "\n",
      "    accuracy                           0.17       309\n",
      "   macro avg       0.11      0.12      0.09       309\n",
      "weighted avg       0.15      0.17      0.13       309\n",
      "\n"
     ]
    },
    {
     "name": "stderr",
     "output_type": "stream",
     "text": [
      "C:\\ProgramData\\Anaconda3\\lib\\site-packages\\sklearn\\metrics\\_classification.py:1344: UndefinedMetricWarning: Precision and F-score are ill-defined and being set to 0.0 in labels with no predicted samples. Use `zero_division` parameter to control this behavior.\n",
      "  _warn_prf(average, modifier, msg_start, len(result))\n",
      "C:\\ProgramData\\Anaconda3\\lib\\site-packages\\sklearn\\metrics\\_classification.py:1344: UndefinedMetricWarning: Precision and F-score are ill-defined and being set to 0.0 in labels with no predicted samples. Use `zero_division` parameter to control this behavior.\n",
      "  _warn_prf(average, modifier, msg_start, len(result))\n",
      "C:\\ProgramData\\Anaconda3\\lib\\site-packages\\sklearn\\metrics\\_classification.py:1344: UndefinedMetricWarning: Precision and F-score are ill-defined and being set to 0.0 in labels with no predicted samples. Use `zero_division` parameter to control this behavior.\n",
      "  _warn_prf(average, modifier, msg_start, len(result))\n"
     ]
    }
   ],
   "source": [
    "from sklearn.metrics import classification_report\n",
    "\n",
    "print(classification_report(y_train, y_train_predict))"
   ]
  },
  {
   "cell_type": "code",
   "execution_count": 592,
   "id": "df353e8a",
   "metadata": {},
   "outputs": [
    {
     "name": "stdout",
     "output_type": "stream",
     "text": [
      "              precision    recall  f1-score   support\n",
      "\n",
      "        37.0       0.00      0.00      0.00         1\n",
      "        42.0       0.00      0.00      0.00         1\n",
      "        48.0       0.00      0.00      0.00         2\n",
      "        52.0       0.00      0.00      0.00         3\n",
      "        53.0       0.00      0.00      0.00         1\n",
      "        59.0       0.00      0.00      0.00         1\n",
      "        60.0       0.00      0.00      0.00         2\n",
      "        61.0       0.00      0.00      0.00         2\n",
      "        63.0       1.00      0.33      0.50         3\n",
      "        64.0       0.00      0.00      0.00         1\n",
      "        65.0       1.00      1.00      1.00         1\n",
      "        67.0       0.00      0.00      0.00         1\n",
      "        68.0       0.00      0.00      0.00         1\n",
      "        69.0       0.00      0.00      0.00         1\n",
      "        70.0       0.00      0.00      0.00         1\n",
      "        71.0       0.00      0.00      0.00         1\n",
      "        72.0       0.14      1.00      0.24         4\n",
      "        77.0       0.00      0.00      0.00         1\n",
      "        84.0       0.50      0.50      0.50         2\n",
      "        87.0       0.00      0.00      0.00         1\n",
      "        88.0       1.00      1.00      1.00         1\n",
      "        89.0       0.00      0.00      0.00         1\n",
      "        90.0       0.50      0.50      0.50         4\n",
      "        91.0       0.17      1.00      0.29         1\n",
      "        93.0       0.00      0.00      0.00         1\n",
      "        94.0       0.00      0.00      0.00         2\n",
      "        95.0       0.00      0.00      0.00         1\n",
      "        96.0       0.00      0.00      0.00         2\n",
      "        97.0       0.00      0.00      0.00         2\n",
      "        98.0       0.00      0.00      0.00         1\n",
      "        99.0       0.00      0.00      0.00         1\n",
      "       101.0       1.00      0.50      0.67         2\n",
      "       102.0       0.00      0.00      0.00         2\n",
      "       104.0       0.00      0.00      0.00         1\n",
      "       107.0       0.00      0.00      0.00         1\n",
      "       108.0       0.00      0.00      0.00         1\n",
      "       109.0       0.00      0.00      0.00         0\n",
      "       110.0       0.00      0.00      0.00         1\n",
      "       111.0       0.00      0.00      0.00         1\n",
      "       113.0       0.00      0.00      0.00         1\n",
      "       118.0       0.00      0.00      0.00         1\n",
      "       121.0       0.00      0.00      0.00         1\n",
      "       122.0       0.00      0.00      0.00         1\n",
      "       125.0       0.00      0.00      0.00         1\n",
      "       128.0       0.00      0.00      0.00         2\n",
      "       129.0       0.00      0.00      0.00         2\n",
      "       131.0       0.00      0.00      0.00         0\n",
      "       132.0       0.00      0.00      0.00         1\n",
      "       135.0       0.00      0.00      0.00         1\n",
      "       136.0       0.00      0.00      0.00         1\n",
      "       137.0       0.00      0.00      0.00         1\n",
      "       140.0       0.00      0.00      0.00         2\n",
      "       144.0       0.00      0.00      0.00         1\n",
      "       150.0       0.00      0.00      0.00         1\n",
      "       151.0       0.00      0.00      0.00         1\n",
      "       153.0       0.00      0.00      0.00         1\n",
      "       156.0       0.00      0.00      0.00         1\n",
      "       158.0       0.00      0.00      0.00         1\n",
      "       164.0       0.00      0.00      0.00         1\n",
      "       166.0       0.00      0.00      0.00         1\n",
      "       167.0       0.00      0.00      0.00         1\n",
      "       168.0       0.00      0.00      0.00         2\n",
      "       170.0       1.00      1.00      1.00         1\n",
      "       171.0       0.00      0.00      0.00         1\n",
      "       172.0       0.00      0.00      0.00         1\n",
      "       173.0       0.00      0.00      0.00         1\n",
      "       174.0       0.00      0.00      0.00         1\n",
      "       178.0       0.05      1.00      0.09         1\n",
      "       180.0       0.00      0.00      0.00         1\n",
      "       181.0       0.00      0.00      0.00         1\n",
      "       184.0       0.00      0.00      0.00         1\n",
      "       186.0       0.00      0.00      0.00         1\n",
      "       187.0       0.00      0.00      0.00         1\n",
      "       189.0       0.00      0.00      0.00         1\n",
      "       190.0       0.00      0.00      0.00         1\n",
      "       197.0       0.00      0.00      0.00         1\n",
      "       200.0       0.04      1.00      0.08         1\n",
      "       202.0       0.50      0.50      0.50         2\n",
      "       206.0       0.00      0.00      0.00         1\n",
      "       214.0       0.00      0.00      0.00         1\n",
      "       219.0       0.00      0.00      0.00         1\n",
      "       220.0       0.00      0.00      0.00         2\n",
      "       222.0       0.00      0.00      0.00         1\n",
      "       230.0       0.00      0.00      0.00         1\n",
      "       232.0       0.00      0.00      0.00         2\n",
      "       233.0       1.00      0.50      0.67         2\n",
      "       237.0       0.00      0.00      0.00         1\n",
      "       242.0       1.00      0.50      0.67         2\n",
      "       248.0       1.00      1.00      1.00         1\n",
      "       252.0       0.00      0.00      0.00         1\n",
      "       257.0       0.00      0.00      0.00         1\n",
      "       258.0       0.00      0.00      0.00         1\n",
      "       262.0       0.00      0.00      0.00         1\n",
      "       263.0       0.00      0.00      0.00         1\n",
      "       264.0       0.00      0.00      0.00         1\n",
      "       265.0       0.00      0.00      0.00         1\n",
      "       270.0       0.00      0.00      0.00         1\n",
      "       272.0       0.00      0.00      0.00         1\n",
      "       275.0       0.00      0.00      0.00         1\n",
      "       277.0       0.00      0.00      0.00         1\n",
      "       280.0       0.00      0.00      0.00         1\n",
      "       281.0       0.50      1.00      0.67         2\n",
      "       283.0       0.00      0.00      0.00         1\n",
      "       295.0       0.00      0.00      0.00         1\n",
      "       297.0       0.00      0.00      0.00         1\n",
      "       310.0       0.00      0.00      0.00         1\n",
      "\n",
      "    accuracy                           0.16       133\n",
      "   macro avg       0.10      0.12      0.09       133\n",
      "weighted avg       0.14      0.16      0.12       133\n",
      "\n"
     ]
    },
    {
     "name": "stderr",
     "output_type": "stream",
     "text": [
      "C:\\ProgramData\\Anaconda3\\lib\\site-packages\\sklearn\\metrics\\_classification.py:1344: UndefinedMetricWarning: Precision and F-score are ill-defined and being set to 0.0 in labels with no predicted samples. Use `zero_division` parameter to control this behavior.\n",
      "  _warn_prf(average, modifier, msg_start, len(result))\n",
      "C:\\ProgramData\\Anaconda3\\lib\\site-packages\\sklearn\\metrics\\_classification.py:1344: UndefinedMetricWarning: Recall and F-score are ill-defined and being set to 0.0 in labels with no true samples. Use `zero_division` parameter to control this behavior.\n",
      "  _warn_prf(average, modifier, msg_start, len(result))\n",
      "C:\\ProgramData\\Anaconda3\\lib\\site-packages\\sklearn\\metrics\\_classification.py:1344: UndefinedMetricWarning: Precision and F-score are ill-defined and being set to 0.0 in labels with no predicted samples. Use `zero_division` parameter to control this behavior.\n",
      "  _warn_prf(average, modifier, msg_start, len(result))\n",
      "C:\\ProgramData\\Anaconda3\\lib\\site-packages\\sklearn\\metrics\\_classification.py:1344: UndefinedMetricWarning: Recall and F-score are ill-defined and being set to 0.0 in labels with no true samples. Use `zero_division` parameter to control this behavior.\n",
      "  _warn_prf(average, modifier, msg_start, len(result))\n",
      "C:\\ProgramData\\Anaconda3\\lib\\site-packages\\sklearn\\metrics\\_classification.py:1344: UndefinedMetricWarning: Precision and F-score are ill-defined and being set to 0.0 in labels with no predicted samples. Use `zero_division` parameter to control this behavior.\n",
      "  _warn_prf(average, modifier, msg_start, len(result))\n",
      "C:\\ProgramData\\Anaconda3\\lib\\site-packages\\sklearn\\metrics\\_classification.py:1344: UndefinedMetricWarning: Recall and F-score are ill-defined and being set to 0.0 in labels with no true samples. Use `zero_division` parameter to control this behavior.\n",
      "  _warn_prf(average, modifier, msg_start, len(result))\n"
     ]
    }
   ],
   "source": [
    "print(classification_report(y_test, y_test_predict))"
   ]
  },
  {
   "cell_type": "code",
   "execution_count": null,
   "id": "62dbce8a",
   "metadata": {},
   "outputs": [],
   "source": []
  },
  {
   "cell_type": "code",
   "execution_count": null,
   "id": "4fe5173d",
   "metadata": {},
   "outputs": [],
   "source": []
  },
  {
   "cell_type": "code",
   "execution_count": 538,
   "id": "cb91db76",
   "metadata": {},
   "outputs": [
    {
     "name": "stdout",
     "output_type": "stream",
     "text": [
      "Fitting 5 folds for each of 25 candidates, totalling 125 fits\n",
      "[CV 1/5] END ........C=0.1, gamma=1, kernel=rbf;, score=0.000 total time=   0.1s\n"
     ]
    },
    {
     "name": "stderr",
     "output_type": "stream",
     "text": [
      "C:\\ProgramData\\Anaconda3\\lib\\site-packages\\sklearn\\model_selection\\_split.py:700: UserWarning: The least populated class in y has only 1 members, which is less than n_splits=5.\n",
      "  warnings.warn(\n"
     ]
    },
    {
     "name": "stdout",
     "output_type": "stream",
     "text": [
      "[CV 2/5] END ........C=0.1, gamma=1, kernel=rbf;, score=0.016 total time=   0.0s\n",
      "[CV 3/5] END ........C=0.1, gamma=1, kernel=rbf;, score=0.016 total time=   0.0s\n",
      "[CV 4/5] END ........C=0.1, gamma=1, kernel=rbf;, score=0.000 total time=   0.0s\n",
      "[CV 5/5] END ........C=0.1, gamma=1, kernel=rbf;, score=0.016 total time=   0.0s\n",
      "[CV 1/5] END ......C=0.1, gamma=0.1, kernel=rbf;, score=0.000 total time=   0.0s\n",
      "[CV 2/5] END ......C=0.1, gamma=0.1, kernel=rbf;, score=0.016 total time=   0.0s\n",
      "[CV 3/5] END ......C=0.1, gamma=0.1, kernel=rbf;, score=0.016 total time=   0.0s\n",
      "[CV 4/5] END ......C=0.1, gamma=0.1, kernel=rbf;, score=0.000 total time=   0.0s\n",
      "[CV 5/5] END ......C=0.1, gamma=0.1, kernel=rbf;, score=0.016 total time=   0.0s\n",
      "[CV 1/5] END .....C=0.1, gamma=0.01, kernel=rbf;, score=0.000 total time=   0.0s\n",
      "[CV 2/5] END .....C=0.1, gamma=0.01, kernel=rbf;, score=0.016 total time=   0.0s\n",
      "[CV 3/5] END .....C=0.1, gamma=0.01, kernel=rbf;, score=0.016 total time=   0.0s\n",
      "[CV 4/5] END .....C=0.1, gamma=0.01, kernel=rbf;, score=0.000 total time=   0.0s\n",
      "[CV 5/5] END .....C=0.1, gamma=0.01, kernel=rbf;, score=0.016 total time=   0.0s\n",
      "[CV 1/5] END ....C=0.1, gamma=0.001, kernel=rbf;, score=0.000 total time=   0.1s\n",
      "[CV 2/5] END ....C=0.1, gamma=0.001, kernel=rbf;, score=0.016 total time=   0.0s\n",
      "[CV 3/5] END ....C=0.1, gamma=0.001, kernel=rbf;, score=0.016 total time=   0.0s\n",
      "[CV 4/5] END ....C=0.1, gamma=0.001, kernel=rbf;, score=0.000 total time=   0.0s\n",
      "[CV 5/5] END ....C=0.1, gamma=0.001, kernel=rbf;, score=0.016 total time=   0.1s\n",
      "[CV 1/5] END ...C=0.1, gamma=0.0001, kernel=rbf;, score=0.000 total time=   0.0s\n",
      "[CV 2/5] END ...C=0.1, gamma=0.0001, kernel=rbf;, score=0.016 total time=   0.0s\n",
      "[CV 3/5] END ...C=0.1, gamma=0.0001, kernel=rbf;, score=0.016 total time=   0.1s\n",
      "[CV 4/5] END ...C=0.1, gamma=0.0001, kernel=rbf;, score=0.000 total time=   0.0s\n",
      "[CV 5/5] END ...C=0.1, gamma=0.0001, kernel=rbf;, score=0.016 total time=   0.0s\n",
      "[CV 1/5] END ..........C=1, gamma=1, kernel=rbf;, score=0.000 total time=   0.1s\n",
      "[CV 2/5] END ..........C=1, gamma=1, kernel=rbf;, score=0.016 total time=   0.0s\n",
      "[CV 3/5] END ..........C=1, gamma=1, kernel=rbf;, score=0.016 total time=   0.0s\n",
      "[CV 4/5] END ..........C=1, gamma=1, kernel=rbf;, score=0.000 total time=   0.0s\n",
      "[CV 5/5] END ..........C=1, gamma=1, kernel=rbf;, score=0.016 total time=   0.1s\n",
      "[CV 1/5] END ........C=1, gamma=0.1, kernel=rbf;, score=0.000 total time=   0.0s\n",
      "[CV 2/5] END ........C=1, gamma=0.1, kernel=rbf;, score=0.016 total time=   0.0s\n",
      "[CV 3/5] END ........C=1, gamma=0.1, kernel=rbf;, score=0.016 total time=   0.0s\n",
      "[CV 4/5] END ........C=1, gamma=0.1, kernel=rbf;, score=0.000 total time=   0.0s\n",
      "[CV 5/5] END ........C=1, gamma=0.1, kernel=rbf;, score=0.016 total time=   0.0s\n",
      "[CV 1/5] END .......C=1, gamma=0.01, kernel=rbf;, score=0.000 total time=   0.0s\n",
      "[CV 2/5] END .......C=1, gamma=0.01, kernel=rbf;, score=0.016 total time=   0.0s\n",
      "[CV 3/5] END .......C=1, gamma=0.01, kernel=rbf;, score=0.016 total time=   0.0s\n",
      "[CV 4/5] END .......C=1, gamma=0.01, kernel=rbf;, score=0.000 total time=   0.0s\n",
      "[CV 5/5] END .......C=1, gamma=0.01, kernel=rbf;, score=0.016 total time=   0.0s\n",
      "[CV 1/5] END ......C=1, gamma=0.001, kernel=rbf;, score=0.000 total time=   0.0s\n",
      "[CV 2/5] END ......C=1, gamma=0.001, kernel=rbf;, score=0.016 total time=   0.0s\n",
      "[CV 3/5] END ......C=1, gamma=0.001, kernel=rbf;, score=0.016 total time=   0.0s\n",
      "[CV 4/5] END ......C=1, gamma=0.001, kernel=rbf;, score=0.000 total time=   0.0s\n",
      "[CV 5/5] END ......C=1, gamma=0.001, kernel=rbf;, score=0.016 total time=   0.0s\n",
      "[CV 1/5] END .....C=1, gamma=0.0001, kernel=rbf;, score=0.000 total time=   0.0s\n",
      "[CV 2/5] END .....C=1, gamma=0.0001, kernel=rbf;, score=0.016 total time=   0.0s\n",
      "[CV 3/5] END .....C=1, gamma=0.0001, kernel=rbf;, score=0.016 total time=   0.0s\n",
      "[CV 4/5] END .....C=1, gamma=0.0001, kernel=rbf;, score=0.000 total time=   0.0s\n",
      "[CV 5/5] END .....C=1, gamma=0.0001, kernel=rbf;, score=0.016 total time=   0.0s\n",
      "[CV 1/5] END .........C=10, gamma=1, kernel=rbf;, score=0.016 total time=   0.0s\n",
      "[CV 2/5] END .........C=10, gamma=1, kernel=rbf;, score=0.016 total time=   0.0s\n",
      "[CV 3/5] END .........C=10, gamma=1, kernel=rbf;, score=0.000 total time=   0.0s\n",
      "[CV 4/5] END .........C=10, gamma=1, kernel=rbf;, score=0.000 total time=   0.0s\n",
      "[CV 5/5] END .........C=10, gamma=1, kernel=rbf;, score=0.016 total time=   0.0s\n",
      "[CV 1/5] END .......C=10, gamma=0.1, kernel=rbf;, score=0.000 total time=   0.0s\n",
      "[CV 2/5] END .......C=10, gamma=0.1, kernel=rbf;, score=0.016 total time=   0.0s\n",
      "[CV 3/5] END .......C=10, gamma=0.1, kernel=rbf;, score=0.016 total time=   0.0s\n",
      "[CV 4/5] END .......C=10, gamma=0.1, kernel=rbf;, score=0.000 total time=   0.0s\n",
      "[CV 5/5] END .......C=10, gamma=0.1, kernel=rbf;, score=0.016 total time=   0.0s\n",
      "[CV 1/5] END ......C=10, gamma=0.01, kernel=rbf;, score=0.000 total time=   0.0s\n",
      "[CV 2/5] END ......C=10, gamma=0.01, kernel=rbf;, score=0.016 total time=   0.0s\n",
      "[CV 3/5] END ......C=10, gamma=0.01, kernel=rbf;, score=0.016 total time=   0.0s\n",
      "[CV 4/5] END ......C=10, gamma=0.01, kernel=rbf;, score=0.000 total time=   0.0s\n",
      "[CV 5/5] END ......C=10, gamma=0.01, kernel=rbf;, score=0.016 total time=   0.0s\n",
      "[CV 1/5] END .....C=10, gamma=0.001, kernel=rbf;, score=0.000 total time=   0.0s\n",
      "[CV 2/5] END .....C=10, gamma=0.001, kernel=rbf;, score=0.016 total time=   0.0s\n",
      "[CV 3/5] END .....C=10, gamma=0.001, kernel=rbf;, score=0.016 total time=   0.0s\n",
      "[CV 4/5] END .....C=10, gamma=0.001, kernel=rbf;, score=0.000 total time=   0.0s\n",
      "[CV 5/5] END .....C=10, gamma=0.001, kernel=rbf;, score=0.016 total time=   0.0s\n",
      "[CV 1/5] END ....C=10, gamma=0.0001, kernel=rbf;, score=0.000 total time=   0.0s\n",
      "[CV 2/5] END ....C=10, gamma=0.0001, kernel=rbf;, score=0.016 total time=   0.0s\n",
      "[CV 3/5] END ....C=10, gamma=0.0001, kernel=rbf;, score=0.016 total time=   0.0s\n",
      "[CV 4/5] END ....C=10, gamma=0.0001, kernel=rbf;, score=0.000 total time=   0.0s\n",
      "[CV 5/5] END ....C=10, gamma=0.0001, kernel=rbf;, score=0.016 total time=   0.0s\n",
      "[CV 1/5] END ........C=100, gamma=1, kernel=rbf;, score=0.000 total time=   0.0s\n",
      "[CV 2/5] END ........C=100, gamma=1, kernel=rbf;, score=0.032 total time=   0.0s\n",
      "[CV 3/5] END ........C=100, gamma=1, kernel=rbf;, score=0.016 total time=   0.1s\n",
      "[CV 4/5] END ........C=100, gamma=1, kernel=rbf;, score=0.032 total time=   0.0s\n",
      "[CV 5/5] END ........C=100, gamma=1, kernel=rbf;, score=0.016 total time=   0.1s\n",
      "[CV 1/5] END ......C=100, gamma=0.1, kernel=rbf;, score=0.016 total time=   0.0s\n",
      "[CV 2/5] END ......C=100, gamma=0.1, kernel=rbf;, score=0.016 total time=   0.0s\n",
      "[CV 3/5] END ......C=100, gamma=0.1, kernel=rbf;, score=0.000 total time=   0.0s\n",
      "[CV 4/5] END ......C=100, gamma=0.1, kernel=rbf;, score=0.000 total time=   0.0s\n",
      "[CV 5/5] END ......C=100, gamma=0.1, kernel=rbf;, score=0.016 total time=   0.0s\n",
      "[CV 1/5] END .....C=100, gamma=0.01, kernel=rbf;, score=0.000 total time=   0.0s\n",
      "[CV 2/5] END .....C=100, gamma=0.01, kernel=rbf;, score=0.016 total time=   0.0s\n",
      "[CV 3/5] END .....C=100, gamma=0.01, kernel=rbf;, score=0.016 total time=   0.0s\n",
      "[CV 4/5] END .....C=100, gamma=0.01, kernel=rbf;, score=0.000 total time=   0.0s\n",
      "[CV 5/5] END .....C=100, gamma=0.01, kernel=rbf;, score=0.016 total time=   0.0s\n",
      "[CV 1/5] END ....C=100, gamma=0.001, kernel=rbf;, score=0.000 total time=   0.0s\n",
      "[CV 2/5] END ....C=100, gamma=0.001, kernel=rbf;, score=0.016 total time=   0.0s\n",
      "[CV 3/5] END ....C=100, gamma=0.001, kernel=rbf;, score=0.016 total time=   0.1s\n",
      "[CV 4/5] END ....C=100, gamma=0.001, kernel=rbf;, score=0.000 total time=   0.0s\n",
      "[CV 5/5] END ....C=100, gamma=0.001, kernel=rbf;, score=0.016 total time=   0.0s\n",
      "[CV 1/5] END ...C=100, gamma=0.0001, kernel=rbf;, score=0.000 total time=   0.1s\n",
      "[CV 2/5] END ...C=100, gamma=0.0001, kernel=rbf;, score=0.016 total time=   0.0s\n",
      "[CV 3/5] END ...C=100, gamma=0.0001, kernel=rbf;, score=0.016 total time=   0.0s\n",
      "[CV 4/5] END ...C=100, gamma=0.0001, kernel=rbf;, score=0.000 total time=   0.0s\n",
      "[CV 5/5] END ...C=100, gamma=0.0001, kernel=rbf;, score=0.016 total time=   0.1s\n",
      "[CV 1/5] END .......C=1000, gamma=1, kernel=rbf;, score=0.000 total time=   0.1s\n",
      "[CV 2/5] END .......C=1000, gamma=1, kernel=rbf;, score=0.032 total time=   0.0s\n",
      "[CV 3/5] END .......C=1000, gamma=1, kernel=rbf;, score=0.016 total time=   0.0s\n",
      "[CV 4/5] END .......C=1000, gamma=1, kernel=rbf;, score=0.016 total time=   0.1s\n"
     ]
    },
    {
     "name": "stdout",
     "output_type": "stream",
     "text": [
      "[CV 5/5] END .......C=1000, gamma=1, kernel=rbf;, score=0.016 total time=   0.0s\n",
      "[CV 1/5] END .....C=1000, gamma=0.1, kernel=rbf;, score=0.000 total time=   0.1s\n",
      "[CV 2/5] END .....C=1000, gamma=0.1, kernel=rbf;, score=0.032 total time=   0.0s\n",
      "[CV 3/5] END .....C=1000, gamma=0.1, kernel=rbf;, score=0.016 total time=   0.0s\n",
      "[CV 4/5] END .....C=1000, gamma=0.1, kernel=rbf;, score=0.032 total time=   0.0s\n",
      "[CV 5/5] END .....C=1000, gamma=0.1, kernel=rbf;, score=0.016 total time=   0.0s\n",
      "[CV 1/5] END ....C=1000, gamma=0.01, kernel=rbf;, score=0.016 total time=   0.0s\n",
      "[CV 2/5] END ....C=1000, gamma=0.01, kernel=rbf;, score=0.016 total time=   0.0s\n",
      "[CV 3/5] END ....C=1000, gamma=0.01, kernel=rbf;, score=0.000 total time=   0.0s\n",
      "[CV 4/5] END ....C=1000, gamma=0.01, kernel=rbf;, score=0.000 total time=   0.0s\n",
      "[CV 5/5] END ....C=1000, gamma=0.01, kernel=rbf;, score=0.016 total time=   0.1s\n",
      "[CV 1/5] END ...C=1000, gamma=0.001, kernel=rbf;, score=0.000 total time=   0.1s\n",
      "[CV 2/5] END ...C=1000, gamma=0.001, kernel=rbf;, score=0.016 total time=   0.0s\n",
      "[CV 3/5] END ...C=1000, gamma=0.001, kernel=rbf;, score=0.016 total time=   0.0s\n",
      "[CV 4/5] END ...C=1000, gamma=0.001, kernel=rbf;, score=0.000 total time=   0.0s\n",
      "[CV 5/5] END ...C=1000, gamma=0.001, kernel=rbf;, score=0.016 total time=   0.0s\n",
      "[CV 1/5] END ..C=1000, gamma=0.0001, kernel=rbf;, score=0.000 total time=   0.0s\n",
      "[CV 2/5] END ..C=1000, gamma=0.0001, kernel=rbf;, score=0.016 total time=   0.1s\n",
      "[CV 3/5] END ..C=1000, gamma=0.0001, kernel=rbf;, score=0.016 total time=   0.0s\n",
      "[CV 4/5] END ..C=1000, gamma=0.0001, kernel=rbf;, score=0.000 total time=   0.0s\n",
      "[CV 5/5] END ..C=1000, gamma=0.0001, kernel=rbf;, score=0.016 total time=   0.1s\n"
     ]
    },
    {
     "data": {
      "text/html": [
       "<style>#sk-container-id-10 {color: black;background-color: white;}#sk-container-id-10 pre{padding: 0;}#sk-container-id-10 div.sk-toggleable {background-color: white;}#sk-container-id-10 label.sk-toggleable__label {cursor: pointer;display: block;width: 100%;margin-bottom: 0;padding: 0.3em;box-sizing: border-box;text-align: center;}#sk-container-id-10 label.sk-toggleable__label-arrow:before {content: \"▸\";float: left;margin-right: 0.25em;color: #696969;}#sk-container-id-10 label.sk-toggleable__label-arrow:hover:before {color: black;}#sk-container-id-10 div.sk-estimator:hover label.sk-toggleable__label-arrow:before {color: black;}#sk-container-id-10 div.sk-toggleable__content {max-height: 0;max-width: 0;overflow: hidden;text-align: left;background-color: #f0f8ff;}#sk-container-id-10 div.sk-toggleable__content pre {margin: 0.2em;color: black;border-radius: 0.25em;background-color: #f0f8ff;}#sk-container-id-10 input.sk-toggleable__control:checked~div.sk-toggleable__content {max-height: 200px;max-width: 100%;overflow: auto;}#sk-container-id-10 input.sk-toggleable__control:checked~label.sk-toggleable__label-arrow:before {content: \"▾\";}#sk-container-id-10 div.sk-estimator input.sk-toggleable__control:checked~label.sk-toggleable__label {background-color: #d4ebff;}#sk-container-id-10 div.sk-label input.sk-toggleable__control:checked~label.sk-toggleable__label {background-color: #d4ebff;}#sk-container-id-10 input.sk-hidden--visually {border: 0;clip: rect(1px 1px 1px 1px);clip: rect(1px, 1px, 1px, 1px);height: 1px;margin: -1px;overflow: hidden;padding: 0;position: absolute;width: 1px;}#sk-container-id-10 div.sk-estimator {font-family: monospace;background-color: #f0f8ff;border: 1px dotted black;border-radius: 0.25em;box-sizing: border-box;margin-bottom: 0.5em;}#sk-container-id-10 div.sk-estimator:hover {background-color: #d4ebff;}#sk-container-id-10 div.sk-parallel-item::after {content: \"\";width: 100%;border-bottom: 1px solid gray;flex-grow: 1;}#sk-container-id-10 div.sk-label:hover label.sk-toggleable__label {background-color: #d4ebff;}#sk-container-id-10 div.sk-serial::before {content: \"\";position: absolute;border-left: 1px solid gray;box-sizing: border-box;top: 0;bottom: 0;left: 50%;z-index: 0;}#sk-container-id-10 div.sk-serial {display: flex;flex-direction: column;align-items: center;background-color: white;padding-right: 0.2em;padding-left: 0.2em;position: relative;}#sk-container-id-10 div.sk-item {position: relative;z-index: 1;}#sk-container-id-10 div.sk-parallel {display: flex;align-items: stretch;justify-content: center;background-color: white;position: relative;}#sk-container-id-10 div.sk-item::before, #sk-container-id-10 div.sk-parallel-item::before {content: \"\";position: absolute;border-left: 1px solid gray;box-sizing: border-box;top: 0;bottom: 0;left: 50%;z-index: -1;}#sk-container-id-10 div.sk-parallel-item {display: flex;flex-direction: column;z-index: 1;position: relative;background-color: white;}#sk-container-id-10 div.sk-parallel-item:first-child::after {align-self: flex-end;width: 50%;}#sk-container-id-10 div.sk-parallel-item:last-child::after {align-self: flex-start;width: 50%;}#sk-container-id-10 div.sk-parallel-item:only-child::after {width: 0;}#sk-container-id-10 div.sk-dashed-wrapped {border: 1px dashed gray;margin: 0 0.4em 0.5em 0.4em;box-sizing: border-box;padding-bottom: 0.4em;background-color: white;}#sk-container-id-10 div.sk-label label {font-family: monospace;font-weight: bold;display: inline-block;line-height: 1.2em;}#sk-container-id-10 div.sk-label-container {text-align: center;}#sk-container-id-10 div.sk-container {/* jupyter's `normalize.less` sets `[hidden] { display: none; }` but bootstrap.min.css set `[hidden] { display: none !important; }` so we also need the `!important` here to be able to override the default hidden behavior on the sphinx rendered scikit-learn.org. See: https://github.com/scikit-learn/scikit-learn/issues/21755 */display: inline-block !important;position: relative;}#sk-container-id-10 div.sk-text-repr-fallback {display: none;}</style><div id=\"sk-container-id-10\" class=\"sk-top-container\"><div class=\"sk-text-repr-fallback\"><pre>GridSearchCV(estimator=SVC(),\n",
       "             param_grid={&#x27;C&#x27;: [0.1, 1, 10, 100, 1000],\n",
       "                         &#x27;gamma&#x27;: [1, 0.1, 0.01, 0.001, 0.0001],\n",
       "                         &#x27;kernel&#x27;: [&#x27;rbf&#x27;]},\n",
       "             verbose=3)</pre><b>In a Jupyter environment, please rerun this cell to show the HTML representation or trust the notebook. <br />On GitHub, the HTML representation is unable to render, please try loading this page with nbviewer.org.</b></div><div class=\"sk-container\" hidden><div class=\"sk-item sk-dashed-wrapped\"><div class=\"sk-label-container\"><div class=\"sk-label sk-toggleable\"><input class=\"sk-toggleable__control sk-hidden--visually\" id=\"sk-estimator-id-33\" type=\"checkbox\" ><label for=\"sk-estimator-id-33\" class=\"sk-toggleable__label sk-toggleable__label-arrow\">GridSearchCV</label><div class=\"sk-toggleable__content\"><pre>GridSearchCV(estimator=SVC(),\n",
       "             param_grid={&#x27;C&#x27;: [0.1, 1, 10, 100, 1000],\n",
       "                         &#x27;gamma&#x27;: [1, 0.1, 0.01, 0.001, 0.0001],\n",
       "                         &#x27;kernel&#x27;: [&#x27;rbf&#x27;]},\n",
       "             verbose=3)</pre></div></div></div><div class=\"sk-parallel\"><div class=\"sk-parallel-item\"><div class=\"sk-item\"><div class=\"sk-label-container\"><div class=\"sk-label sk-toggleable\"><input class=\"sk-toggleable__control sk-hidden--visually\" id=\"sk-estimator-id-34\" type=\"checkbox\" ><label for=\"sk-estimator-id-34\" class=\"sk-toggleable__label sk-toggleable__label-arrow\">estimator: SVC</label><div class=\"sk-toggleable__content\"><pre>SVC()</pre></div></div></div><div class=\"sk-serial\"><div class=\"sk-item\"><div class=\"sk-estimator sk-toggleable\"><input class=\"sk-toggleable__control sk-hidden--visually\" id=\"sk-estimator-id-35\" type=\"checkbox\" ><label for=\"sk-estimator-id-35\" class=\"sk-toggleable__label sk-toggleable__label-arrow\">SVC</label><div class=\"sk-toggleable__content\"><pre>SVC()</pre></div></div></div></div></div></div></div></div></div></div>"
      ],
      "text/plain": [
       "GridSearchCV(estimator=SVC(),\n",
       "             param_grid={'C': [0.1, 1, 10, 100, 1000],\n",
       "                         'gamma': [1, 0.1, 0.01, 0.001, 0.0001],\n",
       "                         'kernel': ['rbf']},\n",
       "             verbose=3)"
      ]
     },
     "execution_count": 538,
     "metadata": {},
     "output_type": "execute_result"
    }
   ],
   "source": [
    "from sklearn.model_selection import GridSearchCV\n",
    "  \n",
    "# defining parameter range\n",
    "param_grid = {'C': [0.1, 1, 10, 100, 1000], \n",
    "              'gamma': [1, 0.1, 0.01, 0.001, 0.0001],\n",
    "              'kernel': ['rbf']} \n",
    "  \n",
    "grid = GridSearchCV(svc_model, param_grid, refit = True, verbose = 3)\n",
    "  \n",
    "# fitting the model for grid search\n",
    "grid.fit(X_train, y_train)"
   ]
  },
  {
   "cell_type": "code",
   "execution_count": 539,
   "id": "2afab502",
   "metadata": {},
   "outputs": [
    {
     "name": "stdout",
     "output_type": "stream",
     "text": [
      "{'C': 100, 'gamma': 1, 'kernel': 'rbf'}\n"
     ]
    }
   ],
   "source": [
    "# print best parameter after tuning\n",
    "print(grid.best_params_)"
   ]
  },
  {
   "cell_type": "code",
   "execution_count": 540,
   "id": "04ac89b4",
   "metadata": {},
   "outputs": [
    {
     "name": "stdout",
     "output_type": "stream",
     "text": [
      "SVC(C=100, gamma=1)\n"
     ]
    }
   ],
   "source": [
    "# print hyper-parameter \n",
    "print(grid.best_estimator_)"
   ]
  },
  {
   "cell_type": "code",
   "execution_count": 541,
   "id": "371cbbfd",
   "metadata": {},
   "outputs": [
    {
     "name": "stdout",
     "output_type": "stream",
     "text": [
      "Training accuracy: 0.44983818770226536\n",
      "Testing accuracy : 0.45112781954887216\n"
     ]
    },
    {
     "name": "stderr",
     "output_type": "stream",
     "text": [
      "C:\\Users\\Vishal.shah.LAMINAAR\\AppData\\Local\\Temp\\ipykernel_11512\\3923366446.py:10: UserWarning: You passed a edgecolor/edgecolors ('g') for an unfilled marker ('+').  Matplotlib is ignoring the edgecolor in favor of the facecolor.  This behavior may change in the future.\n",
      "  plt.scatter(svc_model.support_vectors_[:, 0], svc_model.support_vectors_[:, 1], s=100, marker='+', edgecolors='g', zorder=10)\n"
     ]
    },
    {
     "data": {
      "image/png": "[encoded data removed]",
      "text/plain": [
       "<Figure size 640x480 with 1 Axes>"
      ]
     },
     "metadata": {},
     "output_type": "display_data"
    }
   ],
   "source": [
    "# using best parameters from hypertuning\n",
    "\n",
    "svc_model = svm.SVC(kernel='rbf',C=100, gamma=1)\n",
    "\n",
    "svc_model.fit(X,y)\n",
    "plt.title('RBF kernel')\n",
    "#Training accuracy:\n",
    "print(\"Training accuracy: {}\".format(metrics.accuracy_score(y_train, svc_model.predict(X_train))))\n",
    "print(\"Testing accuracy : {}\".format(metrics.accuracy_score(y_test, svc_model.predict(X_test))))\n",
    "plt.scatter(svc_model.support_vectors_[:, 0], svc_model.support_vectors_[:, 1], s=100, marker='+', edgecolors='g', zorder=10)\n",
    "plt.show()"
   ]
  },
  {
   "cell_type": "code",
   "execution_count": 542,
   "id": "2cd43533",
   "metadata": {},
   "outputs": [],
   "source": [
    "y_train_predict = svc_model.predict(X_train)"
   ]
  },
  {
   "cell_type": "code",
   "execution_count": 543,
   "id": "4afca38b",
   "metadata": {},
   "outputs": [],
   "source": [
    "y_test_predict = svc_model.predict(X_test)"
   ]
  },
  {
   "cell_type": "code",
   "execution_count": 544,
   "id": "9c6eef83",
   "metadata": {},
   "outputs": [
    {
     "name": "stdout",
     "output_type": "stream",
     "text": [
      "              precision    recall  f1-score   support\n",
      "\n",
      "        25.0       0.00      0.00      0.00         1\n",
      "        31.0       0.00      0.00      0.00         1\n",
      "        37.0       0.00      0.00      0.00         0\n",
      "        39.0       0.50      0.50      0.50         2\n",
      "        40.0       1.00      1.00      1.00         1\n",
      "        42.0       1.00      0.50      0.67         2\n",
      "        43.0       0.00      0.00      0.00         1\n",
      "        44.0       0.00      0.00      0.00         1\n",
      "        45.0       1.00      1.00      1.00         1\n",
      "        47.0       0.25      0.50      0.33         2\n",
      "        48.0       0.33      1.00      0.50         1\n",
      "        49.0       0.33      0.33      0.33         3\n",
      "        50.0       1.00      1.00      1.00         1\n",
      "        51.0       0.50      0.33      0.40         3\n",
      "        52.0       0.00      0.00      0.00         1\n",
      "        53.0       0.20      0.33      0.25         3\n",
      "        54.0       0.00      0.00      0.00         1\n",
      "        55.0       0.40      0.50      0.44         4\n",
      "        57.0       1.00      1.00      1.00         1\n",
      "        58.0       0.00      0.00      0.00         1\n",
      "        59.0       0.33      0.67      0.44         3\n",
      "        60.0       0.00      0.00      0.00         1\n",
      "        63.0       0.20      1.00      0.33         1\n",
      "        64.0       0.00      0.00      0.00         2\n",
      "        65.0       0.00      0.00      0.00         3\n",
      "        66.0       0.00      0.00      0.00         2\n",
      "        67.0       0.00      0.00      0.00         1\n",
      "        68.0       0.50      0.50      0.50         2\n",
      "        69.0       1.00      0.50      0.67         2\n",
      "        70.0       0.00      0.00      0.00         1\n",
      "        71.0       0.12      0.50      0.20         4\n",
      "        72.0       0.09      0.50      0.15         2\n",
      "        73.0       0.00      0.00      0.00         1\n",
      "        74.0       0.00      0.00      0.00         2\n",
      "        75.0       0.00      0.00      0.00         2\n",
      "        77.0       0.67      0.67      0.67         3\n",
      "        78.0       1.00      0.33      0.50         3\n",
      "        79.0       0.00      0.00      0.00         1\n",
      "        80.0       0.00      0.00      0.00         1\n",
      "        81.0       1.00      0.50      0.67         2\n",
      "        83.0       0.00      0.00      0.00         3\n",
      "        84.0       1.00      0.50      0.67         2\n",
      "        85.0       0.75      0.75      0.75         4\n",
      "        86.0       1.00      1.00      1.00         1\n",
      "        87.0       0.33      1.00      0.50         1\n",
      "        88.0       0.00      0.00      0.00         3\n",
      "        89.0       1.00      1.00      1.00         1\n",
      "        90.0       0.20      1.00      0.33         1\n",
      "        91.0       0.00      0.00      0.00         3\n",
      "        92.0       0.00      0.00      0.00         2\n",
      "        93.0       0.00      0.00      0.00         1\n",
      "        94.0       0.00      0.00      0.00         1\n",
      "        95.0       0.00      0.00      0.00         1\n",
      "        96.0       0.00      0.00      0.00         2\n",
      "        97.0       0.00      0.00      0.00         2\n",
      "        99.0       0.00      0.00      0.00         1\n",
      "       100.0       0.50      1.00      0.67         1\n",
      "       101.0       0.50      1.00      0.67         1\n",
      "       102.0       0.50      1.00      0.67         1\n",
      "       103.0       1.00      0.50      0.67         2\n",
      "       104.0       0.50      0.33      0.40         3\n",
      "       107.0       0.00      0.00      0.00         1\n",
      "       109.0       0.38      0.75      0.50         4\n",
      "       110.0       0.00      0.00      0.00         1\n",
      "       111.0       0.00      0.00      0.00         2\n",
      "       113.0       0.33      0.50      0.40         2\n",
      "       114.0       0.00      0.00      0.00         1\n",
      "       115.0       0.50      0.50      0.50         2\n",
      "       116.0       1.00      0.50      0.67         2\n",
      "       118.0       0.00      0.00      0.00         2\n",
      "       120.0       1.00      1.00      1.00         1\n",
      "       121.0       1.00      1.00      1.00         1\n",
      "       122.0       0.00      0.00      0.00         1\n",
      "       123.0       1.00      1.00      1.00         1\n",
      "       124.0       1.00      1.00      1.00         2\n",
      "       126.0       0.00      0.00      0.00         1\n",
      "       127.0       1.00      0.50      0.67         2\n",
      "       128.0       0.50      1.00      0.67         2\n",
      "       129.0       0.00      0.00      0.00         1\n",
      "       131.0       0.17      0.25      0.20         4\n",
      "       132.0       1.00      1.00      1.00         1\n",
      "       134.0       0.00      0.00      0.00         2\n",
      "       135.0       0.00      0.00      0.00         1\n",
      "       137.0       0.00      0.00      0.00         1\n",
      "       138.0       0.00      0.00      0.00         2\n",
      "       139.0       0.50      0.50      0.50         2\n",
      "       140.0       0.00      0.00      0.00         0\n",
      "       141.0       0.50      0.33      0.40         3\n",
      "       142.0       0.00      0.00      0.00         4\n",
      "       143.0       0.00      0.00      0.00         2\n",
      "       144.0       0.50      0.67      0.57         3\n",
      "       145.0       1.00      1.00      1.00         1\n",
      "       146.0       1.00      1.00      1.00         1\n",
      "       147.0       0.00      0.00      0.00         1\n",
      "       148.0       0.00      0.00      0.00         1\n",
      "       150.0       0.00      0.00      0.00         3\n",
      "       151.0       0.00      0.00      0.00         2\n",
      "       152.0       0.67      1.00      0.80         2\n",
      "       154.0       0.00      0.00      0.00         1\n",
      "       155.0       1.00      0.50      0.67         2\n",
      "       158.0       0.00      0.00      0.00         1\n",
      "       160.0       0.00      0.00      0.00         2\n",
      "       161.0       1.00      1.00      1.00         1\n",
      "       162.0       1.00      1.00      1.00         1\n",
      "       163.0       1.00      0.50      0.67         2\n",
      "       164.0       0.00      0.00      0.00         1\n",
      "       168.0       0.00      0.00      0.00         1\n",
      "       170.0       0.00      0.00      0.00         2\n",
      "       172.0       0.00      0.00      0.00         1\n",
      "       173.0       0.00      0.00      0.00         1\n",
      "       174.0       0.00      0.00      0.00         1\n",
      "       175.0       1.00      1.00      1.00         1\n",
      "       177.0       0.00      0.00      0.00         1\n",
      "       178.0       0.25      0.75      0.38         4\n",
      "       179.0       0.00      0.00      0.00         2\n",
      "       180.0       0.50      1.00      0.67         1\n",
      "       181.0       0.00      0.00      0.00         1\n",
      "       182.0       1.00      0.67      0.80         3\n",
      "       183.0       0.00      0.00      0.00         1\n",
      "       185.0       1.00      0.33      0.50         3\n",
      "       190.0       0.50      1.00      0.67         1\n",
      "       191.0       0.50      0.50      0.50         2\n",
      "       192.0       1.00      1.00      1.00         1\n",
      "       195.0       1.00      1.00      1.00         1\n",
      "       196.0       1.00      0.50      0.67         2\n",
      "       197.0       0.33      1.00      0.50         1\n",
      "       198.0       0.50      0.33      0.40         3\n",
      "       199.0       0.00      0.00      0.00         1\n",
      "       200.0       0.25      0.80      0.38         5\n",
      "       201.0       1.00      1.00      1.00         1\n",
      "       202.0       1.00      0.50      0.67         2\n",
      "       206.0       0.50      1.00      0.67         1\n",
      "       208.0       0.00      0.00      0.00         1\n",
      "       209.0       1.00      1.00      1.00         1\n",
      "       210.0       0.00      0.00      0.00         1\n",
      "       212.0       0.00      0.00      0.00         1\n",
      "       214.0       0.00      0.00      0.00         2\n",
      "       215.0       0.00      0.00      0.00         1\n",
      "       216.0       1.00      1.00      1.00         1\n",
      "       217.0       0.67      1.00      0.80         2\n",
      "       219.0       0.00      0.00      0.00         1\n",
      "       220.0       1.00      1.00      1.00         2\n",
      "       221.0       1.00      1.00      1.00         1\n",
      "       225.0       1.00      0.50      0.67         2\n",
      "       229.0       1.00      1.00      1.00         1\n",
      "       230.0       0.00      0.00      0.00         1\n",
      "       232.0       0.00      0.00      0.00         0\n",
      "       233.0       1.00      1.00      1.00         1\n",
      "       235.0       0.00      0.00      0.00         2\n",
      "       236.0       0.00      0.00      0.00         1\n",
      "       237.0       1.00      1.00      1.00         1\n",
      "       241.0       0.00      0.00      0.00         1\n",
      "       242.0       1.00      1.00      1.00         1\n",
      "       243.0       1.00      1.00      1.00         2\n",
      "       244.0       0.00      0.00      0.00         1\n",
      "       245.0       1.00      0.50      0.67         2\n",
      "       246.0       0.00      0.00      0.00         2\n",
      "       248.0       0.50      1.00      0.67         2\n",
      "       249.0       1.00      1.00      1.00         1\n",
      "       252.0       0.00      0.00      0.00         2\n",
      "       253.0       1.00      1.00      1.00         1\n",
      "       257.0       1.00      1.00      1.00         1\n",
      "       258.0       0.50      1.00      0.67         2\n",
      "       259.0       0.67      0.67      0.67         3\n",
      "       261.0       1.00      1.00      1.00         1\n",
      "       262.0       0.00      0.00      0.00         1\n",
      "       263.0       0.25      1.00      0.40         1\n",
      "       265.0       0.50      0.50      0.50         2\n",
      "       268.0       1.00      1.00      1.00         2\n",
      "       270.0       1.00      1.00      1.00         1\n",
      "       272.0       1.00      1.00      1.00         1\n",
      "       273.0       1.00      1.00      1.00         1\n",
      "       274.0       1.00      1.00      1.00         1\n",
      "       275.0       0.60      1.00      0.75         3\n",
      "       276.0       0.00      0.00      0.00         1\n",
      "       277.0       1.00      1.00      1.00         1\n",
      "       279.0       0.00      0.00      0.00         1\n",
      "       281.0       0.50      1.00      0.67         2\n",
      "       283.0       1.00      1.00      1.00         1\n",
      "       288.0       0.00      0.00      0.00         1\n",
      "       292.0       1.00      1.00      1.00         2\n",
      "       293.0       1.00      1.00      1.00         1\n",
      "       296.0       1.00      1.00      1.00         1\n",
      "       302.0       0.00      0.00      0.00         1\n",
      "       303.0       0.00      0.00      0.00         1\n",
      "       306.0       1.00      1.00      1.00         1\n",
      "       308.0       1.00      1.00      1.00         1\n",
      "       310.0       1.00      1.00      1.00         2\n",
      "       311.0       0.00      0.00      0.00         1\n",
      "       317.0       1.00      1.00      1.00         1\n",
      "       321.0       0.00      0.00      0.00         1\n",
      "       332.0       0.00      0.00      0.00         1\n",
      "       336.0       0.00      0.00      0.00         1\n",
      "       341.0       1.00      1.00      1.00         1\n",
      "       346.0       1.00      1.00      1.00         1\n",
      "\n",
      "    accuracy                           0.45       309\n",
      "   macro avg       0.43      0.45      0.42       309\n",
      "weighted avg       0.43      0.45      0.41       309\n",
      "\n"
     ]
    },
    {
     "name": "stderr",
     "output_type": "stream",
     "text": [
      "C:\\ProgramData\\Anaconda3\\lib\\site-packages\\sklearn\\metrics\\_classification.py:1344: UndefinedMetricWarning: Precision and F-score are ill-defined and being set to 0.0 in labels with no predicted samples. Use `zero_division` parameter to control this behavior.\n",
      "  _warn_prf(average, modifier, msg_start, len(result))\n",
      "C:\\ProgramData\\Anaconda3\\lib\\site-packages\\sklearn\\metrics\\_classification.py:1344: UndefinedMetricWarning: Recall and F-score are ill-defined and being set to 0.0 in labels with no true samples. Use `zero_division` parameter to control this behavior.\n",
      "  _warn_prf(average, modifier, msg_start, len(result))\n",
      "C:\\ProgramData\\Anaconda3\\lib\\site-packages\\sklearn\\metrics\\_classification.py:1344: UndefinedMetricWarning: Precision and F-score are ill-defined and being set to 0.0 in labels with no predicted samples. Use `zero_division` parameter to control this behavior.\n",
      "  _warn_prf(average, modifier, msg_start, len(result))\n",
      "C:\\ProgramData\\Anaconda3\\lib\\site-packages\\sklearn\\metrics\\_classification.py:1344: UndefinedMetricWarning: Recall and F-score are ill-defined and being set to 0.0 in labels with no true samples. Use `zero_division` parameter to control this behavior.\n",
      "  _warn_prf(average, modifier, msg_start, len(result))\n",
      "C:\\ProgramData\\Anaconda3\\lib\\site-packages\\sklearn\\metrics\\_classification.py:1344: UndefinedMetricWarning: Precision and F-score are ill-defined and being set to 0.0 in labels with no predicted samples. Use `zero_division` parameter to control this behavior.\n",
      "  _warn_prf(average, modifier, msg_start, len(result))\n",
      "C:\\ProgramData\\Anaconda3\\lib\\site-packages\\sklearn\\metrics\\_classification.py:1344: UndefinedMetricWarning: Recall and F-score are ill-defined and being set to 0.0 in labels with no true samples. Use `zero_division` parameter to control this behavior.\n",
      "  _warn_prf(average, modifier, msg_start, len(result))\n"
     ]
    }
   ],
   "source": [
    "from sklearn.metrics import classification_report\n",
    "\n",
    "print(classification_report(y_train, y_train_predict))"
   ]
  },
  {
   "cell_type": "code",
   "execution_count": 545,
   "id": "64c874ce",
   "metadata": {},
   "outputs": [
    {
     "name": "stdout",
     "output_type": "stream",
     "text": [
      "              precision    recall  f1-score   support\n",
      "\n",
      "        37.0       1.00      1.00      1.00         1\n",
      "        42.0       0.00      0.00      0.00         1\n",
      "        48.0       0.50      1.00      0.67         2\n",
      "        52.0       0.33      0.33      0.33         3\n",
      "        53.0       0.00      0.00      0.00         1\n",
      "        55.0       0.00      0.00      0.00         0\n",
      "        59.0       0.00      0.00      0.00         1\n",
      "        60.0       1.00      0.50      0.67         2\n",
      "        61.0       0.00      0.00      0.00         2\n",
      "        63.0       1.00      0.33      0.50         3\n",
      "        64.0       1.00      1.00      1.00         1\n",
      "        65.0       0.50      1.00      0.67         1\n",
      "        67.0       0.00      0.00      0.00         1\n",
      "        68.0       0.00      0.00      0.00         1\n",
      "        69.0       1.00      1.00      1.00         1\n",
      "        70.0       0.00      0.00      0.00         1\n",
      "        71.0       0.33      1.00      0.50         1\n",
      "        72.0       0.36      1.00      0.53         4\n",
      "        77.0       0.00      0.00      0.00         1\n",
      "        78.0       0.00      0.00      0.00         0\n",
      "        84.0       1.00      0.50      0.67         2\n",
      "        85.0       0.00      0.00      0.00         0\n",
      "        87.0       1.00      1.00      1.00         1\n",
      "        88.0       1.00      1.00      1.00         1\n",
      "        89.0       0.00      0.00      0.00         1\n",
      "        90.0       1.00      0.25      0.40         4\n",
      "        91.0       0.33      1.00      0.50         1\n",
      "        93.0       0.00      0.00      0.00         1\n",
      "        94.0       1.00      0.50      0.67         2\n",
      "        95.0       0.00      0.00      0.00         1\n",
      "        96.0       0.33      0.50      0.40         2\n",
      "        97.0       0.33      0.50      0.40         2\n",
      "        98.0       1.00      1.00      1.00         1\n",
      "        99.0       0.00      0.00      0.00         1\n",
      "       101.0       1.00      1.00      1.00         2\n",
      "       102.0       1.00      0.50      0.67         2\n",
      "       104.0       1.00      1.00      1.00         1\n",
      "       107.0       0.00      0.00      0.00         1\n",
      "       108.0       1.00      1.00      1.00         1\n",
      "       109.0       0.00      0.00      0.00         0\n",
      "       110.0       0.00      0.00      0.00         1\n",
      "       111.0       0.20      1.00      0.33         1\n",
      "       113.0       1.00      1.00      1.00         1\n",
      "       118.0       0.00      0.00      0.00         1\n",
      "       120.0       0.00      0.00      0.00         0\n",
      "       121.0       0.00      0.00      0.00         1\n",
      "       122.0       0.00      0.00      0.00         1\n",
      "       124.0       0.00      0.00      0.00         0\n",
      "       125.0       1.00      1.00      1.00         1\n",
      "       128.0       0.00      0.00      0.00         2\n",
      "       129.0       0.00      0.00      0.00         2\n",
      "       131.0       0.00      0.00      0.00         0\n",
      "       132.0       0.00      0.00      0.00         1\n",
      "       135.0       0.00      0.00      0.00         1\n",
      "       136.0       1.00      1.00      1.00         1\n",
      "       137.0       0.00      0.00      0.00         1\n",
      "       140.0       0.50      0.50      0.50         2\n",
      "       141.0       0.00      0.00      0.00         0\n",
      "       142.0       0.00      0.00      0.00         0\n",
      "       144.0       0.00      0.00      0.00         1\n",
      "       150.0       0.00      0.00      0.00         1\n",
      "       151.0       0.00      0.00      0.00         1\n",
      "       153.0       0.00      0.00      0.00         1\n",
      "       156.0       1.00      1.00      1.00         1\n",
      "       158.0       0.00      0.00      0.00         1\n",
      "       164.0       0.00      0.00      0.00         1\n",
      "       166.0       0.00      0.00      0.00         1\n",
      "       167.0       0.00      0.00      0.00         1\n",
      "       168.0       0.00      0.00      0.00         2\n",
      "       170.0       1.00      1.00      1.00         1\n",
      "       171.0       0.50      1.00      0.67         1\n",
      "       172.0       0.00      0.00      0.00         1\n",
      "       173.0       1.00      1.00      1.00         1\n",
      "       174.0       1.00      1.00      1.00         1\n",
      "       178.0       0.11      1.00      0.20         1\n",
      "       180.0       1.00      1.00      1.00         1\n",
      "       181.0       0.00      0.00      0.00         1\n",
      "       184.0       0.00      0.00      0.00         1\n",
      "       186.0       0.00      0.00      0.00         1\n",
      "       187.0       1.00      1.00      1.00         1\n",
      "       189.0       1.00      1.00      1.00         1\n",
      "       190.0       0.00      0.00      0.00         1\n",
      "       191.0       0.00      0.00      0.00         0\n",
      "       197.0       0.00      0.00      0.00         1\n",
      "       198.0       0.00      0.00      0.00         0\n",
      "       200.0       0.00      0.00      0.00         1\n",
      "       202.0       0.50      0.50      0.50         2\n",
      "       206.0       0.00      0.00      0.00         1\n",
      "       214.0       1.00      1.00      1.00         1\n",
      "       217.0       0.00      0.00      0.00         0\n",
      "       219.0       1.00      1.00      1.00         1\n",
      "       220.0       0.33      0.50      0.40         2\n",
      "       222.0       0.00      0.00      0.00         1\n",
      "       230.0       1.00      1.00      1.00         1\n",
      "       232.0       1.00      0.50      0.67         2\n",
      "       233.0       1.00      1.00      1.00         2\n",
      "       237.0       0.00      0.00      0.00         1\n",
      "       242.0       1.00      0.50      0.67         2\n",
      "       248.0       1.00      1.00      1.00         1\n",
      "       252.0       1.00      1.00      1.00         1\n",
      "       257.0       0.00      0.00      0.00         1\n",
      "       258.0       0.00      0.00      0.00         1\n",
      "       262.0       0.00      0.00      0.00         1\n",
      "       263.0       0.00      0.00      0.00         1\n",
      "       264.0       1.00      1.00      1.00         1\n",
      "       265.0       0.00      0.00      0.00         1\n",
      "       270.0       1.00      1.00      1.00         1\n",
      "       272.0       0.00      0.00      0.00         1\n",
      "       275.0       1.00      1.00      1.00         1\n",
      "       277.0       0.00      0.00      0.00         1\n",
      "       280.0       1.00      1.00      1.00         1\n",
      "       281.0       1.00      0.50      0.67         2\n",
      "       283.0       1.00      1.00      1.00         1\n",
      "       295.0       0.00      0.00      0.00         1\n",
      "       297.0       1.00      1.00      1.00         1\n",
      "       310.0       0.00      0.00      0.00         1\n",
      "\n",
      "    accuracy                           0.45       133\n",
      "   macro avg       0.39      0.40      0.37       133\n",
      "weighted avg       0.48      0.45      0.43       133\n",
      "\n"
     ]
    },
    {
     "name": "stderr",
     "output_type": "stream",
     "text": [
      "C:\\ProgramData\\Anaconda3\\lib\\site-packages\\sklearn\\metrics\\_classification.py:1344: UndefinedMetricWarning: Precision and F-score are ill-defined and being set to 0.0 in labels with no predicted samples. Use `zero_division` parameter to control this behavior.\n",
      "  _warn_prf(average, modifier, msg_start, len(result))\n",
      "C:\\ProgramData\\Anaconda3\\lib\\site-packages\\sklearn\\metrics\\_classification.py:1344: UndefinedMetricWarning: Recall and F-score are ill-defined and being set to 0.0 in labels with no true samples. Use `zero_division` parameter to control this behavior.\n",
      "  _warn_prf(average, modifier, msg_start, len(result))\n",
      "C:\\ProgramData\\Anaconda3\\lib\\site-packages\\sklearn\\metrics\\_classification.py:1344: UndefinedMetricWarning: Precision and F-score are ill-defined and being set to 0.0 in labels with no predicted samples. Use `zero_division` parameter to control this behavior.\n",
      "  _warn_prf(average, modifier, msg_start, len(result))\n",
      "C:\\ProgramData\\Anaconda3\\lib\\site-packages\\sklearn\\metrics\\_classification.py:1344: UndefinedMetricWarning: Recall and F-score are ill-defined and being set to 0.0 in labels with no true samples. Use `zero_division` parameter to control this behavior.\n",
      "  _warn_prf(average, modifier, msg_start, len(result))\n",
      "C:\\ProgramData\\Anaconda3\\lib\\site-packages\\sklearn\\metrics\\_classification.py:1344: UndefinedMetricWarning: Precision and F-score are ill-defined and being set to 0.0 in labels with no predicted samples. Use `zero_division` parameter to control this behavior.\n",
      "  _warn_prf(average, modifier, msg_start, len(result))\n",
      "C:\\ProgramData\\Anaconda3\\lib\\site-packages\\sklearn\\metrics\\_classification.py:1344: UndefinedMetricWarning: Recall and F-score are ill-defined and being set to 0.0 in labels with no true samples. Use `zero_division` parameter to control this behavior.\n",
      "  _warn_prf(average, modifier, msg_start, len(result))\n"
     ]
    }
   ],
   "source": [
    "print(classification_report(y_test, y_test_predict))"
   ]
  },
  {
   "cell_type": "code",
   "execution_count": null,
   "id": "7ae2c73e",
   "metadata": {},
   "outputs": [],
   "source": []
  },
  {
   "cell_type": "code",
   "execution_count": null,
   "id": "b240f906",
   "metadata": {},
   "outputs": [],
   "source": []
  },
  {
   "cell_type": "code",
   "execution_count": null,
   "id": "4c6b8e1a",
   "metadata": {},
   "outputs": [],
   "source": []
  },
  {
   "cell_type": "code",
   "execution_count": null,
   "id": "de70d2d4",
   "metadata": {},
   "outputs": [],
   "source": [
    "# 9. Based on the model hyper-parameters used in Q6 and Q8, \n",
    "# share your understanding of hyper\u0002parameters tuning in ML model development."
   ]
  },
  {
   "cell_type": "code",
   "execution_count": null,
   "id": "5e495803",
   "metadata": {},
   "outputs": [],
   "source": []
  },
  {
   "cell_type": "code",
   "execution_count": null,
   "id": "717395e2",
   "metadata": {},
   "outputs": [],
   "source": []
  },
  {
   "cell_type": "code",
   "execution_count": null,
   "id": "c83e7008",
   "metadata": {},
   "outputs": [],
   "source": []
  },
  {
   "cell_type": "code",
   "execution_count": null,
   "id": "f55b9b3e",
   "metadata": {},
   "outputs": [],
   "source": []
  },
  {
   "cell_type": "code",
   "execution_count": null,
   "id": "64a3413e",
   "metadata": {},
   "outputs": [],
   "source": []
  },
  {
   "cell_type": "code",
   "execution_count": null,
   "id": "b02fd69e",
   "metadata": {},
   "outputs": [],
   "source": []
  },
  {
   "cell_type": "code",
   "execution_count": null,
   "id": "fabd97b9",
   "metadata": {},
   "outputs": [],
   "source": []
  },
  {
   "cell_type": "code",
   "execution_count": 48,
   "id": "ffebae3c",
   "metadata": {},
   "outputs": [
    {
     "ename": "SyntaxError",
     "evalue": "invalid syntax (1856623104.py, line 8)",
     "output_type": "error",
     "traceback": [
      "\u001b[1;36m  Input \u001b[1;32mIn [48]\u001b[1;36m\u001b[0m\n\u001b[1;33m    random_state=random_state)log_reg = LogisticRegression()\u001b[0m\n\u001b[1;37m                              ^\u001b[0m\n\u001b[1;31mSyntaxError\u001b[0m\u001b[1;31m:\u001b[0m invalid syntax\n"
     ]
    }
   ],
   "source": [
    "from sklearn.model_selection import train_test_split\n",
    "X = df.loc[:,features]            # get the reduced features in the dataframe\n",
    "y = df.loc[:,'diagnosis']              # perform a split\n",
    "X_train, X_test, y_train, y_test = \\\n",
    "    train_test_split(X, y, \n",
    "                     test_size = 0.3,\n",
    "                     shuffle = True,                                                    \n",
    "                     random_state=random_state)log_reg = LogisticRegression()"
   ]
  },
  {
   "cell_type": "code",
   "execution_count": null,
   "id": "0f493ef8",
   "metadata": {},
   "outputs": [],
   "source": []
  },
  {
   "cell_type": "code",
   "execution_count": null,
   "id": "8bfe0b75",
   "metadata": {},
   "outputs": [],
   "source": []
  },
  {
   "cell_type": "code",
   "execution_count": null,
   "id": "2ab0d483",
   "metadata": {},
   "outputs": [],
   "source": [
    "https://towardsdatascience.com/using-principal-component-analysis-pca-for-machine-learning-b6e803f5bf1e&hl=en&gl=in&strip=1&vwsrc=0"
   ]
  }
 ],
 "metadata": {
  "kernelspec": {
   "display_name": "Python 3 (ipykernel)",
   "language": "python",
   "name": "python3"
  },
  "language_info": {
   "codemirror_mode": {
    "name": "ipython",
    "version": 3
   },
   "file_extension": ".py",
   "mimetype": "text/x-python",
   "name": "python",
   "nbconvert_exporter": "python",
   "pygments_lexer": "ipython3",
   "version": "3.9.12"
  }
 },
 "nbformat": 4,
 "nbformat_minor": 5
}
