{
 "cells": [
  {
   "cell_type": "markdown",
   "id": "eea0604c",
   "metadata": {},
   "source": [
    "### Name: VISHAL SHAH"
   ]
  },
  {
   "cell_type": "markdown",
   "id": "f5d143c7",
   "metadata": {},
   "source": [
    "### ID: S223623935"
   ]
  },
  {
   "cell_type": "markdown",
   "id": "e9549afa",
   "metadata": {},
   "source": [
    "## Part 1"
   ]
  },
  {
   "cell_type": "markdown",
   "id": "c4af4403",
   "metadata": {},
   "source": [
    "Question 1.1\n",
    "• find the average value of age (don’t use numpy and do not import other module or library, do not\n",
    "directly use math,statistics module functions except the function sum);\n",
    "\n",
    "• find the standard deviation from the age list (don’t use numpy and do not import other module or\n",
    "library, do not directly use math, statistics module functions except the function sum)"
   ]
  },
  {
   "cell_type": "markdown",
   "id": "d5ae35cd",
   "metadata": {},
   "source": [
    "### Answer 1.1"
   ]
  },
  {
   "cell_type": "markdown",
   "id": "6a6446f2",
   "metadata": {},
   "source": [
    "Reference: https://www.mathsisfun.com/data/standard-deviation-formulas.html"
   ]
  },
  {
   "cell_type": "code",
   "execution_count": 10,
   "id": "dd17b1ea",
   "metadata": {},
   "outputs": [
    {
     "name": "stdout",
     "output_type": "stream",
     "text": [
      "total 680  average 32.38095 std dev 22.67887\n"
     ]
    }
   ],
   "source": [
    "# implementing formula for standard deviation from the site address pasted above.\n",
    "\n",
    "ages = [5,31,43,48,50,41,7,11,15,39,80,82,32,2,8,6,25,36,27,61,31]\n",
    "\n",
    "def sum_of_numbers(ages):\n",
    "    return sum(ages)\n",
    "    \n",
    "def avg(ages):\n",
    "    return sum(ages)/len(ages)\n",
    "\n",
    "def std_dev(ages):\n",
    "    \n",
    "    sum_of_squares = 0\n",
    "    for i in range(0,len(ages)):\n",
    "        b = (ages[i]-average)\n",
    "        x = b*b\n",
    "        sum_of_squares = x + sum_of_squares\n",
    "\n",
    "    return (sum_of_squares/len(ages))**0.5\n",
    "   \n",
    "\n",
    "total = sum_of_numbers(ages)\n",
    "average = avg(ages)\n",
    "sd = std_dev(ages)\n",
    "\n",
    "print(\"total %d \" %total, \"average %.5f\" %average, \"std dev %.5f\" %sd)"
   ]
  },
  {
   "cell_type": "code",
   "execution_count": null,
   "id": "45cccb2c",
   "metadata": {},
   "outputs": [],
   "source": []
  },
  {
   "cell_type": "markdown",
   "id": "313259fc",
   "metadata": {},
   "source": [
    "Ques 1.2 \n",
    "Writing the code or function to achieve below requirements:\n",
    "• You are given the heads of two sorted linked lists list1 = [1,2,4] and list2 = [1,3,4]. Merge\n",
    "the two lists in a one sorted list which is [1,1,2,3,4,4]. (don’t use numpy or import other\n",
    "module / library);\n",
    "• You are given the heads of two sorted linked lists list1 = [1,2,4] and list2 = [1,3,4]. Merge\n",
    "the two lists in a one sorted list without duplicated elements which is [1,2,3,4]. (don’t use\n",
    "numpy or import other module / library);"
   ]
  },
  {
   "cell_type": "markdown",
   "id": "3996e5ee",
   "metadata": {},
   "source": [
    "### Answer 1.2"
   ]
  },
  {
   "cell_type": "code",
   "execution_count": 14,
   "id": "274851e8",
   "metadata": {},
   "outputs": [
    {
     "data": {
      "text/plain": [
       "[1, 1, 2, 3, 4, 4]"
      ]
     },
     "execution_count": 14,
     "metadata": {},
     "output_type": "execute_result"
    }
   ],
   "source": [
    "list1 = [1,2,4]\n",
    "list2 = [1,3,4]\n",
    "\n",
    "y = (list1+list2)\n",
    "y.sort()\n",
    "y"
   ]
  },
  {
   "cell_type": "code",
   "execution_count": 15,
   "id": "015c8ce2",
   "metadata": {},
   "outputs": [
    {
     "data": {
      "text/plain": [
       "{1, 2, 3, 4}"
      ]
     },
     "execution_count": 15,
     "metadata": {},
     "output_type": "execute_result"
    }
   ],
   "source": [
    "set(y)"
   ]
  },
  {
   "cell_type": "code",
   "execution_count": null,
   "id": "9879e1a1",
   "metadata": {},
   "outputs": [],
   "source": []
  },
  {
   "cell_type": "markdown",
   "id": "73b410a7",
   "metadata": {},
   "source": [
    "Question 1.3\n",
    "You are required to design the code (by writing code or function) could achieve the mobile\n",
    "number searching mechanism which could allow you to:\n",
    "• for Four mobile numbers in a list [’10009091003’,’10008293312’,’10007838282’, ‘130001002’]\n",
    "• print “Yes” when last digit in mobile number is not 3\n",
    "• print “No” when last digit in mobile number is 3\n",
    "• print “Not Valid” when length of the mobile number is small than 11 digits\n",
    "(Optional: You could import re to use the regex function)"
   ]
  },
  {
   "cell_type": "markdown",
   "id": "1e51ec82",
   "metadata": {},
   "source": [
    "### Answer 1.3"
   ]
  },
  {
   "cell_type": "code",
   "execution_count": 16,
   "id": "7a9127c5",
   "metadata": {},
   "outputs": [
    {
     "name": "stdout",
     "output_type": "stream",
     "text": [
      "10009091003 Yes\n",
      "10008293312 No\n",
      "10007838282 No\n",
      "130001002 is Not Valid\n",
      "130001002 No\n"
     ]
    }
   ],
   "source": [
    "mobile = ['10009091003','10008293312','10007838282', '130001002']\n",
    "\n",
    "for i in range(0,len(mobile)):\n",
    "    if int(mobile[i]) < 10000000000:\n",
    "        print(mobile[i] ,\"is Not Valid\")\n",
    "    if mobile[i].endswith('3') == True:\n",
    "        print(mobile[i] , \"Yes\")\n",
    "    if mobile[i].endswith('3') == False:\n",
    "        print(mobile[i] , \"No\")"
   ]
  },
  {
   "cell_type": "code",
   "execution_count": null,
   "id": "9d383e8a",
   "metadata": {},
   "outputs": [],
   "source": []
  },
  {
   "cell_type": "markdown",
   "id": "4c6bad99",
   "metadata": {},
   "source": [
    "Question 1.4\n",
    "You are required to use For statement to print out below * mark in 5 lines (must use control flow\n",
    "such as For statement)."
   ]
  },
  {
   "cell_type": "markdown",
   "id": "6b8bdad1",
   "metadata": {},
   "source": [
    "### Answer 1.4"
   ]
  },
  {
   "cell_type": "code",
   "execution_count": 17,
   "id": "554d7057",
   "metadata": {},
   "outputs": [
    {
     "name": "stdout",
     "output_type": "stream",
     "text": [
      "*\n",
      "**\n",
      "***\n",
      "****\n",
      "*****\n"
     ]
    }
   ],
   "source": [
    "for i in range(1,6):\n",
    "    m = ('*'*i)\n",
    "    print(m)"
   ]
  },
  {
   "cell_type": "code",
   "execution_count": null,
   "id": "d646d9e3",
   "metadata": {},
   "outputs": [],
   "source": []
  },
  {
   "cell_type": "markdown",
   "id": "779c1f2f",
   "metadata": {},
   "source": [
    "Question 1.5\n",
    "Given list A = [1,2,3,[4,5,[’x1’,6,[1,2,3,’sig742’]]]],\n",
    "writing a function to print 1,2,3,4,5,x1,6,1,2,3,sig742\n",
    "(must define a function to run, the input for function is list A, run the function and print the results\n",
    "line by line or in one line)"
   ]
  },
  {
   "cell_type": "markdown",
   "id": "ef6fda0f",
   "metadata": {},
   "source": [
    "### Answer 1.5"
   ]
  },
  {
   "cell_type": "code",
   "execution_count": 18,
   "id": "751edf5c",
   "metadata": {},
   "outputs": [
    {
     "name": "stdout",
     "output_type": "stream",
     "text": [
      "1\n",
      "2\n",
      "3\n",
      "4\n",
      "5\n",
      "x1\n",
      "6\n",
      "1\n",
      "2\n",
      "3\n",
      "sig742\n"
     ]
    }
   ],
   "source": [
    "def Alist(A):\n",
    "    for i in range(0,len(A)):\n",
    "        a = A[i]\n",
    "\n",
    "        if type(a) == int or type(a) == str:        # this step distinguishes a list with more than 1 value\n",
    "            print(A[i])\n",
    "        else:\n",
    "             for j in range(0,len(a)):\n",
    "                b = a[j]\n",
    "\n",
    "                if type(b) == int or type(b) == str:     # this step distinguishes a list with more than 1 value\n",
    "                    print(a[j])\n",
    "\n",
    "                else:\n",
    "                    for k in range(0,len(b)):\n",
    "                        c = b[k]\n",
    "\n",
    "                        if type(c) == int or type(c) == str:    # this step distinguishes a list with more than 1 value\n",
    "                            print(b[k])\n",
    "\n",
    "                        else:\n",
    "                            for m in range(0,len(c)):\n",
    "                                d = c[m]\n",
    "\n",
    "                                if type(d) == int or type(d) == str:    # this step distinguishes a list with more than 1 value\n",
    "                                    print(c[m])\n",
    "                    \n",
    "                    \n",
    "\n",
    "A = [1,2,3,[4,5,['x1',6,[1,2,3,'sig742']]]]\n",
    "Alist(A)"
   ]
  },
  {
   "cell_type": "code",
   "execution_count": null,
   "id": "46c04be6",
   "metadata": {},
   "outputs": [],
   "source": []
  },
  {
   "cell_type": "markdown",
   "id": "23818477",
   "metadata": {},
   "source": [
    "Question 1.6\n",
    "Write the code or function to achieve:\n",
    "Sort the dictionary list=[{′name′: a,′ age′: 55}, {′name′: b,′ age′: 30}, {′name′: c,′ age′: 50}]\n",
    "with the value of age (from smallest to largest, you could use default sorted function)."
   ]
  },
  {
   "cell_type": "markdown",
   "id": "cb56f2f2",
   "metadata": {},
   "source": [
    "### Answer 1.6"
   ]
  },
  {
   "cell_type": "code",
   "execution_count": 19,
   "id": "aaac55e9",
   "metadata": {},
   "outputs": [
    {
     "name": "stdout",
     "output_type": "stream",
     "text": [
      "b 30\n",
      "c 50\n",
      "a 55\n"
     ]
    },
    {
     "data": {
      "text/plain": [
       "{'b': 30, 'c': 50, 'a': 55}"
      ]
     },
     "execution_count": 19,
     "metadata": {},
     "output_type": "execute_result"
    }
   ],
   "source": [
    "def sort_dict(list1):\n",
    "    z = list(list1.values())\n",
    "    z.sort()                       # sorting the value\n",
    "\n",
    "    list2 = dict()\n",
    "\n",
    "    for i in range(0,len(z)):\n",
    "        val = z[i]\n",
    "        for j in list1:\n",
    "            if val == list1[j]:       # search for name associated to each value \n",
    "                print(j,val)\n",
    "                list2.update({j:val})   # create a new list with sorted names and values\n",
    "    return (list2)\n",
    "            \n",
    "list1 = {\"a\": 55, \"b\": 30, \"c\": 50}\n",
    "sorted_list = sort_dict(list1)\n",
    "sorted_list"
   ]
  },
  {
   "cell_type": "code",
   "execution_count": null,
   "id": "8ca2bf72",
   "metadata": {},
   "outputs": [],
   "source": []
  },
  {
   "cell_type": "code",
   "execution_count": null,
   "id": "e448f913",
   "metadata": {},
   "outputs": [],
   "source": []
  },
  {
   "cell_type": "markdown",
   "id": "05fbe3a8",
   "metadata": {},
   "source": [
    "Question 1.7\n",
    "Define two functions to sum your student ID (all numeric digits in the ID) and then find out if the\n",
    "result is an odd number or even number there are two functions for you to implement (you\n",
    "must create the below two functions):\n",
    "• one is sum_digits,\n",
    "• another one is check_studentid.\n",
    "your code will have two functions as below:\n",
    "def sum_digits ( studentid ):\n",
    "#write your code here\n",
    "return sum_digits_result\n",
    "def check_studentid (sum_digits_result) :\n",
    "#write your code here\n",
    "Run your functions to find out the result and the result must illustrate whether the result from\n",
    "function check_studentid is odd or even number (this is critical to be used for Question 2).\n"
   ]
  },
  {
   "cell_type": "markdown",
   "id": "f3bf2b4a",
   "metadata": {},
   "source": [
    "### Answer 1.7"
   ]
  },
  {
   "cell_type": "code",
   "execution_count": 20,
   "id": "bb969c5f",
   "metadata": {},
   "outputs": [
    {
     "name": "stdout",
     "output_type": "stream",
     "text": [
      "35\n",
      "odd\n"
     ]
    }
   ],
   "source": [
    "studentid = 223623935\n",
    "\n",
    "def sum_digits ( studentid ):\n",
    "    \n",
    "    a = str(studentid)\n",
    "    sum = 0\n",
    "    for i in range(0,len(a)):\n",
    "        sum = sum + int(a[i])  \n",
    "    return sum\n",
    "\n",
    "\n",
    "def check_studentid (sum_digits_result) :\n",
    "    if sum_digits_result % 2 == 0:              # if remainder of division by 2 is Zero, it denotes even number\n",
    "        return (\"e\")\n",
    "    else:\n",
    "        return(\"o\")\n",
    "    \n",
    "sum_digits_result =   sum_digits ( studentid )  \n",
    "o_e_check = check_studentid (sum_digits_result)\n",
    "\n",
    "print(sum_digits_result)\n",
    "print(\"odd\") if o_e_check == \"o\" else print(\"even\")\n"
   ]
  },
  {
   "cell_type": "code",
   "execution_count": null,
   "id": "4bed29e5",
   "metadata": {},
   "outputs": [],
   "source": []
  },
  {
   "cell_type": "markdown",
   "id": "faad33ff",
   "metadata": {},
   "source": [
    "Question 1.8\n",
    "Given an array of integers [1, 2, 6, 8], return indices of the two numbers such that they add up\n",
    "to 10.You may assume that each input would have exactly one solution.\n",
    "Explanation\n",
    "Given nums = [1, 2, 6, 8], target = 10,\n",
    "Because nums[1] + nums[3] = 2 + 8 = 10,\n",
    "return [1, 3].\n",
    "Your code should have a defined function which could take the array nums= [1, 2, 6, 8] as input\n",
    "and run the function to return a list [1,3] (only [1,3])\n"
   ]
  },
  {
   "cell_type": "markdown",
   "id": "cc450a38",
   "metadata": {},
   "source": [
    "### Answer 1.8"
   ]
  },
  {
   "cell_type": "code",
   "execution_count": 21,
   "id": "bfc1f307",
   "metadata": {},
   "outputs": [
    {
     "data": {
      "text/plain": [
       "[(2, 8), (8, 2)]"
      ]
     },
     "execution_count": 21,
     "metadata": {},
     "output_type": "execute_result"
    }
   ],
   "source": [
    "def combination(list):\n",
    "\n",
    "    result = []\n",
    "\n",
    "    for i in range(0,len(list)):\n",
    "        a = list[i]\n",
    "#         print(\"numbr\", a)\n",
    "        \n",
    "        x = list.copy()                       # considering 1 number at a time\n",
    "        x.remove(x[i])                        # creating a list of remaining numbers\n",
    "#         print(\"other numbers\", x)\n",
    "\n",
    "        for j in range(0,len(x)):\n",
    "            if a + (x[j]) == 10:              # check if combination of 1 number alongwith remaining number results in 10\n",
    "                z = (a,x[j])\n",
    "                result.append(z)\n",
    "    \n",
    "    return result\n",
    "\n",
    "\n",
    "list = [1, 2, 6, 8]\n",
    "answer = combination(list)\n",
    "answer"
   ]
  },
  {
   "cell_type": "code",
   "execution_count": null,
   "id": "48ee3d3d",
   "metadata": {},
   "outputs": [],
   "source": []
  },
  {
   "cell_type": "markdown",
   "id": "8cf575ba",
   "metadata": {},
   "source": [
    "## PART 2"
   ]
  },
  {
   "cell_type": "markdown",
   "id": "a405bfdd",
   "metadata": {},
   "source": [
    "If your result in Question 1.7 for the function check_studentid returned as odd, you will need to work on\n",
    "the version I;"
   ]
  },
  {
   "cell_type": "markdown",
   "id": "a366824c",
   "metadata": {},
   "source": [
    "Whether the three numbers could form the triangle? You need to write code (function) with 3\n",
    "numeric inputs and then check whether the given three numbers could form the triangle.\n",
    "Question 2.1\n",
    "\n",
    "You are given three sets of list and each list contains three numbers, you will need to write a\n",
    "code with functionality of inputting the three numbers from each list and find out the answers\n",
    "for below (three) questions. \n",
    "list1 = [1, 3, 5], list2 = [12, 35, 37], list3 = [2, 2, 2.8]\n",
    "\n",
    "• Define a function to check whether the given three numbers could form the a triangle?\n",
    "• Define a function to check whether the given three numbers could form the right\n",
    "triangle?\n",
    "• Write the code or function to check whether the given three numbers could form the\n",
    "isosceles triangle?\n",
    "\n",
    "One possible solution you may try to first define a function to check whether the three\n",
    "input numbers could meet the triangle rule (The sum of the length of the two sides of a\n",
    "triangleis greater than the length of the third side). \n",
    "\n",
    "Then you need to check whether the length of the side could meet the condition of right triangle and isosceles triangle.\n",
    "\n",
    "Run your code with each list by inputting the numbers and return the results to answer above\n",
    "three questions (you could run your code three times and save the results)."
   ]
  },
  {
   "cell_type": "markdown",
   "id": "93c1fe22",
   "metadata": {},
   "source": [
    "### Answer 2.1"
   ]
  },
  {
   "cell_type": "code",
   "execution_count": 22,
   "id": "3cc0d861",
   "metadata": {},
   "outputs": [],
   "source": [
    "# The same codes are repeated thrice for different set of numbers"
   ]
  },
  {
   "cell_type": "code",
   "execution_count": 23,
   "id": "d1218c4f",
   "metadata": {},
   "outputs": [
    {
     "name": "stdout",
     "output_type": "stream",
     "text": [
      "[1, 3, 5] lengths form no triangle\n"
     ]
    }
   ],
   "source": [
    "def triangle(list1):\n",
    "    count = 0\n",
    "\n",
    "    for i in range(0,len(givenlist)):\n",
    "        a = givenlist[i]                   # consider 1 number at a time from given side lenght of triangle\n",
    "\n",
    "        x = givenlist.copy()\n",
    "        x.remove(x[i])\n",
    "\n",
    "        sum = 0\n",
    "        for j in range(0,len(x)):\n",
    "            sum = sum + x[j]                \n",
    "        if sum > a:                       # check if sum of 2 sides are higher than the length of 3rd side. \n",
    "            count = count + 1             # increment the counter each time above criteria is true\n",
    "    if count != 3:                        # if criteria is not true 3 times it fails valid triangle criteria\n",
    "        print(givenlist,\"lengths form no triangle\")  \n",
    "    else:                                 \n",
    "        print(\"if\",givenlist,\"are the lengths, it forms a valid triangle\")\n",
    "        return (1)               # if it's a triangle return 1 to enable next check for isoceles or right angled triangle.\n",
    "\n",
    "\n",
    "def isoceles(list1):\n",
    "\n",
    "    for i in range(0,len(givenlist)):\n",
    "        x = givenlist.copy()\n",
    "        x.remove(x[i])\n",
    "\n",
    "        for j in range(0,len(x)):    \n",
    "            if x[j] == givenlist[i]:       # test if 2 out of 3 given length are same    \n",
    "                print(\"there are 2 sides with measure as\",x[j],\"which are equal, so it's a isoceles triangle\")\n",
    "                break\n",
    "            break\n",
    "        break\n",
    "                \n",
    "def rightangled(list1):\n",
    "    maxi = 0\n",
    "    for i in range(0,len(givenlist)):\n",
    "        if maxi < givenlist[i]:\n",
    "            maxi = givenlist[i]\n",
    "#     print(maxi)\n",
    "\n",
    "    x = givenlist.copy()\n",
    "    x.remove(maxi)\n",
    "\n",
    "    if (x[0]**2 + x[1]**2) == maxi**2 :      # test pythagoras theorem for rightangled triangle.\n",
    "        \n",
    "        print(\"It's a right angled triangle as\",maxi,\"Squared equals sum of squares of\", x[0],\"and\",x[1])\n",
    "\n",
    "\n",
    "                \n",
    "list1 = [1, 3, 5]\n",
    "\n",
    "givenlist = list1\n",
    "\n",
    "result = triangle(list1)\n",
    "if result == 1:\n",
    "    isoceles(list1)\n",
    "    rightangled(list1)\n"
   ]
  },
  {
   "cell_type": "code",
   "execution_count": 24,
   "id": "feb603aa",
   "metadata": {},
   "outputs": [
    {
     "name": "stdout",
     "output_type": "stream",
     "text": [
      "if [12, 35, 37] are the lengths, it forms a valid triangle\n",
      "It's a right angled triangle as 37 Squared equals sum of squares of 12 and 35\n"
     ]
    }
   ],
   "source": [
    "def triangle(list1):\n",
    "    count = 0\n",
    "\n",
    "    for i in range(0,len(givenlist)):\n",
    "        a = givenlist[i]\n",
    "\n",
    "        x = givenlist.copy()\n",
    "        x.remove(x[i])\n",
    "\n",
    "        sum = 0\n",
    "        for j in range(0,len(x)):\n",
    "            sum = sum + x[j]\n",
    "        if sum > a:\n",
    "            count = count + 1\n",
    "    if count != 3:\n",
    "        print(givenlist,\"lengths form no triangle\")\n",
    "    else:\n",
    "        print(\"if\",givenlist,\"are the lengths, it forms a valid triangle\")\n",
    "        return (1)\n",
    "\n",
    "\n",
    "def isoceles(list1):\n",
    "\n",
    "    for i in range(0,len(givenlist)):\n",
    "        x = givenlist.copy()\n",
    "        x.remove(x[i])\n",
    "\n",
    "        for j in range(0,len(x)):    \n",
    "            if x[j] == givenlist[i]:\n",
    "                print(\"there are 2 sides with measure as\",x[j],\"which are equal, so it's a isoceles triangle\")\n",
    "                break\n",
    "            break\n",
    "        break\n",
    "        \n",
    "def rightangled(list1):\n",
    "    maxi = 0\n",
    "    for i in range(0,len(givenlist)):\n",
    "        if maxi < givenlist[i]:\n",
    "            maxi = givenlist[i]\n",
    "#     print(maxi)\n",
    "\n",
    "    x = givenlist.copy()\n",
    "    x.remove(maxi)\n",
    "\n",
    "    if (x[0]**2 + x[1]**2) == maxi**2 :\n",
    "        print(\"It's a right angled triangle as\",maxi,\"Squared equals sum of squares of\", x[0],\"and\",x[1])\n",
    "\n",
    "\n",
    "list1 = [12, 35, 37]\n",
    "\n",
    "            \n",
    "givenlist = list1\n",
    "\n",
    "result = triangle(list1)\n",
    "if result == 1:\n",
    "    isoceles(list1)\n",
    "    rightangled(list1)\n"
   ]
  },
  {
   "cell_type": "code",
   "execution_count": 25,
   "id": "a56d354f",
   "metadata": {},
   "outputs": [
    {
     "name": "stdout",
     "output_type": "stream",
     "text": [
      "if [2, 2, 2.8] are the lengths, it forms a valid triangle\n",
      "there are 2 sides with measure as 2 which are equal, so it's a isoceles triangle\n"
     ]
    }
   ],
   "source": [
    "def triangle(list1):\n",
    "    count = 0\n",
    "\n",
    "    for i in range(0,len(givenlist)):\n",
    "        a = givenlist[i]\n",
    "\n",
    "        x = givenlist.copy()\n",
    "        x.remove(x[i])\n",
    "\n",
    "        sum = 0\n",
    "        for j in range(0,len(x)):\n",
    "            sum = sum + x[j]\n",
    "        if sum > a:\n",
    "            count = count + 1\n",
    "    if count != 3:\n",
    "        print(givenlist,\"lengths form no triangle\")\n",
    "    else:\n",
    "        print(\"if\",givenlist,\"are the lengths, it forms a valid triangle\")\n",
    "        return (1)\n",
    "\n",
    "\n",
    "def isoceles(list1):\n",
    "\n",
    "    for i in range(0,len(givenlist)):\n",
    "        x = givenlist.copy()\n",
    "        x.remove(x[i])\n",
    "\n",
    "        for j in range(0,len(x)):    \n",
    "            if x[j] == givenlist[i]:\n",
    "                print(\"there are 2 sides with measure as\",x[j],\"which are equal, so it's a isoceles triangle\")\n",
    "                break\n",
    "            break\n",
    "        break\n",
    "                \n",
    "def rightangled(list1):\n",
    "    maxi = 0\n",
    "    for i in range(0,len(givenlist)):\n",
    "        if maxi < givenlist[i]:\n",
    "            maxi = givenlist[i]\n",
    "#     print(maxi)\n",
    "\n",
    "    x = givenlist.copy()\n",
    "    x.remove(maxi)\n",
    "\n",
    "    if (x[0]**2 + x[1]**2) == maxi**2 :\n",
    "        print(\"It's a right angled triangle as\",maxi,\"Squared equals sum of squares of\", x[0],\"and\",x[1])\n",
    "\n",
    "\n",
    "                \n",
    "list1 = [2, 2, 2.8]\n",
    "\n",
    "givenlist = list1\n",
    "\n",
    "result = triangle(list1)\n",
    "if result == 1:\n",
    "    isoceles(list1)\n",
    "    rightangled(list1)\n"
   ]
  },
  {
   "cell_type": "code",
   "execution_count": null,
   "id": "5358b704",
   "metadata": {},
   "outputs": [],
   "source": []
  },
  {
   "cell_type": "markdown",
   "id": "d916e068",
   "metadata": {},
   "source": [
    "Question 2.2\n",
    "The problem for Question 2.2 is how to calculate the area of the triangle. When you find out the\n",
    "list(s) in Question 2.1 which could form the triangle, could you also please calculate their area\n",
    "(round to integer)? There is one method to calculate the area of given shape - Heron’s formula\n",
    "as below:\n",
    "𝐴 = sqrt(𝑠(𝑠 − 𝑎)(𝑠 − 𝑏)(𝑠 − 𝑐) \n",
    "where 𝑠 = 𝑎+𝑏+𝑐/2\n",
    "You are required to define the function find_area(a,b,c) for this problem, and you will need to run the\n",
    "find_area() and print the results for the list(s) in Question 2.1 which could form the triangle.\n"
   ]
  },
  {
   "cell_type": "markdown",
   "id": "93135238",
   "metadata": {},
   "source": [
    "### Answer 2.2"
   ]
  },
  {
   "cell_type": "code",
   "execution_count": 26,
   "id": "9f6cfebd",
   "metadata": {},
   "outputs": [
    {
     "name": "stdout",
     "output_type": "stream",
     "text": [
      "\n",
      "\n",
      "[1, 3, 5] lengths form no triangle\n",
      "\n",
      "\n",
      "if [12, 35, 37] are the lengths, it forms a valid triangle\n",
      "Area of Triangle is 210\n",
      "\n",
      "\n",
      "if [2, 2, 2.8] are the lengths, it forms a valid triangle\n",
      "Area of Triangle is 2\n"
     ]
    }
   ],
   "source": [
    "# list1 = [1, 3, 5], list2 = [12, 35, 37], list3 = [2, 2, 2.8]\n",
    "\n",
    "\n",
    "abc = [[1, 3, 5],[12, 35, 37],[2, 2, 2.8]]\n",
    "\n",
    "\n",
    "def triangle(list1):\n",
    "    count = 0\n",
    "\n",
    "    for i in range(0,len(givenlist)):\n",
    "        a = givenlist[i]\n",
    "\n",
    "        x = givenlist.copy()\n",
    "        x.remove(x[i])\n",
    "\n",
    "        sum = 0\n",
    "        for j in range(0,len(x)):\n",
    "            sum = sum + x[j]\n",
    "        if sum > a:\n",
    "            count = count + 1\n",
    "    if count != 3:\n",
    "        print(givenlist,\"lengths form no triangle\")\n",
    "    else:\n",
    "        print(\"if\",givenlist,\"are the lengths, it forms a valid triangle\")\n",
    "        return (1)\n",
    "\n",
    "def area(list1):\n",
    "    a = givenlist[0]\n",
    "    b = givenlist[1]\n",
    "    c = givenlist[2]\n",
    "\n",
    "    s = (a+b+c)/2\n",
    "\n",
    "    Area = (s*(s-a)*(s-b)*(s-c))**0.5\n",
    "    print(\"Area of Triangle is\",round(Area))\n",
    "\n",
    "\n",
    "for z in range(0,len(abc)):    \n",
    "    list1 = abc[z]\n",
    "\n",
    "    givenlist = list1\n",
    "    \n",
    "    print(\"\\n\")\n",
    "    result = triangle(list1)\n",
    "    if result == 1:\n",
    "        area(list1)\n",
    "        \n"
   ]
  },
  {
   "cell_type": "code",
   "execution_count": null,
   "id": "8ce330d4",
   "metadata": {},
   "outputs": [],
   "source": []
  },
  {
   "cell_type": "code",
   "execution_count": null,
   "id": "afa76730",
   "metadata": {},
   "outputs": [],
   "source": []
  }
 ],
 "metadata": {
  "kernelspec": {
   "display_name": "Python 3 (ipykernel)",
   "language": "python",
   "name": "python3"
  },
  "language_info": {
   "codemirror_mode": {
    "name": "ipython",
    "version": 3
   },
   "file_extension": ".py",
   "mimetype": "text/x-python",
   "name": "python",
   "nbconvert_exporter": "python",
   "pygments_lexer": "ipython3",
   "version": "3.9.12"
  }
 },
 "nbformat": 4,
 "nbformat_minor": 5
}
