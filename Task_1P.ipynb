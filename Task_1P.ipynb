{
 "cells": [
  {
   "cell_type": "markdown",
   "id": "64541d4a",
   "metadata": {},
   "source": [
    "Task 1P: Introduction to Python and Jupyter Notebook\n",
    "\n",
    "Vishal Shah\n",
    "student id: s223623935\n",
    "s223623935@deakin.edu.au \n",
    " \n",
    "*The given task expects student to know some basic python coding skills. It uses wikipedia article on bmi calculation and user has to demonstrate the old vs new bmi calculation method and display the categorization of computed results in bar plot form.*"
   ]
  },
  {
   "cell_type": "markdown",
   "id": "da7fad96",
   "metadata": {},
   "source": [
    "**Do not use numpy nor pandas**"
   ]
  },
  {
   "cell_type": "markdown",
   "id": "3fe78e91",
   "metadata": {},
   "source": [
    "1. Following are 3 lists of identical lengths (at least five items each) giving basic data on friends is provided, for example: \\\n",
    "names = [\"Barbara\", \"Anne\", \"Greg\", \"Maggie\", \"Nynke\"] \\\n",
    "heights = [173, 161, 180, 158, 177 ] # in centimetres \\\n",
    "weights = [61, 79, 83, 58, 57 ] # in kilograms\n"
   ]
  },
  {
   "cell_type": "code",
   "execution_count": 1,
   "id": "5de37ab6",
   "metadata": {},
   "outputs": [],
   "source": [
    "names = [\"Barbara\", \"Anne\", \"Greg\", \"Maggie\", \"Nynke\"]\n",
    "heights = [173, 161, 180, 158, 177 ] # in centimetres,\n",
    "weights = [61, 79, 83, 58, 57 ]  # in kilograms"
   ]
  },
  {
   "cell_type": "code",
   "execution_count": 2,
   "id": "9b488978",
   "metadata": {},
   "outputs": [
    {
     "name": "stdout",
     "output_type": "stream",
     "text": [
      "('Barbara', 173, 61)\n",
      "('Anne', 161, 79)\n",
      "('Greg', 180, 83)\n",
      "('Maggie', 158, 58)\n",
      "('Nynke', 177, 57)\n"
     ]
    }
   ],
   "source": [
    "# Zip the lists into tuples\n",
    "zip_data = list(zip(names, heights, weights))\n",
    "\n",
    "# Display the result\n",
    "for data in zip_data:\n",
    "    print(data)"
   ]
  },
  {
   "cell_type": "markdown",
   "id": "8f490d43",
   "metadata": {},
   "source": [
    "*Lets try to read a value from above created list*"
   ]
  },
  {
   "cell_type": "code",
   "execution_count": 3,
   "id": "2ecea878",
   "metadata": {},
   "outputs": [
    {
     "data": {
      "text/plain": [
       "('Nynke', 177, 57)"
      ]
     },
     "execution_count": 3,
     "metadata": {},
     "output_type": "execute_result"
    }
   ],
   "source": [
    "data[0],data[1],data[2]"
   ]
  },
  {
   "cell_type": "markdown",
   "id": "bd19b8f2",
   "metadata": {},
   "source": [
    "2. Using a for loop, we create (programmatically) a Python list bmis such that bmis[i] gives the body\n",
    "mass index of the i-th person.\n",
    "Then, for each person, we calculate the New BMI (exponent of 2.5) measure as defined in https:\n",
    "//en.wikipedia.org/wiki/Body_mass_index"
   ]
  },
  {
   "cell_type": "markdown",
   "id": "18ae291e",
   "metadata": {},
   "source": [
    "*ref: wikipedia article*\n",
    "\n",
    "**old_bmi = mass kgs / (height metres)^2**\n",
    "\n",
    "*.\"newbmi\" calculation method;* \n",
    "\n",
    "**bmi[x] = 1.3x (weights)/(height metres)^2.5**"
   ]
  },
  {
   "cell_type": "code",
   "execution_count": 4,
   "id": "e5f28af1",
   "metadata": {},
   "outputs": [
    {
     "name": "stdout",
     "output_type": "stream",
     "text": [
      "0 Barbara    old bmi= 20.38     new bmi 20.14\n",
      "1 Anne    old bmi= 30.48     new bmi 31.23\n",
      "2 Greg    old bmi= 25.62     new bmi 24.82\n",
      "3 Maggie    old bmi= 23.23     new bmi 24.03\n",
      "4 Nynke    old bmi= 18.19     new bmi 17.78\n"
     ]
    }
   ],
   "source": [
    "old_bmi = list(range(0,5)) # create a list of 5 numbers to be assigned result after calculation of old bmi\n",
    "bmi = list(range(0,5))   # create a list of 5 numbers to be assigned result after calculation of new bmi\n",
    "\n",
    "for i,j in enumerate(names):\n",
    "    old_bmi[i] = weights[i]/ (heights[i]*0.01)**2                                # ref formula\n",
    "    bmi[i] = 1.3*(weights[i])/(heights[i]*0.01)**2.5                             # as per formula\n",
    "    print(i,j,\"   old bmi=\", round(old_bmi[i],2), \"    new bmi\", round(bmi[i],2))        # printing result"
   ]
  },
  {
   "cell_type": "markdown",
   "id": "4e6bf57c",
   "metadata": {},
   "source": [
    "\n",
    "\n",
    "3. *Based on the BMI categories as defined by the WHO which are as follows*\n",
    "\n",
    "underweight if below 18.5,\\\n",
    "normal range below 25.0,\\\n",
    "overweight below 30.0,\\\n",
    "obese otherwise*\n"
   ]
  },
  {
   "cell_type": "code",
   "execution_count": 5,
   "id": "a1913a2b",
   "metadata": {},
   "outputs": [
    {
     "name": "stdout",
     "output_type": "stream",
     "text": [
      "0 Barbara 20.38 which is normal.The new BMI index is  20.14\n",
      "1 Anne 30.48 which is obese.The new BMI index is  31.23\n",
      "2 Greg 25.62 which is overweight.The new BMI index is  24.82\n",
      "3 Maggie 23.23 which is normal.The new BMI index is  24.03\n",
      "4 Nynke 18.19 which is underweight.The new BMI index is  17.78\n"
     ]
    }
   ],
   "source": [
    "# OLD BMI based underweight if below 18.5, normal range below 25.0, overweight below 30.0, obese\n",
    "\n",
    "category = list(range(0,5))  # create a category list for assigning string values based on our bmi categorization \n",
    "\n",
    "for i,j in enumerate(names):   #underweight if below 18.5, normal range below 25.0, overweight below 30.0, obese\n",
    "    if old_bmi[i] < 18.5: \n",
    "        print(i,j,round(old_bmi[i],2),\"which is underweight.The new BMI index is \",round(bmi[i],2))\n",
    "        category[i] = \"underweight\"  # assign value to category list\n",
    "        \n",
    "    elif old_bmi[i] < 25:\n",
    "        print(i,j,round(old_bmi[i],2),\"which is normal.The new BMI index is \",round(bmi[i],2))\n",
    "        category[i] = \"normal\"       # assign value to category list\n",
    "        \n",
    "    elif old_bmi[i] < 30:\n",
    "        print(i,j,round(old_bmi[i],2),\"which is overweight.The new BMI index is \",round(bmi[i],2))        \n",
    "        category[i] = \"overweight\"   # assign value to category list\n",
    "        \n",
    "    else:\n",
    "        print(i,j,round(old_bmi[i],2),\"which is obese.The new BMI index is \",round(bmi[i],2)) \n",
    "        category[i] = \"obese\"        # assign value to category list \n",
    "         "
   ]
  },
  {
   "cell_type": "code",
   "execution_count": 17,
   "id": "d1c741a3",
   "metadata": {},
   "outputs": [
    {
     "name": "stdout",
     "output_type": "stream",
     "text": [
      "0 Barbara 20.14\n",
      "1 Anne 31.23\n",
      "2 Greg 24.82\n",
      "3 Maggie 24.03\n",
      "4 Nynke 17.78\n"
     ]
    }
   ],
   "source": [
    "# NEW BMI based underweight if below 18.5, normal range below 25.0, overweight below 30.0, obese\n",
    "\n",
    "new_category = list(range(0,5))  # create a category list for assigning string values based on our bmi categorization \n",
    "\n",
    "for i,j in enumerate(names):   #underweight if below 18.5, normal range below 25.0, overweight below 30.0, obese\n",
    "    if bmi[i] < 18.5: \n",
    "        print(i,j,round(bmi[i],2))\n",
    "        new_category[i] = \"underweight\"  # assign value to category list\n",
    "        \n",
    "    elif bmi[i] < 25:\n",
    "        print(i,j,round(bmi[i],2))\n",
    "        new_category[i] = \"normal\"       # assign value to category list\n",
    "        \n",
    "    elif bmi[i] < 30:\n",
    "        print(i,j,round(bmi[i],2))        \n",
    "        new_category[i] = \"overweight\"   # assign value to category list\n",
    "        \n",
    "    else:\n",
    "        print(i,j,round(bmi[i],2)) \n",
    "        new_category[i] = \"obese\"        # assign value to category list "
   ]
  },
  {
   "cell_type": "markdown",
   "id": "8dad5fdb",
   "metadata": {},
   "source": [
    "4. *We create a bar plot ,where the bar colours depict new BMI categories.*"
   ]
  },
  {
   "cell_type": "code",
   "execution_count": 22,
   "id": "cbc045b3",
   "metadata": {},
   "outputs": [
    {
     "data": {
      "image/png": "[encoded data removed]",
      "text/plain": [
       "<Figure size 1000x500 with 2 Axes>"
      ]
     },
     "metadata": {},
     "output_type": "display_data"
    }
   ],
   "source": [
    "import matplotlib.pyplot as plt      # import matplot library\n",
    "\n",
    "import seaborn as sns   # import seaborn library for plotting\n",
    "plt.figure(figsize= (10,5))\n",
    "plt.subplot(1,2,2)\n",
    "sns.barplot(x=names,y=bmi, hue = new_category)  # choose different colors based on each category using hue option.\n",
    "plt.title(\"WHO Wt categorization of 5 friends: new BMI\")      # customizing title for the plot\n",
    "\n",
    "# import seaborn as sns   # import seaborn library for plotting\n",
    "plt.subplot(1,2,1)\n",
    "sns.barplot(x=names,y=old_bmi, hue = category)  # choose different colors based on each category using hue option.\n",
    "plt.title(\"WHO weight categorization of 5 friends: old BMI\")      # customizing title for the plot\n",
    "\n",
    "plt.show()"
   ]
  },
  {
   "cell_type": "markdown",
   "id": "9cb11d3b",
   "metadata": {},
   "source": [
    "Using old vs new weight categorization it can be seen that difference in new BMI computed for Greg and Maggie is marginal and that causes their categorization to be Normal which was ealier overweight for Greg. Remaining friends have same categorization."
   ]
  },
  {
   "cell_type": "markdown",
   "id": "67890573",
   "metadata": {},
   "source": [
    "5. *The Wikipedia article on BMI correctly identifies both indexes as very simple measures. \n",
    "Discussing what are the benefits and limitations of the BMI and the new BMI from both the medical and societal perspective, including its possible misuses.*"
   ]
  },
  {
   "cell_type": "markdown",
   "id": "beca5e78",
   "metadata": {},
   "source": [
    "COMMENTS:\n",
    "Body Mass Index (BMI) is widely used measure for assessing body weight in both medical and societal contexts.On the positive side, BMI is easy to calculate as a convenient tool for quickly assessing population health trends.From a medical perspective, BMI has served as a practical screening tool, allowing healthcare professionals to identify individuals at risk for obesity-related conditions.\n",
    "\n",
    "However, one notable drawback is that BMI does not differentiate between fat and lean body mass. Consequently, individuals with higher muscle mass, such as athletes, may be classified as overweight or obese, even if their body fat percentage is low. This limitation can lead to misinterpretations of health risks, especially for those with higher muscle mass and a lower proportion of body fat.\n",
    "\n",
    "The introduction of new BMI alternatives and other advanced body composition measures, attempts to address some of BMI's limitations. These alternatives consider additional factors, like body fat percentage, and aim to provide a more accurate representation of an individual's health status. From a medical standpoint, these alternatives may offer improved precision in assessing body composition and associated health risks. BMI, being a simple and easily understandable measure, has permeated public health campaigns, insurance assessments, and societal perceptions of body image.\n",
    "\n",
    "Summary, BMI has served as a practical and accessible measure in both medical and societal contexts, its limitations, especially in differentiating between muscle and fat mass, have led to the exploration of alternative measures. The new BMI alternatives aim to provide more accurate assessments of body composition, offering potential improvements in the medical understanding of health risks. A balanced approach that considers both medical accuracy and societal impact is necessary for the continued development and application of body composition measures."
   ]
  },
  {
   "cell_type": "code",
   "execution_count": null,
   "id": "852330d8",
   "metadata": {},
   "outputs": [],
   "source": []
  },
  {
   "cell_type": "code",
   "execution_count": null,
   "id": "fabdcfa6",
   "metadata": {},
   "outputs": [],
   "source": [
    " "
   ]
  }
 ],
 "metadata": {
  "kernelspec": {
   "display_name": "Python 3 (ipykernel)",
   "language": "python",
   "name": "python3"
  },
  "language_info": {
   "codemirror_mode": {
    "name": "ipython",
    "version": 3
   },
   "file_extension": ".py",
   "mimetype": "text/x-python",
   "name": "python",
   "nbconvert_exporter": "python",
   "pygments_lexer": "ipython3",
   "version": "3.9.12"
  }
 },
 "nbformat": 4,
 "nbformat_minor": 5
}
